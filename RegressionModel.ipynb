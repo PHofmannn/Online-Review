{
 "cells": [
  {
   "cell_type": "markdown",
   "metadata": {},
   "source": [
    "# Regression Model\n",
    "\n",
    "In this notebook we will build a simple multiple regression model which will be used as a baseline model for the comparision with the xGBoost Model"
   ]
  },
  {
   "cell_type": "code",
   "execution_count": 46,
   "metadata": {},
   "outputs": [],
   "source": [
    "# Importing Packages \n",
    "import pandas as pd\n",
    "from sklearn.model_selection import train_test_split\n",
    "from sklearn.linear_model import LinearRegression\n",
    "from sklearn.metrics import mean_squared_error"
   ]
  },
  {
   "cell_type": "code",
   "execution_count": 58,
   "metadata": {},
   "outputs": [],
   "source": [
    "# Importing Data with Features \n",
    "data_hedonic = pd.read_csv ('/Users/paulahofmann/Documents/Coding/Online-Review/FeaturePreperation/Data_with_Features/Features_hedonic_total.csv')\n",
    "data_utilitarian_mouse = pd.read_csv ('/Users/paulahofmann/Documents/Coding/Online-Review/FeaturePreperation/Data_with_Features/Features_utilitarian_mouse.csv')\n",
    "data_utilitarian_filter = pd.read_csv ('/Users/paulahofmann/Documents/Coding/Online-Review/FeaturePreperation/Data_with_Features/Features_utilitarian_filter.csv')\n",
    "data_utilitarian_razor = pd.read_csv ('/Users/paulahofmann/Documents/Coding/Online-Review/FeaturePreperation/Data_with_Features/Features_utilitarian_razor.csv')"
   ]
  },
  {
   "cell_type": "code",
   "execution_count": 59,
   "metadata": {},
   "outputs": [
    {
     "name": "stdout",
     "output_type": "stream",
     "text": [
      "['B09GWLJPTH' 'B08JHZHWZ3' 'B07D13QGXM' 'B00WXP607C' 'B00SNM5US4'\n",
      " 'B00LMIVLXY' 'B0C5WPD2RN' 'B0BLGN9N39']\n"
     ]
    }
   ],
   "source": [
    "unique_parent_asin = data_hedonic['parent_asin'].unique()\n",
    "print(unique_parent_asin)"
   ]
  },
  {
   "cell_type": "code",
   "execution_count": 60,
   "metadata": {},
   "outputs": [
    {
     "name": "stdout",
     "output_type": "stream",
     "text": [
      "['Face Oil' 'Mario Game' 'Minecraft Game' 'Men Cologne' 'Hair Treatment'\n",
      " 'Heat Protector' 'Facial Spray' 'Cologne Unisex']\n"
     ]
    }
   ],
   "source": [
    "unique_title = data_hedonic['product_type'].unique()\n",
    "print(unique_title)"
   ]
  },
  {
   "cell_type": "code",
   "execution_count": 62,
   "metadata": {},
   "outputs": [],
   "source": [
    "# First we will simply sort all reviews that have at least one helpful Vote\n",
    "data_utilitarian_mouse_reg = data_utilitarian_mouse[data_utilitarian_mouse['helpful_vote'] > 0]\n",
    "data_utilitarian_razor = data_utilitarian_razor[data_utilitarian_razor['helpful_vote'] > 0]\n",
    "data_utilitarian_filter = data_utilitarian_filter[data_utilitarian_filter['helpful_vote'] > 0]\n",
    "\n",
    "\n",
    "# Filter Hedonic Product based on Product Type Face Spray, must helpful reviews\n",
    "data_hedonic = data_hedonic[data_hedonic['product_type'] == 'Hair Treatment']\n",
    "\n",
    "data_hedonic = data_hedonic[data_hedonic['helpful_vote'] > 0]\n"
   ]
  },
  {
   "cell_type": "code",
   "execution_count": 63,
   "metadata": {},
   "outputs": [],
   "source": [
    "## Summarizing all Features in a List\n",
    "\n",
    "features = ['rating','rating_number', 'sentiment', 'price', 'noun_count', 'adj_count', 'adv_count', 'word_count', \n",
    "                  'sentence_count', 'avg_words_per_sentence', 'title_length', 'review_extremity', \n",
    "                  'elapsed_time_days', 'image', 'year','month','day','hour']\n",
    "\n",
    "target = 'helpful_ratio'"
   ]
  },
  {
   "cell_type": "code",
   "execution_count": 64,
   "metadata": {},
   "outputs": [
    {
     "name": "stdout",
     "output_type": "stream",
     "text": [
      "Mean Squared Error: 0.00021081970431262445\n",
      "                   Feature   Coefficient\n",
      "0                   rating  1.195187e-03\n",
      "1            rating_number  4.140939e-15\n",
      "2                sentiment -9.238922e-04\n",
      "3                    price  6.967896e-16\n",
      "4               noun_count  2.957091e-04\n",
      "5                adj_count -2.342702e-04\n",
      "6                adv_count  4.173713e-04\n",
      "7               word_count -5.575308e-05\n",
      "8           sentence_count -2.846632e-04\n",
      "9   avg_words_per_sentence  4.213562e-05\n",
      "10            title_length -1.052677e-04\n",
      "11        review_extremity  1.195187e-03\n",
      "12       elapsed_time_days -1.253961e-04\n",
      "13                   image -1.698220e-03\n",
      "14                    year -4.851871e-02\n",
      "15                   month -3.619094e-03\n",
      "16                     day -3.328178e-04\n",
      "17                    hour -1.587325e-04\n"
     ]
    }
   ],
   "source": [
    "# We will start with the Utilitarian Razor Category\n",
    "\n",
    "# Split the data into training and testing sets\n",
    "X = data_utilitarian_mouse_reg[features]\n",
    "y = data_utilitarian_mouse_reg[target]\n",
    "X_train, X_test, y_train, y_test = train_test_split(X, y, test_size=0.2, random_state=42)\n",
    "\n",
    "# Define and fit the model\n",
    "model = LinearRegression()\n",
    "model.fit(X_train, y_train)\n",
    "\n",
    "# Evaluate the model\n",
    "y_pred = model.predict(X_test)\n",
    "mse = mean_squared_error(y_test, y_pred)\n",
    "print(\"Mean Squared Error:\", mse)\n",
    "\n",
    "# Interpret the results\n",
    "coefficients = pd.DataFrame({'Feature': features, 'Coefficient': model.coef_})\n",
    "print(coefficients)"
   ]
  },
  {
   "cell_type": "code",
   "execution_count": 65,
   "metadata": {},
   "outputs": [
    {
     "name": "stdout",
     "output_type": "stream",
     "text": [
      "Mean Squared Error: 8.750155867271995e-06\n",
      "                   Feature   Coefficient\n",
      "0                   rating  2.696997e-05\n",
      "1            rating_number -3.750709e-14\n",
      "2                sentiment -4.755345e-05\n",
      "3                    price  7.311494e-15\n",
      "4               noun_count -5.033102e-05\n",
      "5                adj_count -2.859932e-04\n",
      "6                adv_count  1.181081e-04\n",
      "7               word_count  3.610864e-05\n",
      "8           sentence_count  2.803110e-04\n",
      "9   avg_words_per_sentence -7.908242e-06\n",
      "10            title_length -8.029188e-05\n",
      "11        review_extremity  2.696997e-05\n",
      "12       elapsed_time_days -8.110801e-04\n",
      "13                   image  9.354406e-03\n",
      "14                    year -2.966822e-01\n",
      "15                   month -2.501303e-02\n",
      "16                     day -8.521153e-04\n",
      "17                    hour -5.727190e-05\n"
     ]
    }
   ],
   "source": [
    "# We will go on with the Utilitarian Filter Category\n",
    "\n",
    "# Split the data into training and testing sets\n",
    "X = data_utilitarian_filter[features]\n",
    "y = data_utilitarian_filter[target]\n",
    "X_train, X_test, y_train, y_test = train_test_split(X, y, test_size=0.2, random_state=42)\n",
    "\n",
    "# Define and fit the model\n",
    "model = LinearRegression()\n",
    "model.fit(X_train, y_train)\n",
    "\n",
    "# Evaluate the model\n",
    "y_pred = model.predict(X_test)\n",
    "mse = mean_squared_error(y_test, y_pred)\n",
    "print(\"Mean Squared Error:\", mse)\n",
    "\n",
    "# Interpret the results\n",
    "coefficients = pd.DataFrame({'Feature': features, 'Coefficient': model.coef_})\n",
    "print(coefficients)"
   ]
  },
  {
   "cell_type": "code",
   "execution_count": 66,
   "metadata": {},
   "outputs": [
    {
     "name": "stdout",
     "output_type": "stream",
     "text": [
      "Mean Squared Error: 2.2055041344609002e-05\n",
      "                   Feature   Coefficient\n",
      "0                   rating  2.962152e-04\n",
      "1            rating_number  9.651582e-16\n",
      "2                sentiment -5.905886e-04\n",
      "3                    price -1.887975e-15\n",
      "4               noun_count -2.471319e-05\n",
      "5                adj_count  1.379121e-04\n",
      "6                adv_count -2.706500e-04\n",
      "7               word_count  1.248499e-04\n",
      "8           sentence_count -1.154017e-03\n",
      "9   avg_words_per_sentence -3.069972e-04\n",
      "10            title_length  1.057619e-04\n",
      "11        review_extremity  2.962152e-04\n",
      "12       elapsed_time_days -8.326489e-05\n",
      "13                   image  1.226834e-03\n",
      "14                    year -3.050268e-02\n",
      "15                   month -2.475384e-03\n",
      "16                     day -1.277459e-04\n",
      "17                    hour  3.461597e-06\n"
     ]
    }
   ],
   "source": [
    "# Moving on with razor\n",
    "\n",
    "# Split the data into training and testing sets\n",
    "X = data_utilitarian_razor[features]\n",
    "y = data_utilitarian_razor[target]\n",
    "X_train, X_test, y_train, y_test = train_test_split(X, y, test_size=0.2, random_state=42)\n",
    "\n",
    "# Define and fit the model\n",
    "model = LinearRegression()\n",
    "model.fit(X_train, y_train)\n",
    "\n",
    "# Evaluate the model\n",
    "y_pred = model.predict(X_test)\n",
    "mse = mean_squared_error(y_test, y_pred)\n",
    "print(\"Mean Squared Error:\", mse)\n",
    "\n",
    "# Interpret the results\n",
    "coefficients = pd.DataFrame({'Feature': features, 'Coefficient': model.coef_})\n",
    "print(coefficients)"
   ]
  },
  {
   "cell_type": "code",
   "execution_count": 69,
   "metadata": {},
   "outputs": [
    {
     "name": "stdout",
     "output_type": "stream",
     "text": [
      "Mean Squared Error: 1.311383933471001e-06\n",
      "                   Feature   Coefficient\n",
      "0                   rating -8.970135e-05\n",
      "1            rating_number -6.277103e-16\n",
      "2                sentiment  2.346536e-04\n",
      "3                    price -3.737313e-16\n",
      "4               noun_count -4.792102e-05\n",
      "5                adj_count -1.247098e-04\n",
      "6                adv_count -1.382085e-04\n",
      "7               word_count  4.116803e-05\n",
      "8           sentence_count -1.201284e-04\n",
      "9   avg_words_per_sentence  1.596825e-05\n",
      "10            title_length -7.397399e-06\n",
      "11        review_extremity -8.970135e-05\n",
      "12       elapsed_time_days -2.842775e-05\n",
      "13                   image  2.879392e-04\n",
      "14                    year -1.046224e-02\n",
      "15                   month -9.118812e-04\n",
      "16                     day -2.340776e-05\n",
      "17                    hour -1.696953e-05\n"
     ]
    }
   ],
   "source": [
    "# Moving on with hedonic face spray\n",
    "\n",
    "# Split the data into training and testing sets\n",
    "X = data_hedonic[features]\n",
    "y = data_hedonic[target]\n",
    "X_train, X_test, y_train, y_test = train_test_split(X, y, test_size=0.2, random_state=42)\n",
    "\n",
    "# Define and fit the model\n",
    "model = LinearRegression()\n",
    "model.fit(X_train, y_train)\n",
    "\n",
    "# Evaluate the model\n",
    "y_pred = model.predict(X_test)\n",
    "mse = mean_squared_error(y_test, y_pred)\n",
    "print(\"Mean Squared Error:\", mse)\n",
    "\n",
    "# Interpret the results\n",
    "coefficients = pd.DataFrame({'Feature': features, 'Coefficient': model.coef_})\n",
    "print(coefficients)"
   ]
  },
  {
   "cell_type": "code",
   "execution_count": 71,
   "metadata": {},
   "outputs": [
    {
     "name": "stdout",
     "output_type": "stream",
     "text": [
      "Feature: sentiment\n",
      "Comparison between Hedonic Face Spray and Utilitarian Razor:\n",
      "T-statistic: -5.477963428857548, p-value: 4.656947581362445e-08\n",
      "Comparison between Hedonic Face Spray and Utilitarian Filter:\n",
      "T-statistic: 10.043905487983672, p-value: 3.3233554984361667e-23\n",
      "Comparison between Hedonic Face Spray and Utilitarian Mouse:\n",
      "T-statistic: 8.4436888913292, p-value: 6.088281487491637e-17\n",
      "Comparison between Utilitarian Razor and Utilitarian Filter:\n",
      "T-statistic: 15.725342533072913, p-value: 4.469490547213463e-53\n",
      "Comparison between Utilitarian Razor and Utilitarian Mouse:\n",
      "T-statistic: 13.5492517376282, p-value: 3.2411468436272706e-40\n",
      "\n",
      "Feature: noun_count\n",
      "Comparison between Hedonic Face Spray and Utilitarian Mouse:\n",
      "T-statistic: -9.787266491502047, p-value: 4.301189130830791e-22\n",
      "Comparison between Utilitarian Razor and Utilitarian Mouse:\n",
      "T-statistic: -9.486391328321925, p-value: 6.025868125505914e-21\n",
      "Comparison between Utilitarian Filter and Utilitarian Mouse:\n",
      "T-statistic: -8.909798350494938, p-value: 1.815582561487754e-18\n",
      "\n",
      "Feature: adj_count\n",
      "Comparison between Hedonic Face Spray and Utilitarian Razor:\n",
      "T-statistic: -3.054605799262177, p-value: 0.002273296903371066\n",
      "Comparison between Hedonic Face Spray and Utilitarian Filter:\n",
      "T-statistic: 5.451361461732553, p-value: 5.5999322523340254e-08\n",
      "Comparison between Hedonic Face Spray and Utilitarian Mouse:\n",
      "T-statistic: -9.14132454114971, p-value: 1.5648213040154854e-19\n",
      "Comparison between Utilitarian Razor and Utilitarian Filter:\n",
      "T-statistic: 7.4644122582456, p-value: 1.168790835651285e-13\n",
      "Comparison between Utilitarian Razor and Utilitarian Mouse:\n",
      "T-statistic: -6.909466824414895, p-value: 6.362207129777681e-12\n",
      "Comparison between Utilitarian Filter and Utilitarian Mouse:\n",
      "T-statistic: -11.677703088528231, p-value: 6.0401389357487966e-30\n",
      "\n",
      "Feature: adv_count\n",
      "Comparison between Hedonic Face Spray and Utilitarian Razor:\n",
      "T-statistic: -3.4795408696393735, p-value: 0.0005094038320347954\n",
      "Comparison between Hedonic Face Spray and Utilitarian Filter:\n",
      "T-statistic: 4.353790757470466, p-value: 1.4038224398853288e-05\n",
      "Comparison between Hedonic Face Spray and Utilitarian Mouse:\n",
      "T-statistic: -6.50748500621752, p-value: 9.79209387376174e-11\n",
      "Comparison between Utilitarian Razor and Utilitarian Filter:\n",
      "T-statistic: 7.240241447655993, p-value: 6.026279816023985e-13\n",
      "Comparison between Utilitarian Razor and Utilitarian Mouse:\n",
      "T-statistic: -4.186909696368805, p-value: 2.9401878938089145e-05\n",
      "Comparison between Utilitarian Filter and Utilitarian Mouse:\n",
      "T-statistic: -9.531813100659322, p-value: 8.008889810791749e-21\n",
      "\n",
      "Feature: word_count\n",
      "Comparison between Hedonic Face Spray and Utilitarian Filter:\n",
      "T-statistic: 2.8225458766769567, p-value: 0.00481030098866425\n",
      "Comparison between Hedonic Face Spray and Utilitarian Mouse:\n",
      "T-statistic: -8.770084839757617, p-value: 3.941404161919497e-18\n",
      "Comparison between Utilitarian Razor and Utilitarian Filter:\n",
      "T-statistic: 4.082149666717296, p-value: 4.610037524169754e-05\n",
      "Comparison between Utilitarian Razor and Utilitarian Mouse:\n",
      "T-statistic: -7.657395729215669, p-value: 2.832086508186024e-14\n",
      "Comparison between Utilitarian Filter and Utilitarian Mouse:\n",
      "T-statistic: -9.600526995302772, p-value: 4.316676562925766e-21\n",
      "\n",
      "Feature: sentence_count\n",
      "Comparison between Hedonic Face Spray and Utilitarian Filter:\n",
      "T-statistic: 3.5368224453408263, p-value: 0.0004139560354531818\n",
      "Comparison between Hedonic Face Spray and Utilitarian Mouse:\n",
      "T-statistic: -2.8209404289468067, p-value: 0.004838997607417951\n",
      "Comparison between Utilitarian Razor and Utilitarian Filter:\n",
      "T-statistic: 4.620843772678884, p-value: 4.026854820734125e-06\n",
      "Comparison between Utilitarian Razor and Utilitarian Mouse:\n",
      "T-statistic: -1.9861121937513402, p-value: 0.04714591714939688\n",
      "Comparison between Utilitarian Filter and Utilitarian Mouse:\n",
      "T-statistic: -5.29934010396495, p-value: 1.3777455463318995e-07\n",
      "\n",
      "Feature: avg_words_per_sentence\n",
      "Comparison between Hedonic Face Spray and Utilitarian Mouse:\n",
      "T-statistic: -10.709159945274475, p-value: 5.1678923763744904e-26\n",
      "Comparison between Utilitarian Razor and Utilitarian Mouse:\n",
      "T-statistic: -11.529835279913511, p-value: 6.741046770380939e-30\n",
      "Comparison between Utilitarian Filter and Utilitarian Mouse:\n",
      "T-statistic: -7.265192829274373, p-value: 6.620217744551115e-13\n",
      "\n",
      "Feature: title_length\n",
      "Comparison between Hedonic Face Spray and Utilitarian Mouse:\n",
      "T-statistic: 1.9759495931416748, p-value: 0.04830766137666941\n",
      "\n",
      "Feature: review_extremity\n",
      "Comparison between Hedonic Face Spray and Utilitarian Razor:\n",
      "T-statistic: -8.952847291974463, p-value: 5.928150379564446e-19\n",
      "Comparison between Hedonic Face Spray and Utilitarian Filter:\n",
      "T-statistic: 12.549106182060049, p-value: 7.385318079117857e-35\n",
      "Comparison between Hedonic Face Spray and Utilitarian Mouse:\n",
      "T-statistic: 10.70812993782732, p-value: 5.222337016438123e-26\n",
      "Comparison between Utilitarian Razor and Utilitarian Filter:\n",
      "T-statistic: 21.635082050248823, p-value: 7.158462505597148e-95\n",
      "Comparison between Utilitarian Razor and Utilitarian Mouse:\n",
      "T-statistic: 18.897984709488817, p-value: 6.926444059987121e-74\n",
      "\n",
      "Feature: elapsed_time_days\n",
      "Comparison between Hedonic Face Spray and Utilitarian Razor:\n",
      "T-statistic: -26.749405242950356, p-value: 1.3185518593857775e-141\n",
      "Comparison between Hedonic Face Spray and Utilitarian Mouse:\n",
      "T-statistic: 8.856245575335988, p-value: 1.884005906101559e-18\n",
      "Comparison between Utilitarian Razor and Utilitarian Filter:\n",
      "T-statistic: 21.10598370832644, p-value: 9.558115710343608e-91\n",
      "Comparison between Utilitarian Razor and Utilitarian Mouse:\n",
      "T-statistic: 25.852578460472817, p-value: 9.050342874414806e-129\n",
      "Comparison between Utilitarian Filter and Utilitarian Mouse:\n",
      "T-statistic: 8.331198591956792, p-value: 2.1264214773856236e-16\n",
      "\n",
      "Feature: image\n",
      "Comparison between Hedonic Face Spray and Utilitarian Razor:\n",
      "T-statistic: 7.947220223197323, p-value: 2.671669329681021e-15\n",
      "Comparison between Hedonic Face Spray and Utilitarian Filter:\n",
      "T-statistic: 4.520594291579427, p-value: 6.517803785597655e-06\n",
      "Comparison between Hedonic Face Spray and Utilitarian Mouse:\n",
      "T-statistic: 3.2434034966732415, p-value: 0.0012019801080135671\n",
      "Comparison between Utilitarian Razor and Utilitarian Mouse:\n",
      "T-statistic: -2.366927272218533, p-value: 0.018023377231301083\n",
      "\n"
     ]
    }
   ],
   "source": [
    "import scipy.stats as stats\n",
    "\n",
    "# Define your features\n",
    "features = ['sentiment', 'noun_count', 'adj_count', 'adv_count', 'word_count', \n",
    "                  'sentence_count', 'avg_words_per_sentence', 'title_length', 'review_extremity', \n",
    "                  'elapsed_time_days', 'image']\n",
    "\n",
    "# Define your datasets for hedonic and utilitarian products\n",
    "datasets = [data_hedonic, data_utilitarian_razor, data_utilitarian_filter, data_utilitarian_mouse_reg]\n",
    "product_labels = ['Hedonic Face Spray', 'Utilitarian Razor', 'Utilitarian Filter', 'Utilitarian Mouse']\n",
    "\n",
    "# Perform statistical testing for each feature\n",
    "for feature in features:\n",
    "    print(f\"Feature: {feature}\")\n",
    "    for i in range(len(datasets)):\n",
    "        for j in range(i+1, len(datasets)):\n",
    "            dataset_1 = datasets[i][feature]\n",
    "            dataset_2 = datasets[j][feature]\n",
    "            t_stat, p_value = stats.ttest_ind(dataset_1, dataset_2)\n",
    "            if p_value < 0.05:  # Considering statistical significance at alpha = 0.05\n",
    "                print(f\"Comparison between {product_labels[i]} and {product_labels[j]}:\")\n",
    "                print(f\"T-statistic: {t_stat}, p-value: {p_value}\")\n",
    "    print()\n"
   ]
  }
 ],
 "metadata": {
  "kernelspec": {
   "display_name": "torch-gpu",
   "language": "python",
   "name": "python3"
  },
  "language_info": {
   "codemirror_mode": {
    "name": "ipython",
    "version": 3
   },
   "file_extension": ".py",
   "mimetype": "text/x-python",
   "name": "python",
   "nbconvert_exporter": "python",
   "pygments_lexer": "ipython3",
   "version": "3.8.19"
  },
  "orig_nbformat": 4
 },
 "nbformat": 4,
 "nbformat_minor": 2
}
