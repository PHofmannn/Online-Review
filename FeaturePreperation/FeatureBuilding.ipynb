{
 "cells": [
  {
   "cell_type": "code",
   "execution_count": 44,
   "metadata": {},
   "outputs": [],
   "source": [
    "# Importing Feature Engineering Functions from features.functions.py\n",
    "\n",
    "from Feature_Functions import (\n",
    "    calculate_total_helpful_votes,\n",
    "    count_pos_tags,\n",
    "    word_count,\n",
    "    sentence_count,\n",
    "    average_words_per_sentence,\n",
    "    title_length,\n",
    "    calculate_flesch_reading_score,\n",
    "    calculate_review_extremity,\n",
    "    calculate_elapsed_time,\n",
    "    image_check,\n",
    "    extract_timestamp,\n",
    "    verified_purchase,\n",
    "    feature_building\n",
    ")"
   ]
  },
  {
   "cell_type": "code",
   "execution_count": 45,
   "metadata": {},
   "outputs": [],
   "source": [
    "import pandas as pd\n",
    "\n",
    "#Importing Data\n",
    "data_hedonic = pd.read_csv ('/Users/paulahofmann/Documents/Coding/Online-Review/FeaturePreperation/Data_with_Features/Final Data/Hedonic_Final.csv')\n",
    "data_utilitarian = pd.read_csv ('/Users/paulahofmann/Documents/Coding/Online-Review/FeaturePreperation/Data_with_Features/Final Data/Utilitarian_Final.csv')"
   ]
  },
  {
   "cell_type": "code",
   "execution_count": 46,
   "metadata": {},
   "outputs": [
    {
     "name": "stdout",
     "output_type": "stream",
     "text": [
      "Hedonic DataFrame columns:\n",
      "['Rating', 'title_x', 'text', 'images', 'asin', 'parent_asin', 'user_id', 'timestamp', 'helpful_vote', 'Verified_Purchase', 'text_cleaned', 'text_cleaned1', 'Sentiment', 'main_category', 'prod_title', 'average_rating', 'RatingC', 'features', 'price', 'helpful_ratio', 'noun_count', 'adj_count', 'adv_count', 'WordC', 'SentC', 'SentL', 'TitleL', 'FRE', 'RewExt', 'Image', 'year', 'is_weekend', 'product', 'VerPur', 'NounR', 'AdjR', 'AdvR', 'Subjective', 'prod_type', 'Sentiment_Classification', 'total_helpful_votes', 'ElapDays']\n",
      "\n",
      "Utilitarian DataFrame columns:\n",
      "['Rating', 'title_x', 'text', 'images', 'asin', 'parent_asin', 'user_id', 'timestamp', 'helpful_vote', 'Verified_Purchase', 'text_cleaned', 'text_cleaned1', 'Sentiment', 'main_category', 'prod_title', 'average_rating', 'RatingC', 'features', 'price', 'helpful_ratio', 'noun_count', 'adj_count', 'adv_count', 'WordC', 'SentC', 'SentL', 'TitleL', 'FRE', 'RewExt', 'Image', 'year', 'is_weekend', 'product', 'VerPur', 'NounR', 'AdjR', 'AdvR', 'Subjective', 'prod_type', 'Sentiment_Classification', 'total_helpful_votes', 'ElapDays']\n"
     ]
    }
   ],
   "source": [
    "# Print all columns of the renamed DataFrames\n",
    "print(\"Hedonic DataFrame columns:\")\n",
    "print(data_hedonic.columns.tolist())\n",
    "\n",
    "print(\"\\nUtilitarian DataFrame columns:\")\n",
    "print(data_utilitarian.columns.tolist())"
   ]
  },
  {
   "cell_type": "code",
   "execution_count": null,
   "metadata": {},
   "outputs": [],
   "source": [
    "numerical_columns = ['Rating', 'VerPur','Sentiment', 'RatingC', 'WordC', 'SentC', 'SentL', 'TitleL', 'FRE', 'RewExt',\n",
    "                      'ElapDays', 'Image', 'Prod', 'VerPur', 'NounR', 'AdjR', 'AdvR', 'Subjective',]\n"
   ]
  },
  {
   "cell_type": "code",
   "execution_count": 48,
   "metadata": {},
   "outputs": [],
   "source": [
    "#data_hedonic.to_csv ('/Users/paulahofmann/Documents/Coding/Online-Review/FeaturePreperation/Data_with_Features/Final Data/Hedonic_Final.csv',index=False)\n",
    "#data_utilitarian.to_csv ('/Users/paulahofmann/Documents/Coding/Online-Review/FeaturePreperation/Data_with_Features/Final Data/Utilitarian_Final.csv',index=False)"
   ]
  },
  {
   "cell_type": "markdown",
   "metadata": {},
   "source": [
    "## 1. Building Features \n",
    "\n",
    "Building features for each Product Category and Product, using automatically feature building function from the modul Feature Functions, which adds the necessary 12 Features for Model Training to the function. \n",
    "\n",
    "These are the added features:\n",
    "* Helpful Ratio (HR):\n",
    "Calculates the ratio of helpful votes for each review relative to the total helpful votes across all reviews.\n",
    "* POS Tag Counts:\n",
    "Counts the number of adverbs, adjectives, and nouns in each review text.\n",
    "* Word Count:\n",
    "Calculates the total number of words in each review text.\n",
    "* Sentence Count:\n",
    "Counts the total number of sentences in each review text.\n",
    "* Average Words per Sentence:\n",
    "Calculates the average number of words per sentence in each review text.\n",
    "* Title Length (TL):\n",
    "Counts the number of characters in the title of each review. If the title is empty or consists only of special characters, it sets the length to 1.\n",
    "* Flesch-Kincaid Readability Score:\n",
    "Calculates the Flesch-Kincaid readability score for each review text.\n",
    "* Review Extremity:\n",
    "Calculates the difference between the review rating and the average product rating.\n",
    "* Elapsed Time:\n",
    "Calculates the elapsed time (in days) since each review was posted.\n",
    "* Image Check:\n",
    "Checks whether each review contains images and assigns a binary value (0 for no images, 1 for images).\n",
    "* Verified Purchase:\n",
    "Checks whether the purchase was verified or not.\n",
    "* Day of Week \n"
   ]
  },
  {
   "cell_type": "code",
   "execution_count": null,
   "metadata": {},
   "outputs": [],
   "source": [
    "# Checking for NaN Values in the text + title column and deleting them\n",
    "data_hedonic = data_hedonic.dropna(subset=['text'])\n",
    "data_hedonic = data_hedonic.dropna(subset=['title_x'])\n",
    "\n",
    "# Checking for NaN Values in the text + title column and deleting them\n",
    "data_utilitarian = data_utilitarian.dropna(subset=['text'])\n",
    "data_utilitarian = data_utilitarian.dropna(subset=['title_x'])"
   ]
  },
  {
   "cell_type": "code",
   "execution_count": null,
   "metadata": {},
   "outputs": [],
   "source": [
    "# Transforming the timestamp column into a datetime object\n",
    "data_utilitarian['timestamp'] = pd.to_datetime(data_utilitarian['timestamp'], format='%Y-%m-%d %H:%M:%S.%f')\n",
    "data_utilitarian['timestamp'] = data_utilitarian['timestamp'].dt.strftime('%Y-%m-%d %H:%M:%S')"
   ]
  },
  {
   "cell_type": "code",
   "execution_count": null,
   "metadata": {},
   "outputs": [],
   "source": [
    "# Adding Features to Data Utilitarian\n",
    "feature_building (data_utilitarian) "
   ]
  },
  {
   "cell_type": "code",
   "execution_count": null,
   "metadata": {},
   "outputs": [],
   "source": [
    "# Adding Features to Data Hedonic \n",
    "feature_building (data_hedonic) "
   ]
  },
  {
   "cell_type": "code",
   "execution_count": null,
   "metadata": {},
   "outputs": [],
   "source": [
    "# Transforming adverb,adjective, and noun counts into ratios for better comparability\n",
    "def calculate_ratios(data):\n",
    "    data['#nouns'] = data['noun_count'] / data['word_count']\n",
    "    data['#adj'] = data['adj_count'] / data['word_count']\n",
    "    data['#adv'] = data['adv_count'] / data['word_count']\n",
    "    return data\n",
    "\n",
    "# Applying the function to the DataFrame\n",
    "calculate_ratios(data_hedonic)\n",
    "calculate_ratios(data_utilitarian)\n"
   ]
  },
  {
   "cell_type": "code",
   "execution_count": null,
   "metadata": {},
   "outputs": [],
   "source": [
    "data_hedonic.to_csv('/Users/paulahofmann/Documents/Coding/Online-Review/FeaturePreperation/Data_with_Features/Final Data/Hedonic_Final.csv', index=False)\n",
    "data_utilitarian.to_csv('/Users/paulahofmann/Documents/Coding/Online-Review/FeaturePreperation/Data_with_Features/Final Data/Utilitarian_Final.csv', index=False)"
   ]
  },
  {
   "cell_type": "code",
   "execution_count": null,
   "metadata": {},
   "outputs": [],
   "source": [
    "# Reording the columns in the DataFrame\n",
    "\n",
    "# Reordered column list\n",
    "reordered_columns = ['rating', 'title_x', 'text', 'images', 'asin', 'parent_asin', 'user_id',\n",
    "       'timestamp', 'helpful_vote', 'verified_purchase', 'text_cleaned',\n",
    "       'text_cleaned1', 'sentiment', 'main_category', 'prod_title',\n",
    "       'average_rating', 'rat_count', 'features', 'price', 'helpful_ratio',\n",
    "       'noun_count', 'adj_count', 'adv_count', 'word_count', 'sent_count',\n",
    "       'sent_length', 'title_length', 'FRE', 'review_ext', 'elap_days',\n",
    "       'image', 'year', 'month', 'day', 'hour', 'product', 'ver_purch',\n",
    "       '#nouns', '#adj', '#adv']\n",
    "\n",
    "# Apply reindexing to DataFrame\n",
    "data = data.reindex(columns=reordered_columns)\n"
   ]
  },
  {
   "cell_type": "code",
   "execution_count": null,
   "metadata": {},
   "outputs": [],
   "source": [
    "print (data.columns)"
   ]
  },
  {
   "cell_type": "code",
   "execution_count": null,
   "metadata": {},
   "outputs": [],
   "source": [
    "## Summarizing all Features in a List\n",
    "\n",
    "input_features = ['rating','rating_number','timestamp', 'sentiment', 'price', 'noun_count', 'adj_count', 'adv_count', 'word_count', \n",
    "                  'sentence_count', 'avg_words_per_sentence', 'title_length', 'F-K_score', 'review_extremity', \n",
    "                  'elapsed_time_days', 'image', 'year','month','day','hour']\n",
    "\n",
    "output_feature = 'helpful_ratio'"
   ]
  },
  {
   "cell_type": "markdown",
   "metadata": {},
   "source": [
    "## Input Features Summary and Description\n",
    "\n",
    "### 1. rating\n",
    "   - Description: The numerical rating given by the reviewer.\n",
    "   - Type: Continuous\n",
    "\n",
    "### 2. rating_number\n",
    "   - Description: Number of ratings the product has received.\n",
    "   - Type: Continuous\n",
    "\n",
    "### 3. timestamp\n",
    "   - Description: The timestamp of when the review was posted.\n",
    "   - Type: Datetime\n",
    "\n",
    "### 4. sentiment\n",
    "   - Description: Sentiment score of the review text, indicating the positivity or negativity of the sentiment.\n",
    "   - Type: Continuous\n",
    "\n",
    "### 5. price\n",
    "   - Description: Price of the product.\n",
    "   - Type: Continuous\n",
    "\n",
    "### 6. noun_count\n",
    "   - Description: Count of nouns in the review text.\n",
    "   - Type: Integer\n",
    "\n",
    "### 7. adj_count\n",
    "   - Description: Count of adjectives in the review text.\n",
    "   - Type: Integer\n",
    "\n",
    "### 8. adv_count\n",
    "   - Description: Count of adverbs in the review text.\n",
    "   - Type: Integer\n",
    "\n",
    "### 9. word_count\n",
    "   - Description: Total number of words in the review text.\n",
    "   - Type: Integer\n",
    "\n",
    "### 10. sentence_count\n",
    "   - Description: Total number of sentences in the review text.\n",
    "   - Type: Integer\n",
    "\n",
    "### 11. avg_words_per_sentence\n",
    "   - Description: Average number of words per sentence in the review text.\n",
    "   - Type: Continuous\n",
    "\n",
    "### 12. title_length\n",
    "   - Description: Length of the review title in characters.\n",
    "   - Type: Integer\n",
    "\n",
    "### 13. F-K_score\n",
    "   - Description: Flesch-Kincaid readability score of the review text.\n",
    "   - Type: Continuous\n",
    "\n",
    "### 14. review_extremity\n",
    "   - Description: Difference between the review rating and the average product rating.\n",
    "   - Type: Continuous\n",
    "\n",
    "### 15. elapsed_time_days\n",
    "   - Description: Elapsed time (in days) since the review was posted.\n",
    "   - Type: Continuous\n",
    "\n",
    "### 16. image\n",
    "   - Description: Binary variable indicating whether the review contains images.\n",
    "   - Type: Binary (0 or 1)\n",
    "\n",
    "### 17. year\n",
    "   - Description: Year component of the review timestamp.\n",
    "   - Type: Integer\n",
    "\n",
    "### 18. month\n",
    "   - Description: Month component of the review timestamp.\n",
    "   - Type: Integer\n",
    "\n",
    "### 19. day\n",
    "   - Description: Day component of the review timestamp.\n",
    "   - Type: Integer\n",
    "\n",
    "### 20. hour\n",
    "   - Description: Hour component of the review timestamp.\n",
    "   - Type: Integer\n"
   ]
  }
 ],
 "metadata": {
  "kernelspec": {
   "display_name": "torch-gpu",
   "language": "python",
   "name": "python3"
  },
  "language_info": {
   "codemirror_mode": {
    "name": "ipython",
    "version": 3
   },
   "file_extension": ".py",
   "mimetype": "text/x-python",
   "name": "python",
   "nbconvert_exporter": "python",
   "pygments_lexer": "ipython3",
   "version": "3.8.18"
  },
  "orig_nbformat": 4
 },
 "nbformat": 4,
 "nbformat_minor": 2
}
