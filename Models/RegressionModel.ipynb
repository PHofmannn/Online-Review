{
 "cells": [
  {
   "cell_type": "markdown",
   "metadata": {},
   "source": [
    "# Regression Model\n",
    "\n",
    "In this notebook we will build a simple multiple regression model which will be used as a baseline model for the comparision with the xGBoost Model"
   ]
  },
  {
   "cell_type": "code",
   "execution_count": 1,
   "metadata": {},
   "outputs": [],
   "source": [
    "# Importing Packages \n",
    "import pandas as pd\n",
    "from sklearn.model_selection import train_test_split\n",
    "from sklearn.linear_model import LinearRegression\n",
    "from sklearn.metrics import mean_squared_error"
   ]
  },
  {
   "cell_type": "code",
   "execution_count": 2,
   "metadata": {},
   "outputs": [],
   "source": [
    "# Importing Data with Features \n",
    "data_hedonic = pd.read_csv ('/Users/paulahofmann/Documents/Coding/Online-Review/FeaturePreperation/Data_with_Features/Final Data/Hedonic_Final.csv')\n",
    "data_utilitarian = pd.read_csv ('/Users/paulahofmann/Documents/Coding/Online-Review/FeaturePreperation/Data_with_Features/Final Data/Utilitarian_Final.csv')"
   ]
  },
  {
   "cell_type": "code",
   "execution_count": 3,
   "metadata": {},
   "outputs": [],
   "source": [
    "# First we will simply sort all reviews that have at least one helpful Vote\n",
    "data_utilitarian_helpful = data_utilitarian[data_utilitarian['helpful_vote'] > 0]\n",
    "data_hedonic_helpful = data_hedonic[data_hedonic['helpful_vote'] > 0]\n"
   ]
  },
  {
   "cell_type": "code",
   "execution_count": 6,
   "metadata": {},
   "outputs": [],
   "source": [
    "# Join dataframes\n",
    "data_helpful = pd.concat([data_utilitarian_helpful, data_hedonic_helpful])"
   ]
  },
  {
   "cell_type": "code",
   "execution_count": 13,
   "metadata": {},
   "outputs": [
    {
     "name": "stdout",
     "output_type": "stream",
     "text": [
      "Mean Squared Error: 206.59567921871192\n",
      "             Feature  Coefficient\n",
      "0      helpful_ratio  5685.959525\n",
      "1             rating   -19.383021\n",
      "2          sentiment     0.168629\n",
      "3   subjective_score    -1.673692\n",
      "4         word_count     0.043597\n",
      "5         sent_count    -0.866268\n",
      "6        sent_length    -0.126617\n",
      "7       title_length    -0.184792\n",
      "8         review_ext    18.883241\n",
      "9               #adj    -3.431640\n",
      "10              #adv     1.446686\n",
      "11            #nouns     1.902204\n",
      "12               FRE    -0.064813\n",
      "13         elap_days     0.001512\n",
      "14             image     1.843337\n",
      "15         ver_purch    -0.591346\n"
     ]
    }
   ],
   "source": [
    "import pandas as pd\n",
    "from sklearn.model_selection import train_test_split\n",
    "from sklearn.linear_model import LinearRegression\n",
    "from sklearn.metrics import mean_squared_error\n",
    "\n",
    "# Define features and target\n",
    "features = ['helpful_ratio', 'rating', 'sentiment', 'subjective_score', 'word_count',\n",
    "            'sent_count', 'sent_length', 'title_length', 'review_ext',\n",
    "            '#adj', '#adv', '#nouns', 'FRE', 'elap_days', 'image', 'ver_purch']\n",
    "target = 'helpful_vote'\n",
    "\n",
    "# Split data into training and testing sets\n",
    "X = data_helpful[features]\n",
    "y = data_helpful[target]\n",
    "X_train, X_test, y_train, y_test = train_test_split(X, y, test_size=0.2, random_state=42)\n",
    "\n",
    "# Define and fit the model\n",
    "model = LinearRegression()\n",
    "model.fit(X_train, y_train)\n",
    "\n",
    "# Evaluate the model\n",
    "y_pred = model.predict(X_test)\n",
    "mse = mean_squared_error(y_test, y_pred)\n",
    "print(\"Mean Squared Error:\", mse)\n",
    "\n",
    "# Interpret the results\n",
    "coefficients = pd.DataFrame({'Feature': features, 'Coefficient': model.coef_})\n",
    "print(coefficients)\n"
   ]
  },
  {
   "cell_type": "code",
   "execution_count": 17,
   "metadata": {},
   "outputs": [
    {
     "name": "stdout",
     "output_type": "stream",
     "text": [
      "Linear Regression CV Mean Squared Error: 3.141248060885838e-32\n"
     ]
    },
    {
     "name": "stdout",
     "output_type": "stream",
     "text": [
      "Ridge CV Mean Squared Error: 6.173503901019308e-12\n",
      "Lasso CV Mean Squared Error: 0.00010423847380199239\n",
      "Random Forest CV Mean Squared Error: 6.468920108047862e-06\n"
     ]
    }
   ],
   "source": [
    "import pandas as pd\n",
    "from sklearn.model_selection import train_test_split, cross_val_score, KFold\n",
    "from sklearn.linear_model import LinearRegression, Ridge, Lasso\n",
    "from sklearn.preprocessing import StandardScaler\n",
    "from sklearn.metrics import mean_squared_error\n",
    "from sklearn.ensemble import RandomForestRegressor\n",
    "from sklearn.model_selection import GridSearchCV\n",
    "\n",
    "# Assuming 'data_helpful' is your DataFrame and the features and target are defined\n",
    "\n",
    "# Define the features and target\n",
    "features = ['helpful_ratio', 'rating', 'sentiment', 'subjective_score', 'word_count',\n",
    "            'sent_count', 'sent_length', 'title_length', 'review_ext',\n",
    "            '#adj', '#adv', '#nouns', 'FRE', 'elap_days', 'image', 'ver_purch']\n",
    "target = 'helpful_ratio'\n",
    "\n",
    "\n",
    "\n",
    "# Split the data into training and testing sets\n",
    "X = data_helpful[features]\n",
    "y = data_helpful[target]\n",
    "X_train, X_test, y_train, y_test = train_test_split(X, y, test_size=0.2, random_state=42)\n",
    "\n",
    "# Standardize the features\n",
    "scaler = StandardScaler()\n",
    "X_train = scaler.fit_transform(X_train)\n",
    "X_test = scaler.transform(X_test)\n",
    "\n",
    "# Define models to try\n",
    "models = {\n",
    "    'Linear Regression': LinearRegression(),\n",
    "    'Ridge': Ridge(),\n",
    "    'Lasso': Lasso(),\n",
    "    'Random Forest': RandomForestRegressor()\n",
    "}\n",
    "\n",
    "# Evaluate models using cross-validation\n",
    "for name, model in models.items():\n",
    "    cv = KFold(n_splits=5, random_state=42, shuffle=True)\n",
    "    scores = cross_val_score(model, X_train, y_train, scoring='neg_mean_squared_error', cv=cv)\n",
    "    print(f\"{name} CV Mean Squared Error: {-scores.mean()}\")\n",
    "\n",
    "# Fit the best model (Random Forest in this case, you can choose based on CV results)\n",
    "best_model = RandomForestRegressor()\n",
    "param_grid = {\n",
    "    'n_estimators': [100, 200],\n",
    "    'max_depth': [10, 20],\n",
    "    'min_samples_split': [2, 5]\n",
    "}\n",
    "\n",
    "grid_search = GridSearchCV(best_model, param_grid, cv=5, scoring='neg_mean_squared_error')\n",
    "grid_search.fit(X_train, y_train)\n",
    "best_model = grid_search.best_estimator_\n"
   ]
  },
  {
   "cell_type": "code",
   "execution_count": null,
   "metadata": {},
   "outputs": [],
   "source": [
    "# Evaluate the model\n",
    "y_pred = best_model.predict(X_test)\n",
    "mse = mean_squared_error(y_test, y_pred)\n",
    "print(\"Mean Squared Error:\", mse)\n",
    "\n",
    "# Interpret the results\n",
    "feature_importances = pd.DataFrame({'Feature': features, 'Importance': best_model.feature_importances_})\n",
    "feature_importances = feature_importances.sort_values(by='Importance', ascending=False)\n",
    "print(feature_importances)\n",
    "\n"
   ]
  }
 ],
 "metadata": {
  "kernelspec": {
   "display_name": "torch-gpu",
   "language": "python",
   "name": "python3"
  },
  "language_info": {
   "codemirror_mode": {
    "name": "ipython",
    "version": 3
   },
   "file_extension": ".py",
   "mimetype": "text/x-python",
   "name": "python",
   "nbconvert_exporter": "python",
   "pygments_lexer": "ipython3",
   "version": "3.8.18"
  },
  "orig_nbformat": 4
 },
 "nbformat": 4,
 "nbformat_minor": 2
}
