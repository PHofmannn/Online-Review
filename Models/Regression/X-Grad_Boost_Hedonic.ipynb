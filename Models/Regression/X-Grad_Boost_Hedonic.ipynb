{
 "cells": [
  {
   "cell_type": "code",
   "execution_count": 1,
   "metadata": {},
   "outputs": [
    {
     "name": "stderr",
     "output_type": "stream",
     "text": [
      "Using `tqdm.autonotebook.tqdm` in notebook mode. Use `tqdm.tqdm` instead to force console mode (e.g. in jupyter console)\n"
     ]
    }
   ],
   "source": [
    "# Importing Packages and Libraries\n",
    "import shap\n",
    "import pandas as pd\n",
    "import xgboost as xgb\n",
    "import numpy as np\n",
    "import matplotlib.pyplot as plt\n",
    "from sklearn.model_selection import train_test_split\n",
    "from sklearn.preprocessing import MinMaxScaler\n",
    "from sklearn.metrics import mean_squared_error, mean_absolute_error\n",
    "import pandas as pd\n",
    "from sklearn.compose import ColumnTransformer\n",
    "from sklearn.model_selection import cross_val_score, train_test_split\n",
    "from sklearn.preprocessing import MinMaxScaler, LabelEncoder, OneHotEncoder"
   ]
  },
  {
   "cell_type": "code",
   "execution_count": 2,
   "metadata": {},
   "outputs": [],
   "source": [
    "# Load data\n",
    "file_path = '/Users/paulahofmann/Documents/Coding/Online-Review/FeaturePreperation/Data_with_Features/Final Data/Hedonic_Final.csv'\n",
    "df = pd.read_csv(file_path)"
   ]
  },
  {
   "cell_type": "code",
   "execution_count": 3,
   "metadata": {},
   "outputs": [],
   "source": [
    "def calculate_total_helpful_votes(df):\n",
    "    for product_id, group in df.groupby('product'):\n",
    "        total_helpful_votes = group['helpful_vote'].sum()\n",
    "        df.loc[group.index, 'total_helpful_votes'] = total_helpful_votes\n",
    "        # Initialize the helpful_ratio to 0\n",
    "        df.loc[group.index, 'helpful_ratio'] = 0\n",
    "        \n",
    "        # Calculate helpful_ratio only for reviews with more than 1 helpful vote\n",
    "        mask = group['helpful_vote'] > 1\n",
    "        df.loc[group.index[mask], 'helpful_ratio'] = (group['helpful_vote'][mask] / total_helpful_votes) \n",
    "    \n",
    "    return df\n"
   ]
  },
  {
   "cell_type": "code",
   "execution_count": 4,
   "metadata": {},
   "outputs": [],
   "source": [
    "df = calculate_total_helpful_votes(df)"
   ]
  },
  {
   "cell_type": "code",
   "execution_count": 5,
   "metadata": {},
   "outputs": [],
   "source": [
    "df = df[df['helpful_vote'] > 1]"
   ]
  },
  {
   "cell_type": "code",
   "execution_count": 6,
   "metadata": {},
   "outputs": [],
   "source": [
    "# Drop unnecessary columns\n",
    "columns_to_drop = ['title_x', 'text', 'images', 'asin', 'parent_asin', 'user_id',\n",
    "       'timestamp', 'helpful_vote', 'verified_purchase', 'text_cleaned',\n",
    "       'text_cleaned1','main_category','features','prod_type','neutral_score','day_of_week']\n",
    "df.drop(columns=columns_to_drop, inplace=True)"
   ]
  },
  {
   "cell_type": "code",
   "execution_count": 7,
   "metadata": {},
   "outputs": [],
   "source": [
    "# Mapping dictionary for sentiment transformation\n",
    "sentiment_mapping = {'positive': 2, 'neutral': 1, 'negative': 0}\n",
    "\n",
    "# Using map function to create a new column 'sentiment_c' with transformed values\n",
    "df['sentiment_c'] = df['Sentiment_Classification'].map(sentiment_mapping)"
   ]
  },
  {
   "cell_type": "code",
   "execution_count": 8,
   "metadata": {},
   "outputs": [],
   "source": [
    "# Define features and target variable\n",
    "features = ['review_ext','price', 'sentiment_c','word_count', 'sent_count', 'sent_length', 'title_length', 'elap_days',\n",
    "       'image', 'ver_purch', '#nouns','#adj', '#adv', 'subjective_score','FRE','product']\n",
    "target = 'helpful_ratio'"
   ]
  },
  {
   "cell_type": "code",
   "execution_count": 9,
   "metadata": {},
   "outputs": [],
   "source": [
    "# Split data for test and training data\n",
    "X_train, X_test, y_train, y_test = train_test_split(\n",
    "    df[features],  \n",
    "    df[target], \n",
    "    test_size=0.2,  \n",
    "    random_state=42  # Set a random seed for reproducibility\n",
    ")"
   ]
  },
  {
   "cell_type": "code",
   "execution_count": 10,
   "metadata": {},
   "outputs": [],
   "source": [
    "# Scaling features and one-hot encoding categorical features\n",
    "\n",
    "# Define categorical and numerical features\n",
    "categorical_features = ['product']\n",
    "numerical_features = ['review_ext', 'price', 'sentiment_c','word_count', 'sent_count', 'sent_length', 'title_length', 'elap_days',\n",
    "       'image', 'ver_purch', '#nouns','#adj', '#adv', 'subjective_score','FRE']\n",
    "\n",
    "# Convert 'product' column to categorical type\n",
    "X_train['product'] = X_train['product'].astype('category')\n",
    "X_test['product'] = X_test['product'].astype('category')\n",
    "\n",
    "# Scale numerical features and one-hot encode categorical features\n",
    "preprocessor = ColumnTransformer(\n",
    "    transformers=[\n",
    "       (\"cat\", OneHotEncoder(), ['product']),  # One-hot encode 'product'\n",
    "       (\"num\", MinMaxScaler(), numerical_features),     # Scale numerical features\n",
    "   ])\n",
    "\n",
    "# Scale features\n",
    "X_train = preprocessor.fit_transform(X_train)\n",
    "X_test = preprocessor.transform(X_test)\n",
    "\n",
    "# Convert y_train and y_test to a 2D array\n",
    "y_train = y_train.values.reshape(-1, 1)\n",
    "y_test = y_test.values.reshape(-1, 1)\n",
    "\n",
    "# Create an instance of MinMaxScaler for target variable\n",
    "scaler = MinMaxScaler(feature_range=(0, 1))  # Set the feature range to be between 0 and 1\n",
    "\n",
    "# Scale the target variable\n",
    "y_train = scaler.fit_transform(y_train)\n",
    "y_test = scaler.transform(y_test)"
   ]
  },
  {
   "cell_type": "code",
   "execution_count": 11,
   "metadata": {},
   "outputs": [
    {
     "name": "stdout",
     "output_type": "stream",
     "text": [
      "\n",
      "Default Model Evaluation:\n",
      "Mean Squared Error on Test Data: 0.004247860613142602\n",
      "Mean Absolute Error on Test Data: 0.029860971951358003\n",
      "Mean Cross-Validated MSE: 0.006242515808583723\n"
     ]
    }
   ],
   "source": [
    "# Train model with default hyperparameters\n",
    "xgb_reg_default = xgb.XGBRegressor(objective='reg:pseudohubererror')\n",
    "\n",
    "xgb_reg_default.fit(X_train, y_train)\n",
    "\n",
    "# Predictions on test data\n",
    "y_pred_default = xgb_reg_default.predict(X_test)\n",
    "\n",
    "# Model evaluation\n",
    "mse_default = mean_squared_error(y_test, y_pred_default)\n",
    "mae_default = mean_absolute_error(y_test, y_pred_default)\n",
    "print(\"\\nDefault Model Evaluation:\")\n",
    "print(f\"Mean Squared Error on Test Data: {mse_default}\")\n",
    "print(f\"Mean Absolute Error on Test Data: {mae_default}\")\n",
    "\n",
    "# Perform 5-fold cross-validation\n",
    "cv_scores = cross_val_score(xgb_reg_default, X_train, y_train, cv=5, scoring='neg_mean_squared_error')\n",
    "mse_cv_mean = -cv_scores.mean()\n",
    "print(\"Mean Cross-Validated MSE:\", mse_cv_mean)"
   ]
  },
  {
   "cell_type": "code",
   "execution_count": 12,
   "metadata": {},
   "outputs": [
    {
     "name": "stdout",
     "output_type": "stream",
     "text": [
      "MSE:                                                   \n",
      "0.00437835196653696                                    \n",
      "MSE:                                                   \n",
      "0.00437835196653696                                                               \n",
      "MSE:                                                                              \n",
      "0.00437835196653696                                                               \n",
      "MSE:                                                                              \n",
      "0.00437835196653696                                                               \n",
      "MSE:                                                                              \n",
      "0.00437835196653696                                                               \n",
      "MSE:                                                                              \n",
      "0.00437835196653696                                                               \n",
      "MSE:                                                                              \n",
      "0.00437835196653696                                                               \n",
      "MSE:                                                                              \n",
      "0.00437835196653696                                                               \n",
      "MSE:                                                                              \n",
      "0.00437835196653696                                                               \n",
      "MSE:                                                                              \n",
      "0.00437835196653696                                                               \n",
      "MSE:                                                                              \n",
      "0.00437835196653696                                                                \n",
      "MSE:                                                                                \n",
      "0.00437835196653696                                                                 \n",
      "MSE:                                                                                \n",
      "0.00437835196653696                                                                 \n",
      "MSE:                                                                                \n",
      "0.00437835196653696                                                                 \n",
      "MSE:                                                                                \n",
      "0.00437835196653696                                                                 \n",
      "MSE:                                                                                \n",
      "0.00437835196653696                                                                 \n",
      "MSE:                                                                                \n",
      "0.00437835196653696                                                                 \n",
      "MSE:                                                                                \n",
      "  3%|▎         | 17/500 [00:00<00:04, 104.91trial/s, best loss: 0.00437835196653696]"
     ]
    },
    {
     "name": "stderr",
     "output_type": "stream",
     "text": [
      "`early_stopping_rounds` in `fit` method is deprecated for better compatibility with scikit-learn, use `early_stopping_rounds` in constructor or`set_params` instead.\n",
      "\n",
      "`early_stopping_rounds` in `fit` method is deprecated for better compatibility with scikit-learn, use `early_stopping_rounds` in constructor or`set_params` instead.\n",
      "\n",
      "`early_stopping_rounds` in `fit` method is deprecated for better compatibility with scikit-learn, use `early_stopping_rounds` in constructor or`set_params` instead.\n",
      "\n",
      "`early_stopping_rounds` in `fit` method is deprecated for better compatibility with scikit-learn, use `early_stopping_rounds` in constructor or`set_params` instead.\n",
      "\n",
      "`early_stopping_rounds` in `fit` method is deprecated for better compatibility with scikit-learn, use `early_stopping_rounds` in constructor or`set_params` instead.\n",
      "\n",
      "`early_stopping_rounds` in `fit` method is deprecated for better compatibility with scikit-learn, use `early_stopping_rounds` in constructor or`set_params` instead.\n",
      "\n",
      "`early_stopping_rounds` in `fit` method is deprecated for better compatibility with scikit-learn, use `early_stopping_rounds` in constructor or`set_params` instead.\n",
      "\n",
      "`early_stopping_rounds` in `fit` method is deprecated for better compatibility with scikit-learn, use `early_stopping_rounds` in constructor or`set_params` instead.\n",
      "\n",
      "`early_stopping_rounds` in `fit` method is deprecated for better compatibility with scikit-learn, use `early_stopping_rounds` in constructor or`set_params` instead.\n",
      "\n",
      "`early_stopping_rounds` in `fit` method is deprecated for better compatibility with scikit-learn, use `early_stopping_rounds` in constructor or`set_params` instead.\n",
      "\n",
      "`early_stopping_rounds` in `fit` method is deprecated for better compatibility with scikit-learn, use `early_stopping_rounds` in constructor or`set_params` instead.\n",
      "\n",
      "`early_stopping_rounds` in `fit` method is deprecated for better compatibility with scikit-learn, use `early_stopping_rounds` in constructor or`set_params` instead.\n",
      "\n",
      "`early_stopping_rounds` in `fit` method is deprecated for better compatibility with scikit-learn, use `early_stopping_rounds` in constructor or`set_params` instead.\n",
      "\n",
      "`early_stopping_rounds` in `fit` method is deprecated for better compatibility with scikit-learn, use `early_stopping_rounds` in constructor or`set_params` instead.\n",
      "\n",
      "`early_stopping_rounds` in `fit` method is deprecated for better compatibility with scikit-learn, use `early_stopping_rounds` in constructor or`set_params` instead.\n",
      "\n",
      "`early_stopping_rounds` in `fit` method is deprecated for better compatibility with scikit-learn, use `early_stopping_rounds` in constructor or`set_params` instead.\n",
      "\n",
      "`early_stopping_rounds` in `fit` method is deprecated for better compatibility with scikit-learn, use `early_stopping_rounds` in constructor or`set_params` instead.\n",
      "\n",
      "`early_stopping_rounds` in `fit` method is deprecated for better compatibility with scikit-learn, use `early_stopping_rounds` in constructor or`set_params` instead.\n",
      "\n"
     ]
    },
    {
     "name": "stdout",
     "output_type": "stream",
     "text": [
      "0.00437835196653696                                                                 \n",
      "MSE:                                                                                \n",
      "0.00437835196653696                                                                 \n",
      "MSE:                                                                                \n",
      "0.00437835196653696                                                                 \n",
      "MSE:                                                                                \n",
      "0.00437835196653696                                                                 \n",
      "MSE:                                                                                \n",
      "0.00437835196653696                                                                 \n",
      "MSE:                                                                                \n",
      "0.00437835196653696                                                                \n",
      "MSE:                                                                               \n",
      "0.00437835196653696                                                                \n",
      "MSE:                                                                               \n",
      "0.00437835196653696                                                                \n",
      "MSE:                                                                               \n",
      "0.00437835196653696                                                                \n",
      "MSE:                                                                               \n",
      "0.00437835196653696                                                                \n",
      "MSE:                                                                               \n",
      "0.00437835196653696                                                                \n",
      "MSE:                                                                               \n",
      "0.00437835196653696                                                                \n",
      "MSE:                                                                               \n",
      "0.00437835196653696                                                                \n",
      "MSE:                                                                               \n",
      "0.00437835196653696                                                                \n",
      "  6%|▌         | 31/500 [00:00<00:06, 73.02trial/s, best loss: 0.00437835196653696]"
     ]
    },
    {
     "name": "stderr",
     "output_type": "stream",
     "text": [
      "`early_stopping_rounds` in `fit` method is deprecated for better compatibility with scikit-learn, use `early_stopping_rounds` in constructor or`set_params` instead.\n",
      "\n",
      "`early_stopping_rounds` in `fit` method is deprecated for better compatibility with scikit-learn, use `early_stopping_rounds` in constructor or`set_params` instead.\n",
      "\n",
      "`early_stopping_rounds` in `fit` method is deprecated for better compatibility with scikit-learn, use `early_stopping_rounds` in constructor or`set_params` instead.\n",
      "\n",
      "`early_stopping_rounds` in `fit` method is deprecated for better compatibility with scikit-learn, use `early_stopping_rounds` in constructor or`set_params` instead.\n",
      "\n",
      "`early_stopping_rounds` in `fit` method is deprecated for better compatibility with scikit-learn, use `early_stopping_rounds` in constructor or`set_params` instead.\n",
      "\n",
      "`early_stopping_rounds` in `fit` method is deprecated for better compatibility with scikit-learn, use `early_stopping_rounds` in constructor or`set_params` instead.\n",
      "\n",
      "`early_stopping_rounds` in `fit` method is deprecated for better compatibility with scikit-learn, use `early_stopping_rounds` in constructor or`set_params` instead.\n",
      "\n",
      "`early_stopping_rounds` in `fit` method is deprecated for better compatibility with scikit-learn, use `early_stopping_rounds` in constructor or`set_params` instead.\n",
      "\n",
      "`early_stopping_rounds` in `fit` method is deprecated for better compatibility with scikit-learn, use `early_stopping_rounds` in constructor or`set_params` instead.\n",
      "\n",
      "`early_stopping_rounds` in `fit` method is deprecated for better compatibility with scikit-learn, use `early_stopping_rounds` in constructor or`set_params` instead.\n",
      "\n",
      "`early_stopping_rounds` in `fit` method is deprecated for better compatibility with scikit-learn, use `early_stopping_rounds` in constructor or`set_params` instead.\n",
      "\n",
      "`early_stopping_rounds` in `fit` method is deprecated for better compatibility with scikit-learn, use `early_stopping_rounds` in constructor or`set_params` instead.\n",
      "\n",
      "`early_stopping_rounds` in `fit` method is deprecated for better compatibility with scikit-learn, use `early_stopping_rounds` in constructor or`set_params` instead.\n",
      "\n"
     ]
    },
    {
     "name": "stdout",
     "output_type": "stream",
     "text": [
      "MSE:                                                                               \n",
      "0.00437835196653696                                                                \n",
      "MSE:                                                                               \n",
      "0.00437835196653696                                                                \n",
      "MSE:                                                                               \n",
      "0.00437835196653696                                                                \n",
      "MSE:                                                                               \n",
      "0.00437835196653696                                                                \n",
      "MSE:                                                                               \n",
      "0.00437835196653696                                                                \n",
      "MSE:                                                                               \n",
      "0.00437835196653696                                                                \n",
      "MSE:                                                                               \n",
      "0.00437835196653696                                                                \n",
      "MSE:                                                                               \n",
      "0.00437835196653696                                                                \n",
      "MSE:                                                                               \n",
      "0.00437835196653696                                                                \n",
      "MSE:                                                                               \n",
      "0.00437835196653696                                                                \n",
      "MSE:                                                                               \n",
      "0.00437835196653696                                                                \n",
      "MSE:                                                                               \n",
      "0.00437835196653696                                                                \n",
      "  8%|▊         | 42/500 [00:00<00:07, 64.81trial/s, best loss: 0.00437835196653696]"
     ]
    },
    {
     "name": "stderr",
     "output_type": "stream",
     "text": [
      "`early_stopping_rounds` in `fit` method is deprecated for better compatibility with scikit-learn, use `early_stopping_rounds` in constructor or`set_params` instead.\n",
      "\n",
      "`early_stopping_rounds` in `fit` method is deprecated for better compatibility with scikit-learn, use `early_stopping_rounds` in constructor or`set_params` instead.\n",
      "\n",
      "`early_stopping_rounds` in `fit` method is deprecated for better compatibility with scikit-learn, use `early_stopping_rounds` in constructor or`set_params` instead.\n",
      "\n",
      "`early_stopping_rounds` in `fit` method is deprecated for better compatibility with scikit-learn, use `early_stopping_rounds` in constructor or`set_params` instead.\n",
      "\n",
      "`early_stopping_rounds` in `fit` method is deprecated for better compatibility with scikit-learn, use `early_stopping_rounds` in constructor or`set_params` instead.\n",
      "\n",
      "`early_stopping_rounds` in `fit` method is deprecated for better compatibility with scikit-learn, use `early_stopping_rounds` in constructor or`set_params` instead.\n",
      "\n",
      "`early_stopping_rounds` in `fit` method is deprecated for better compatibility with scikit-learn, use `early_stopping_rounds` in constructor or`set_params` instead.\n",
      "\n",
      "`early_stopping_rounds` in `fit` method is deprecated for better compatibility with scikit-learn, use `early_stopping_rounds` in constructor or`set_params` instead.\n",
      "\n",
      "`early_stopping_rounds` in `fit` method is deprecated for better compatibility with scikit-learn, use `early_stopping_rounds` in constructor or`set_params` instead.\n",
      "\n",
      "`early_stopping_rounds` in `fit` method is deprecated for better compatibility with scikit-learn, use `early_stopping_rounds` in constructor or`set_params` instead.\n",
      "\n",
      "`early_stopping_rounds` in `fit` method is deprecated for better compatibility with scikit-learn, use `early_stopping_rounds` in constructor or`set_params` instead.\n",
      "\n",
      "`early_stopping_rounds` in `fit` method is deprecated for better compatibility with scikit-learn, use `early_stopping_rounds` in constructor or`set_params` instead.\n",
      "\n"
     ]
    },
    {
     "name": "stdout",
     "output_type": "stream",
     "text": [
      "MSE:                                                                               \n",
      "0.00437835196653696                                                                \n",
      "MSE:                                                                               \n",
      "0.00437835196653696                                                                \n",
      "MSE:                                                                               \n",
      "0.00437835196653696                                                                \n",
      "MSE:                                                                               \n",
      "0.00437835196653696                                                                \n",
      "MSE:                                                                               \n",
      "0.00437835196653696                                                                \n",
      "MSE:                                                                               \n",
      "0.00437835196653696                                                                \n",
      "MSE:                                                                               \n",
      "0.00437835196653696                                                                \n",
      "MSE:                                                                               \n",
      "0.00437835196653696                                                                \n",
      "MSE:                                                                               \n",
      "0.00437835196653696                                                                \n",
      "MSE:                                                                               \n",
      "0.00437835196653696                                                                \n",
      "MSE:                                                                               \n",
      "0.00437835196653696                                                                \n",
      " 11%|█         | 53/500 [00:00<00:07, 58.18trial/s, best loss: 0.00437835196653696]"
     ]
    },
    {
     "name": "stderr",
     "output_type": "stream",
     "text": [
      "`early_stopping_rounds` in `fit` method is deprecated for better compatibility with scikit-learn, use `early_stopping_rounds` in constructor or`set_params` instead.\n",
      "\n",
      "`early_stopping_rounds` in `fit` method is deprecated for better compatibility with scikit-learn, use `early_stopping_rounds` in constructor or`set_params` instead.\n",
      "\n",
      "`early_stopping_rounds` in `fit` method is deprecated for better compatibility with scikit-learn, use `early_stopping_rounds` in constructor or`set_params` instead.\n",
      "\n",
      "`early_stopping_rounds` in `fit` method is deprecated for better compatibility with scikit-learn, use `early_stopping_rounds` in constructor or`set_params` instead.\n",
      "\n",
      "`early_stopping_rounds` in `fit` method is deprecated for better compatibility with scikit-learn, use `early_stopping_rounds` in constructor or`set_params` instead.\n",
      "\n",
      "`early_stopping_rounds` in `fit` method is deprecated for better compatibility with scikit-learn, use `early_stopping_rounds` in constructor or`set_params` instead.\n",
      "\n",
      "`early_stopping_rounds` in `fit` method is deprecated for better compatibility with scikit-learn, use `early_stopping_rounds` in constructor or`set_params` instead.\n",
      "\n",
      "`early_stopping_rounds` in `fit` method is deprecated for better compatibility with scikit-learn, use `early_stopping_rounds` in constructor or`set_params` instead.\n",
      "\n",
      "`early_stopping_rounds` in `fit` method is deprecated for better compatibility with scikit-learn, use `early_stopping_rounds` in constructor or`set_params` instead.\n",
      "\n",
      "`early_stopping_rounds` in `fit` method is deprecated for better compatibility with scikit-learn, use `early_stopping_rounds` in constructor or`set_params` instead.\n",
      "\n",
      "`early_stopping_rounds` in `fit` method is deprecated for better compatibility with scikit-learn, use `early_stopping_rounds` in constructor or`set_params` instead.\n",
      "\n"
     ]
    },
    {
     "name": "stdout",
     "output_type": "stream",
     "text": [
      "MSE:                                                                               \n",
      "0.00437835196653696                                                                \n",
      "MSE:                                                                               \n",
      "0.00437835196653696                                                                \n",
      "MSE:                                                                               \n",
      "0.00437835196653696                                                                \n",
      "MSE:                                                                               \n",
      "0.00437835196653696                                                                \n",
      "MSE:                                                                               \n",
      "0.00437835196653696                                                                \n",
      "MSE:                                                                               \n",
      "0.00437835196653696                                                                \n",
      "MSE:                                                                               \n",
      "0.00437835196653696                                                                \n",
      "MSE:                                                                               \n",
      "0.00437835196653696                                                                \n",
      "MSE:                                                                               \n",
      "0.00437835196653696                                                                \n",
      "MSE:                                                                               \n",
      "0.00437835196653696                                                                \n",
      " 13%|█▎        | 63/500 [00:01<00:07, 58.01trial/s, best loss: 0.00437835196653696]"
     ]
    },
    {
     "name": "stderr",
     "output_type": "stream",
     "text": [
      "`early_stopping_rounds` in `fit` method is deprecated for better compatibility with scikit-learn, use `early_stopping_rounds` in constructor or`set_params` instead.\n",
      "\n",
      "`early_stopping_rounds` in `fit` method is deprecated for better compatibility with scikit-learn, use `early_stopping_rounds` in constructor or`set_params` instead.\n",
      "\n",
      "`early_stopping_rounds` in `fit` method is deprecated for better compatibility with scikit-learn, use `early_stopping_rounds` in constructor or`set_params` instead.\n",
      "\n",
      "`early_stopping_rounds` in `fit` method is deprecated for better compatibility with scikit-learn, use `early_stopping_rounds` in constructor or`set_params` instead.\n",
      "\n",
      "`early_stopping_rounds` in `fit` method is deprecated for better compatibility with scikit-learn, use `early_stopping_rounds` in constructor or`set_params` instead.\n",
      "\n",
      "`early_stopping_rounds` in `fit` method is deprecated for better compatibility with scikit-learn, use `early_stopping_rounds` in constructor or`set_params` instead.\n",
      "\n",
      "`early_stopping_rounds` in `fit` method is deprecated for better compatibility with scikit-learn, use `early_stopping_rounds` in constructor or`set_params` instead.\n",
      "\n",
      "`early_stopping_rounds` in `fit` method is deprecated for better compatibility with scikit-learn, use `early_stopping_rounds` in constructor or`set_params` instead.\n",
      "\n",
      "`early_stopping_rounds` in `fit` method is deprecated for better compatibility with scikit-learn, use `early_stopping_rounds` in constructor or`set_params` instead.\n",
      "\n",
      "`early_stopping_rounds` in `fit` method is deprecated for better compatibility with scikit-learn, use `early_stopping_rounds` in constructor or`set_params` instead.\n",
      "\n",
      "`early_stopping_rounds` in `fit` method is deprecated for better compatibility with scikit-learn, use `early_stopping_rounds` in constructor or`set_params` instead.\n",
      "\n"
     ]
    },
    {
     "name": "stdout",
     "output_type": "stream",
     "text": [
      "MSE:                                                                               \n",
      "0.00437835196653696                                                                \n",
      "MSE:                                                                               \n",
      "0.00437835196653696                                                                \n",
      "MSE:                                                                               \n",
      "0.00437835196653696                                                                \n",
      "MSE:                                                                               \n",
      "0.00437835196653696                                                                \n",
      "MSE:                                                                               \n",
      "0.00437835196653696                                                                \n",
      "MSE:                                                                               \n",
      "0.00437835196653696                                                                \n",
      "MSE:                                                                               \n",
      "0.00437835196653696                                                                \n",
      "MSE:                                                                               \n",
      "0.00437835196653696                                                                \n",
      "MSE:                                                                               \n",
      "0.00437835196653696                                                                \n",
      "MSE:                                                                               \n",
      "0.00437835196653696                                                                \n",
      "MSE:                                                                               \n",
      "0.00437835196653696                                                                \n",
      " 15%|█▍        | 74/500 [00:01<00:08, 49.59trial/s, best loss: 0.00437835196653696]"
     ]
    },
    {
     "name": "stderr",
     "output_type": "stream",
     "text": [
      "`early_stopping_rounds` in `fit` method is deprecated for better compatibility with scikit-learn, use `early_stopping_rounds` in constructor or`set_params` instead.\n",
      "\n",
      "`early_stopping_rounds` in `fit` method is deprecated for better compatibility with scikit-learn, use `early_stopping_rounds` in constructor or`set_params` instead.\n",
      "\n",
      "`early_stopping_rounds` in `fit` method is deprecated for better compatibility with scikit-learn, use `early_stopping_rounds` in constructor or`set_params` instead.\n",
      "\n",
      "`early_stopping_rounds` in `fit` method is deprecated for better compatibility with scikit-learn, use `early_stopping_rounds` in constructor or`set_params` instead.\n",
      "\n",
      "`early_stopping_rounds` in `fit` method is deprecated for better compatibility with scikit-learn, use `early_stopping_rounds` in constructor or`set_params` instead.\n",
      "\n",
      "`early_stopping_rounds` in `fit` method is deprecated for better compatibility with scikit-learn, use `early_stopping_rounds` in constructor or`set_params` instead.\n",
      "\n",
      "`early_stopping_rounds` in `fit` method is deprecated for better compatibility with scikit-learn, use `early_stopping_rounds` in constructor or`set_params` instead.\n",
      "\n",
      "`early_stopping_rounds` in `fit` method is deprecated for better compatibility with scikit-learn, use `early_stopping_rounds` in constructor or`set_params` instead.\n",
      "\n",
      "`early_stopping_rounds` in `fit` method is deprecated for better compatibility with scikit-learn, use `early_stopping_rounds` in constructor or`set_params` instead.\n",
      "\n",
      "`early_stopping_rounds` in `fit` method is deprecated for better compatibility with scikit-learn, use `early_stopping_rounds` in constructor or`set_params` instead.\n",
      "\n"
     ]
    },
    {
     "name": "stdout",
     "output_type": "stream",
     "text": [
      "MSE:                                                                               \n",
      "0.00437835196653696                                                                \n",
      "MSE:                                                                               \n",
      "0.00437835196653696                                                                \n",
      "MSE:                                                                               \n",
      "0.00437835196653696                                                                \n",
      "MSE:                                                                               \n",
      "0.00437835196653696                                                                \n",
      "MSE:                                                                               \n",
      "0.00437835196653696                                                                \n",
      "MSE:                                                                               \n",
      "0.00437835196653696                                                                \n",
      "MSE:                                                                               \n",
      "0.00437835196653696                                                                \n",
      "MSE:                                                                               \n",
      "0.00437835196653696                                                                \n",
      "MSE:                                                                               \n",
      "0.00437835196653696                                                                \n",
      "MSE:                                                                               \n",
      "0.00437835196653696                                                                \n",
      " 17%|█▋        | 84/500 [00:01<00:08, 48.33trial/s, best loss: 0.00437835196653696]"
     ]
    },
    {
     "name": "stderr",
     "output_type": "stream",
     "text": [
      "`early_stopping_rounds` in `fit` method is deprecated for better compatibility with scikit-learn, use `early_stopping_rounds` in constructor or`set_params` instead.\n",
      "\n",
      "`early_stopping_rounds` in `fit` method is deprecated for better compatibility with scikit-learn, use `early_stopping_rounds` in constructor or`set_params` instead.\n",
      "\n",
      "`early_stopping_rounds` in `fit` method is deprecated for better compatibility with scikit-learn, use `early_stopping_rounds` in constructor or`set_params` instead.\n",
      "\n",
      "`early_stopping_rounds` in `fit` method is deprecated for better compatibility with scikit-learn, use `early_stopping_rounds` in constructor or`set_params` instead.\n",
      "\n",
      "`early_stopping_rounds` in `fit` method is deprecated for better compatibility with scikit-learn, use `early_stopping_rounds` in constructor or`set_params` instead.\n",
      "\n",
      "`early_stopping_rounds` in `fit` method is deprecated for better compatibility with scikit-learn, use `early_stopping_rounds` in constructor or`set_params` instead.\n",
      "\n",
      "`early_stopping_rounds` in `fit` method is deprecated for better compatibility with scikit-learn, use `early_stopping_rounds` in constructor or`set_params` instead.\n",
      "\n",
      "`early_stopping_rounds` in `fit` method is deprecated for better compatibility with scikit-learn, use `early_stopping_rounds` in constructor or`set_params` instead.\n",
      "\n",
      "`early_stopping_rounds` in `fit` method is deprecated for better compatibility with scikit-learn, use `early_stopping_rounds` in constructor or`set_params` instead.\n",
      "\n",
      "`early_stopping_rounds` in `fit` method is deprecated for better compatibility with scikit-learn, use `early_stopping_rounds` in constructor or`set_params` instead.\n",
      "\n"
     ]
    },
    {
     "name": "stdout",
     "output_type": "stream",
     "text": [
      "MSE:                                                                               \n",
      "0.00437835196653696                                                                \n",
      "MSE:                                                                               \n",
      "0.00437835196653696                                                                \n",
      "MSE:                                                                               \n",
      "0.00437835196653696                                                                \n",
      "MSE:                                                                               \n",
      "0.00437835196653696                                                                \n",
      "MSE:                                                                               \n",
      "0.00437835196653696                                                                \n",
      "MSE:                                                                               \n",
      "0.00437835196653696                                                                \n",
      "MSE:                                                                               \n",
      "0.00437835196653696                                                                \n",
      "MSE:                                                                               \n",
      "0.00437835196653696                                                                \n",
      "MSE:                                                                               \n",
      "0.00437835196653696                                                                \n",
      "MSE:                                                                               \n",
      "0.00437835196653696                                                                \n",
      " 19%|█▉        | 95/500 [00:01<00:08, 49.10trial/s, best loss: 0.00437835196653696]"
     ]
    },
    {
     "name": "stderr",
     "output_type": "stream",
     "text": [
      "`early_stopping_rounds` in `fit` method is deprecated for better compatibility with scikit-learn, use `early_stopping_rounds` in constructor or`set_params` instead.\n",
      "\n",
      "`early_stopping_rounds` in `fit` method is deprecated for better compatibility with scikit-learn, use `early_stopping_rounds` in constructor or`set_params` instead.\n",
      "\n",
      "`early_stopping_rounds` in `fit` method is deprecated for better compatibility with scikit-learn, use `early_stopping_rounds` in constructor or`set_params` instead.\n",
      "\n",
      "`early_stopping_rounds` in `fit` method is deprecated for better compatibility with scikit-learn, use `early_stopping_rounds` in constructor or`set_params` instead.\n",
      "\n",
      "`early_stopping_rounds` in `fit` method is deprecated for better compatibility with scikit-learn, use `early_stopping_rounds` in constructor or`set_params` instead.\n",
      "\n",
      "`early_stopping_rounds` in `fit` method is deprecated for better compatibility with scikit-learn, use `early_stopping_rounds` in constructor or`set_params` instead.\n",
      "\n",
      "`early_stopping_rounds` in `fit` method is deprecated for better compatibility with scikit-learn, use `early_stopping_rounds` in constructor or`set_params` instead.\n",
      "\n",
      "`early_stopping_rounds` in `fit` method is deprecated for better compatibility with scikit-learn, use `early_stopping_rounds` in constructor or`set_params` instead.\n",
      "\n",
      "`early_stopping_rounds` in `fit` method is deprecated for better compatibility with scikit-learn, use `early_stopping_rounds` in constructor or`set_params` instead.\n",
      "\n",
      "`early_stopping_rounds` in `fit` method is deprecated for better compatibility with scikit-learn, use `early_stopping_rounds` in constructor or`set_params` instead.\n",
      "\n"
     ]
    },
    {
     "name": "stdout",
     "output_type": "stream",
     "text": [
      "MSE:                                                                               \n",
      "0.00437835196653696                                                                \n",
      "MSE:                                                                               \n",
      "0.00437835196653696                                                                \n",
      "MSE:                                                                               \n",
      "0.00437835196653696                                                                \n",
      "MSE:                                                                               \n",
      "0.00437835196653696                                                                \n",
      "MSE:                                                                               \n",
      "0.00437835196653696                                                                \n",
      "MSE:                                                                                \n",
      "0.00437835196653696                                                                 \n",
      "MSE:                                                                                \n",
      "0.00437835196653696                                                                 \n",
      "MSE:                                                                                \n",
      "0.00437835196653696                                                                 \n",
      "MSE:                                                                                \n",
      " 21%|██        | 103/500 [00:01<00:09, 43.86trial/s, best loss: 0.00437835196653696]"
     ]
    },
    {
     "name": "stderr",
     "output_type": "stream",
     "text": [
      "`early_stopping_rounds` in `fit` method is deprecated for better compatibility with scikit-learn, use `early_stopping_rounds` in constructor or`set_params` instead.\n",
      "\n",
      "`early_stopping_rounds` in `fit` method is deprecated for better compatibility with scikit-learn, use `early_stopping_rounds` in constructor or`set_params` instead.\n",
      "\n",
      "`early_stopping_rounds` in `fit` method is deprecated for better compatibility with scikit-learn, use `early_stopping_rounds` in constructor or`set_params` instead.\n",
      "\n",
      "`early_stopping_rounds` in `fit` method is deprecated for better compatibility with scikit-learn, use `early_stopping_rounds` in constructor or`set_params` instead.\n",
      "\n",
      "`early_stopping_rounds` in `fit` method is deprecated for better compatibility with scikit-learn, use `early_stopping_rounds` in constructor or`set_params` instead.\n",
      "\n",
      "`early_stopping_rounds` in `fit` method is deprecated for better compatibility with scikit-learn, use `early_stopping_rounds` in constructor or`set_params` instead.\n",
      "\n",
      "`early_stopping_rounds` in `fit` method is deprecated for better compatibility with scikit-learn, use `early_stopping_rounds` in constructor or`set_params` instead.\n",
      "\n",
      "`early_stopping_rounds` in `fit` method is deprecated for better compatibility with scikit-learn, use `early_stopping_rounds` in constructor or`set_params` instead.\n",
      "\n",
      "`early_stopping_rounds` in `fit` method is deprecated for better compatibility with scikit-learn, use `early_stopping_rounds` in constructor or`set_params` instead.\n",
      "\n"
     ]
    },
    {
     "name": "stdout",
     "output_type": "stream",
     "text": [
      "0.00437835196653696                                                                 \n",
      "MSE:                                                                                \n",
      "0.00437835196653696                                                                 \n",
      "MSE:                                                                                \n",
      "0.00437835196653696                                                                 \n",
      "MSE:                                                                                \n",
      "0.00437835196653696                                                                 \n",
      "MSE:                                                                                \n",
      "0.00437835196653696                                                                 \n",
      "MSE:                                                                                \n",
      "0.00437835196653696                                                                 \n",
      "MSE:                                                                                \n",
      "0.00437835196653696                                                                 \n",
      "MSE:                                                                                \n",
      "0.00437835196653696                                                                 \n",
      "MSE:                                                                                \n",
      "0.00437835196653696                                                                 \n",
      "MSE:                                                                                \n",
      "0.00437835196653696                                                                 \n",
      " 22%|██▏       | 112/500 [00:02<00:08, 46.75trial/s, best loss: 0.00437835196653696]"
     ]
    },
    {
     "name": "stderr",
     "output_type": "stream",
     "text": [
      "`early_stopping_rounds` in `fit` method is deprecated for better compatibility with scikit-learn, use `early_stopping_rounds` in constructor or`set_params` instead.\n",
      "\n",
      "`early_stopping_rounds` in `fit` method is deprecated for better compatibility with scikit-learn, use `early_stopping_rounds` in constructor or`set_params` instead.\n",
      "\n",
      "`early_stopping_rounds` in `fit` method is deprecated for better compatibility with scikit-learn, use `early_stopping_rounds` in constructor or`set_params` instead.\n",
      "\n",
      "`early_stopping_rounds` in `fit` method is deprecated for better compatibility with scikit-learn, use `early_stopping_rounds` in constructor or`set_params` instead.\n",
      "\n",
      "`early_stopping_rounds` in `fit` method is deprecated for better compatibility with scikit-learn, use `early_stopping_rounds` in constructor or`set_params` instead.\n",
      "\n",
      "`early_stopping_rounds` in `fit` method is deprecated for better compatibility with scikit-learn, use `early_stopping_rounds` in constructor or`set_params` instead.\n",
      "\n",
      "`early_stopping_rounds` in `fit` method is deprecated for better compatibility with scikit-learn, use `early_stopping_rounds` in constructor or`set_params` instead.\n",
      "\n",
      "`early_stopping_rounds` in `fit` method is deprecated for better compatibility with scikit-learn, use `early_stopping_rounds` in constructor or`set_params` instead.\n",
      "\n",
      "`early_stopping_rounds` in `fit` method is deprecated for better compatibility with scikit-learn, use `early_stopping_rounds` in constructor or`set_params` instead.\n",
      "\n"
     ]
    },
    {
     "name": "stdout",
     "output_type": "stream",
     "text": [
      "MSE:                                                                                \n",
      "0.00437835196653696                                                                 \n",
      "MSE:                                                                                \n",
      "0.00437835196653696                                                                 \n",
      "MSE:                                                                                \n",
      "0.00437835196653696                                                                 \n",
      "MSE:                                                                                \n",
      "0.00437835196653696                                                                 \n",
      "MSE:                                                                                \n",
      "0.00437835196653696                                                                 \n",
      "MSE:                                                                                \n",
      "0.00437835196653696                                                                 \n",
      "MSE:                                                                                \n",
      "0.00437835196653696                                                                 \n",
      "MSE:                                                                                \n",
      "0.00437835196653696                                                                 \n",
      "MSE:                                                                                \n",
      "0.00437835196653696                                                                 \n",
      "MSE:                                                                                \n",
      "0.00437835196653696                                                                 \n",
      " 24%|██▍       | 122/500 [00:02<00:08, 45.53trial/s, best loss: 0.00437835196653696]"
     ]
    },
    {
     "name": "stderr",
     "output_type": "stream",
     "text": [
      "`early_stopping_rounds` in `fit` method is deprecated for better compatibility with scikit-learn, use `early_stopping_rounds` in constructor or`set_params` instead.\n",
      "\n",
      "`early_stopping_rounds` in `fit` method is deprecated for better compatibility with scikit-learn, use `early_stopping_rounds` in constructor or`set_params` instead.\n",
      "\n",
      "`early_stopping_rounds` in `fit` method is deprecated for better compatibility with scikit-learn, use `early_stopping_rounds` in constructor or`set_params` instead.\n",
      "\n",
      "`early_stopping_rounds` in `fit` method is deprecated for better compatibility with scikit-learn, use `early_stopping_rounds` in constructor or`set_params` instead.\n",
      "\n",
      "`early_stopping_rounds` in `fit` method is deprecated for better compatibility with scikit-learn, use `early_stopping_rounds` in constructor or`set_params` instead.\n",
      "\n",
      "`early_stopping_rounds` in `fit` method is deprecated for better compatibility with scikit-learn, use `early_stopping_rounds` in constructor or`set_params` instead.\n",
      "\n",
      "`early_stopping_rounds` in `fit` method is deprecated for better compatibility with scikit-learn, use `early_stopping_rounds` in constructor or`set_params` instead.\n",
      "\n",
      "`early_stopping_rounds` in `fit` method is deprecated for better compatibility with scikit-learn, use `early_stopping_rounds` in constructor or`set_params` instead.\n",
      "\n",
      "`early_stopping_rounds` in `fit` method is deprecated for better compatibility with scikit-learn, use `early_stopping_rounds` in constructor or`set_params` instead.\n",
      "\n",
      "`early_stopping_rounds` in `fit` method is deprecated for better compatibility with scikit-learn, use `early_stopping_rounds` in constructor or`set_params` instead.\n",
      "\n"
     ]
    },
    {
     "name": "stdout",
     "output_type": "stream",
     "text": [
      "MSE:                                                                                \n",
      "0.00437835196653696                                                                 \n",
      "MSE:                                                                                \n",
      "0.00437835196653696                                                                 \n",
      "MSE:                                                                                \n",
      "0.00437835196653696                                                                 \n",
      "MSE:                                                                                \n",
      "0.00437835196653696                                                                 \n",
      "MSE:                                                                                \n",
      "0.00437835196653696                                                                 \n",
      "MSE:                                                                                \n",
      " 26%|██▌       | 128/500 [00:02<00:09, 39.63trial/s, best loss: 0.00437835196653696]"
     ]
    },
    {
     "name": "stderr",
     "output_type": "stream",
     "text": [
      "`early_stopping_rounds` in `fit` method is deprecated for better compatibility with scikit-learn, use `early_stopping_rounds` in constructor or`set_params` instead.\n",
      "\n",
      "`early_stopping_rounds` in `fit` method is deprecated for better compatibility with scikit-learn, use `early_stopping_rounds` in constructor or`set_params` instead.\n",
      "\n",
      "`early_stopping_rounds` in `fit` method is deprecated for better compatibility with scikit-learn, use `early_stopping_rounds` in constructor or`set_params` instead.\n",
      "\n",
      "`early_stopping_rounds` in `fit` method is deprecated for better compatibility with scikit-learn, use `early_stopping_rounds` in constructor or`set_params` instead.\n",
      "\n",
      "`early_stopping_rounds` in `fit` method is deprecated for better compatibility with scikit-learn, use `early_stopping_rounds` in constructor or`set_params` instead.\n",
      "\n",
      "`early_stopping_rounds` in `fit` method is deprecated for better compatibility with scikit-learn, use `early_stopping_rounds` in constructor or`set_params` instead.\n",
      "\n"
     ]
    },
    {
     "name": "stdout",
     "output_type": "stream",
     "text": [
      "0.00437835196653696                                                                 \n",
      "MSE:                                                                                \n",
      "0.00437835196653696                                                                 \n",
      "MSE:                                                                                \n",
      "0.00437835196653696                                                                 \n",
      "MSE:                                                                                \n",
      "0.00437835196653696                                                                 \n",
      "MSE:                                                                                \n",
      "0.00437835196653696                                                                 \n",
      "MSE:                                                                                \n",
      "0.00437835196653696                                                                 \n",
      "MSE:                                                                                \n",
      "0.00437835196653696                                                                 \n",
      "MSE:                                                                                \n",
      "0.00437835196653696                                                                 \n",
      "MSE:                                                                                \n",
      "0.00437835196653696                                                                 \n",
      "MSE:                                                                                \n",
      "0.00437835196653696                                                                 \n",
      "MSE:                                                                                \n",
      "0.00437835196653696                                                                 \n",
      " 28%|██▊       | 138/500 [00:02<00:08, 40.92trial/s, best loss: 0.00437835196653696]"
     ]
    },
    {
     "name": "stderr",
     "output_type": "stream",
     "text": [
      "`early_stopping_rounds` in `fit` method is deprecated for better compatibility with scikit-learn, use `early_stopping_rounds` in constructor or`set_params` instead.\n",
      "\n",
      "`early_stopping_rounds` in `fit` method is deprecated for better compatibility with scikit-learn, use `early_stopping_rounds` in constructor or`set_params` instead.\n",
      "\n",
      "`early_stopping_rounds` in `fit` method is deprecated for better compatibility with scikit-learn, use `early_stopping_rounds` in constructor or`set_params` instead.\n",
      "\n",
      "`early_stopping_rounds` in `fit` method is deprecated for better compatibility with scikit-learn, use `early_stopping_rounds` in constructor or`set_params` instead.\n",
      "\n",
      "`early_stopping_rounds` in `fit` method is deprecated for better compatibility with scikit-learn, use `early_stopping_rounds` in constructor or`set_params` instead.\n",
      "\n",
      "`early_stopping_rounds` in `fit` method is deprecated for better compatibility with scikit-learn, use `early_stopping_rounds` in constructor or`set_params` instead.\n",
      "\n",
      "`early_stopping_rounds` in `fit` method is deprecated for better compatibility with scikit-learn, use `early_stopping_rounds` in constructor or`set_params` instead.\n",
      "\n",
      "`early_stopping_rounds` in `fit` method is deprecated for better compatibility with scikit-learn, use `early_stopping_rounds` in constructor or`set_params` instead.\n",
      "\n",
      "`early_stopping_rounds` in `fit` method is deprecated for better compatibility with scikit-learn, use `early_stopping_rounds` in constructor or`set_params` instead.\n",
      "\n",
      "`early_stopping_rounds` in `fit` method is deprecated for better compatibility with scikit-learn, use `early_stopping_rounds` in constructor or`set_params` instead.\n",
      "\n"
     ]
    },
    {
     "name": "stdout",
     "output_type": "stream",
     "text": [
      "MSE:                                                                                \n",
      "0.00437835196653696                                                                 \n",
      "MSE:                                                                                \n",
      "0.00437835196653696                                                                 \n",
      "MSE:                                                                                \n",
      "0.00437835196653696                                                                 \n",
      "MSE:                                                                                \n",
      "0.00437835196653696                                                                 \n",
      "MSE:                                                                                \n",
      "0.00437835196653696                                                                 \n",
      "MSE:                                                                                \n",
      "0.00437835196653696                                                                 \n",
      "MSE:                                                                                \n",
      "0.00437835196653696                                                                 \n",
      "MSE:                                                                                \n",
      "0.00437835196653696                                                                 \n",
      " 29%|██▉       | 146/500 [00:02<00:08, 40.70trial/s, best loss: 0.00437835196653696]"
     ]
    },
    {
     "name": "stderr",
     "output_type": "stream",
     "text": [
      "`early_stopping_rounds` in `fit` method is deprecated for better compatibility with scikit-learn, use `early_stopping_rounds` in constructor or`set_params` instead.\n",
      "\n",
      "`early_stopping_rounds` in `fit` method is deprecated for better compatibility with scikit-learn, use `early_stopping_rounds` in constructor or`set_params` instead.\n",
      "\n",
      "`early_stopping_rounds` in `fit` method is deprecated for better compatibility with scikit-learn, use `early_stopping_rounds` in constructor or`set_params` instead.\n",
      "\n",
      "`early_stopping_rounds` in `fit` method is deprecated for better compatibility with scikit-learn, use `early_stopping_rounds` in constructor or`set_params` instead.\n",
      "\n",
      "`early_stopping_rounds` in `fit` method is deprecated for better compatibility with scikit-learn, use `early_stopping_rounds` in constructor or`set_params` instead.\n",
      "\n",
      "`early_stopping_rounds` in `fit` method is deprecated for better compatibility with scikit-learn, use `early_stopping_rounds` in constructor or`set_params` instead.\n",
      "\n",
      "`early_stopping_rounds` in `fit` method is deprecated for better compatibility with scikit-learn, use `early_stopping_rounds` in constructor or`set_params` instead.\n",
      "\n",
      "`early_stopping_rounds` in `fit` method is deprecated for better compatibility with scikit-learn, use `early_stopping_rounds` in constructor or`set_params` instead.\n",
      "\n",
      "`early_stopping_rounds` in `fit` method is deprecated for better compatibility with scikit-learn, use `early_stopping_rounds` in constructor or`set_params` instead.\n",
      "\n"
     ]
    },
    {
     "name": "stdout",
     "output_type": "stream",
     "text": [
      "MSE:                                                                                \n",
      "0.00437835196653696                                                                 \n",
      "MSE:                                                                                \n",
      "0.00437835196653696                                                                 \n",
      "MSE:                                                                                \n",
      "0.00437835196653696                                                                 \n",
      "MSE:                                                                                \n",
      "0.00437835196653696                                                                 \n",
      "MSE:                                                                                \n",
      "0.00437835196653696                                                                 \n",
      "MSE:                                                                                \n",
      "0.00437835196653696                                                                 \n",
      "MSE:                                                                                \n",
      "0.00437835196653696                                                                 \n",
      "MSE:                                                                                \n",
      "0.00437835196653696                                                                 \n",
      "MSE:                                                                                \n",
      "0.00437835196653696                                                                 \n",
      "MSE:                                                                                \n",
      "0.00437835196653696                                                                 \n",
      " 31%|███       | 156/500 [00:03<00:08, 42.75trial/s, best loss: 0.00437835196653696]"
     ]
    },
    {
     "name": "stderr",
     "output_type": "stream",
     "text": [
      "`early_stopping_rounds` in `fit` method is deprecated for better compatibility with scikit-learn, use `early_stopping_rounds` in constructor or`set_params` instead.\n",
      "\n",
      "`early_stopping_rounds` in `fit` method is deprecated for better compatibility with scikit-learn, use `early_stopping_rounds` in constructor or`set_params` instead.\n",
      "\n",
      "`early_stopping_rounds` in `fit` method is deprecated for better compatibility with scikit-learn, use `early_stopping_rounds` in constructor or`set_params` instead.\n",
      "\n",
      "`early_stopping_rounds` in `fit` method is deprecated for better compatibility with scikit-learn, use `early_stopping_rounds` in constructor or`set_params` instead.\n",
      "\n",
      "`early_stopping_rounds` in `fit` method is deprecated for better compatibility with scikit-learn, use `early_stopping_rounds` in constructor or`set_params` instead.\n",
      "\n",
      "`early_stopping_rounds` in `fit` method is deprecated for better compatibility with scikit-learn, use `early_stopping_rounds` in constructor or`set_params` instead.\n",
      "\n",
      "`early_stopping_rounds` in `fit` method is deprecated for better compatibility with scikit-learn, use `early_stopping_rounds` in constructor or`set_params` instead.\n",
      "\n",
      "`early_stopping_rounds` in `fit` method is deprecated for better compatibility with scikit-learn, use `early_stopping_rounds` in constructor or`set_params` instead.\n",
      "\n",
      "`early_stopping_rounds` in `fit` method is deprecated for better compatibility with scikit-learn, use `early_stopping_rounds` in constructor or`set_params` instead.\n",
      "\n"
     ]
    },
    {
     "name": "stdout",
     "output_type": "stream",
     "text": [
      "MSE:                                                                                \n",
      "0.00437835196653696                                                                 \n",
      "MSE:                                                                                \n",
      "0.00437835196653696                                                                 \n",
      "MSE:                                                                                \n",
      "0.00437835196653696                                                                 \n",
      "MSE:                                                                                \n",
      "0.00437835196653696                                                                 \n",
      "MSE:                                                                                \n",
      "0.00437835196653696                                                                 \n",
      "MSE:                                                                                \n",
      "0.00437835196653696                                                                 \n",
      "MSE:                                                                                \n",
      "0.00437835196653696                                                                 \n",
      "MSE:                                                                                \n",
      "0.00437835196653696                                                                 \n",
      "MSE:                                                                                \n",
      "0.00437835196653696                                                                 \n",
      " 33%|███▎      | 166/500 [00:03<00:07, 41.76trial/s, best loss: 0.00437835196653696]"
     ]
    },
    {
     "name": "stderr",
     "output_type": "stream",
     "text": [
      "`early_stopping_rounds` in `fit` method is deprecated for better compatibility with scikit-learn, use `early_stopping_rounds` in constructor or`set_params` instead.\n",
      "\n",
      "`early_stopping_rounds` in `fit` method is deprecated for better compatibility with scikit-learn, use `early_stopping_rounds` in constructor or`set_params` instead.\n",
      "\n",
      "`early_stopping_rounds` in `fit` method is deprecated for better compatibility with scikit-learn, use `early_stopping_rounds` in constructor or`set_params` instead.\n",
      "\n",
      "`early_stopping_rounds` in `fit` method is deprecated for better compatibility with scikit-learn, use `early_stopping_rounds` in constructor or`set_params` instead.\n",
      "\n",
      "`early_stopping_rounds` in `fit` method is deprecated for better compatibility with scikit-learn, use `early_stopping_rounds` in constructor or`set_params` instead.\n",
      "\n",
      "`early_stopping_rounds` in `fit` method is deprecated for better compatibility with scikit-learn, use `early_stopping_rounds` in constructor or`set_params` instead.\n",
      "\n",
      "`early_stopping_rounds` in `fit` method is deprecated for better compatibility with scikit-learn, use `early_stopping_rounds` in constructor or`set_params` instead.\n",
      "\n",
      "`early_stopping_rounds` in `fit` method is deprecated for better compatibility with scikit-learn, use `early_stopping_rounds` in constructor or`set_params` instead.\n",
      "\n",
      "`early_stopping_rounds` in `fit` method is deprecated for better compatibility with scikit-learn, use `early_stopping_rounds` in constructor or`set_params` instead.\n",
      "\n"
     ]
    },
    {
     "name": "stdout",
     "output_type": "stream",
     "text": [
      "MSE:                                                                                \n",
      "0.00437835196653696                                                                 \n",
      "MSE:                                                                                \n",
      "0.00437835196653696                                                                 \n",
      "MSE:                                                                                \n",
      "0.00437835196653696                                                                 \n",
      "MSE:                                                                                \n",
      "0.00437835196653696                                                                 \n",
      "MSE:                                                                                \n",
      "0.00437835196653696                                                                 \n",
      "MSE:                                                                                \n",
      "0.00437835196653696                                                                 \n",
      "MSE:                                                                                \n",
      "0.00437835196653696                                                                 \n",
      " 34%|███▍      | 172/500 [00:03<00:07, 42.14trial/s, best loss: 0.00437835196653696]"
     ]
    },
    {
     "name": "stderr",
     "output_type": "stream",
     "text": [
      "`early_stopping_rounds` in `fit` method is deprecated for better compatibility with scikit-learn, use `early_stopping_rounds` in constructor or`set_params` instead.\n",
      "\n",
      "`early_stopping_rounds` in `fit` method is deprecated for better compatibility with scikit-learn, use `early_stopping_rounds` in constructor or`set_params` instead.\n",
      "\n",
      "`early_stopping_rounds` in `fit` method is deprecated for better compatibility with scikit-learn, use `early_stopping_rounds` in constructor or`set_params` instead.\n",
      "\n",
      "`early_stopping_rounds` in `fit` method is deprecated for better compatibility with scikit-learn, use `early_stopping_rounds` in constructor or`set_params` instead.\n",
      "\n",
      "`early_stopping_rounds` in `fit` method is deprecated for better compatibility with scikit-learn, use `early_stopping_rounds` in constructor or`set_params` instead.\n",
      "\n",
      "`early_stopping_rounds` in `fit` method is deprecated for better compatibility with scikit-learn, use `early_stopping_rounds` in constructor or`set_params` instead.\n",
      "\n",
      "`early_stopping_rounds` in `fit` method is deprecated for better compatibility with scikit-learn, use `early_stopping_rounds` in constructor or`set_params` instead.\n",
      "\n",
      "`early_stopping_rounds` in `fit` method is deprecated for better compatibility with scikit-learn, use `early_stopping_rounds` in constructor or`set_params` instead.\n",
      "\n"
     ]
    },
    {
     "name": "stdout",
     "output_type": "stream",
     "text": [
      "MSE:                                                                                \n",
      "0.00437835196653696                                                                 \n",
      "MSE:                                                                                \n",
      "0.00437835196653696                                                                 \n",
      "MSE:                                                                                \n",
      "0.00437835196653696                                                                 \n",
      "MSE:                                                                                \n",
      "0.00437835196653696                                                                 \n",
      "MSE:                                                                                \n",
      "0.00437835196653696                                                                 \n",
      "MSE:                                                                                \n",
      "0.00437835196653696                                                                 \n",
      "MSE:                                                                                \n",
      "0.00437835196653696                                                                 \n",
      "MSE:                                                                                \n",
      "0.00437835196653696                                                                 \n",
      "MSE:                                                                                \n",
      "0.00437835196653696                                                                 \n",
      "MSE:                                                                                \n",
      "0.00437835196653696                                                                 \n",
      " 36%|███▋      | 182/500 [00:03<00:08, 39.50trial/s, best loss: 0.00437835196653696]"
     ]
    },
    {
     "name": "stderr",
     "output_type": "stream",
     "text": [
      "`early_stopping_rounds` in `fit` method is deprecated for better compatibility with scikit-learn, use `early_stopping_rounds` in constructor or`set_params` instead.\n",
      "\n",
      "`early_stopping_rounds` in `fit` method is deprecated for better compatibility with scikit-learn, use `early_stopping_rounds` in constructor or`set_params` instead.\n",
      "\n",
      "`early_stopping_rounds` in `fit` method is deprecated for better compatibility with scikit-learn, use `early_stopping_rounds` in constructor or`set_params` instead.\n",
      "\n",
      "`early_stopping_rounds` in `fit` method is deprecated for better compatibility with scikit-learn, use `early_stopping_rounds` in constructor or`set_params` instead.\n",
      "\n",
      "`early_stopping_rounds` in `fit` method is deprecated for better compatibility with scikit-learn, use `early_stopping_rounds` in constructor or`set_params` instead.\n",
      "\n",
      "`early_stopping_rounds` in `fit` method is deprecated for better compatibility with scikit-learn, use `early_stopping_rounds` in constructor or`set_params` instead.\n",
      "\n",
      "`early_stopping_rounds` in `fit` method is deprecated for better compatibility with scikit-learn, use `early_stopping_rounds` in constructor or`set_params` instead.\n",
      "\n",
      "`early_stopping_rounds` in `fit` method is deprecated for better compatibility with scikit-learn, use `early_stopping_rounds` in constructor or`set_params` instead.\n",
      "\n",
      "`early_stopping_rounds` in `fit` method is deprecated for better compatibility with scikit-learn, use `early_stopping_rounds` in constructor or`set_params` instead.\n",
      "\n"
     ]
    },
    {
     "name": "stdout",
     "output_type": "stream",
     "text": [
      "MSE:                                                                                \n",
      "0.00437835196653696                                                                 \n",
      "MSE:                                                                                \n",
      "0.00437835196653696                                                                 \n",
      "MSE:                                                                                \n",
      "0.00437835196653696                                                                 \n",
      "MSE:                                                                                \n",
      "0.00437835196653696                                                                 \n",
      "MSE:                                                                                \n",
      "0.00437835196653696                                                                 \n",
      "MSE:                                                                                \n",
      "0.00437835196653696                                                                 \n",
      "MSE:                                                                                \n",
      "0.00437835196653696                                                                 \n",
      " 38%|███▊      | 189/500 [00:04<00:07, 40.07trial/s, best loss: 0.00437835196653696]"
     ]
    },
    {
     "name": "stderr",
     "output_type": "stream",
     "text": [
      "`early_stopping_rounds` in `fit` method is deprecated for better compatibility with scikit-learn, use `early_stopping_rounds` in constructor or`set_params` instead.\n",
      "\n",
      "`early_stopping_rounds` in `fit` method is deprecated for better compatibility with scikit-learn, use `early_stopping_rounds` in constructor or`set_params` instead.\n",
      "\n",
      "`early_stopping_rounds` in `fit` method is deprecated for better compatibility with scikit-learn, use `early_stopping_rounds` in constructor or`set_params` instead.\n",
      "\n",
      "`early_stopping_rounds` in `fit` method is deprecated for better compatibility with scikit-learn, use `early_stopping_rounds` in constructor or`set_params` instead.\n",
      "\n",
      "`early_stopping_rounds` in `fit` method is deprecated for better compatibility with scikit-learn, use `early_stopping_rounds` in constructor or`set_params` instead.\n",
      "\n",
      "`early_stopping_rounds` in `fit` method is deprecated for better compatibility with scikit-learn, use `early_stopping_rounds` in constructor or`set_params` instead.\n",
      "\n",
      "`early_stopping_rounds` in `fit` method is deprecated for better compatibility with scikit-learn, use `early_stopping_rounds` in constructor or`set_params` instead.\n",
      "\n"
     ]
    },
    {
     "name": "stdout",
     "output_type": "stream",
     "text": [
      "MSE:                                                                                \n",
      "0.00437835196653696                                                                 \n",
      "MSE:                                                                                \n",
      "0.00437835196653696                                                                 \n",
      "MSE:                                                                                \n",
      "0.00437835196653696                                                                 \n",
      "MSE:                                                                                \n",
      "0.00437835196653696                                                                 \n",
      "MSE:                                                                                \n",
      "0.00437835196653696                                                                 \n",
      "MSE:                                                                                \n",
      "0.00437835196653696                                                                 \n",
      "MSE:                                                                                \n",
      "0.00437835196653696                                                                 \n",
      "MSE:                                                                                \n",
      "0.00437835196653696                                                                 \n",
      "MSE:                                                                                \n",
      "0.00437835196653696                                                                 \n",
      " 40%|███▉      | 198/500 [00:04<00:07, 38.82trial/s, best loss: 0.00437835196653696]"
     ]
    },
    {
     "name": "stderr",
     "output_type": "stream",
     "text": [
      "`early_stopping_rounds` in `fit` method is deprecated for better compatibility with scikit-learn, use `early_stopping_rounds` in constructor or`set_params` instead.\n",
      "\n",
      "`early_stopping_rounds` in `fit` method is deprecated for better compatibility with scikit-learn, use `early_stopping_rounds` in constructor or`set_params` instead.\n",
      "\n",
      "`early_stopping_rounds` in `fit` method is deprecated for better compatibility with scikit-learn, use `early_stopping_rounds` in constructor or`set_params` instead.\n",
      "\n",
      "`early_stopping_rounds` in `fit` method is deprecated for better compatibility with scikit-learn, use `early_stopping_rounds` in constructor or`set_params` instead.\n",
      "\n",
      "`early_stopping_rounds` in `fit` method is deprecated for better compatibility with scikit-learn, use `early_stopping_rounds` in constructor or`set_params` instead.\n",
      "\n",
      "`early_stopping_rounds` in `fit` method is deprecated for better compatibility with scikit-learn, use `early_stopping_rounds` in constructor or`set_params` instead.\n",
      "\n",
      "`early_stopping_rounds` in `fit` method is deprecated for better compatibility with scikit-learn, use `early_stopping_rounds` in constructor or`set_params` instead.\n",
      "\n",
      "`early_stopping_rounds` in `fit` method is deprecated for better compatibility with scikit-learn, use `early_stopping_rounds` in constructor or`set_params` instead.\n",
      "\n",
      "`early_stopping_rounds` in `fit` method is deprecated for better compatibility with scikit-learn, use `early_stopping_rounds` in constructor or`set_params` instead.\n",
      "\n"
     ]
    },
    {
     "name": "stdout",
     "output_type": "stream",
     "text": [
      "MSE:                                                                                \n",
      "0.00437835196653696                                                                 \n",
      "MSE:                                                                                \n",
      "0.00437835196653696                                                                 \n",
      "MSE:                                                                                \n",
      "0.00437835196653696                                                                 \n",
      "MSE:                                                                                \n",
      "0.00437835196653696                                                                 \n",
      "MSE:                                                                                \n",
      "0.00437835196653696                                                                 \n",
      "MSE:                                                                                \n",
      "0.00437835196653696                                                                 \n",
      "MSE:                                                                                \n",
      "0.00437835196653696                                                                 \n",
      "MSE:                                                                                \n",
      " 41%|████      | 206/500 [00:04<00:07, 37.66trial/s, best loss: 0.00437835196653696]"
     ]
    },
    {
     "name": "stderr",
     "output_type": "stream",
     "text": [
      "`early_stopping_rounds` in `fit` method is deprecated for better compatibility with scikit-learn, use `early_stopping_rounds` in constructor or`set_params` instead.\n",
      "\n",
      "`early_stopping_rounds` in `fit` method is deprecated for better compatibility with scikit-learn, use `early_stopping_rounds` in constructor or`set_params` instead.\n",
      "\n",
      "`early_stopping_rounds` in `fit` method is deprecated for better compatibility with scikit-learn, use `early_stopping_rounds` in constructor or`set_params` instead.\n",
      "\n",
      "`early_stopping_rounds` in `fit` method is deprecated for better compatibility with scikit-learn, use `early_stopping_rounds` in constructor or`set_params` instead.\n",
      "\n",
      "`early_stopping_rounds` in `fit` method is deprecated for better compatibility with scikit-learn, use `early_stopping_rounds` in constructor or`set_params` instead.\n",
      "\n",
      "`early_stopping_rounds` in `fit` method is deprecated for better compatibility with scikit-learn, use `early_stopping_rounds` in constructor or`set_params` instead.\n",
      "\n",
      "`early_stopping_rounds` in `fit` method is deprecated for better compatibility with scikit-learn, use `early_stopping_rounds` in constructor or`set_params` instead.\n",
      "\n",
      "`early_stopping_rounds` in `fit` method is deprecated for better compatibility with scikit-learn, use `early_stopping_rounds` in constructor or`set_params` instead.\n",
      "\n"
     ]
    },
    {
     "name": "stdout",
     "output_type": "stream",
     "text": [
      "0.00437835196653696                                                                 \n",
      "MSE:                                                                                \n",
      "0.00437835196653696                                                                 \n",
      "MSE:                                                                                \n",
      "0.00437835196653696                                                                 \n",
      "MSE:                                                                                \n",
      "0.00437835196653696                                                                 \n",
      "MSE:                                                                                \n",
      "0.00437835196653696                                                                 \n",
      "MSE:                                                                                \n",
      "0.00437835196653696                                                                 \n",
      "MSE:                                                                                \n",
      "0.00437835196653696                                                                 \n",
      "MSE:                                                                                \n",
      "0.00437835196653696                                                                 \n",
      "MSE:                                                                                \n",
      "0.00437835196653696                                                                 \n",
      " 43%|████▎     | 214/500 [00:04<00:07, 38.47trial/s, best loss: 0.00437835196653696]"
     ]
    },
    {
     "name": "stderr",
     "output_type": "stream",
     "text": [
      "`early_stopping_rounds` in `fit` method is deprecated for better compatibility with scikit-learn, use `early_stopping_rounds` in constructor or`set_params` instead.\n",
      "\n",
      "`early_stopping_rounds` in `fit` method is deprecated for better compatibility with scikit-learn, use `early_stopping_rounds` in constructor or`set_params` instead.\n",
      "\n",
      "`early_stopping_rounds` in `fit` method is deprecated for better compatibility with scikit-learn, use `early_stopping_rounds` in constructor or`set_params` instead.\n",
      "\n",
      "`early_stopping_rounds` in `fit` method is deprecated for better compatibility with scikit-learn, use `early_stopping_rounds` in constructor or`set_params` instead.\n",
      "\n",
      "`early_stopping_rounds` in `fit` method is deprecated for better compatibility with scikit-learn, use `early_stopping_rounds` in constructor or`set_params` instead.\n",
      "\n",
      "`early_stopping_rounds` in `fit` method is deprecated for better compatibility with scikit-learn, use `early_stopping_rounds` in constructor or`set_params` instead.\n",
      "\n",
      "`early_stopping_rounds` in `fit` method is deprecated for better compatibility with scikit-learn, use `early_stopping_rounds` in constructor or`set_params` instead.\n",
      "\n",
      "`early_stopping_rounds` in `fit` method is deprecated for better compatibility with scikit-learn, use `early_stopping_rounds` in constructor or`set_params` instead.\n",
      "\n"
     ]
    },
    {
     "name": "stdout",
     "output_type": "stream",
     "text": [
      "MSE:                                                                                \n",
      "0.00437835196653696                                                                 \n",
      "MSE:                                                                                \n",
      "0.00437835196653696                                                                 \n",
      "MSE:                                                                                \n",
      "0.00437835196653696                                                                 \n",
      "MSE:                                                                                \n",
      "0.00437835196653696                                                                 \n",
      "MSE:                                                                                \n",
      "0.00437835196653696                                                                 \n",
      "MSE:                                                                                \n",
      "0.00437835196653696                                                                 \n",
      "MSE:                                                                                \n",
      "0.00437835196653696                                                                 \n",
      " 44%|████▍     | 221/500 [00:04<00:07, 35.74trial/s, best loss: 0.00437835196653696]"
     ]
    },
    {
     "name": "stderr",
     "output_type": "stream",
     "text": [
      "`early_stopping_rounds` in `fit` method is deprecated for better compatibility with scikit-learn, use `early_stopping_rounds` in constructor or`set_params` instead.\n",
      "\n",
      "`early_stopping_rounds` in `fit` method is deprecated for better compatibility with scikit-learn, use `early_stopping_rounds` in constructor or`set_params` instead.\n",
      "\n",
      "`early_stopping_rounds` in `fit` method is deprecated for better compatibility with scikit-learn, use `early_stopping_rounds` in constructor or`set_params` instead.\n",
      "\n",
      "`early_stopping_rounds` in `fit` method is deprecated for better compatibility with scikit-learn, use `early_stopping_rounds` in constructor or`set_params` instead.\n",
      "\n",
      "`early_stopping_rounds` in `fit` method is deprecated for better compatibility with scikit-learn, use `early_stopping_rounds` in constructor or`set_params` instead.\n",
      "\n",
      "`early_stopping_rounds` in `fit` method is deprecated for better compatibility with scikit-learn, use `early_stopping_rounds` in constructor or`set_params` instead.\n",
      "\n",
      "`early_stopping_rounds` in `fit` method is deprecated for better compatibility with scikit-learn, use `early_stopping_rounds` in constructor or`set_params` instead.\n",
      "\n"
     ]
    },
    {
     "name": "stdout",
     "output_type": "stream",
     "text": [
      "MSE:                                                                                \n",
      "0.00437835196653696                                                                 \n",
      "MSE:                                                                                \n",
      "0.00437835196653696                                                                 \n",
      "MSE:                                                                                \n",
      "0.00437835196653696                                                                 \n",
      "MSE:                                                                                \n",
      "0.00437835196653696                                                                 \n",
      "MSE:                                                                                \n",
      "0.00437835196653696                                                                 \n",
      "MSE:                                                                                \n",
      "0.00437835196653696                                                                 \n",
      "MSE:                                                                                \n",
      "0.00437835196653696                                                                 \n",
      "MSE:                                                                                \n",
      "0.00437835196653696                                                                 \n",
      " 46%|████▌     | 229/500 [00:05<00:07, 37.20trial/s, best loss: 0.00437835196653696]"
     ]
    },
    {
     "name": "stderr",
     "output_type": "stream",
     "text": [
      "`early_stopping_rounds` in `fit` method is deprecated for better compatibility with scikit-learn, use `early_stopping_rounds` in constructor or`set_params` instead.\n",
      "\n",
      "`early_stopping_rounds` in `fit` method is deprecated for better compatibility with scikit-learn, use `early_stopping_rounds` in constructor or`set_params` instead.\n",
      "\n",
      "`early_stopping_rounds` in `fit` method is deprecated for better compatibility with scikit-learn, use `early_stopping_rounds` in constructor or`set_params` instead.\n",
      "\n",
      "`early_stopping_rounds` in `fit` method is deprecated for better compatibility with scikit-learn, use `early_stopping_rounds` in constructor or`set_params` instead.\n",
      "\n",
      "`early_stopping_rounds` in `fit` method is deprecated for better compatibility with scikit-learn, use `early_stopping_rounds` in constructor or`set_params` instead.\n",
      "\n",
      "`early_stopping_rounds` in `fit` method is deprecated for better compatibility with scikit-learn, use `early_stopping_rounds` in constructor or`set_params` instead.\n",
      "\n",
      "`early_stopping_rounds` in `fit` method is deprecated for better compatibility with scikit-learn, use `early_stopping_rounds` in constructor or`set_params` instead.\n",
      "\n",
      "`early_stopping_rounds` in `fit` method is deprecated for better compatibility with scikit-learn, use `early_stopping_rounds` in constructor or`set_params` instead.\n",
      "\n"
     ]
    },
    {
     "name": "stdout",
     "output_type": "stream",
     "text": [
      "MSE:                                                                                \n",
      "0.00437835196653696                                                                 \n",
      "MSE:                                                                                \n",
      "0.00437835196653696                                                                 \n",
      "MSE:                                                                                \n",
      "0.00437835196653696                                                                 \n",
      "MSE:                                                                                \n",
      "0.00437835196653696                                                                 \n",
      "MSE:                                                                                \n",
      "0.00437835196653696                                                                 \n",
      "MSE:                                                                                \n",
      "0.00437835196653696                                                                 \n",
      " 47%|████▋     | 235/500 [00:05<00:08, 33.01trial/s, best loss: 0.00437835196653696]"
     ]
    },
    {
     "name": "stderr",
     "output_type": "stream",
     "text": [
      "`early_stopping_rounds` in `fit` method is deprecated for better compatibility with scikit-learn, use `early_stopping_rounds` in constructor or`set_params` instead.\n",
      "\n",
      "`early_stopping_rounds` in `fit` method is deprecated for better compatibility with scikit-learn, use `early_stopping_rounds` in constructor or`set_params` instead.\n",
      "\n",
      "`early_stopping_rounds` in `fit` method is deprecated for better compatibility with scikit-learn, use `early_stopping_rounds` in constructor or`set_params` instead.\n",
      "\n",
      "`early_stopping_rounds` in `fit` method is deprecated for better compatibility with scikit-learn, use `early_stopping_rounds` in constructor or`set_params` instead.\n",
      "\n",
      "`early_stopping_rounds` in `fit` method is deprecated for better compatibility with scikit-learn, use `early_stopping_rounds` in constructor or`set_params` instead.\n",
      "\n",
      "`early_stopping_rounds` in `fit` method is deprecated for better compatibility with scikit-learn, use `early_stopping_rounds` in constructor or`set_params` instead.\n",
      "\n"
     ]
    },
    {
     "name": "stdout",
     "output_type": "stream",
     "text": [
      "MSE:                                                                                \n",
      "0.00437835196653696                                                                 \n",
      "MSE:                                                                                \n",
      "0.00437835196653696                                                                 \n",
      "MSE:                                                                                \n",
      "0.00437835196653696                                                                 \n",
      "MSE:                                                                                \n",
      "0.00437835196653696                                                                 \n",
      "MSE:                                                                                \n",
      "0.00437835196653696                                                                 \n",
      "MSE:                                                                                \n",
      "0.00437835196653696                                                                 \n",
      "MSE:                                                                                \n",
      "0.00437835196653696                                                                 \n",
      "MSE:                                                                                \n",
      "0.00437835196653696                                                                 \n",
      " 49%|████▊     | 243/500 [00:05<00:07, 35.42trial/s, best loss: 0.00437835196653696]"
     ]
    },
    {
     "name": "stderr",
     "output_type": "stream",
     "text": [
      "`early_stopping_rounds` in `fit` method is deprecated for better compatibility with scikit-learn, use `early_stopping_rounds` in constructor or`set_params` instead.\n",
      "\n",
      "`early_stopping_rounds` in `fit` method is deprecated for better compatibility with scikit-learn, use `early_stopping_rounds` in constructor or`set_params` instead.\n",
      "\n",
      "`early_stopping_rounds` in `fit` method is deprecated for better compatibility with scikit-learn, use `early_stopping_rounds` in constructor or`set_params` instead.\n",
      "\n",
      "`early_stopping_rounds` in `fit` method is deprecated for better compatibility with scikit-learn, use `early_stopping_rounds` in constructor or`set_params` instead.\n",
      "\n",
      "`early_stopping_rounds` in `fit` method is deprecated for better compatibility with scikit-learn, use `early_stopping_rounds` in constructor or`set_params` instead.\n",
      "\n",
      "`early_stopping_rounds` in `fit` method is deprecated for better compatibility with scikit-learn, use `early_stopping_rounds` in constructor or`set_params` instead.\n",
      "\n",
      "`early_stopping_rounds` in `fit` method is deprecated for better compatibility with scikit-learn, use `early_stopping_rounds` in constructor or`set_params` instead.\n",
      "\n",
      "`early_stopping_rounds` in `fit` method is deprecated for better compatibility with scikit-learn, use `early_stopping_rounds` in constructor or`set_params` instead.\n",
      "\n"
     ]
    },
    {
     "name": "stdout",
     "output_type": "stream",
     "text": [
      "MSE:                                                                                \n",
      "0.00437835196653696                                                                 \n",
      "MSE:                                                                                \n",
      "0.00437835196653696                                                                 \n",
      "MSE:                                                                                \n",
      "0.00437835196653696                                                                 \n",
      "MSE:                                                                                \n",
      "0.00437835196653696                                                                 \n",
      "MSE:                                                                                \n",
      "0.00437835196653696                                                                 \n",
      "MSE:                                                                                \n",
      "0.00437835196653696                                                                 \n",
      "MSE:                                                                                \n",
      "0.00437835196653696                                                                 \n",
      " 50%|█████     | 250/500 [00:05<00:07, 34.53trial/s, best loss: 0.00437835196653696]"
     ]
    },
    {
     "name": "stderr",
     "output_type": "stream",
     "text": [
      "`early_stopping_rounds` in `fit` method is deprecated for better compatibility with scikit-learn, use `early_stopping_rounds` in constructor or`set_params` instead.\n",
      "\n",
      "`early_stopping_rounds` in `fit` method is deprecated for better compatibility with scikit-learn, use `early_stopping_rounds` in constructor or`set_params` instead.\n",
      "\n",
      "`early_stopping_rounds` in `fit` method is deprecated for better compatibility with scikit-learn, use `early_stopping_rounds` in constructor or`set_params` instead.\n",
      "\n",
      "`early_stopping_rounds` in `fit` method is deprecated for better compatibility with scikit-learn, use `early_stopping_rounds` in constructor or`set_params` instead.\n",
      "\n",
      "`early_stopping_rounds` in `fit` method is deprecated for better compatibility with scikit-learn, use `early_stopping_rounds` in constructor or`set_params` instead.\n",
      "\n",
      "`early_stopping_rounds` in `fit` method is deprecated for better compatibility with scikit-learn, use `early_stopping_rounds` in constructor or`set_params` instead.\n",
      "\n",
      "`early_stopping_rounds` in `fit` method is deprecated for better compatibility with scikit-learn, use `early_stopping_rounds` in constructor or`set_params` instead.\n",
      "\n"
     ]
    },
    {
     "name": "stdout",
     "output_type": "stream",
     "text": [
      "MSE:                                                                                \n",
      "0.00437835196653696                                                                 \n",
      "MSE:                                                                                \n",
      "0.00437835196653696                                                                 \n",
      "MSE:                                                                                \n",
      "0.00437835196653696                                                                 \n",
      "MSE:                                                                                \n",
      "0.00437835196653696                                                                 \n",
      "MSE:                                                                                \n",
      "0.00437835196653696                                                                 \n",
      "MSE:                                                                                \n",
      "0.00437835196653696                                                                 \n",
      "MSE:                                                                                \n",
      "0.00437835196653696                                                                 \n",
      "MSE:                                                                                \n",
      "0.00437835196653696                                                                 \n",
      " 52%|█████▏    | 258/500 [00:05<00:06, 36.18trial/s, best loss: 0.00437835196653696]"
     ]
    },
    {
     "name": "stderr",
     "output_type": "stream",
     "text": [
      "`early_stopping_rounds` in `fit` method is deprecated for better compatibility with scikit-learn, use `early_stopping_rounds` in constructor or`set_params` instead.\n",
      "\n",
      "`early_stopping_rounds` in `fit` method is deprecated for better compatibility with scikit-learn, use `early_stopping_rounds` in constructor or`set_params` instead.\n",
      "\n",
      "`early_stopping_rounds` in `fit` method is deprecated for better compatibility with scikit-learn, use `early_stopping_rounds` in constructor or`set_params` instead.\n",
      "\n",
      "`early_stopping_rounds` in `fit` method is deprecated for better compatibility with scikit-learn, use `early_stopping_rounds` in constructor or`set_params` instead.\n",
      "\n",
      "`early_stopping_rounds` in `fit` method is deprecated for better compatibility with scikit-learn, use `early_stopping_rounds` in constructor or`set_params` instead.\n",
      "\n",
      "`early_stopping_rounds` in `fit` method is deprecated for better compatibility with scikit-learn, use `early_stopping_rounds` in constructor or`set_params` instead.\n",
      "\n",
      "`early_stopping_rounds` in `fit` method is deprecated for better compatibility with scikit-learn, use `early_stopping_rounds` in constructor or`set_params` instead.\n",
      "\n",
      "`early_stopping_rounds` in `fit` method is deprecated for better compatibility with scikit-learn, use `early_stopping_rounds` in constructor or`set_params` instead.\n",
      "\n"
     ]
    },
    {
     "name": "stdout",
     "output_type": "stream",
     "text": [
      "MSE:                                                                                \n",
      "0.00437835196653696                                                                 \n",
      "MSE:                                                                                \n",
      "0.00437835196653696                                                                 \n",
      "MSE:                                                                                \n",
      "0.00437835196653696                                                                 \n",
      "MSE:                                                                                \n",
      "0.00437835196653696                                                                 \n",
      "MSE:                                                                                \n",
      "0.00437835196653696                                                                 \n",
      "MSE:                                                                                \n",
      "0.00437835196653696                                                                 \n",
      "MSE:                                                                                \n",
      "0.00437835196653696                                                                 \n",
      " 53%|█████▎    | 265/500 [00:06<00:06, 33.69trial/s, best loss: 0.00437835196653696]"
     ]
    },
    {
     "name": "stderr",
     "output_type": "stream",
     "text": [
      "`early_stopping_rounds` in `fit` method is deprecated for better compatibility with scikit-learn, use `early_stopping_rounds` in constructor or`set_params` instead.\n",
      "\n",
      "`early_stopping_rounds` in `fit` method is deprecated for better compatibility with scikit-learn, use `early_stopping_rounds` in constructor or`set_params` instead.\n",
      "\n",
      "`early_stopping_rounds` in `fit` method is deprecated for better compatibility with scikit-learn, use `early_stopping_rounds` in constructor or`set_params` instead.\n",
      "\n",
      "`early_stopping_rounds` in `fit` method is deprecated for better compatibility with scikit-learn, use `early_stopping_rounds` in constructor or`set_params` instead.\n",
      "\n",
      "`early_stopping_rounds` in `fit` method is deprecated for better compatibility with scikit-learn, use `early_stopping_rounds` in constructor or`set_params` instead.\n",
      "\n",
      "`early_stopping_rounds` in `fit` method is deprecated for better compatibility with scikit-learn, use `early_stopping_rounds` in constructor or`set_params` instead.\n",
      "\n",
      "`early_stopping_rounds` in `fit` method is deprecated for better compatibility with scikit-learn, use `early_stopping_rounds` in constructor or`set_params` instead.\n",
      "\n"
     ]
    },
    {
     "name": "stdout",
     "output_type": "stream",
     "text": [
      "MSE:                                                                                \n",
      "0.00437835196653696                                                                 \n",
      "MSE:                                                                                \n",
      "0.00437835196653696                                                                 \n",
      "MSE:                                                                                \n",
      "0.00437835196653696                                                                 \n",
      "MSE:                                                                                \n",
      "0.00437835196653696                                                                 \n",
      "MSE:                                                                                \n",
      "0.00437835196653696                                                                 \n",
      "MSE:                                                                                \n",
      "0.00437835196653696                                                                 \n",
      "MSE:                                                                                \n",
      "0.00437835196653696                                                                 \n",
      "MSE:                                                                                \n",
      "0.00437835196653696                                                                 \n",
      " 55%|█████▍    | 273/500 [00:06<00:06, 34.99trial/s, best loss: 0.00437835196653696]"
     ]
    },
    {
     "name": "stderr",
     "output_type": "stream",
     "text": [
      "`early_stopping_rounds` in `fit` method is deprecated for better compatibility with scikit-learn, use `early_stopping_rounds` in constructor or`set_params` instead.\n",
      "\n",
      "`early_stopping_rounds` in `fit` method is deprecated for better compatibility with scikit-learn, use `early_stopping_rounds` in constructor or`set_params` instead.\n",
      "\n",
      "`early_stopping_rounds` in `fit` method is deprecated for better compatibility with scikit-learn, use `early_stopping_rounds` in constructor or`set_params` instead.\n",
      "\n",
      "`early_stopping_rounds` in `fit` method is deprecated for better compatibility with scikit-learn, use `early_stopping_rounds` in constructor or`set_params` instead.\n",
      "\n",
      "`early_stopping_rounds` in `fit` method is deprecated for better compatibility with scikit-learn, use `early_stopping_rounds` in constructor or`set_params` instead.\n",
      "\n",
      "`early_stopping_rounds` in `fit` method is deprecated for better compatibility with scikit-learn, use `early_stopping_rounds` in constructor or`set_params` instead.\n",
      "\n",
      "`early_stopping_rounds` in `fit` method is deprecated for better compatibility with scikit-learn, use `early_stopping_rounds` in constructor or`set_params` instead.\n",
      "\n",
      "`early_stopping_rounds` in `fit` method is deprecated for better compatibility with scikit-learn, use `early_stopping_rounds` in constructor or`set_params` instead.\n",
      "\n"
     ]
    },
    {
     "name": "stdout",
     "output_type": "stream",
     "text": [
      "MSE:                                                                                \n",
      "0.00437835196653696                                                                 \n",
      "MSE:                                                                                \n",
      "0.00437835196653696                                                                 \n",
      "MSE:                                                                                \n",
      "0.00437835196653696                                                                 \n",
      "MSE:                                                                                \n",
      "0.00437835196653696                                                                 \n",
      "MSE:                                                                                \n",
      "0.00437835196653696                                                                 \n",
      "MSE:                                                                                \n",
      "0.00437835196653696                                                                 \n",
      "MSE:                                                                                \n",
      "0.00437835196653696                                                                 \n",
      " 56%|█████▌    | 281/500 [00:06<00:06, 34.17trial/s, best loss: 0.00437835196653696]"
     ]
    },
    {
     "name": "stderr",
     "output_type": "stream",
     "text": [
      "`early_stopping_rounds` in `fit` method is deprecated for better compatibility with scikit-learn, use `early_stopping_rounds` in constructor or`set_params` instead.\n",
      "\n",
      "`early_stopping_rounds` in `fit` method is deprecated for better compatibility with scikit-learn, use `early_stopping_rounds` in constructor or`set_params` instead.\n",
      "\n",
      "`early_stopping_rounds` in `fit` method is deprecated for better compatibility with scikit-learn, use `early_stopping_rounds` in constructor or`set_params` instead.\n",
      "\n",
      "`early_stopping_rounds` in `fit` method is deprecated for better compatibility with scikit-learn, use `early_stopping_rounds` in constructor or`set_params` instead.\n",
      "\n",
      "`early_stopping_rounds` in `fit` method is deprecated for better compatibility with scikit-learn, use `early_stopping_rounds` in constructor or`set_params` instead.\n",
      "\n",
      "`early_stopping_rounds` in `fit` method is deprecated for better compatibility with scikit-learn, use `early_stopping_rounds` in constructor or`set_params` instead.\n",
      "\n",
      "`early_stopping_rounds` in `fit` method is deprecated for better compatibility with scikit-learn, use `early_stopping_rounds` in constructor or`set_params` instead.\n",
      "\n"
     ]
    },
    {
     "name": "stdout",
     "output_type": "stream",
     "text": [
      "MSE:                                                                                \n",
      "0.00437835196653696                                                                 \n",
      "MSE:                                                                                \n",
      "0.00437835196653696                                                                 \n",
      "MSE:                                                                                \n",
      "0.00437835196653696                                                                 \n",
      "MSE:                                                                                \n",
      "0.00437835196653696                                                                 \n",
      "MSE:                                                                                \n",
      "0.00437835196653696                                                                 \n",
      "MSE:                                                                                \n",
      "0.00437835196653696                                                                 \n",
      " 57%|█████▋    | 286/500 [00:06<00:06, 33.93trial/s, best loss: 0.00437835196653696]"
     ]
    },
    {
     "name": "stderr",
     "output_type": "stream",
     "text": [
      "`early_stopping_rounds` in `fit` method is deprecated for better compatibility with scikit-learn, use `early_stopping_rounds` in constructor or`set_params` instead.\n",
      "\n",
      "`early_stopping_rounds` in `fit` method is deprecated for better compatibility with scikit-learn, use `early_stopping_rounds` in constructor or`set_params` instead.\n",
      "\n",
      "`early_stopping_rounds` in `fit` method is deprecated for better compatibility with scikit-learn, use `early_stopping_rounds` in constructor or`set_params` instead.\n",
      "\n",
      "`early_stopping_rounds` in `fit` method is deprecated for better compatibility with scikit-learn, use `early_stopping_rounds` in constructor or`set_params` instead.\n",
      "\n",
      "`early_stopping_rounds` in `fit` method is deprecated for better compatibility with scikit-learn, use `early_stopping_rounds` in constructor or`set_params` instead.\n",
      "\n",
      "`early_stopping_rounds` in `fit` method is deprecated for better compatibility with scikit-learn, use `early_stopping_rounds` in constructor or`set_params` instead.\n",
      "\n"
     ]
    },
    {
     "name": "stdout",
     "output_type": "stream",
     "text": [
      "MSE:                                                                                \n",
      "0.00437835196653696                                                                 \n",
      "MSE:                                                                                \n",
      "0.00437835196653696                                                                 \n",
      "MSE:                                                                                \n",
      "0.00437835196653696                                                                 \n",
      "MSE:                                                                                \n",
      "0.00437835196653696                                                                 \n",
      "MSE:                                                                                \n",
      "0.00437835196653696                                                                 \n",
      "MSE:                                                                                \n",
      "0.00437835196653696                                                                 \n",
      " 59%|█████▊    | 293/500 [00:07<00:07, 28.24trial/s, best loss: 0.00437835196653696]"
     ]
    },
    {
     "name": "stderr",
     "output_type": "stream",
     "text": [
      "`early_stopping_rounds` in `fit` method is deprecated for better compatibility with scikit-learn, use `early_stopping_rounds` in constructor or`set_params` instead.\n",
      "\n",
      "`early_stopping_rounds` in `fit` method is deprecated for better compatibility with scikit-learn, use `early_stopping_rounds` in constructor or`set_params` instead.\n",
      "\n",
      "`early_stopping_rounds` in `fit` method is deprecated for better compatibility with scikit-learn, use `early_stopping_rounds` in constructor or`set_params` instead.\n",
      "\n",
      "`early_stopping_rounds` in `fit` method is deprecated for better compatibility with scikit-learn, use `early_stopping_rounds` in constructor or`set_params` instead.\n",
      "\n",
      "`early_stopping_rounds` in `fit` method is deprecated for better compatibility with scikit-learn, use `early_stopping_rounds` in constructor or`set_params` instead.\n",
      "\n",
      "`early_stopping_rounds` in `fit` method is deprecated for better compatibility with scikit-learn, use `early_stopping_rounds` in constructor or`set_params` instead.\n",
      "\n"
     ]
    },
    {
     "name": "stdout",
     "output_type": "stream",
     "text": [
      "MSE:                                                                                \n",
      "0.00437835196653696                                                                 \n",
      "MSE:                                                                                \n",
      "0.00437835196653696                                                                 \n",
      "MSE:                                                                                \n",
      "0.00437835196653696                                                                 \n",
      "MSE:                                                                                \n",
      "0.00437835196653696                                                                 \n",
      "MSE:                                                                                \n",
      "0.00437835196653696                                                                 \n",
      "MSE:                                                                                \n",
      "0.00437835196653696                                                                 \n",
      "MSE:                                                                                \n",
      "0.00437835196653696                                                                 \n",
      " 60%|█████▉    | 299/500 [00:07<00:06, 29.01trial/s, best loss: 0.00437835196653696]"
     ]
    },
    {
     "name": "stderr",
     "output_type": "stream",
     "text": [
      "`early_stopping_rounds` in `fit` method is deprecated for better compatibility with scikit-learn, use `early_stopping_rounds` in constructor or`set_params` instead.\n",
      "\n",
      "`early_stopping_rounds` in `fit` method is deprecated for better compatibility with scikit-learn, use `early_stopping_rounds` in constructor or`set_params` instead.\n",
      "\n",
      "`early_stopping_rounds` in `fit` method is deprecated for better compatibility with scikit-learn, use `early_stopping_rounds` in constructor or`set_params` instead.\n",
      "\n",
      "`early_stopping_rounds` in `fit` method is deprecated for better compatibility with scikit-learn, use `early_stopping_rounds` in constructor or`set_params` instead.\n",
      "\n",
      "`early_stopping_rounds` in `fit` method is deprecated for better compatibility with scikit-learn, use `early_stopping_rounds` in constructor or`set_params` instead.\n",
      "\n",
      "`early_stopping_rounds` in `fit` method is deprecated for better compatibility with scikit-learn, use `early_stopping_rounds` in constructor or`set_params` instead.\n",
      "\n",
      "`early_stopping_rounds` in `fit` method is deprecated for better compatibility with scikit-learn, use `early_stopping_rounds` in constructor or`set_params` instead.\n",
      "\n"
     ]
    },
    {
     "name": "stdout",
     "output_type": "stream",
     "text": [
      "MSE:                                                                                \n",
      "0.00437835196653696                                                                 \n",
      "MSE:                                                                                \n",
      "0.00437835196653696                                                                 \n",
      "MSE:                                                                                \n",
      "0.00437835196653696                                                                 \n",
      "MSE:                                                                                \n",
      "0.00437835196653696                                                                 \n",
      "MSE:                                                                                \n",
      "0.00437835196653696                                                                 \n",
      "MSE:                                                                                \n",
      "0.00437835196653696                                                                 \n",
      "MSE:                                                                                \n",
      "0.00437835196653696                                                                 \n",
      " 61%|██████    | 306/500 [00:07<00:06, 29.38trial/s, best loss: 0.00437835196653696]"
     ]
    },
    {
     "name": "stderr",
     "output_type": "stream",
     "text": [
      "`early_stopping_rounds` in `fit` method is deprecated for better compatibility with scikit-learn, use `early_stopping_rounds` in constructor or`set_params` instead.\n",
      "\n",
      "`early_stopping_rounds` in `fit` method is deprecated for better compatibility with scikit-learn, use `early_stopping_rounds` in constructor or`set_params` instead.\n",
      "\n",
      "`early_stopping_rounds` in `fit` method is deprecated for better compatibility with scikit-learn, use `early_stopping_rounds` in constructor or`set_params` instead.\n",
      "\n",
      "`early_stopping_rounds` in `fit` method is deprecated for better compatibility with scikit-learn, use `early_stopping_rounds` in constructor or`set_params` instead.\n",
      "\n",
      "`early_stopping_rounds` in `fit` method is deprecated for better compatibility with scikit-learn, use `early_stopping_rounds` in constructor or`set_params` instead.\n",
      "\n",
      "`early_stopping_rounds` in `fit` method is deprecated for better compatibility with scikit-learn, use `early_stopping_rounds` in constructor or`set_params` instead.\n",
      "\n",
      "`early_stopping_rounds` in `fit` method is deprecated for better compatibility with scikit-learn, use `early_stopping_rounds` in constructor or`set_params` instead.\n",
      "\n"
     ]
    },
    {
     "name": "stdout",
     "output_type": "stream",
     "text": [
      "MSE:                                                                                \n",
      "0.00437835196653696                                                                 \n",
      "MSE:                                                                                \n",
      "0.00437835196653696                                                                 \n",
      "MSE:                                                                                \n",
      "0.00437835196653696                                                                 \n",
      "MSE:                                                                                \n",
      "0.00437835196653696                                                                 \n",
      "MSE:                                                                                \n",
      "0.00437835196653696                                                                 \n",
      "MSE:                                                                                \n",
      "0.00437835196653696                                                                 \n",
      "MSE:                                                                                \n",
      "0.00437835196653696                                                                 \n",
      " 63%|██████▎   | 313/500 [00:07<00:05, 31.50trial/s, best loss: 0.00437835196653696]"
     ]
    },
    {
     "name": "stderr",
     "output_type": "stream",
     "text": [
      "`early_stopping_rounds` in `fit` method is deprecated for better compatibility with scikit-learn, use `early_stopping_rounds` in constructor or`set_params` instead.\n",
      "\n",
      "`early_stopping_rounds` in `fit` method is deprecated for better compatibility with scikit-learn, use `early_stopping_rounds` in constructor or`set_params` instead.\n",
      "\n",
      "`early_stopping_rounds` in `fit` method is deprecated for better compatibility with scikit-learn, use `early_stopping_rounds` in constructor or`set_params` instead.\n",
      "\n",
      "`early_stopping_rounds` in `fit` method is deprecated for better compatibility with scikit-learn, use `early_stopping_rounds` in constructor or`set_params` instead.\n",
      "\n",
      "`early_stopping_rounds` in `fit` method is deprecated for better compatibility with scikit-learn, use `early_stopping_rounds` in constructor or`set_params` instead.\n",
      "\n",
      "`early_stopping_rounds` in `fit` method is deprecated for better compatibility with scikit-learn, use `early_stopping_rounds` in constructor or`set_params` instead.\n",
      "\n",
      "`early_stopping_rounds` in `fit` method is deprecated for better compatibility with scikit-learn, use `early_stopping_rounds` in constructor or`set_params` instead.\n",
      "\n"
     ]
    },
    {
     "name": "stdout",
     "output_type": "stream",
     "text": [
      "MSE:                                                                                \n",
      "0.00437835196653696                                                                 \n",
      "MSE:                                                                                \n",
      "0.00437835196653696                                                                 \n",
      "MSE:                                                                                \n",
      "0.00437835196653696                                                                 \n",
      "MSE:                                                                                \n",
      "0.00437835196653696                                                                 \n",
      "MSE:                                                                                \n",
      "0.00437835196653696                                                                 \n",
      " 64%|██████▎   | 318/500 [00:07<00:06, 29.82trial/s, best loss: 0.00437835196653696]"
     ]
    },
    {
     "name": "stderr",
     "output_type": "stream",
     "text": [
      "`early_stopping_rounds` in `fit` method is deprecated for better compatibility with scikit-learn, use `early_stopping_rounds` in constructor or`set_params` instead.\n",
      "\n",
      "`early_stopping_rounds` in `fit` method is deprecated for better compatibility with scikit-learn, use `early_stopping_rounds` in constructor or`set_params` instead.\n",
      "\n",
      "`early_stopping_rounds` in `fit` method is deprecated for better compatibility with scikit-learn, use `early_stopping_rounds` in constructor or`set_params` instead.\n",
      "\n",
      "`early_stopping_rounds` in `fit` method is deprecated for better compatibility with scikit-learn, use `early_stopping_rounds` in constructor or`set_params` instead.\n",
      "\n",
      "`early_stopping_rounds` in `fit` method is deprecated for better compatibility with scikit-learn, use `early_stopping_rounds` in constructor or`set_params` instead.\n",
      "\n"
     ]
    },
    {
     "name": "stdout",
     "output_type": "stream",
     "text": [
      "MSE:                                                                                \n",
      "0.00437835196653696                                                                 \n",
      "MSE:                                                                                \n",
      "0.00437835196653696                                                                 \n",
      "MSE:                                                                                \n",
      "0.00437835196653696                                                                 \n",
      "MSE:                                                                                \n",
      "0.00437835196653696                                                                 \n",
      "MSE:                                                                                \n",
      "0.00437835196653696                                                                 \n",
      " 65%|██████▍   | 323/500 [00:08<00:06, 26.02trial/s, best loss: 0.00437835196653696]"
     ]
    },
    {
     "name": "stderr",
     "output_type": "stream",
     "text": [
      "`early_stopping_rounds` in `fit` method is deprecated for better compatibility with scikit-learn, use `early_stopping_rounds` in constructor or`set_params` instead.\n",
      "\n",
      "`early_stopping_rounds` in `fit` method is deprecated for better compatibility with scikit-learn, use `early_stopping_rounds` in constructor or`set_params` instead.\n",
      "\n",
      "`early_stopping_rounds` in `fit` method is deprecated for better compatibility with scikit-learn, use `early_stopping_rounds` in constructor or`set_params` instead.\n",
      "\n",
      "`early_stopping_rounds` in `fit` method is deprecated for better compatibility with scikit-learn, use `early_stopping_rounds` in constructor or`set_params` instead.\n",
      "\n",
      "`early_stopping_rounds` in `fit` method is deprecated for better compatibility with scikit-learn, use `early_stopping_rounds` in constructor or`set_params` instead.\n",
      "\n"
     ]
    },
    {
     "name": "stdout",
     "output_type": "stream",
     "text": [
      "MSE:                                                                                \n",
      "0.00437835196653696                                                                 \n",
      "MSE:                                                                                \n",
      "0.00437835196653696                                                                 \n",
      "MSE:                                                                                \n",
      "0.00437835196653696                                                                 \n",
      "MSE:                                                                                \n",
      "0.00437835196653696                                                                 \n",
      "MSE:                                                                                \n",
      "0.00437835196653696                                                                 \n",
      "MSE:                                                                                \n",
      "0.00437835196653696                                                                 \n",
      " 66%|██████▌   | 329/500 [00:08<00:06, 27.08trial/s, best loss: 0.00437835196653696]"
     ]
    },
    {
     "name": "stderr",
     "output_type": "stream",
     "text": [
      "`early_stopping_rounds` in `fit` method is deprecated for better compatibility with scikit-learn, use `early_stopping_rounds` in constructor or`set_params` instead.\n",
      "\n",
      "`early_stopping_rounds` in `fit` method is deprecated for better compatibility with scikit-learn, use `early_stopping_rounds` in constructor or`set_params` instead.\n",
      "\n",
      "`early_stopping_rounds` in `fit` method is deprecated for better compatibility with scikit-learn, use `early_stopping_rounds` in constructor or`set_params` instead.\n",
      "\n",
      "`early_stopping_rounds` in `fit` method is deprecated for better compatibility with scikit-learn, use `early_stopping_rounds` in constructor or`set_params` instead.\n",
      "\n",
      "`early_stopping_rounds` in `fit` method is deprecated for better compatibility with scikit-learn, use `early_stopping_rounds` in constructor or`set_params` instead.\n",
      "\n",
      "`early_stopping_rounds` in `fit` method is deprecated for better compatibility with scikit-learn, use `early_stopping_rounds` in constructor or`set_params` instead.\n",
      "\n"
     ]
    },
    {
     "name": "stdout",
     "output_type": "stream",
     "text": [
      "MSE:                                                                                \n",
      "0.00437835196653696                                                                 \n",
      "MSE:                                                                                \n",
      "0.00437835196653696                                                                 \n",
      "MSE:                                                                                \n",
      "0.00437835196653696                                                                 \n",
      "MSE:                                                                                \n",
      "0.00437835196653696                                                                 \n",
      "MSE:                                                                                \n",
      "0.00437835196653696                                                                 \n",
      "MSE:                                                                                \n",
      "0.00437835196653696                                                                 \n",
      " 67%|██████▋   | 335/500 [00:08<00:05, 28.17trial/s, best loss: 0.00437835196653696]"
     ]
    },
    {
     "name": "stderr",
     "output_type": "stream",
     "text": [
      "`early_stopping_rounds` in `fit` method is deprecated for better compatibility with scikit-learn, use `early_stopping_rounds` in constructor or`set_params` instead.\n",
      "\n",
      "`early_stopping_rounds` in `fit` method is deprecated for better compatibility with scikit-learn, use `early_stopping_rounds` in constructor or`set_params` instead.\n",
      "\n",
      "`early_stopping_rounds` in `fit` method is deprecated for better compatibility with scikit-learn, use `early_stopping_rounds` in constructor or`set_params` instead.\n",
      "\n",
      "`early_stopping_rounds` in `fit` method is deprecated for better compatibility with scikit-learn, use `early_stopping_rounds` in constructor or`set_params` instead.\n",
      "\n",
      "`early_stopping_rounds` in `fit` method is deprecated for better compatibility with scikit-learn, use `early_stopping_rounds` in constructor or`set_params` instead.\n",
      "\n",
      "`early_stopping_rounds` in `fit` method is deprecated for better compatibility with scikit-learn, use `early_stopping_rounds` in constructor or`set_params` instead.\n",
      "\n"
     ]
    },
    {
     "name": "stdout",
     "output_type": "stream",
     "text": [
      "MSE:                                                                                \n",
      "0.00437835196653696                                                                 \n",
      "MSE:                                                                                \n",
      "0.00437835196653696                                                                 \n",
      "MSE:                                                                                \n",
      "0.00437835196653696                                                                 \n",
      "MSE:                                                                                \n",
      "0.00437835196653696                                                                 \n",
      "MSE:                                                                                \n",
      "0.00437835196653696                                                                 \n",
      " 68%|██████▊   | 340/500 [00:08<00:05, 29.05trial/s, best loss: 0.00437835196653696]"
     ]
    },
    {
     "name": "stderr",
     "output_type": "stream",
     "text": [
      "`early_stopping_rounds` in `fit` method is deprecated for better compatibility with scikit-learn, use `early_stopping_rounds` in constructor or`set_params` instead.\n",
      "\n",
      "`early_stopping_rounds` in `fit` method is deprecated for better compatibility with scikit-learn, use `early_stopping_rounds` in constructor or`set_params` instead.\n",
      "\n",
      "`early_stopping_rounds` in `fit` method is deprecated for better compatibility with scikit-learn, use `early_stopping_rounds` in constructor or`set_params` instead.\n",
      "\n",
      "`early_stopping_rounds` in `fit` method is deprecated for better compatibility with scikit-learn, use `early_stopping_rounds` in constructor or`set_params` instead.\n",
      "\n",
      "`early_stopping_rounds` in `fit` method is deprecated for better compatibility with scikit-learn, use `early_stopping_rounds` in constructor or`set_params` instead.\n",
      "\n",
      "`early_stopping_rounds` in `fit` method is deprecated for better compatibility with scikit-learn, use `early_stopping_rounds` in constructor or`set_params` instead.\n",
      "\n"
     ]
    },
    {
     "name": "stdout",
     "output_type": "stream",
     "text": [
      "MSE:                                                                                \n",
      "0.00437835196653696                                                                 \n",
      "MSE:                                                                                \n",
      "0.00437835196653696                                                                 \n",
      "MSE:                                                                                \n",
      "0.00437835196653696                                                                 \n",
      "MSE:                                                                                \n",
      "0.00437835196653696                                                                 \n",
      "MSE:                                                                                \n",
      "0.00437835196653696                                                                 \n",
      "MSE:                                                                                \n",
      "0.00437835196653696                                                                 \n",
      "MSE:                                                                                \n",
      "0.00437835196653696                                                                 \n",
      " 69%|██████▉   | 347/500 [00:09<00:05, 28.01trial/s, best loss: 0.00437835196653696]"
     ]
    },
    {
     "name": "stderr",
     "output_type": "stream",
     "text": [
      "`early_stopping_rounds` in `fit` method is deprecated for better compatibility with scikit-learn, use `early_stopping_rounds` in constructor or`set_params` instead.\n",
      "\n",
      "`early_stopping_rounds` in `fit` method is deprecated for better compatibility with scikit-learn, use `early_stopping_rounds` in constructor or`set_params` instead.\n",
      "\n",
      "`early_stopping_rounds` in `fit` method is deprecated for better compatibility with scikit-learn, use `early_stopping_rounds` in constructor or`set_params` instead.\n",
      "\n",
      "`early_stopping_rounds` in `fit` method is deprecated for better compatibility with scikit-learn, use `early_stopping_rounds` in constructor or`set_params` instead.\n",
      "\n",
      "`early_stopping_rounds` in `fit` method is deprecated for better compatibility with scikit-learn, use `early_stopping_rounds` in constructor or`set_params` instead.\n",
      "\n",
      "`early_stopping_rounds` in `fit` method is deprecated for better compatibility with scikit-learn, use `early_stopping_rounds` in constructor or`set_params` instead.\n",
      "\n"
     ]
    },
    {
     "name": "stdout",
     "output_type": "stream",
     "text": [
      "MSE:                                                                                \n",
      "0.00437835196653696                                                                 \n",
      "MSE:                                                                                \n",
      "0.00437835196653696                                                                 \n",
      "MSE:                                                                                \n",
      "0.00437835196653696                                                                 \n",
      "MSE:                                                                                \n",
      "0.00437835196653696                                                                 \n",
      "MSE:                                                                                \n",
      "0.00437835196653696                                                                 \n",
      "MSE:                                                                                \n",
      " 71%|███████   | 353/500 [00:09<00:05, 25.59trial/s, best loss: 0.00437835196653696]"
     ]
    },
    {
     "name": "stderr",
     "output_type": "stream",
     "text": [
      "`early_stopping_rounds` in `fit` method is deprecated for better compatibility with scikit-learn, use `early_stopping_rounds` in constructor or`set_params` instead.\n",
      "\n",
      "`early_stopping_rounds` in `fit` method is deprecated for better compatibility with scikit-learn, use `early_stopping_rounds` in constructor or`set_params` instead.\n",
      "\n",
      "`early_stopping_rounds` in `fit` method is deprecated for better compatibility with scikit-learn, use `early_stopping_rounds` in constructor or`set_params` instead.\n",
      "\n",
      "`early_stopping_rounds` in `fit` method is deprecated for better compatibility with scikit-learn, use `early_stopping_rounds` in constructor or`set_params` instead.\n",
      "\n",
      "`early_stopping_rounds` in `fit` method is deprecated for better compatibility with scikit-learn, use `early_stopping_rounds` in constructor or`set_params` instead.\n",
      "\n",
      "`early_stopping_rounds` in `fit` method is deprecated for better compatibility with scikit-learn, use `early_stopping_rounds` in constructor or`set_params` instead.\n",
      "\n"
     ]
    },
    {
     "name": "stdout",
     "output_type": "stream",
     "text": [
      "0.00437835196653696                                                                 \n",
      "MSE:                                                                                \n",
      "0.00437835196653696                                                                 \n",
      "MSE:                                                                                \n",
      "0.00437835196653696                                                                 \n",
      "MSE:                                                                                \n",
      "0.00437835196653696                                                                 \n",
      "MSE:                                                                                \n",
      "0.00437835196653696                                                                 \n",
      "MSE:                                                                                \n",
      "0.00437835196653696                                                                 \n",
      "MSE:                                                                                \n",
      "0.00437835196653696                                                                 \n",
      " 72%|███████▏  | 359/500 [00:09<00:05, 25.98trial/s, best loss: 0.00437835196653696]"
     ]
    },
    {
     "name": "stderr",
     "output_type": "stream",
     "text": [
      "`early_stopping_rounds` in `fit` method is deprecated for better compatibility with scikit-learn, use `early_stopping_rounds` in constructor or`set_params` instead.\n",
      "\n",
      "`early_stopping_rounds` in `fit` method is deprecated for better compatibility with scikit-learn, use `early_stopping_rounds` in constructor or`set_params` instead.\n",
      "\n",
      "`early_stopping_rounds` in `fit` method is deprecated for better compatibility with scikit-learn, use `early_stopping_rounds` in constructor or`set_params` instead.\n",
      "\n",
      "`early_stopping_rounds` in `fit` method is deprecated for better compatibility with scikit-learn, use `early_stopping_rounds` in constructor or`set_params` instead.\n",
      "\n",
      "`early_stopping_rounds` in `fit` method is deprecated for better compatibility with scikit-learn, use `early_stopping_rounds` in constructor or`set_params` instead.\n",
      "\n",
      "`early_stopping_rounds` in `fit` method is deprecated for better compatibility with scikit-learn, use `early_stopping_rounds` in constructor or`set_params` instead.\n",
      "\n"
     ]
    },
    {
     "name": "stdout",
     "output_type": "stream",
     "text": [
      "MSE:                                                                                \n",
      "0.00437835196653696                                                                 \n",
      "MSE:                                                                                \n",
      "0.00437835196653696                                                                 \n",
      "MSE:                                                                                \n",
      "0.00437835196653696                                                                 \n",
      "MSE:                                                                                \n",
      "0.00437835196653696                                                                 \n",
      "MSE:                                                                                \n",
      "0.00437835196653696                                                                 \n",
      "MSE:                                                                                \n",
      " 73%|███████▎  | 365/500 [00:09<00:05, 25.50trial/s, best loss: 0.00437835196653696]"
     ]
    },
    {
     "name": "stderr",
     "output_type": "stream",
     "text": [
      "`early_stopping_rounds` in `fit` method is deprecated for better compatibility with scikit-learn, use `early_stopping_rounds` in constructor or`set_params` instead.\n",
      "\n",
      "`early_stopping_rounds` in `fit` method is deprecated for better compatibility with scikit-learn, use `early_stopping_rounds` in constructor or`set_params` instead.\n",
      "\n",
      "`early_stopping_rounds` in `fit` method is deprecated for better compatibility with scikit-learn, use `early_stopping_rounds` in constructor or`set_params` instead.\n",
      "\n",
      "`early_stopping_rounds` in `fit` method is deprecated for better compatibility with scikit-learn, use `early_stopping_rounds` in constructor or`set_params` instead.\n",
      "\n",
      "`early_stopping_rounds` in `fit` method is deprecated for better compatibility with scikit-learn, use `early_stopping_rounds` in constructor or`set_params` instead.\n",
      "\n",
      "`early_stopping_rounds` in `fit` method is deprecated for better compatibility with scikit-learn, use `early_stopping_rounds` in constructor or`set_params` instead.\n",
      "\n"
     ]
    },
    {
     "name": "stdout",
     "output_type": "stream",
     "text": [
      "0.00437835196653696                                                                 \n",
      "MSE:                                                                                \n",
      "0.00437835196653696                                                                 \n",
      "MSE:                                                                                \n",
      "0.00437835196653696                                                                 \n",
      "MSE:                                                                                \n",
      "0.00437835196653696                                                                 \n",
      "MSE:                                                                                \n",
      "0.00437835196653696                                                                 \n",
      "MSE:                                                                                \n",
      "0.00437835196653696                                                                 \n",
      "MSE:                                                                                \n",
      "0.00437835196653696                                                                 \n",
      " 74%|███████▍  | 371/500 [00:09<00:05, 25.66trial/s, best loss: 0.00437835196653696]"
     ]
    },
    {
     "name": "stderr",
     "output_type": "stream",
     "text": [
      "`early_stopping_rounds` in `fit` method is deprecated for better compatibility with scikit-learn, use `early_stopping_rounds` in constructor or`set_params` instead.\n",
      "\n",
      "`early_stopping_rounds` in `fit` method is deprecated for better compatibility with scikit-learn, use `early_stopping_rounds` in constructor or`set_params` instead.\n",
      "\n",
      "`early_stopping_rounds` in `fit` method is deprecated for better compatibility with scikit-learn, use `early_stopping_rounds` in constructor or`set_params` instead.\n",
      "\n",
      "`early_stopping_rounds` in `fit` method is deprecated for better compatibility with scikit-learn, use `early_stopping_rounds` in constructor or`set_params` instead.\n",
      "\n",
      "`early_stopping_rounds` in `fit` method is deprecated for better compatibility with scikit-learn, use `early_stopping_rounds` in constructor or`set_params` instead.\n",
      "\n",
      "`early_stopping_rounds` in `fit` method is deprecated for better compatibility with scikit-learn, use `early_stopping_rounds` in constructor or`set_params` instead.\n",
      "\n"
     ]
    },
    {
     "name": "stdout",
     "output_type": "stream",
     "text": [
      "MSE:                                                                                \n",
      "0.00437835196653696                                                                 \n",
      "MSE:                                                                                \n",
      "0.00437835196653696                                                                 \n",
      "MSE:                                                                                \n",
      "0.00437835196653696                                                                 \n",
      "MSE:                                                                                \n",
      "0.00437835196653696                                                                 \n",
      "MSE:                                                                                \n",
      "0.00437835196653696                                                                 \n",
      "MSE:                                                                                \n",
      "0.00437835196653696                                                                 \n",
      " 75%|███████▌  | 377/500 [00:10<00:04, 25.94trial/s, best loss: 0.00437835196653696]"
     ]
    },
    {
     "name": "stderr",
     "output_type": "stream",
     "text": [
      "`early_stopping_rounds` in `fit` method is deprecated for better compatibility with scikit-learn, use `early_stopping_rounds` in constructor or`set_params` instead.\n",
      "\n",
      "`early_stopping_rounds` in `fit` method is deprecated for better compatibility with scikit-learn, use `early_stopping_rounds` in constructor or`set_params` instead.\n",
      "\n",
      "`early_stopping_rounds` in `fit` method is deprecated for better compatibility with scikit-learn, use `early_stopping_rounds` in constructor or`set_params` instead.\n",
      "\n",
      "`early_stopping_rounds` in `fit` method is deprecated for better compatibility with scikit-learn, use `early_stopping_rounds` in constructor or`set_params` instead.\n",
      "\n",
      "`early_stopping_rounds` in `fit` method is deprecated for better compatibility with scikit-learn, use `early_stopping_rounds` in constructor or`set_params` instead.\n",
      "\n",
      "`early_stopping_rounds` in `fit` method is deprecated for better compatibility with scikit-learn, use `early_stopping_rounds` in constructor or`set_params` instead.\n",
      "\n"
     ]
    },
    {
     "name": "stdout",
     "output_type": "stream",
     "text": [
      "MSE:                                                                                \n",
      "0.00437835196653696                                                                 \n",
      "MSE:                                                                                \n",
      "0.00437835196653696                                                                 \n",
      "MSE:                                                                                \n",
      "0.00437835196653696                                                                 \n",
      "MSE:                                                                                \n",
      "0.00437835196653696                                                                 \n",
      "MSE:                                                                                \n",
      "0.00437835196653696                                                                 \n",
      " 76%|███████▋  | 382/500 [00:10<00:04, 24.92trial/s, best loss: 0.00437835196653696]"
     ]
    },
    {
     "name": "stderr",
     "output_type": "stream",
     "text": [
      "`early_stopping_rounds` in `fit` method is deprecated for better compatibility with scikit-learn, use `early_stopping_rounds` in constructor or`set_params` instead.\n",
      "\n",
      "`early_stopping_rounds` in `fit` method is deprecated for better compatibility with scikit-learn, use `early_stopping_rounds` in constructor or`set_params` instead.\n",
      "\n",
      "`early_stopping_rounds` in `fit` method is deprecated for better compatibility with scikit-learn, use `early_stopping_rounds` in constructor or`set_params` instead.\n",
      "\n",
      "`early_stopping_rounds` in `fit` method is deprecated for better compatibility with scikit-learn, use `early_stopping_rounds` in constructor or`set_params` instead.\n",
      "\n",
      "`early_stopping_rounds` in `fit` method is deprecated for better compatibility with scikit-learn, use `early_stopping_rounds` in constructor or`set_params` instead.\n",
      "\n"
     ]
    },
    {
     "name": "stdout",
     "output_type": "stream",
     "text": [
      "MSE:                                                                                \n",
      "0.00437835196653696                                                                 \n",
      "MSE:                                                                                \n",
      "0.00437835196653696                                                                 \n",
      "MSE:                                                                                \n",
      "0.00437835196653696                                                                 \n",
      "MSE:                                                                                \n",
      "0.00437835196653696                                                                 \n",
      "MSE:                                                                                \n",
      "0.00437835196653696                                                                 \n",
      " 78%|███████▊  | 388/500 [00:10<00:04, 24.47trial/s, best loss: 0.00437835196653696]"
     ]
    },
    {
     "name": "stderr",
     "output_type": "stream",
     "text": [
      "`early_stopping_rounds` in `fit` method is deprecated for better compatibility with scikit-learn, use `early_stopping_rounds` in constructor or`set_params` instead.\n",
      "\n",
      "`early_stopping_rounds` in `fit` method is deprecated for better compatibility with scikit-learn, use `early_stopping_rounds` in constructor or`set_params` instead.\n",
      "\n",
      "`early_stopping_rounds` in `fit` method is deprecated for better compatibility with scikit-learn, use `early_stopping_rounds` in constructor or`set_params` instead.\n",
      "\n",
      "`early_stopping_rounds` in `fit` method is deprecated for better compatibility with scikit-learn, use `early_stopping_rounds` in constructor or`set_params` instead.\n",
      "\n",
      "`early_stopping_rounds` in `fit` method is deprecated for better compatibility with scikit-learn, use `early_stopping_rounds` in constructor or`set_params` instead.\n",
      "\n"
     ]
    },
    {
     "name": "stdout",
     "output_type": "stream",
     "text": [
      "MSE:                                                                                \n",
      "0.00437835196653696                                                                 \n",
      "MSE:                                                                                \n",
      "0.00437835196653696                                                                 \n",
      "MSE:                                                                                \n",
      "0.00437835196653696                                                                 \n",
      "MSE:                                                                                \n",
      "0.00437835196653696                                                                 \n",
      "MSE:                                                                                \n",
      "0.00437835196653696                                                                 \n",
      "                                                                                    \r"
     ]
    },
    {
     "name": "stderr",
     "output_type": "stream",
     "text": [
      "`early_stopping_rounds` in `fit` method is deprecated for better compatibility with scikit-learn, use `early_stopping_rounds` in constructor or`set_params` instead.\n",
      "\n",
      "`early_stopping_rounds` in `fit` method is deprecated for better compatibility with scikit-learn, use `early_stopping_rounds` in constructor or`set_params` instead.\n",
      "\n",
      "`early_stopping_rounds` in `fit` method is deprecated for better compatibility with scikit-learn, use `early_stopping_rounds` in constructor or`set_params` instead.\n",
      "\n",
      "`early_stopping_rounds` in `fit` method is deprecated for better compatibility with scikit-learn, use `early_stopping_rounds` in constructor or`set_params` instead.\n",
      "\n",
      "`early_stopping_rounds` in `fit` method is deprecated for better compatibility with scikit-learn, use `early_stopping_rounds` in constructor or`set_params` instead.\n",
      "\n",
      "`early_stopping_rounds` in `fit` method is deprecated for better compatibility with scikit-learn, use `early_stopping_rounds` in constructor or`set_params` instead.\n",
      "\n"
     ]
    },
    {
     "name": "stdout",
     "output_type": "stream",
     "text": [
      "MSE:\n",
      "0.00437835196653696                                                                 \n",
      "MSE:                                                                                \n",
      "0.00437835196653696                                                                 \n",
      "MSE:                                                                                \n",
      "0.00437835196653696                                                                 \n",
      "MSE:                                                                                \n",
      "0.00437835196653696                                                                 \n",
      "MSE:                                                                                \n",
      "0.00437835196653696                                                                 \n",
      " 79%|███████▉  | 397/500 [00:11<00:04, 22.52trial/s, best loss: 0.00437835196653696]"
     ]
    },
    {
     "name": "stderr",
     "output_type": "stream",
     "text": [
      "`early_stopping_rounds` in `fit` method is deprecated for better compatibility with scikit-learn, use `early_stopping_rounds` in constructor or`set_params` instead.\n",
      "\n",
      "`early_stopping_rounds` in `fit` method is deprecated for better compatibility with scikit-learn, use `early_stopping_rounds` in constructor or`set_params` instead.\n",
      "\n",
      "`early_stopping_rounds` in `fit` method is deprecated for better compatibility with scikit-learn, use `early_stopping_rounds` in constructor or`set_params` instead.\n",
      "\n",
      "`early_stopping_rounds` in `fit` method is deprecated for better compatibility with scikit-learn, use `early_stopping_rounds` in constructor or`set_params` instead.\n",
      "\n"
     ]
    },
    {
     "name": "stdout",
     "output_type": "stream",
     "text": [
      "MSE:                                                                                \n",
      "0.00437835196653696                                                                 \n",
      "MSE:                                                                                \n",
      "0.00437835196653696                                                                 \n",
      "MSE:                                                                                \n",
      "0.00437835196653696                                                                 \n",
      "MSE:                                                                                \n",
      "0.00437835196653696                                                                 \n",
      "MSE:                                                                                \n",
      "0.00437835196653696                                                                 \n",
      " 81%|████████  | 403/500 [00:11<00:04, 23.57trial/s, best loss: 0.00437835196653696]"
     ]
    },
    {
     "name": "stderr",
     "output_type": "stream",
     "text": [
      "`early_stopping_rounds` in `fit` method is deprecated for better compatibility with scikit-learn, use `early_stopping_rounds` in constructor or`set_params` instead.\n",
      "\n",
      "`early_stopping_rounds` in `fit` method is deprecated for better compatibility with scikit-learn, use `early_stopping_rounds` in constructor or`set_params` instead.\n",
      "\n",
      "`early_stopping_rounds` in `fit` method is deprecated for better compatibility with scikit-learn, use `early_stopping_rounds` in constructor or`set_params` instead.\n",
      "\n",
      "`early_stopping_rounds` in `fit` method is deprecated for better compatibility with scikit-learn, use `early_stopping_rounds` in constructor or`set_params` instead.\n",
      "\n",
      "`early_stopping_rounds` in `fit` method is deprecated for better compatibility with scikit-learn, use `early_stopping_rounds` in constructor or`set_params` instead.\n",
      "\n",
      "`early_stopping_rounds` in `fit` method is deprecated for better compatibility with scikit-learn, use `early_stopping_rounds` in constructor or`set_params` instead.\n",
      "\n"
     ]
    },
    {
     "name": "stdout",
     "output_type": "stream",
     "text": [
      "MSE:                                                                                \n",
      "0.00437835196653696                                                                 \n",
      "MSE:                                                                                \n",
      "0.00437835196653696                                                                 \n",
      "MSE:                                                                                \n",
      "0.00437835196653696                                                                 \n",
      "MSE:                                                                                \n",
      "0.00437835196653696                                                                 \n",
      "MSE:                                                                                \n",
      "0.00437835196653696                                                                 \n",
      "MSE:                                                                                \n",
      "0.00437835196653696                                                                 \n",
      "MSE:                                                                                \n",
      "0.00437835196653696                                                                 \n",
      " 82%|████████▏ | 409/500 [00:11<00:03, 23.64trial/s, best loss: 0.00437835196653696]"
     ]
    },
    {
     "name": "stderr",
     "output_type": "stream",
     "text": [
      "`early_stopping_rounds` in `fit` method is deprecated for better compatibility with scikit-learn, use `early_stopping_rounds` in constructor or`set_params` instead.\n",
      "\n",
      "`early_stopping_rounds` in `fit` method is deprecated for better compatibility with scikit-learn, use `early_stopping_rounds` in constructor or`set_params` instead.\n",
      "\n",
      "`early_stopping_rounds` in `fit` method is deprecated for better compatibility with scikit-learn, use `early_stopping_rounds` in constructor or`set_params` instead.\n",
      "\n",
      "`early_stopping_rounds` in `fit` method is deprecated for better compatibility with scikit-learn, use `early_stopping_rounds` in constructor or`set_params` instead.\n",
      "\n",
      "`early_stopping_rounds` in `fit` method is deprecated for better compatibility with scikit-learn, use `early_stopping_rounds` in constructor or`set_params` instead.\n",
      "\n",
      "`early_stopping_rounds` in `fit` method is deprecated for better compatibility with scikit-learn, use `early_stopping_rounds` in constructor or`set_params` instead.\n",
      "\n"
     ]
    },
    {
     "name": "stdout",
     "output_type": "stream",
     "text": [
      "MSE:                                                                                \n",
      "0.00437835196653696                                                                 \n",
      "MSE:                                                                                \n",
      "0.00437835196653696                                                                 \n",
      "MSE:                                                                                \n",
      "0.00437835196653696                                                                 \n",
      "MSE:                                                                                \n",
      "0.00437835196653696                                                                 \n",
      "MSE:                                                                                \n",
      "0.00437835196653696                                                                 \n",
      " 83%|████████▎ | 415/500 [00:11<00:03, 23.74trial/s, best loss: 0.00437835196653696]"
     ]
    },
    {
     "name": "stderr",
     "output_type": "stream",
     "text": [
      "`early_stopping_rounds` in `fit` method is deprecated for better compatibility with scikit-learn, use `early_stopping_rounds` in constructor or`set_params` instead.\n",
      "\n",
      "`early_stopping_rounds` in `fit` method is deprecated for better compatibility with scikit-learn, use `early_stopping_rounds` in constructor or`set_params` instead.\n",
      "\n",
      "`early_stopping_rounds` in `fit` method is deprecated for better compatibility with scikit-learn, use `early_stopping_rounds` in constructor or`set_params` instead.\n",
      "\n",
      "`early_stopping_rounds` in `fit` method is deprecated for better compatibility with scikit-learn, use `early_stopping_rounds` in constructor or`set_params` instead.\n",
      "\n",
      "`early_stopping_rounds` in `fit` method is deprecated for better compatibility with scikit-learn, use `early_stopping_rounds` in constructor or`set_params` instead.\n",
      "\n"
     ]
    },
    {
     "name": "stdout",
     "output_type": "stream",
     "text": [
      "MSE:                                                                                \n",
      "0.00437835196653696                                                                 \n",
      "MSE:                                                                                \n",
      "0.00437835196653696                                                                 \n",
      "MSE:                                                                                \n",
      "0.00437835196653696                                                                 \n",
      "MSE:                                                                                \n",
      "0.00437835196653696                                                                 \n",
      "MSE:                                                                                \n",
      "0.00437835196653696                                                                 \n",
      " 84%|████████▍ | 419/500 [00:11<00:03, 22.41trial/s, best loss: 0.00437835196653696]"
     ]
    },
    {
     "name": "stderr",
     "output_type": "stream",
     "text": [
      "`early_stopping_rounds` in `fit` method is deprecated for better compatibility with scikit-learn, use `early_stopping_rounds` in constructor or`set_params` instead.\n",
      "\n",
      "`early_stopping_rounds` in `fit` method is deprecated for better compatibility with scikit-learn, use `early_stopping_rounds` in constructor or`set_params` instead.\n",
      "\n",
      "`early_stopping_rounds` in `fit` method is deprecated for better compatibility with scikit-learn, use `early_stopping_rounds` in constructor or`set_params` instead.\n",
      "\n",
      "`early_stopping_rounds` in `fit` method is deprecated for better compatibility with scikit-learn, use `early_stopping_rounds` in constructor or`set_params` instead.\n",
      "\n",
      "`early_stopping_rounds` in `fit` method is deprecated for better compatibility with scikit-learn, use `early_stopping_rounds` in constructor or`set_params` instead.\n",
      "\n"
     ]
    },
    {
     "name": "stdout",
     "output_type": "stream",
     "text": [
      "MSE:                                                                                \n",
      "0.00437835196653696                                                                 \n",
      "MSE:                                                                                \n",
      "0.00437835196653696                                                                 \n",
      "MSE:                                                                                \n",
      "0.00437835196653696                                                                 \n",
      "MSE:                                                                                \n",
      "0.00437835196653696                                                                 \n",
      "MSE:                                                                                \n",
      "0.00437835196653696                                                                 \n",
      " 85%|████████▍ | 424/500 [00:12<00:03, 21.99trial/s, best loss: 0.00437835196653696]"
     ]
    },
    {
     "name": "stderr",
     "output_type": "stream",
     "text": [
      "`early_stopping_rounds` in `fit` method is deprecated for better compatibility with scikit-learn, use `early_stopping_rounds` in constructor or`set_params` instead.\n",
      "\n",
      "`early_stopping_rounds` in `fit` method is deprecated for better compatibility with scikit-learn, use `early_stopping_rounds` in constructor or`set_params` instead.\n",
      "\n",
      "`early_stopping_rounds` in `fit` method is deprecated for better compatibility with scikit-learn, use `early_stopping_rounds` in constructor or`set_params` instead.\n",
      "\n",
      "`early_stopping_rounds` in `fit` method is deprecated for better compatibility with scikit-learn, use `early_stopping_rounds` in constructor or`set_params` instead.\n",
      "\n",
      "`early_stopping_rounds` in `fit` method is deprecated for better compatibility with scikit-learn, use `early_stopping_rounds` in constructor or`set_params` instead.\n",
      "\n"
     ]
    },
    {
     "name": "stdout",
     "output_type": "stream",
     "text": [
      "MSE:                                                                                \n",
      "0.00437835196653696                                                                 \n",
      "MSE:                                                                                \n",
      "0.00437835196653696                                                                 \n",
      "MSE:                                                                                \n",
      "0.00437835196653696                                                                 \n",
      "MSE:                                                                                \n",
      "0.00437835196653696                                                                 \n",
      "MSE:                                                                                \n",
      "0.00437835196653696                                                                 \n",
      " 86%|████████▌ | 430/500 [00:12<00:03, 22.26trial/s, best loss: 0.00437835196653696]"
     ]
    },
    {
     "name": "stderr",
     "output_type": "stream",
     "text": [
      "`early_stopping_rounds` in `fit` method is deprecated for better compatibility with scikit-learn, use `early_stopping_rounds` in constructor or`set_params` instead.\n",
      "\n",
      "`early_stopping_rounds` in `fit` method is deprecated for better compatibility with scikit-learn, use `early_stopping_rounds` in constructor or`set_params` instead.\n",
      "\n",
      "`early_stopping_rounds` in `fit` method is deprecated for better compatibility with scikit-learn, use `early_stopping_rounds` in constructor or`set_params` instead.\n",
      "\n",
      "`early_stopping_rounds` in `fit` method is deprecated for better compatibility with scikit-learn, use `early_stopping_rounds` in constructor or`set_params` instead.\n",
      "\n",
      "`early_stopping_rounds` in `fit` method is deprecated for better compatibility with scikit-learn, use `early_stopping_rounds` in constructor or`set_params` instead.\n",
      "\n"
     ]
    },
    {
     "name": "stdout",
     "output_type": "stream",
     "text": [
      "MSE:                                                                                \n",
      "0.00437835196653696                                                                 \n",
      "MSE:                                                                                \n",
      "0.00437835196653696                                                                 \n",
      "MSE:                                                                                \n",
      "0.00437835196653696                                                                 \n",
      "MSE:                                                                                \n",
      "0.00437835196653696                                                                 \n",
      "MSE:                                                                                \n",
      "0.00437835196653696                                                                 \n",
      " 87%|████████▋ | 434/500 [00:12<00:02, 22.08trial/s, best loss: 0.00437835196653696]"
     ]
    },
    {
     "name": "stderr",
     "output_type": "stream",
     "text": [
      "`early_stopping_rounds` in `fit` method is deprecated for better compatibility with scikit-learn, use `early_stopping_rounds` in constructor or`set_params` instead.\n",
      "\n",
      "`early_stopping_rounds` in `fit` method is deprecated for better compatibility with scikit-learn, use `early_stopping_rounds` in constructor or`set_params` instead.\n",
      "\n",
      "`early_stopping_rounds` in `fit` method is deprecated for better compatibility with scikit-learn, use `early_stopping_rounds` in constructor or`set_params` instead.\n",
      "\n",
      "`early_stopping_rounds` in `fit` method is deprecated for better compatibility with scikit-learn, use `early_stopping_rounds` in constructor or`set_params` instead.\n",
      "\n",
      "`early_stopping_rounds` in `fit` method is deprecated for better compatibility with scikit-learn, use `early_stopping_rounds` in constructor or`set_params` instead.\n",
      "\n"
     ]
    },
    {
     "name": "stdout",
     "output_type": "stream",
     "text": [
      "MSE:                                                                                \n",
      "0.00437835196653696                                                                 \n",
      "MSE:                                                                                \n",
      "0.00437835196653696                                                                 \n",
      "MSE:                                                                                \n",
      "0.00437835196653696                                                                 \n",
      "MSE:                                                                                \n",
      "0.00437835196653696                                                                 \n",
      "MSE:                                                                                \n",
      "0.00437835196653696                                                                 \n",
      " 88%|████████▊ | 439/500 [00:12<00:02, 21.80trial/s, best loss: 0.00437835196653696]"
     ]
    },
    {
     "name": "stderr",
     "output_type": "stream",
     "text": [
      "`early_stopping_rounds` in `fit` method is deprecated for better compatibility with scikit-learn, use `early_stopping_rounds` in constructor or`set_params` instead.\n",
      "\n",
      "`early_stopping_rounds` in `fit` method is deprecated for better compatibility with scikit-learn, use `early_stopping_rounds` in constructor or`set_params` instead.\n",
      "\n",
      "`early_stopping_rounds` in `fit` method is deprecated for better compatibility with scikit-learn, use `early_stopping_rounds` in constructor or`set_params` instead.\n",
      "\n",
      "`early_stopping_rounds` in `fit` method is deprecated for better compatibility with scikit-learn, use `early_stopping_rounds` in constructor or`set_params` instead.\n",
      "\n",
      "`early_stopping_rounds` in `fit` method is deprecated for better compatibility with scikit-learn, use `early_stopping_rounds` in constructor or`set_params` instead.\n",
      "\n"
     ]
    },
    {
     "name": "stdout",
     "output_type": "stream",
     "text": [
      "MSE:                                                                                \n",
      "0.00437835196653696                                                                 \n",
      "MSE:                                                                                \n",
      "0.00437835196653696                                                                 \n",
      "MSE:                                                                                \n",
      "0.00437835196653696                                                                 \n",
      "MSE:                                                                                \n",
      "0.00437835196653696                                                                 \n",
      "MSE:                                                                                \n",
      "0.00437835196653696                                                                 \n",
      " 89%|████████▉ | 445/500 [00:13<00:02, 22.03trial/s, best loss: 0.00437835196653696]"
     ]
    },
    {
     "name": "stderr",
     "output_type": "stream",
     "text": [
      "`early_stopping_rounds` in `fit` method is deprecated for better compatibility with scikit-learn, use `early_stopping_rounds` in constructor or`set_params` instead.\n",
      "\n",
      "`early_stopping_rounds` in `fit` method is deprecated for better compatibility with scikit-learn, use `early_stopping_rounds` in constructor or`set_params` instead.\n",
      "\n",
      "`early_stopping_rounds` in `fit` method is deprecated for better compatibility with scikit-learn, use `early_stopping_rounds` in constructor or`set_params` instead.\n",
      "\n",
      "`early_stopping_rounds` in `fit` method is deprecated for better compatibility with scikit-learn, use `early_stopping_rounds` in constructor or`set_params` instead.\n",
      "\n",
      "`early_stopping_rounds` in `fit` method is deprecated for better compatibility with scikit-learn, use `early_stopping_rounds` in constructor or`set_params` instead.\n",
      "\n"
     ]
    },
    {
     "name": "stdout",
     "output_type": "stream",
     "text": [
      "MSE:                                                                                \n",
      "0.00437835196653696                                                                 \n",
      "MSE:                                                                                \n",
      "0.00437835196653696                                                                 \n",
      "MSE:                                                                                \n",
      "0.00437835196653696                                                                 \n",
      "MSE:                                                                                \n",
      "0.00437835196653696                                                                 \n",
      " 90%|████████▉ | 448/500 [00:13<00:02, 20.77trial/s, best loss: 0.00437835196653696]"
     ]
    },
    {
     "name": "stderr",
     "output_type": "stream",
     "text": [
      "`early_stopping_rounds` in `fit` method is deprecated for better compatibility with scikit-learn, use `early_stopping_rounds` in constructor or`set_params` instead.\n",
      "\n",
      "`early_stopping_rounds` in `fit` method is deprecated for better compatibility with scikit-learn, use `early_stopping_rounds` in constructor or`set_params` instead.\n",
      "\n",
      "`early_stopping_rounds` in `fit` method is deprecated for better compatibility with scikit-learn, use `early_stopping_rounds` in constructor or`set_params` instead.\n",
      "\n",
      "`early_stopping_rounds` in `fit` method is deprecated for better compatibility with scikit-learn, use `early_stopping_rounds` in constructor or`set_params` instead.\n",
      "\n",
      "`early_stopping_rounds` in `fit` method is deprecated for better compatibility with scikit-learn, use `early_stopping_rounds` in constructor or`set_params` instead.\n",
      "\n"
     ]
    },
    {
     "name": "stdout",
     "output_type": "stream",
     "text": [
      "MSE:                                                                                \n",
      "0.00437835196653696                                                                 \n",
      "MSE:                                                                                \n",
      "0.00437835196653696                                                                 \n",
      "MSE:                                                                                \n",
      "0.00437835196653696                                                                 \n",
      "MSE:                                                                                \n",
      "0.00437835196653696                                                                 \n",
      "MSE:                                                                                \n",
      "0.00437835196653696                                                                 \n",
      "MSE:                                                                                \n",
      "0.00437835196653696                                                                 \n",
      " 91%|█████████ | 454/500 [00:13<00:02, 21.61trial/s, best loss: 0.00437835196653696]"
     ]
    },
    {
     "name": "stderr",
     "output_type": "stream",
     "text": [
      "`early_stopping_rounds` in `fit` method is deprecated for better compatibility with scikit-learn, use `early_stopping_rounds` in constructor or`set_params` instead.\n",
      "\n",
      "`early_stopping_rounds` in `fit` method is deprecated for better compatibility with scikit-learn, use `early_stopping_rounds` in constructor or`set_params` instead.\n",
      "\n",
      "`early_stopping_rounds` in `fit` method is deprecated for better compatibility with scikit-learn, use `early_stopping_rounds` in constructor or`set_params` instead.\n",
      "\n",
      "`early_stopping_rounds` in `fit` method is deprecated for better compatibility with scikit-learn, use `early_stopping_rounds` in constructor or`set_params` instead.\n",
      "\n",
      "`early_stopping_rounds` in `fit` method is deprecated for better compatibility with scikit-learn, use `early_stopping_rounds` in constructor or`set_params` instead.\n",
      "\n"
     ]
    },
    {
     "name": "stdout",
     "output_type": "stream",
     "text": [
      "MSE:                                                                                \n",
      "0.00437835196653696                                                                 \n",
      "MSE:                                                                                \n",
      "0.00437835196653696                                                                 \n",
      "MSE:                                                                                \n",
      "0.00437835196653696                                                                 \n",
      "MSE:                                                                                \n",
      "0.00437835196653696                                                                 \n",
      "MSE:                                                                                \n",
      "0.00437835196653696                                                                 \n",
      " 92%|█████████▏| 460/500 [00:13<00:01, 21.87trial/s, best loss: 0.00437835196653696]"
     ]
    },
    {
     "name": "stderr",
     "output_type": "stream",
     "text": [
      "`early_stopping_rounds` in `fit` method is deprecated for better compatibility with scikit-learn, use `early_stopping_rounds` in constructor or`set_params` instead.\n",
      "\n",
      "`early_stopping_rounds` in `fit` method is deprecated for better compatibility with scikit-learn, use `early_stopping_rounds` in constructor or`set_params` instead.\n",
      "\n",
      "`early_stopping_rounds` in `fit` method is deprecated for better compatibility with scikit-learn, use `early_stopping_rounds` in constructor or`set_params` instead.\n",
      "\n",
      "`early_stopping_rounds` in `fit` method is deprecated for better compatibility with scikit-learn, use `early_stopping_rounds` in constructor or`set_params` instead.\n",
      "\n",
      "`early_stopping_rounds` in `fit` method is deprecated for better compatibility with scikit-learn, use `early_stopping_rounds` in constructor or`set_params` instead.\n",
      "\n"
     ]
    },
    {
     "name": "stdout",
     "output_type": "stream",
     "text": [
      "MSE:                                                                                \n",
      "0.00437835196653696                                                                 \n",
      "MSE:                                                                                \n",
      "0.00437835196653696                                                                 \n",
      "MSE:                                                                                \n",
      "0.00437835196653696                                                                 \n",
      "MSE:                                                                                \n",
      "0.00437835196653696                                                                 \n",
      "MSE:                                                                                \n",
      "0.00437835196653696                                                                 \n",
      " 93%|█████████▎| 464/500 [00:14<00:01, 22.89trial/s, best loss: 0.00437835196653696]"
     ]
    },
    {
     "name": "stderr",
     "output_type": "stream",
     "text": [
      "`early_stopping_rounds` in `fit` method is deprecated for better compatibility with scikit-learn, use `early_stopping_rounds` in constructor or`set_params` instead.\n",
      "\n",
      "`early_stopping_rounds` in `fit` method is deprecated for better compatibility with scikit-learn, use `early_stopping_rounds` in constructor or`set_params` instead.\n",
      "\n",
      "`early_stopping_rounds` in `fit` method is deprecated for better compatibility with scikit-learn, use `early_stopping_rounds` in constructor or`set_params` instead.\n",
      "\n",
      "`early_stopping_rounds` in `fit` method is deprecated for better compatibility with scikit-learn, use `early_stopping_rounds` in constructor or`set_params` instead.\n",
      "\n",
      "`early_stopping_rounds` in `fit` method is deprecated for better compatibility with scikit-learn, use `early_stopping_rounds` in constructor or`set_params` instead.\n",
      "\n"
     ]
    },
    {
     "name": "stdout",
     "output_type": "stream",
     "text": [
      "MSE:                                                                                \n",
      "0.00437835196653696                                                                 \n",
      "MSE:                                                                                \n",
      "0.00437835196653696                                                                 \n",
      "MSE:                                                                                \n",
      "0.00437835196653696                                                                 \n",
      "MSE:                                                                                \n",
      "0.00437835196653696                                                                 \n",
      "MSE:                                                                                \n",
      "0.00437835196653696                                                                 \n",
      " 94%|█████████▍| 469/500 [00:14<00:01, 23.74trial/s, best loss: 0.00437835196653696]"
     ]
    },
    {
     "name": "stderr",
     "output_type": "stream",
     "text": [
      "`early_stopping_rounds` in `fit` method is deprecated for better compatibility with scikit-learn, use `early_stopping_rounds` in constructor or`set_params` instead.\n",
      "\n",
      "`early_stopping_rounds` in `fit` method is deprecated for better compatibility with scikit-learn, use `early_stopping_rounds` in constructor or`set_params` instead.\n",
      "\n",
      "`early_stopping_rounds` in `fit` method is deprecated for better compatibility with scikit-learn, use `early_stopping_rounds` in constructor or`set_params` instead.\n",
      "\n",
      "`early_stopping_rounds` in `fit` method is deprecated for better compatibility with scikit-learn, use `early_stopping_rounds` in constructor or`set_params` instead.\n",
      "\n",
      "`early_stopping_rounds` in `fit` method is deprecated for better compatibility with scikit-learn, use `early_stopping_rounds` in constructor or`set_params` instead.\n",
      "\n"
     ]
    },
    {
     "name": "stdout",
     "output_type": "stream",
     "text": [
      "MSE:                                                                                \n",
      "0.00437835196653696                                                                 \n",
      "MSE:                                                                                \n",
      "0.00437835196653696                                                                 \n",
      "MSE:                                                                                \n",
      "0.00437835196653696                                                                 \n",
      "MSE:                                                                                \n",
      "0.00437835196653696                                                                 \n",
      "MSE:                                                                                \n",
      "0.00437835196653696                                                                 \n",
      " 95%|█████████▌| 475/500 [00:14<00:01, 23.56trial/s, best loss: 0.00437835196653696]"
     ]
    },
    {
     "name": "stderr",
     "output_type": "stream",
     "text": [
      "`early_stopping_rounds` in `fit` method is deprecated for better compatibility with scikit-learn, use `early_stopping_rounds` in constructor or`set_params` instead.\n",
      "\n",
      "`early_stopping_rounds` in `fit` method is deprecated for better compatibility with scikit-learn, use `early_stopping_rounds` in constructor or`set_params` instead.\n",
      "\n",
      "`early_stopping_rounds` in `fit` method is deprecated for better compatibility with scikit-learn, use `early_stopping_rounds` in constructor or`set_params` instead.\n",
      "\n",
      "`early_stopping_rounds` in `fit` method is deprecated for better compatibility with scikit-learn, use `early_stopping_rounds` in constructor or`set_params` instead.\n",
      "\n",
      "`early_stopping_rounds` in `fit` method is deprecated for better compatibility with scikit-learn, use `early_stopping_rounds` in constructor or`set_params` instead.\n",
      "\n"
     ]
    },
    {
     "name": "stdout",
     "output_type": "stream",
     "text": [
      "MSE:                                                                                \n",
      "0.00437835196653696                                                                 \n",
      "MSE:                                                                                \n",
      "0.00437835196653696                                                                 \n",
      "MSE:                                                                                \n",
      "0.00437835196653696                                                                 \n",
      "MSE:                                                                                \n",
      "0.00437835196653696                                                                 \n",
      "MSE:                                                                                \n",
      "0.00437835196653696                                                                 \n",
      " 96%|█████████▌| 479/500 [00:14<00:00, 22.56trial/s, best loss: 0.00437835196653696]"
     ]
    },
    {
     "name": "stderr",
     "output_type": "stream",
     "text": [
      "`early_stopping_rounds` in `fit` method is deprecated for better compatibility with scikit-learn, use `early_stopping_rounds` in constructor or`set_params` instead.\n",
      "\n",
      "`early_stopping_rounds` in `fit` method is deprecated for better compatibility with scikit-learn, use `early_stopping_rounds` in constructor or`set_params` instead.\n",
      "\n",
      "`early_stopping_rounds` in `fit` method is deprecated for better compatibility with scikit-learn, use `early_stopping_rounds` in constructor or`set_params` instead.\n",
      "\n",
      "`early_stopping_rounds` in `fit` method is deprecated for better compatibility with scikit-learn, use `early_stopping_rounds` in constructor or`set_params` instead.\n",
      "\n",
      "`early_stopping_rounds` in `fit` method is deprecated for better compatibility with scikit-learn, use `early_stopping_rounds` in constructor or`set_params` instead.\n",
      "\n"
     ]
    },
    {
     "name": "stdout",
     "output_type": "stream",
     "text": [
      "MSE:                                                                                \n",
      "0.00437835196653696                                                                 \n",
      "MSE:                                                                                \n",
      "0.00437835196653696                                                                 \n",
      "MSE:                                                                                \n",
      "0.00437835196653696                                                                 \n",
      "MSE:                                                                                \n",
      "0.00437835196653696                                                                 \n",
      "MSE:                                                                                \n",
      "0.00437835196653696                                                                 \n",
      " 97%|█████████▋| 484/500 [00:14<00:00, 22.70trial/s, best loss: 0.00437835196653696]"
     ]
    },
    {
     "name": "stderr",
     "output_type": "stream",
     "text": [
      "`early_stopping_rounds` in `fit` method is deprecated for better compatibility with scikit-learn, use `early_stopping_rounds` in constructor or`set_params` instead.\n",
      "\n",
      "`early_stopping_rounds` in `fit` method is deprecated for better compatibility with scikit-learn, use `early_stopping_rounds` in constructor or`set_params` instead.\n",
      "\n",
      "`early_stopping_rounds` in `fit` method is deprecated for better compatibility with scikit-learn, use `early_stopping_rounds` in constructor or`set_params` instead.\n",
      "\n",
      "`early_stopping_rounds` in `fit` method is deprecated for better compatibility with scikit-learn, use `early_stopping_rounds` in constructor or`set_params` instead.\n",
      "\n",
      "`early_stopping_rounds` in `fit` method is deprecated for better compatibility with scikit-learn, use `early_stopping_rounds` in constructor or`set_params` instead.\n",
      "\n"
     ]
    },
    {
     "name": "stdout",
     "output_type": "stream",
     "text": [
      "MSE:                                                                                \n",
      "0.00437835196653696                                                                 \n",
      "MSE:                                                                                \n",
      "0.00437835196653696                                                                 \n",
      "MSE:                                                                                \n",
      "0.00437835196653696                                                                 \n",
      "MSE:                                                                                \n",
      "0.00437835196653696                                                                 \n",
      "MSE:                                                                                \n",
      "0.00437835196653696                                                                 \n",
      " 98%|█████████▊| 490/500 [00:15<00:00, 22.44trial/s, best loss: 0.00437835196653696]"
     ]
    },
    {
     "name": "stderr",
     "output_type": "stream",
     "text": [
      "`early_stopping_rounds` in `fit` method is deprecated for better compatibility with scikit-learn, use `early_stopping_rounds` in constructor or`set_params` instead.\n",
      "\n",
      "`early_stopping_rounds` in `fit` method is deprecated for better compatibility with scikit-learn, use `early_stopping_rounds` in constructor or`set_params` instead.\n",
      "\n",
      "`early_stopping_rounds` in `fit` method is deprecated for better compatibility with scikit-learn, use `early_stopping_rounds` in constructor or`set_params` instead.\n",
      "\n",
      "`early_stopping_rounds` in `fit` method is deprecated for better compatibility with scikit-learn, use `early_stopping_rounds` in constructor or`set_params` instead.\n",
      "\n",
      "`early_stopping_rounds` in `fit` method is deprecated for better compatibility with scikit-learn, use `early_stopping_rounds` in constructor or`set_params` instead.\n",
      "\n"
     ]
    },
    {
     "name": "stdout",
     "output_type": "stream",
     "text": [
      "MSE:                                                                                \n",
      "0.00437835196653696                                                                 \n",
      "MSE:                                                                                \n",
      "0.00437835196653696                                                                 \n",
      "MSE:                                                                                \n",
      "0.00437835196653696                                                                 \n",
      "MSE:                                                                                \n",
      "0.00437835196653696                                                                 \n",
      "MSE:                                                                                \n",
      "0.00437835196653696                                                                 \n",
      " 99%|█████████▉| 494/500 [00:15<00:00, 22.71trial/s, best loss: 0.00437835196653696]"
     ]
    },
    {
     "name": "stderr",
     "output_type": "stream",
     "text": [
      "`early_stopping_rounds` in `fit` method is deprecated for better compatibility with scikit-learn, use `early_stopping_rounds` in constructor or`set_params` instead.\n",
      "\n",
      "`early_stopping_rounds` in `fit` method is deprecated for better compatibility with scikit-learn, use `early_stopping_rounds` in constructor or`set_params` instead.\n",
      "\n",
      "`early_stopping_rounds` in `fit` method is deprecated for better compatibility with scikit-learn, use `early_stopping_rounds` in constructor or`set_params` instead.\n",
      "\n",
      "`early_stopping_rounds` in `fit` method is deprecated for better compatibility with scikit-learn, use `early_stopping_rounds` in constructor or`set_params` instead.\n",
      "\n",
      "`early_stopping_rounds` in `fit` method is deprecated for better compatibility with scikit-learn, use `early_stopping_rounds` in constructor or`set_params` instead.\n",
      "\n"
     ]
    },
    {
     "name": "stdout",
     "output_type": "stream",
     "text": [
      "MSE:                                                                                \n",
      "0.00437835196653696                                                                 \n",
      "MSE:                                                                                \n",
      "0.00437835196653696                                                                 \n",
      "MSE:                                                                                \n",
      "0.00437835196653696                                                                 \n",
      "MSE:                                                                                \n",
      "0.00437835196653696                                                                 \n",
      "MSE:                                                                                \n",
      "0.00437835196653696                                                                 \n",
      "100%|██████████| 500/500 [00:15<00:00, 32.15trial/s, best loss: 0.00437835196653696]\n",
      "The best hyperparameters are:  {'colsample_bytree': 0.8154557509696472, 'gamma': 6.5575635248293125, 'learning_rate': 0.1374260369357884, 'max_depth': 12.0, 'min_child_weight': 1.0, 'reg_alpha': 57.0, 'reg_lambda': 0.4066979394347562, 'subsample': 0.9658250628355184}\n"
     ]
    },
    {
     "name": "stderr",
     "output_type": "stream",
     "text": [
      "`early_stopping_rounds` in `fit` method is deprecated for better compatibility with scikit-learn, use `early_stopping_rounds` in constructor or`set_params` instead.\n",
      "\n",
      "`early_stopping_rounds` in `fit` method is deprecated for better compatibility with scikit-learn, use `early_stopping_rounds` in constructor or`set_params` instead.\n",
      "\n",
      "`early_stopping_rounds` in `fit` method is deprecated for better compatibility with scikit-learn, use `early_stopping_rounds` in constructor or`set_params` instead.\n",
      "\n",
      "`early_stopping_rounds` in `fit` method is deprecated for better compatibility with scikit-learn, use `early_stopping_rounds` in constructor or`set_params` instead.\n",
      "\n",
      "`early_stopping_rounds` in `fit` method is deprecated for better compatibility with scikit-learn, use `early_stopping_rounds` in constructor or`set_params` instead.\n",
      "\n"
     ]
    }
   ],
   "source": [
    "# import packages for hyperparameters tuning\n",
    "from hyperopt import STATUS_OK, Trials, fmin, hp, tpe\n",
    "from sklearn.metrics import mean_squared_error\n",
    "\n",
    "\n",
    "# Define the search space\n",
    "space = {\n",
    "    'max_depth': hp.quniform(\"max_depth\", 3, 18, 1),\n",
    "    'gamma': hp.uniform('gamma', 1, 9),\n",
    "    'reg_alpha': hp.quniform('reg_alpha', 40, 180, 1),\n",
    "    'reg_lambda': hp.uniform('reg_lambda', 0, 1),\n",
    "    'colsample_bytree': hp.uniform('colsample_bytree', 0.5, 1),\n",
    "    'min_child_weight': hp.quniform('min_child_weight', 0, 10, 1),\n",
    "    'learning_rate': hp.uniform('learning_rate', 0.01, 0.3),\n",
    "    'subsample': hp.uniform('subsample', 0.5, 1),\n",
    "    'n_estimators': 1000,  # Set a high initial value\n",
    "    'seed': 0\n",
    "}\n",
    "\n",
    "# Define the objective function\n",
    "def objective(space):\n",
    "    clf = xgb.XGBRegressor(\n",
    "        n_estimators=int(space['n_estimators']),\n",
    "        max_depth=int(space['max_depth']),\n",
    "        gamma=space['gamma'],\n",
    "        reg_alpha=int(space['reg_alpha']),\n",
    "        reg_lambda=space['reg_lambda'],\n",
    "        min_child_weight=int(space['min_child_weight']),\n",
    "        colsample_bytree=space['colsample_bytree'],\n",
    "        learning_rate=space['learning_rate'],\n",
    "        subsample=space['subsample'],\n",
    "        seed=int(space['seed']),\n",
    "        eval_metric=\"rmse\"  # Use eval_metric in constructor\n",
    "    )\n",
    "    \n",
    "    evaluation = [(X_train, y_train), (X_test, y_test)]\n",
    "    \n",
    "    clf.fit(X_train, y_train,\n",
    "            eval_set=evaluation,\n",
    "            early_stopping_rounds=10,\n",
    "            verbose=False)\n",
    "    \n",
    "    pred = clf.predict(X_test)\n",
    "    mse = mean_squared_error(y_test, pred)\n",
    "    print(\"MSE:\", mse)\n",
    "    \n",
    "    return {'loss': mse, 'status': STATUS_OK }\n",
    "\n",
    "# Optimize hyperparameters\n",
    "trials = Trials()\n",
    "best_hyperparams = fmin(fn=objective,\n",
    "                        space=space,\n",
    "                        algo=tpe.suggest,\n",
    "                        max_evals=500,\n",
    "                        trials=trials)\n",
    "\n",
    "print(\"The best hyperparameters are: \", best_hyperparams)"
   ]
  },
  {
   "cell_type": "code",
   "execution_count": 13,
   "metadata": {},
   "outputs": [],
   "source": [
    "#best_hyperparams(old) = {'colsample_bytree': 0.816944213113115, 'gamma': 8.69381685405381, 'learning_rate': 0.2650770224347389, 'max_depth': 5.0, 'min_child_weight': 6.0, 'reg_alpha': 104.0, 'reg_lambda': 0.48792168878048814, 'subsample': 0.9956988482348499,'n_estimators': 1000}\n",
    "\n",
    "# Default Model Evaluation:\n",
    "#Mean Squared Error on Test Data: 0.00044879160821158286\n",
    "#Mean Absolute Error on Test Data: 0.0024954436622435087\n",
    "#Mean Cross-Validated MSE: 0.0002856361040469104"
   ]
  },
  {
   "cell_type": "code",
   "execution_count": 22,
   "metadata": {},
   "outputs": [],
   "source": [
    "best_hyperparams={'colsample_bytree': 0.8154557509696472, 'gamma': 6.5575635248293125, 'learning_rate': 0.1374260369357884, 'max_depth': 12.0, 'min_child_weight': 1.0, 'reg_alpha': 57.0, 'reg_lambda': 0.4066979394347562, 'subsample': 0.9658250628355184,'n_estimators': 1000}\n",
    "\n"
   ]
  },
  {
   "cell_type": "code",
   "execution_count": 23,
   "metadata": {},
   "outputs": [
    {
     "name": "stdout",
     "output_type": "stream",
     "text": [
      "\n",
      "Optimized Model Evaluation:\n",
      "Mean Squared Error on Test Data: 0.004384664207265141\n",
      "Mean Absolute Error on Test Data: 0.02698712279667517\n",
      "Mean Cross-Validated MSE: 0.004736468712449142\n"
     ]
    }
   ],
   "source": [
    "# Train model with best hyperparameters\n",
    "best_max_depth = int(best_hyperparams['max_depth'])\n",
    "best_min_child_weight = best_hyperparams['min_child_weight']\n",
    "best_gamma = best_hyperparams['gamma']\n",
    "best_subsample = best_hyperparams['subsample']\n",
    "best_colsample_bytree = best_hyperparams['colsample_bytree']\n",
    "best_learning_rate = best_hyperparams['learning_rate']\n",
    "best_n_estimators = int(best_hyperparams['n_estimators'])\n",
    "best_reg_alpha = best_hyperparams['reg_alpha']\n",
    "best_reg_lambda = best_hyperparams['reg_lambda']\n",
    "\n",
    "\n",
    "\n",
    "xgb_reg_optimized= xgb.XGBRegressor(\n",
    "    objective='reg:pseudohubererror',\n",
    "    max_depth=best_max_depth,\n",
    "    min_child_weight=best_min_child_weight,\n",
    "    gamma=best_gamma,\n",
    "    subsample=best_subsample,\n",
    "    colsample_bytree=best_colsample_bytree,\n",
    "    learning_rate=best_learning_rate,\n",
    "    n_estimators=best_n_estimators,\n",
    "    reg_alpha=best_reg_alpha,\n",
    "    reg_lambda=best_reg_lambda\n",
    ")\n",
    "\n",
    "\n",
    "xgb_reg_optimized.fit(X_train, y_train)\n",
    "\n",
    "# Predictions on test data\n",
    "y_pred_optimized = xgb_reg_optimized.predict(X_test)\n",
    "\n",
    "# Model evaluation\n",
    "mse_default = mean_squared_error(y_test, y_pred_optimized)\n",
    "mae_default = mean_absolute_error(y_test, y_pred_optimized)\n",
    "print(\"\\nOptimized Model Evaluation:\")\n",
    "print(f\"Mean Squared Error on Test Data: {mse_default}\")\n",
    "print(f\"Mean Absolute Error on Test Data: {mae_default}\")\n",
    "\n",
    "# Perform 5-fold cross-validation\n",
    "cv_scores = cross_val_score(xgb_reg_optimized, X_train, y_train, cv=5, scoring='neg_mean_squared_error')\n",
    "mse_cv_mean = -cv_scores.mean()\n",
    "print(\"Mean Cross-Validated MSE:\", mse_cv_mean)"
   ]
  },
  {
   "cell_type": "code",
   "execution_count": 24,
   "metadata": {},
   "outputs": [],
   "source": [
    "# Get the column names of the numerical features\n",
    "numerical_feature_names = preprocessor.transformers_[1][1].get_feature_names_out(numerical_features)\n",
    "\n",
    "# Get the column names of the one-hot encoded categorical feature 'product'\n",
    "categorical_feature_names = preprocessor.transformers_[0][1].get_feature_names_out(['product'])\n",
    "\n",
    "# Concatenate the numerical and one-hot encoded feature names\n",
    "all_feature_names = list(numerical_feature_names) + list(categorical_feature_names)\n",
    "\n",
    "# Create DataFrame from scaled X_train with the concatenated feature names\n",
    "X_train_scaled_df = pd.DataFrame(X_train, columns=all_feature_names)"
   ]
  },
  {
   "cell_type": "markdown",
   "metadata": {},
   "source": [
    "## 2. Feature Importance with Shap Values"
   ]
  },
  {
   "cell_type": "code",
   "execution_count": 25,
   "metadata": {},
   "outputs": [
    {
     "name": "stderr",
     "output_type": "stream",
     "text": [
      "[08:20:24] WARNING: /var/folders/nz/j6p8yfhx1mv_0grj5xl4650h0000gp/T/abs_b6b50u1t0e/croot/xgboost-split_1713972723244/work/cpp_src/src/c_api/c_api.cc:1240: Saving into deprecated binary model format, please consider using `json` or `ubj`. Model format will default to JSON in XGBoost 2.2 if not specified.\n",
      "No data for colormapping provided via 'c'. Parameters 'vmin', 'vmax' will be ignored\n"
     ]
    },
    {
     "data": {
      "image/png": "[encoded data removed]",
      "text/plain": [
       "<Figure size 800x950 with 2 Axes>"
      ]
     },
     "metadata": {},
     "output_type": "display_data"
    },
    {
     "data": {
      "image/png": "[encoded data removed]",
      "text/plain": [
       "<Figure size 800x950 with 1 Axes>"
      ]
     },
     "metadata": {},
     "output_type": "display_data"
    },
    {
     "data": {
      "image/png": "[encoded data removed]",
      "text/plain": [
       "<Figure size 750x500 with 2 Axes>"
      ]
     },
     "metadata": {},
     "output_type": "display_data"
    },
    {
     "data": {
      "image/png": "[encoded data removed]",
      "text/plain": [
       "<Figure size 1000x500 with 1 Axes>"
      ]
     },
     "metadata": {},
     "output_type": "display_data"
    }
   ],
   "source": [
    "# Create SHAP explainer\n",
    "explainer = shap.TreeExplainer(xgb_reg_default)\n",
    "\n",
    "# Calculate SHAP values for the dataset\n",
    "shap_values = explainer.shap_values(X_train_scaled_df)\n",
    "\n",
    "# Plot the SHAP summary plot\n",
    "shap.summary_plot(shap_values, X_train_scaled_df)\n",
    "\n",
    "# Create a beeswarm plot\n",
    "shap.summary_plot(shap_values, X_train_scaled_df, plot_type=\"bar\", show=False)\n",
    "plt.show()\n",
    "\n",
    "# Plot specifically for the 'image' feature\n",
    "shap.dependence_plot('image', shap_values, X_train_scaled_df)\n",
    "\n",
    "# Extract SHAP values for the 'image' feature\n",
    "image_shap_values = shap_values[:, X_train_scaled_df.columns.get_loc('image')]\n",
    "\n",
    "# Plot SHAP values for 'image'\n",
    "plt.figure(figsize=(10, 5))\n",
    "plt.scatter(X_train_scaled_df['image'], image_shap_values, alpha=0.6)\n",
    "plt.axhline(0, color='red', linestyle='--')\n",
    "plt.title('SHAP Values for \"image\" Feature')\n",
    "plt.xlabel('Image Presence (0 = No, 1 = Yes)')\n",
    "plt.ylabel('SHAP Value')\n",
    "plt.show()\n"
   ]
  },
  {
   "cell_type": "code",
   "execution_count": 18,
   "metadata": {},
   "outputs": [
    {
     "name": "stderr",
     "output_type": "stream",
     "text": [
      "[08:19:25] WARNING: /var/folders/nz/j6p8yfhx1mv_0grj5xl4650h0000gp/T/abs_b6b50u1t0e/croot/xgboost-split_1713972723244/work/cpp_src/src/c_api/c_api.cc:1240: Saving into deprecated binary model format, please consider using `json` or `ubj`. Model format will default to JSON in XGBoost 2.2 if not specified.\n"
     ]
    }
   ],
   "source": [
    "# Create the SHAP explainer for the model\n",
    "explainer = shap.TreeExplainer(xgb_reg_default)\n",
    "\n",
    "# Calculate SHAP values for the training set\n",
    "shap_values_train = explainer.shap_values(X_train_scaled_df)\n"
   ]
  },
  {
   "cell_type": "code",
   "execution_count": 19,
   "metadata": {},
   "outputs": [],
   "source": [
    "# Calculate the mean of the absolute SHAP values for each feature\n",
    "average_shap_values_train = np.abs(shap_values_train).mean(axis=0)\n"
   ]
  },
  {
   "cell_type": "code",
   "execution_count": 20,
   "metadata": {},
   "outputs": [
    {
     "name": "stdout",
     "output_type": "stream",
     "text": [
      "                features  average_shap_value\n",
      "12                  #adv            0.007511\n",
      "8                  image            0.006219\n",
      "10                #nouns            0.004639\n",
      "5            sent_length            0.004430\n",
      "19   product_Video Games            0.004298\n",
      "15     product_Chocolate            0.004085\n",
      "18       product_Perfume            0.004019\n",
      "9              ver_purch            0.003892\n",
      "17         product_Music            0.003400\n",
      "0             review_ext            0.003053\n",
      "13      subjective_score            0.002947\n",
      "16  product_Facial Spray            0.002927\n",
      "7              elap_days            0.001612\n",
      "14                   FRE            0.000996\n",
      "2            sentiment_c            0.000780\n",
      "6           title_length            0.000624\n",
      "11                  #adj            0.000425\n",
      "3             word_count            0.000373\n",
      "4             sent_count            0.000272\n",
      "1                  price            0.000240\n"
     ]
    }
   ],
   "source": [
    "# Create a DataFrame for the features and their average SHAP values\n",
    "shap_df_train = pd.DataFrame({\n",
    "    'features': X_train_scaled_df.columns,\n",
    "    'average_shap_value': average_shap_values_train\n",
    "})\n",
    "\n",
    "# Sort the DataFrame based on the average SHAP values\n",
    "shap_df_train_sorted = shap_df_train.sort_values(by='average_shap_value', ascending=False)\n",
    "\n",
    "# Display the sorted DataFrame\n",
    "print(shap_df_train_sorted)"
   ]
  },
  {
   "cell_type": "code",
   "execution_count": 21,
   "metadata": {},
   "outputs": [
    {
     "ename": "NameError",
     "evalue": "name 'X_test_scaled_df' is not defined",
     "output_type": "error",
     "traceback": [
      "\u001b[0;31m---------------------------------------------------------------------------\u001b[0m",
      "\u001b[0;31mNameError\u001b[0m                                 Traceback (most recent call last)",
      "Cell \u001b[0;32mIn[21], line 2\u001b[0m\n\u001b[1;32m      1\u001b[0m \u001b[38;5;66;03m# Calculate SHAP values for the test set\u001b[39;00m\n\u001b[0;32m----> 2\u001b[0m shap_values_test \u001b[38;5;241m=\u001b[39m explainer\u001b[38;5;241m.\u001b[39mshap_values(\u001b[43mX_test_scaled_df\u001b[49m)\n",
      "\u001b[0;31mNameError\u001b[0m: name 'X_test_scaled_df' is not defined"
     ]
    }
   ],
   "source": [
    "# Calculate SHAP values for the test set\n",
    "shap_values_test = explainer.shap_values(X_test_scaled_df)\n"
   ]
  },
  {
   "cell_type": "code",
   "execution_count": null,
   "metadata": {},
   "outputs": [],
   "source": [
    "# Loop through each instance in the test set\n",
    "for example_index in range(len(X_test)):\n",
    "    # Extract SHAP values for the specific instance\n",
    "    example_shap_values = shap_values_test[example_index]\n",
    "    # Extract the corresponding predicted and actual value for the instance\n",
    "    predicted_value = y_pred_default[example_index]\n",
    "    actual_value = y_test[example_index]\n",
    "\n",
    "    # Create a DataFrame for plotting\n",
    "    shap_values_df = pd.DataFrame({\n",
    "        'feature': X_test_scaled_df.columns,\n",
    "        'shap_value': example_shap_values\n",
    "    })\n",
    "\n",
    "    # Sort the DataFrame based on the SHAP values\n",
    "    shap_values_df_sorted = shap_values_df.sort_values(by='shap_value', ascending=True)\n",
    "\n",
    "    # Plot\n",
    "    plt.figure(figsize=(10, 8))\n",
    "    plt.barh(shap_values_df_sorted['feature'], shap_values_df_sorted['shap_value'], color='skyblue')\n",
    "    plt.xlabel('SHAP Value')\n",
    "    # Include predicted and actual value in the title\n",
    "    plt.title(f'SHAP Values for Instance Index {example_index}\\nPredicted: {predicted_value:.2f}, Actual: {actual_value[0]:.2f}')\n",
    "    plt.grid(True)\n",
    "    plt.show()\n"
   ]
  }
 ],
 "metadata": {
  "kernelspec": {
   "display_name": "torch-gpu",
   "language": "python",
   "name": "python3"
  },
  "language_info": {
   "codemirror_mode": {
    "name": "ipython",
    "version": 3
   },
   "file_extension": ".py",
   "mimetype": "text/x-python",
   "name": "python",
   "nbconvert_exporter": "python",
   "pygments_lexer": "ipython3",
   "version": "3.8.18"
  },
  "orig_nbformat": 4
 },
 "nbformat": 4,
 "nbformat_minor": 2
}
