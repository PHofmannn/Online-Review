{
 "cells": [
  {
   "cell_type": "code",
   "execution_count": 1,
   "metadata": {},
   "outputs": [
    {
     "name": "stderr",
     "output_type": "stream",
     "text": [
      "Using `tqdm.autonotebook.tqdm` in notebook mode. Use `tqdm.tqdm` instead to force console mode (e.g. in jupyter console)\n"
     ]
    }
   ],
   "source": [
    "# Importing Packages and Libraries\n",
    "import shap\n",
    "import pandas as pd\n",
    "import xgboost as xgb\n",
    "import numpy as np\n",
    "import matplotlib.pyplot as plt\n",
    "from sklearn.model_selection import train_test_split\n",
    "from sklearn.preprocessing import MinMaxScaler\n",
    "from sklearn.metrics import mean_squared_error, mean_absolute_error\n",
    "import pandas as pd\n",
    "from sklearn.compose import ColumnTransformer\n",
    "from sklearn.model_selection import cross_val_score, train_test_split\n",
    "from sklearn.preprocessing import MinMaxScaler, LabelEncoder, OneHotEncoder"
   ]
  },
  {
   "cell_type": "code",
   "execution_count": 2,
   "metadata": {},
   "outputs": [],
   "source": [
    "# Load data\n",
    "file_path1 = '/Users/paulahofmann/Documents/Coding/Online-Review/FeaturePreperation/Data_with_Features/Final Data/Hedonic_Final.csv'\n",
    "df = pd.read_csv(file_path1)\n",
    "\n"
   ]
  },
  {
   "cell_type": "code",
   "execution_count": 3,
   "metadata": {},
   "outputs": [],
   "source": [
    "# Drop unnecessary columns\n",
    "columns_to_drop = ['title_x', 'text', 'images', 'asin', 'parent_asin', 'user_id',\n",
    "       'timestamp', 'verified_purchase', 'text_cleaned',\n",
    "       'text_cleaned1','main_category','features','neutral_score','day_of_week',]\n",
    "df.drop(columns=columns_to_drop, inplace=True)"
   ]
  },
  {
   "cell_type": "code",
   "execution_count": 4,
   "metadata": {},
   "outputs": [],
   "source": [
    "# Mapping dictionary for sentiment transformation\n",
    "sentiment_mapping = {'positive': 2, 'neutral': 1, 'negative': 0}\n",
    "\n",
    "# Using map function to create a new column 'sentiment_c' with transformed values\n",
    "df['sentiment_c'] = df['Sentiment_Classification'].map(sentiment_mapping)"
   ]
  },
  {
   "cell_type": "code",
   "execution_count": 5,
   "metadata": {},
   "outputs": [],
   "source": [
    "# Create a new column 'helpful' based on the condition\n",
    "df['helpful'] = (df['helpful_vote'] > 0).astype(int)\n"
   ]
  },
  {
   "cell_type": "code",
   "execution_count": 6,
   "metadata": {},
   "outputs": [],
   "source": [
    "# Define features and target variable\n",
    "features = ['review_ext', 'sentiment_c','word_count', 'sent_count', 'sent_length', 'title_length', 'elap_days',\n",
    "       'image', 'ver_purch','FRE','#nouns','#adj', '#adv', 'subjective_score','product']\n",
    "target = 'helpful'"
   ]
  },
  {
   "cell_type": "code",
   "execution_count": 7,
   "metadata": {},
   "outputs": [],
   "source": [
    "# Split data for test and training data\n",
    "X_train, X_test, y_train, y_test = train_test_split(\n",
    "    df[features],  \n",
    "    df[target], \n",
    "    test_size=0.2,  \n",
    "    random_state=42  # Set a random seed for reproducibility\n",
    ")"
   ]
  },
  {
   "cell_type": "code",
   "execution_count": 8,
   "metadata": {},
   "outputs": [],
   "source": [
    "# Scaling features and one-hot encoding categorical features\n",
    "\n",
    "# Define categorical and numerical features\n",
    "categorical_features = ['product']\n",
    "numerical_features = ['review_ext','sentiment_c','word_count', 'sent_count', 'sent_length', 'title_length', 'elap_days',\n",
    "       'image', 'ver_purch','FRE', '#nouns','#adj', '#adv', 'subjective_score']\n",
    "\n",
    "\n",
    "# Convert 'product' column to categorical type\n",
    "X_train['product'] = X_train['product'].astype('category')\n",
    "X_test['product'] = X_test['product'].astype('category')\n",
    "\n",
    "# Scale numerical features and one-hot encode categorical features\n",
    "preprocessor = ColumnTransformer(\n",
    "    transformers=[\n",
    "       (\"cat\", OneHotEncoder(), ['product']),  # One-hot encode 'product'\n",
    "       (\"num\", MinMaxScaler(), numerical_features),     # Scale numerical features\n",
    "   ])\n",
    "\n",
    "# Scale features\n",
    "X_train = preprocessor.fit_transform(X_train)\n",
    "X_test = preprocessor.transform(X_test)\n",
    "\n",
    "# Convert y_train and y_test to a 2D array\n",
    "y_train = y_train.values.reshape(-1, 1)\n",
    "y_test = y_test.values.reshape(-1, 1)\n",
    "\n",
    "# Create an instance of MinMaxScaler for target variable\n",
    "scaler = MinMaxScaler(feature_range=(0, 1))  # Set the feature range to be between 0 and 1\n",
    "\n",
    "y_train = y_train.ravel()\n",
    "y_test = y_test.ravel()\n"
   ]
  },
  {
   "cell_type": "code",
   "execution_count": 9,
   "metadata": {},
   "outputs": [
    {
     "name": "stdout",
     "output_type": "stream",
     "text": [
      "Accuracy: 0.8390726986270538\n",
      "F1 Score: 0.19932810750279956\n",
      "AUC: 0.5521863764454378\n",
      "              precision    recall  f1-score   support\n",
      "\n",
      "           0       0.85      0.99      0.91      3690\n",
      "           1       0.64      0.12      0.20       753\n",
      "\n",
      "    accuracy                           0.84      4443\n",
      "   macro avg       0.74      0.55      0.55      4443\n",
      "weighted avg       0.81      0.84      0.79      4443\n",
      "\n"
     ]
    }
   ],
   "source": [
    "from sklearn.linear_model import LogisticRegression\n",
    "from sklearn.metrics import accuracy_score, f1_score, roc_auc_score, classification_report\n",
    "\n",
    "# Initialize the logistic regression model\n",
    "logreg_model = LogisticRegression(solver='lbfgs', max_iter=1000)  # You can adjust max_iter as needed\n",
    "\n",
    "# Train the model\n",
    "logreg_model.fit(X_train, y_train)\n",
    "\n",
    "# Predict on the testing set\n",
    "y_pred = logreg_model.predict(X_test)\n",
    "\n",
    "# Evaluate the model\n",
    "accuracy = accuracy_score(y_test, y_pred)\n",
    "print(\"Accuracy:\", accuracy)\n",
    "\n",
    "# Calculate F1 score\n",
    "f1 = f1_score(y_test, y_pred)\n",
    "print(\"F1 Score:\", f1)\n",
    "\n",
    "# Calculate AUC\n",
    "auc = roc_auc_score(y_test, y_pred)\n",
    "print(\"AUC:\", auc)\n",
    "\n",
    "# Generate classification report\n",
    "print(classification_report(y_test, y_pred))"
   ]
  }
 ],
 "metadata": {
  "kernelspec": {
   "display_name": "torch-gpu",
   "language": "python",
   "name": "python3"
  },
  "language_info": {
   "codemirror_mode": {
    "name": "ipython",
    "version": 3
   },
   "file_extension": ".py",
   "mimetype": "text/x-python",
   "name": "python",
   "nbconvert_exporter": "python",
   "pygments_lexer": "ipython3",
   "version": "3.8.18"
  },
  "orig_nbformat": 4
 },
 "nbformat": 4,
 "nbformat_minor": 2
}
