{
 "cells": [
  {
   "cell_type": "code",
   "execution_count": 1,
   "metadata": {},
   "outputs": [
    {
     "name": "stderr",
     "output_type": "stream",
     "text": [
      "[nltk_data] Downloading package punkt to\n",
      "[nltk_data]     /Users/paulahofmann/nltk_data...\n",
      "[nltk_data]   Package punkt is already up-to-date!\n"
     ]
    }
   ],
   "source": [
    "# Importing Feature Engineering Functions from features.functions.py\n",
    "\n",
    "from Feature_Functions import (\n",
    "    calculate_total_helpful_votes,\n",
    "    count_pos_tags,\n",
    "    word_count,\n",
    "    sentence_count,\n",
    "    average_words_per_sentence,\n",
    "    title_length,\n",
    "    calculate_flesch_reading_score,\n",
    "    calculate_review_extremity,\n",
    "    calculate_elapsed_time,\n",
    "    image_check,\n",
    "    extract_timestamp,\n",
    "    verified_purchase,\n",
    "    feature_building\n",
    ")"
   ]
  },
  {
   "cell_type": "code",
   "execution_count": 2,
   "metadata": {},
   "outputs": [],
   "source": [
    "import pandas as pd\n",
    "\n",
    "#Importing Data\n",
    "data_hedonic = pd.read_csv ('/Users/paulahofmann/Documents/Coding/Online-Review/FeaturePreperation/Data_with_Features/Final Data/Hedonic_Final_Cleaned.csv')\n",
    "data_utilitarian = pd.read_csv ('/Users/paulahofmann/Documents/Coding/Online-Review/FeaturePreperation/Data_with_Features/Final Data/Utilitarian_Final_Cleaned.csv')"
   ]
  },
  {
   "cell_type": "code",
   "execution_count": 3,
   "metadata": {},
   "outputs": [],
   "source": [
    "data_hedonic_new = calculate_total_helpful_votes(data_hedonic)\n",
    "data_utilitarian_new = calculate_total_helpful_votes(data_utilitarian)"
   ]
  },
  {
   "cell_type": "code",
   "execution_count": 31,
   "metadata": {},
   "outputs": [],
   "source": [
    "razor = pd.read_csv ('/Users/paulahofmann/Documents/Coding/Online-Review/FeaturePreperation/Data_with_Features/Final Data/Old Data/UtiliRazor.csv')"
   ]
  },
  {
   "cell_type": "code",
   "execution_count": 32,
   "metadata": {},
   "outputs": [],
   "source": [
    "razor.drop(['neutral_score'], axis=1, inplace=True)"
   ]
  },
  {
   "cell_type": "code",
   "execution_count": 12,
   "metadata": {},
   "outputs": [
    {
     "name": "stdout",
     "output_type": "stream",
     "text": [
      "Hedonic DataFrame columns:\n",
      "['Rating', 'title_x', 'text', 'images', 'asin', 'parent_asin', 'user_id', 'timestamp', 'helpful_vote', 'Verified_Purchase', 'text_cleaned', 'text_cleaned1', 'Sentiment', 'main_category', 'prod_title', 'average_rating', 'RatingC', 'features', 'price', 'helpful_ratio', 'noun_count', 'adj_count', 'adv_count', 'WordC', 'SentC', 'SentL', 'TitleL', 'FRE', 'RewExt', 'Image', 'year', 'is_weekend', 'Prod', 'VerPur', 'NounR', 'AdjR', 'AdvR', 'Subjective', 'prod_type', 'Sentiment_Classification', 'total_helpful_votes', 'ElapDays']\n"
     ]
    }
   ],
   "source": [
    "print(\"Hedonic DataFrame columns:\")\n",
    "print(data_hedonic.columns.tolist())"
   ]
  },
  {
   "cell_type": "code",
   "execution_count": 33,
   "metadata": {},
   "outputs": [
    {
     "name": "stdout",
     "output_type": "stream",
     "text": [
      "\n",
      "DataFrame with renamed columns:\n",
      "       Rating                                       title_x  \\\n",
      "0         5.0                 Easy to store and easy to use   \n",
      "1         5.0                            Very nice product.   \n",
      "2         4.0                      Excellent electric razor   \n",
      "3         5.0                        very nice.  works well   \n",
      "4         5.0            Panasonic Electric Razor for Women   \n",
      "...       ...                                           ...   \n",
      "10226     1.0                                      One Star   \n",
      "10227     5.0                                      Love It!   \n",
      "10228     4.0                  A good razer, for the price.   \n",
      "10229     4.0                                    Four Stars   \n",
      "10230     5.0  Good product. I have had one in the past ...   \n",
      "\n",
      "                                                    text images        asin  \\\n",
      "0      Just threw away 2 ladies electric shavers. 1 b...     []  B0018A32XS   \n",
      "1              Sharp product. Easy to use and well made.     []  B0018A32XS   \n",
      "2      I bought this one for my 13 year old granddaug...     []  B0018A32XS   \n",
      "3      this is an excellent razor.  it caught and rem...     []  B0018A32XS   \n",
      "4      Love this electric razor....it did my research...     []  B0018A32XS   \n",
      "...                                                  ...    ...         ...   \n",
      "10226  Do not buy. stopped charging after 5 months of...     []  B0018A32XS   \n",
      "10227  Love It!!! Love It!!! Especially when u have n...     []  B0018A32XS   \n",
      "10228  It shaves what I need it to and have my skin s...     []  B0018A32XS   \n",
      "10229                   Works great! Bette than a razor.     []  B0018A32XS   \n",
      "10230  Good product. I have had one in the past and u...     []  B0018A32XS   \n",
      "\n",
      "      parent_asin                       user_id            timestamp  \\\n",
      "0      B0018A32XS  AHZ6XMOLEWA67S3TX7IWEXXGWSOA  2016-06-28 17:28:27   \n",
      "1      B0018A32XS  AHACLF2COQQE2V33ZFXQ7THZOJ2Q  2021-08-13 11:43:39   \n",
      "2      B0018A32XS  AGHXVVTYB746KOUEYN7DT65QSDRA  2020-07-19 00:11:37   \n",
      "3      B0018A32XS  AGQFGXUGFSZHNRQGP7J24RVSLZSA  2015-01-21 21:26:44   \n",
      "4      B0018A32XS  AEXTSZOMHUDQZ46764RKBNZ2WANA  2016-06-15 15:10:42   \n",
      "...           ...                           ...                  ...   \n",
      "10226  B0018A32XS  AHVZUHMYYCIWJK4IORHXSSZBAOCQ  2016-09-02 20:25:44   \n",
      "10227  B0018A32XS  AGV2AYUQOVGH2VUAQGVRPVABELJQ  2014-08-30 18:47:45   \n",
      "10228  B0018A32XS  AFIC2ITMDW3ANECRHYYECHSS4TWA  2019-12-16 01:05:58   \n",
      "10229  B0018A32XS  AGUGEKPKCXM35CIIXAN7KHRQTKTA  2015-06-03 17:09:47   \n",
      "10230  B0018A32XS  AFGYCYTI2BYPSAN6CU77PCHQKNKQ  2017-09-20 18:36:45   \n",
      "\n",
      "       helpful_vote  verified_purchase  ... hour day_of_week  is_weekend  \\\n",
      "0                 1               True  ...   17           1           0   \n",
      "1                 0               True  ...   11           4           0   \n",
      "2                 0               True  ...    0           6           1   \n",
      "3                 1               True  ...   21           2           0   \n",
      "4                 1               True  ...   15           2           0   \n",
      "...             ...                ...  ...  ...         ...         ...   \n",
      "10226             0              False  ...   20           4           0   \n",
      "10227             1               True  ...   18           5           1   \n",
      "10228             0               True  ...    1           0           0   \n",
      "10229             0               True  ...   17           2           0   \n",
      "10230             0               True  ...   18           2           0   \n",
      "\n",
      "        Prod VerPur     NounR      AdjR      AdvR  Subjective  prod_type  \n",
      "0      Razor      1  0.205882  0.132353  0.073529    0.993033          0  \n",
      "1      Razor      1  0.125000  0.250000  0.125000    0.933823          0  \n",
      "2      Razor      1  0.151515  0.090909  0.090909    0.891720          0  \n",
      "3      Razor      1  0.333333  0.083333  0.041667    0.980916          0  \n",
      "4      Razor      1  0.125000  0.125000  0.062500    0.983577          0  \n",
      "...      ...    ...       ...       ...       ...         ...        ...  \n",
      "10226  Razor      0  0.153846  0.153846  0.000000    0.260359          0  \n",
      "10227  Razor      1  0.130435  0.086957  0.043478    0.864673          0  \n",
      "10228  Razor      1  0.083333  0.083333  0.000000    0.501132          0  \n",
      "10229  Razor      1  0.166667  0.166667  0.000000    0.983469          0  \n",
      "10230  Razor      1  0.227273  0.136364  0.000000    0.683589          0  \n",
      "\n",
      "[10231 rows x 43 columns]\n"
     ]
    }
   ],
   "source": [
    "# List of tuples with old and new column names\n",
    "column_names = [('rating', 'Rating'), ('sentiment', 'Sentiment'), ('rat_count', 'RatingC'),\n",
    "                ('rat_count', 'RatingC'),('word_count', 'WordC'),('sent_count', 'SentC'),\n",
    "                ('sent_length', 'SentL'),('title_length', 'TitleL'),('review_ext', 'RewExt'),\n",
    "                ('elap_days', 'ElapDays'),('ver_purch', 'VerPur'),('#nouns', 'NounR'),\n",
    "                ('#adj', 'AdjR'),('#adv', 'AdvR'),('subjective_score', 'Subjective'),\n",
    "                ('product', 'Prod'),('image', 'Image')]\n",
    "\n",
    "# Create a dictionary from the list of tuples\n",
    "rename_dict = {old: new for old, new in column_names}\n",
    "\n",
    "# Renaming the columns using the rename method\n",
    "razor.rename(columns=rename_dict, inplace=True)\n",
    "\n",
    "# Print the DataFrame with new column names\n",
    "print(\"\\nDataFrame with renamed columns:\")\n",
    "print(razor)"
   ]
  },
  {
   "cell_type": "code",
   "execution_count": 7,
   "metadata": {},
   "outputs": [],
   "source": [
    "data_perfume['helpful'] = (data_perfume['helpful_vote'] > 0).astype(int)"
   ]
  },
  {
   "cell_type": "code",
   "execution_count": 34,
   "metadata": {},
   "outputs": [],
   "source": [
    "# Function for calculating the helpful ratio\n",
    "def calculate_total_helpful_votes(df):\n",
    "    for product_id, group in df.groupby('Prod'):\n",
    "        total_helpful_votes = group['helpful_vote'].sum()\n",
    "        df.loc[group.index, 'total_helpful_votes'] = total_helpful_votes\n",
    "        df.loc[group.index, 'helpful_ratio'] = group['helpful_vote'] / total_helpful_votes\n",
    "\n",
    "    return df"
   ]
  },
  {
   "cell_type": "code",
   "execution_count": 36,
   "metadata": {},
   "outputs": [],
   "source": [
    "razor = calculate_total_helpful_votes(razor)"
   ]
  },
  {
   "cell_type": "code",
   "execution_count": 8,
   "metadata": {},
   "outputs": [
    {
     "name": "stdout",
     "output_type": "stream",
     "text": [
      "Hedonic DataFrame columns:\n",
      "['Rating', 'title_x', 'text', 'images', 'asin', 'parent_asin', 'user_id', 'timestamp', 'helpful_vote', 'Verified_Purchase', 'text_cleaned', 'text_cleaned1', 'Sentiment', 'main_category', 'prod_title', 'average_rating', 'RatingC', 'features', 'price', 'helpful_ratio', 'noun_count', 'adj_count', 'adv_count', 'WordC', 'SentC', 'SentL', 'TitleL', 'FRE', 'RewExt', 'Image', 'year', 'is_weekend', 'Prod', 'VerPur', 'NounR', 'AdjR', 'AdvR', 'Subjective', 'prod_type', 'Sentiment_Classification', 'total_helpful_votes', 'ElapDays']\n",
      "\n",
      "Utilitarian DataFrame columns:\n",
      "['Rating', 'title_x', 'text', 'images', 'asin', 'parent_asin', 'user_id', 'timestamp', 'helpful_vote', 'verified_purchase', 'text_cleaned', 'Sentiment', 'main_category', 'prod_title', 'average_rating', 'RatingC', 'features', 'price', 'helpful_ratio', 'noun_count', 'adj_count', 'adv_count', 'WordC', 'SentC', 'SentL', 'TitleL', 'FRE', 'RewExt', 'ElapDays', 'Image', 'year', 'month', 'day', 'hour', 'Prod', 'VerPur', 'NounR', 'AdjR', 'AdvR', 'Subjective', 'text_cleaned1', 'helpful']\n"
     ]
    }
   ],
   "source": [
    "# Print all columns of the renamed DataFrames\n",
    "print(\"Hedonic DataFrame columns:\")\n",
    "print(data_hedonic.columns.tolist())\n",
    "\n",
    "print(\"\\nUtilitarian DataFrame columns:\")\n",
    "print(data_perfume.columns.tolist())"
   ]
  },
  {
   "cell_type": "code",
   "execution_count": null,
   "metadata": {},
   "outputs": [],
   "source": [
    "numerical_columns = ['Rating', 'VerPur','Sentiment', 'RatingC', 'WordC', 'SentC', 'SentL', 'TitleL', 'FRE', 'RewExt',\n",
    "                      'ElapDays', 'Image', 'Prod', 'VerPur', 'NounR', 'AdjR', 'AdvR', 'Subjective',]\n"
   ]
  },
  {
   "cell_type": "code",
   "execution_count": 48,
   "metadata": {},
   "outputs": [],
   "source": [
    "#data_hedonic.to_csv ('/Users/paulahofmann/Documents/Coding/Online-Review/FeaturePreperation/Data_with_Features/Final Data/Hedonic_Final.csv',index=False)\n",
    "#data_utilitarian.to_csv ('/Users/paulahofmann/Documents/Coding/Online-Review/FeaturePreperation/Data_with_Features/Final Data/Utilitarian_Final.csv',index=False)"
   ]
  },
  {
   "cell_type": "markdown",
   "metadata": {},
   "source": [
    "## 1. Building Features \n",
    "\n",
    "Building features for each Product Category and Product, using automatically feature building function from the modul Feature Functions, which adds the necessary 12 Features for Model Training to the function. \n",
    "\n",
    "These are the added features:\n",
    "* Helpful Ratio (HR):\n",
    "Calculates the ratio of helpful votes for each review relative to the total helpful votes across all reviews.\n",
    "* POS Tag Counts:\n",
    "Counts the number of adverbs, adjectives, and nouns in each review text.\n",
    "* Word Count:\n",
    "Calculates the total number of words in each review text.\n",
    "* Sentence Count:\n",
    "Counts the total number of sentences in each review text.\n",
    "* Average Words per Sentence:\n",
    "Calculates the average number of words per sentence in each review text.\n",
    "* Title Length (TL):\n",
    "Counts the number of characters in the title of each review. If the title is empty or consists only of special characters, it sets the length to 1.\n",
    "* Flesch-Kincaid Readability Score:\n",
    "Calculates the Flesch-Kincaid readability score for each review text.\n",
    "* Review Extremity:\n",
    "Calculates the difference between the review rating and the average product rating.\n",
    "* Elapsed Time:\n",
    "Calculates the elapsed time (in days) since each review was posted.\n",
    "* Image Check:\n",
    "Checks whether each review contains images and assigns a binary value (0 for no images, 1 for images).\n",
    "* Verified Purchase:\n",
    "Checks whether the purchase was verified or not.\n",
    "* Day of Week \n"
   ]
  },
  {
   "cell_type": "code",
   "execution_count": null,
   "metadata": {},
   "outputs": [],
   "source": [
    "# Checking for NaN Values in the text + title column and deleting them\n",
    "data_hedonic = data_hedonic.dropna(subset=['text'])\n",
    "data_hedonic = data_hedonic.dropna(subset=['title_x'])\n",
    "\n",
    "# Checking for NaN Values in the text + title column and deleting them\n",
    "data_utilitarian = data_utilitarian.dropna(subset=['text'])\n",
    "data_utilitarian = data_utilitarian.dropna(subset=['title_x'])"
   ]
  },
  {
   "cell_type": "code",
   "execution_count": null,
   "metadata": {},
   "outputs": [],
   "source": [
    "# Transforming the timestamp column into a datetime object\n",
    "data_utilitarian['timestamp'] = pd.to_datetime(data_utilitarian['timestamp'], format='%Y-%m-%d %H:%M:%S.%f')\n",
    "data_utilitarian['timestamp'] = data_utilitarian['timestamp'].dt.strftime('%Y-%m-%d %H:%M:%S')"
   ]
  },
  {
   "cell_type": "code",
   "execution_count": null,
   "metadata": {},
   "outputs": [],
   "source": [
    "# Adding Features to Data Utilitarian\n",
    "feature_building (data_utilitarian) "
   ]
  },
  {
   "cell_type": "code",
   "execution_count": null,
   "metadata": {},
   "outputs": [],
   "source": [
    "# Adding Features to Data Hedonic \n",
    "feature_building (data_hedonic) "
   ]
  },
  {
   "cell_type": "code",
   "execution_count": null,
   "metadata": {},
   "outputs": [],
   "source": [
    "# Transforming adverb,adjective, and noun counts into ratios for better comparability\n",
    "def calculate_ratios(data):\n",
    "    data['NounR'] = data['noun_count'] / data['word_count']\n",
    "    data['AdjR'] = data['adj_count'] / data['word_count']\n",
    "    data['AdvR'] = data['adv_count'] / data['word_count']\n",
    "    return data\n",
    "\n",
    "# Applying the function to the DataFrame\n",
    "calculate_ratios(data_hedonic)\n",
    "calculate_ratios(data_utilitarian)\n"
   ]
  },
  {
   "cell_type": "code",
   "execution_count": null,
   "metadata": {},
   "outputs": [],
   "source": [
    "#data_hedonic.to_csv('/Users/paulahofmann/Documents/Coding/Online-Review/FeaturePreperation/Data_with_Features/Final Data/Hedonic_Final.csv', index=False)\n",
    "#data_utilitarian.to_csv('/Users/paulahofmann/Documents/Coding/Online-Review/FeaturePreperation/Data_with_Features/Final Data/Utilitarian_Final.csv', index=False)"
   ]
  },
  {
   "cell_type": "code",
   "execution_count": null,
   "metadata": {},
   "outputs": [],
   "source": [
    "['Rating', 'title_x', 'text', 'images', 'asin', 'parent_asin', 'user_id', 'timestamp', 'helpful_vote', 'Verified_Purchase', 'text_cleaned', 'text_cleaned1', 'Sentiment', 'main_category', 'prod_title', 'average_rating', 'RatingC', 'features', 'price', 'helpful_ratio', 'noun_count', 'adj_count', 'adv_count', 'WordC', 'SentC', 'SentL', 'TitleL', 'FRE', 'RewExt', 'Image', 'year', 'is_weekend', 'Prod', 'VerPur', 'NounR', 'AdjR', 'AdvR', 'Subjective', 'prod_type', 'Sentiment_Classification', 'total_helpful_votes', 'ElapDays']\n"
   ]
  },
  {
   "cell_type": "code",
   "execution_count": 37,
   "metadata": {},
   "outputs": [],
   "source": [
    "# Reording the columns in the DataFrame\n",
    "\n",
    "# Reordered column list\n",
    "reordered_columns = reordered_columns = [\n",
    "    # Review Details\n",
    "    'title_x', 'text', 'text_cleaned', 'text_cleaned1', 'images','Image', 'helpful_vote', 'total_helpful_votes', \n",
    "    'helpful_ratio', 'RewExt','Rating',\n",
    "    \n",
    "    # Product Information\n",
    "    'asin', 'parent_asin', 'main_category', 'prod_title', 'average_rating', 'features', 'price', \n",
    "    'RatingC',  'Prod',\"prod_type\",\n",
    "    \n",
    "    # User Information\n",
    "    'user_id', 'VerPur', 'verified_purchase',\n",
    "    \n",
    "    # Time Information\n",
    "    'timestamp', 'year', 'is_weekend', 'ElapDays', \n",
    "    \n",
    "    # Text Analysis\n",
    "    'WordC', 'SentC', 'SentL', 'TitleL', 'noun_count', 'adj_count', 'adv_count', \n",
    "    'NounR', 'AdjR', 'AdvR','FRE', 'Sentiment', \"Sentiment_Classification\",'Subjective'\n",
    "]\n",
    "\n",
    "# Apply reindexing to DataFrame\n",
    "razor = razor.reindex(columns=reordered_columns)\n"
   ]
  },
  {
   "cell_type": "code",
   "execution_count": 38,
   "metadata": {},
   "outputs": [],
   "source": [
    "razor.to_csv (  '/Users/paulahofmann/Documents/Coding/Online-Review/FeaturePreperation/Data_with_Features/Final Data/Old Data/UtiliRazor.csv',index=False)"
   ]
  },
  {
   "cell_type": "code",
   "execution_count": null,
   "metadata": {},
   "outputs": [],
   "source": [
    "## Summarizing all Features in a List\n",
    "\n",
    "input_features = ['rating','rating_number','timestamp', 'sentiment', 'price', 'noun_count', 'adj_count', 'adv_count', 'word_count', \n",
    "                  'sentence_count', 'avg_words_per_sentence', 'title_length', 'F-K_score', 'review_extremity', \n",
    "                  'elapsed_time_days', 'image', 'year','month','day','hour']\n",
    "\n",
    "output_feature = 'helpful_ratio'"
   ]
  },
  {
   "cell_type": "markdown",
   "metadata": {},
   "source": [
    "## Input Features Summary and Description\n",
    "\n",
    "### 1. rating\n",
    "   - Description: The numerical rating given by the reviewer.\n",
    "   - Type: Continuous\n",
    "\n",
    "### 2. rating_number\n",
    "   - Description: Number of ratings the product has received.\n",
    "   - Type: Continuous\n",
    "\n",
    "### 3. timestamp\n",
    "   - Description: The timestamp of when the review was posted.\n",
    "   - Type: Datetime\n",
    "\n",
    "### 4. sentiment\n",
    "   - Description: Sentiment score of the review text, indicating the positivity or negativity of the sentiment.\n",
    "   - Type: Continuous\n",
    "\n",
    "### 5. price\n",
    "   - Description: Price of the product.\n",
    "   - Type: Continuous\n",
    "\n",
    "### 6. noun_count\n",
    "   - Description: Count of nouns in the review text.\n",
    "   - Type: Integer\n",
    "\n",
    "### 7. adj_count\n",
    "   - Description: Count of adjectives in the review text.\n",
    "   - Type: Integer\n",
    "\n",
    "### 8. adv_count\n",
    "   - Description: Count of adverbs in the review text.\n",
    "   - Type: Integer\n",
    "\n",
    "### 9. word_count\n",
    "   - Description: Total number of words in the review text.\n",
    "   - Type: Integer\n",
    "\n",
    "### 10. sentence_count\n",
    "   - Description: Total number of sentences in the review text.\n",
    "   - Type: Integer\n",
    "\n",
    "### 11. avg_words_per_sentence\n",
    "   - Description: Average number of words per sentence in the review text.\n",
    "   - Type: Continuous\n",
    "\n",
    "### 12. title_length\n",
    "   - Description: Length of the review title in characters.\n",
    "   - Type: Integer\n",
    "\n",
    "### 13. F-K_score\n",
    "   - Description: Flesch-Kincaid readability score of the review text.\n",
    "   - Type: Continuous\n",
    "\n",
    "### 14. review_extremity\n",
    "   - Description: Difference between the review rating and the average product rating.\n",
    "   - Type: Continuous\n",
    "\n",
    "### 15. elapsed_time_days\n",
    "   - Description: Elapsed time (in days) since the review was posted.\n",
    "   - Type: Continuous\n",
    "\n",
    "### 16. image\n",
    "   - Description: Binary variable indicating whether the review contains images.\n",
    "   - Type: Binary (0 or 1)\n",
    "\n",
    "### 17. year\n",
    "   - Description: Year component of the review timestamp.\n",
    "   - Type: Integer\n",
    "\n",
    "### 18. month\n",
    "   - Description: Month component of the review timestamp.\n",
    "   - Type: Integer\n",
    "\n",
    "### 19. day\n",
    "   - Description: Day component of the review timestamp.\n",
    "   - Type: Integer\n",
    "\n",
    "### 20. hour\n",
    "   - Description: Hour component of the review timestamp.\n",
    "   - Type: Integer\n"
   ]
  }
 ],
 "metadata": {
  "kernelspec": {
   "display_name": "torch-gpu",
   "language": "python",
   "name": "python3"
  },
  "language_info": {
   "codemirror_mode": {
    "name": "ipython",
    "version": 3
   },
   "file_extension": ".py",
   "mimetype": "text/x-python",
   "name": "python",
   "nbconvert_exporter": "python",
   "pygments_lexer": "ipython3",
   "version": "3.8.18"
  },
  "orig_nbformat": 4
 },
 "nbformat": 4,
 "nbformat_minor": 2
}
