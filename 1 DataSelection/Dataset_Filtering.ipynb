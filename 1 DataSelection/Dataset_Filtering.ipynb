{
 "cells": [
  {
   "cell_type": "code",
   "execution_count": 1,
   "metadata": {},
   "outputs": [],
   "source": [
    "# Import libraries\n",
    "import pandas as pd\n",
    "import json\n",
    "import matplotlib.pyplot as plt\n",
    "import numpy as np"
   ]
  },
  {
   "cell_type": "markdown",
   "metadata": {},
   "source": [
    "# 1. Filtering Metadata \n",
    "\n",
    "Filtering the metadata files across different categories to obtain the 200 products (parent ASIN IDs) with the highest review volume. The datafiles are not included due to storage but can be downloaded from "
   ]
  },
  {
   "cell_type": "code",
   "execution_count": 2,
   "metadata": {},
   "outputs": [],
   "source": [
    "# Initialize an empty list to store parsed JSON data\n",
    "data = []\n",
    "\n",
    "# Open the JSON Lines file\n",
    "with open('/Volumes/Paula_SSD/Data/MetaData/meta_CDs_and_Vinyl.jsonl', 'r') as file:\n",
    "    # Read each line from the file\n",
    "    for line in file:\n",
    "        # Parse the JSON data from the line\n",
    "        line_data = json.loads(line)\n",
    "        # Append the parsed data to the list\n",
    "        data.append(line_data)\n",
    "\n",
    "# Create a DataFrame from the list of parsed data\n",
    "df = pd.DataFrame(data)\n"
   ]
  },
  {
   "cell_type": "code",
   "execution_count": 3,
   "metadata": {},
   "outputs": [],
   "source": [
    "# Filter the data to get reviews with the most ratings and review volume\n",
    "\n",
    "# Sort the DataFrame by 'rating_number' column in descending order\n",
    "df_sorted = df.sort_values(by='rating_number', ascending=False)\n",
    "\n",
    "# Select the top 200 rows\n",
    "top_200_products_Vinyl = df_sorted.head(200)\n",
    "\n",
    "# Display the top 200 products\n",
    "top_200_products_Vinyl.to_csv('/Users/paulahofmann/Documents/Coding/Online-Review/SelectingData/top_200_products_MusicVinyl.csv', index=False)\n"
   ]
  },
  {
   "cell_type": "markdown",
   "metadata": {},
   "source": [
    "# 2. Getting the review data\n",
    "\n",
    "Based on the selected products (parent ASIN), the necessary reviews were gathered from the review files."
   ]
  },
  {
   "cell_type": "code",
   "execution_count": null,
   "metadata": {},
   "outputs": [],
   "source": [
    "# Import JSON file and filter by ASIN ids to get the reviews of the items in the list\n",
    "import json\n",
    "\n",
    "file = \"/Volumes/Paula_SSD/Data/JsonLine/Beauty_and_Personal_Care.jsonl\" # Path to input file\n",
    "output_path = \"//Volumes/Paula_SSD/Data/JsonLine/PerfumeNew.json\" # Path to output file\n",
    "ids = ['B07Z8FSKG4','B07G7FF2WC','B0BJMV1QTR','B00WXP607C'] # List of parent asins (products) to filter\n",
    "print_mark = 1000000 # At which number of lines to print output"
   ]
  },
  {
   "cell_type": "code",
   "execution_count": null,
   "metadata": {},
   "outputs": [],
   "source": [
    "# Read the file and filter the data\n",
    "full_data = []\n",
    "with open(file, 'r') as fp:    \n",
    "        for x,line in enumerate(fp):\n",
    "            data = json.loads(line.strip())\n",
    "            if data[\"parent_asin\"] in ids:\n",
    "                full_data.append(data)\n",
    "\n",
    "            if x%print_mark==0:\n",
    "                print(f\"Finished {x} lines\")\n",
    "\n",
    "            \n",
    "with open(output_path, \"w\") as outfile:\n",
    "    json.dump(full_data, outfile)"
   ]
  },
  {
   "cell_type": "code",
   "execution_count": null,
   "metadata": {},
   "outputs": [],
   "source": [
    "# Read the output file\n",
    "df=pd.read_json(output_path)"
   ]
  },
  {
   "cell_type": "code",
   "execution_count": null,
   "metadata": {},
   "outputs": [],
   "source": [
    "# Save the output file as csv\n",
    "df.to_csv(\"/Users/paulahofmann/Documents/Coding/Online-Review/SelectingData/Beauty & Care/PerfumeNew.csv\", index=False)"
   ]
  },
  {
   "cell_type": "markdown",
   "metadata": {},
   "source": [
    "# 3 Getting the related Metadata Information for products\n",
    "\n",
    "Next, we need to ensure that we merge the necessary metadata information from the metadata file with the review dataset for the selected products. "
   ]
  },
  {
   "cell_type": "code",
   "execution_count": null,
   "metadata": {},
   "outputs": [],
   "source": [
    "# Import the Review data\n",
    "file_path1 = '/Users/paulahofmann/Documents/Coding/Online-Review/1 DataPreperation/SelectingData/Beauty & Care/Perfume .csv'\n",
    "data_review= pd.read_csv(file_path1)\n",
    "\n",
    "\n",
    "# Importing Meta Data\n",
    "file_path2 = '/Users/paulahofmann/Documents/Coding/Online-Review/1 DataPreperation/SelectingData/Beauty & Care/top_200_products_BeautyCare.csv'\n",
    "\n",
    "# Columns to import\n",
    "columns_to_import = ['main_category', 'title', 'average_rating', 'rating_number', 'features', 'price', 'parent_asin']\n",
    "\n",
    "# Import data with specific columns\n",
    "data_meta = pd.read_csv(file_path2, usecols=columns_to_import)\n",
    "\n",
    "\n",
    "# Merge the data based on parent_asin\n",
    "meta_data_Review = pd.merge(data_review, data_meta, on='parent_asin', how='left')\n",
    "\n",
    "# Display the merged Data\n",
    "print (meta_data_Review.head(3))\n",
    "\n",
    "# Save the data, please modify the name of the file\n",
    "meta_data_Review.to_csv('/Users/paulahofmann/Documents/Coding/Online-Review/DataPreperation/Perfume .csv', index=False)\n",
    "\n",
    "print(data_review.columns)"
   ]
  }
 ],
 "metadata": {
  "kernelspec": {
   "display_name": "Python 3",
   "language": "python",
   "name": "python3"
  },
  "language_info": {
   "codemirror_mode": {
    "name": "ipython",
    "version": 3
   },
   "file_extension": ".py",
   "mimetype": "text/x-python",
   "name": "python",
   "nbconvert_exporter": "python",
   "pygments_lexer": "ipython3",
   "version": "3.8.18"
  },
  "orig_nbformat": 4
 },
 "nbformat": 4,
 "nbformat_minor": 2
}
