{
 "cells": [
  {
   "cell_type": "markdown",
   "metadata": {},
   "source": [
    "# Data Analysis"
   ]
  },
  {
   "cell_type": "markdown",
   "metadata": {},
   "source": [
    "In this section we will have a look at the difference in products between hedonic and utilitarian dirven products. We will see if we can find any patterns in the data from a descriptive level and then move on to a more inferential level."
   ]
  },
  {
   "cell_type": "markdown",
   "metadata": {},
   "source": [
    "## Packages and Importing Data"
   ]
  },
  {
   "cell_type": "code",
   "execution_count": 2,
   "metadata": {},
   "outputs": [],
   "source": [
    "# Installing packages\n",
    "import pandas as pd\n",
    "import json\n",
    "import matplotlib.pyplot as plt\n",
    "import numpy as np\n",
    "import seaborn as sns\n",
    "from nltk import bigrams\n",
    "from wordcloud import WordCloud\n"
   ]
  },
  {
   "cell_type": "code",
   "execution_count": 3,
   "metadata": {},
   "outputs": [],
   "source": [
    "# importing data\n",
    "data_utilitarian_filter = pd.read_csv ('/Users/paulahofmann/Documents/Coding/Online-Review/FeaturePreperation/Data_with_Features/Features_utilitarian_filter.csv')\n",
    "\n",
    "data_utilitarian_razor = pd.read_csv ('/Users/paulahofmann/Documents/Coding/Online-Review/FeaturePreperation/Data_with_Features/Features_utilitarian_razor.csv')\n",
    "\n",
    "data_utilitarian_mouse = pd.read_csv ('/Users/paulahofmann/Documents/Coding/Online-Review/FeaturePreperation/Data_with_Features/Features_utilitarian_mouse.csv')\n",
    "\n",
    "data_hedonic = pd.read_csv ('/Users/paulahofmann/Documents/Coding/Online-Review/FeaturePreperation/Data_with_Features/Features_hedonic_total.csv')"
   ]
  },
  {
   "cell_type": "code",
   "execution_count": 4,
   "metadata": {},
   "outputs": [],
   "source": [
    "data_frames = [data_utilitarian_razor, data_utilitarian_filter, data_utilitarian_mouse,data_hedonic]\n",
    "\n",
    "# Iterate over each DataFrame\n",
    "for df in data_frames:\n",
    "    # Check if 'timestamp' column exists in the DataFrame\n",
    "    if 'timestamp' in df.columns:\n",
    "        # Convert 'timestamp' column to datetime format\n",
    "        df['timestamp'] = pd.to_datetime(df['timestamp'])"
   ]
  },
  {
   "cell_type": "markdown",
   "metadata": {},
   "source": [
    "# Functions for data analysis"
   ]
  },
  {
   "cell_type": "code",
   "execution_count": 52,
   "metadata": {},
   "outputs": [],
   "source": [
    "def plot_reviews_by_year(df, title_suffix=None):\n",
    "    # Extract the year from the timestamp\n",
    "    df['year'] = df['timestamp'].dt.year\n",
    "\n",
    "    # Plot the histogram\n",
    "    plt.figure(figsize=(10, 6))\n",
    "    df['year'].hist(bins=len(df['year'].unique()), color='blue', alpha=0.5)\n",
    "    if title_suffix:\n",
    "        plt.title(f'Distribution of Reviews by Year - {title_suffix}')\n",
    "    else:\n",
    "        plt.title('Distribution of Reviews by Year')\n",
    "    plt.xlabel('Year')\n",
    "    plt.ylabel('Number of Reviews')\n",
    "    plt.grid(True)\n",
    "    plt.show()"
   ]
  },
  {
   "cell_type": "code",
   "execution_count": 53,
   "metadata": {},
   "outputs": [],
   "source": [
    "\n",
    "def plot_avg_rating_by_year(df):\n",
    "    # Extract the year from the timestamp\n",
    "    df['year'] = df['timestamp'].dt.year\n",
    "\n",
    "    # Group by year and calculate the average rating\n",
    "    avg_rating_by_year = df.groupby('year')['rating'].mean()\n",
    "\n",
    "    # Plot the line chart\n",
    "    plt.figure(figsize=(10, 6))\n",
    "    plt.plot(avg_rating_by_year.index, avg_rating_by_year.values, color='blue', marker='o', linestyle='-')\n",
    "    plt.title('Average Rating of Reviews by Year')\n",
    "    plt.xlabel('Year')\n",
    "    plt.ylabel('Average Rating')\n",
    "    plt.grid(True)\n",
    "    plt.show()\n",
    "\n",
    "# Example usage:\n",
    "# plot_avg_rating_by_year(your_dataframe)\n"
   ]
  },
  {
   "cell_type": "code",
   "execution_count": 54,
   "metadata": {},
   "outputs": [],
   "source": [
    "# Function for showing the amount on reviews by year\n",
    "\n",
    "def plot_rating_counts_by_year(df):\n",
    "    # Extract the year from the timestamp\n",
    "    df['year'] = df['timestamp'].dt.year\n",
    "\n",
    "    # Map ratings to categories (1 and 2 as negative, 3 as neutral, 4 and 5 as positive)\n",
    "    rating_categories = {1: 'Negative', 2: 'Negative', 3: 'Neutral', 4: 'Positive', 5: 'Positive'}\n",
    "    df['rating_category'] = df['rating'].map(rating_categories)\n",
    "\n",
    "    # Group by year and rating category, then count the occurrences\n",
    "    rating_counts_by_year = df.groupby(['year', 'rating_category']).size().unstack(fill_value=0)\n",
    "\n",
    "    # Plot the stacked bar plot\n",
    "    plt.figure(figsize=(10, 6))\n",
    "    rating_counts_by_year.plot(kind='bar', stacked=True, color=['red', 'grey', 'green'], alpha=0.7)\n",
    "    plt.title('Rating Distribution by Year')\n",
    "    plt.xlabel('Year')\n",
    "    plt.ylabel('Number of Ratings')\n",
    "    plt.legend(title='Rating Category', loc='upper left')\n",
    "    plt.grid(True)\n",
    "    plt.show()\n"
   ]
  },
  {
   "cell_type": "code",
   "execution_count": 55,
   "metadata": {},
   "outputs": [],
   "source": [
    "# Showing sentiment distribution by year\n",
    "\n",
    "def plot_sentiment_by_year(df):\n",
    "    # Extract the year from the timestamp\n",
    "    df['year'] = df['timestamp'].dt.year\n",
    "\n",
    "    # Plot the box plot\n",
    "    plt.figure(figsize=(10, 6))\n",
    "    sns.boxplot(x='year', y='sentiment', data=df, palette='Set2')\n",
    "    plt.title('Distribution of Text Sentiment by Year')\n",
    "    plt.xlabel('Year')\n",
    "    plt.ylabel('Text Sentiment')\n",
    "    plt.grid(True)\n",
    "    plt.show()\n"
   ]
  },
  {
   "cell_type": "code",
   "execution_count": 56,
   "metadata": {},
   "outputs": [],
   "source": [
    "def plot_average_rating_and_sentiment_over_time(data_frame):\n",
    "    # Group the data by timestamp and calculate the average rating for each time period\n",
    "    average_rating_over_time = data_frame.groupby(pd.Grouper(key='timestamp', freq='M'))['rating'].mean()\n",
    "\n",
    "    # Group the data by timestamp and calculate the average sentiment score for each time period\n",
    "    average_sentiment_over_time = data_frame.groupby(pd.Grouper(key='timestamp', freq='M'))['sentiment'].mean()\n",
    "\n",
    "    # Plotting\n",
    "    fig, ax1 = plt.subplots(figsize=(10, 6))\n",
    "\n",
    "    # Plotting average rating over time\n",
    "    color = 'tab:blue'\n",
    "    ax1.set_xlabel('Date')\n",
    "    ax1.set_ylabel('Average Rating', color=color)\n",
    "    ax1.plot(average_rating_over_time.index, average_rating_over_time.values, color=color)\n",
    "    ax1.tick_params(axis='y', labelcolor=color)\n",
    "    ax1.grid(True)\n",
    "\n",
    "    # Create a secondary y-axis for sentiment score\n",
    "    ax2 = ax1.twinx()\n",
    "    color = 'tab:red'\n",
    "    ax2.set_ylabel('Average Sentiment Score', color=color)\n",
    "    ax2.plot(average_sentiment_over_time.index, average_sentiment_over_time.values, color=color)\n",
    "    ax2.tick_params(axis='y', labelcolor=color)\n",
    "\n",
    "    fig.tight_layout()\n",
    "    plt.title('Average Rating and Sentiment Over Time')\n",
    "    plt.show()"
   ]
  },
  {
   "cell_type": "markdown",
   "metadata": {},
   "source": [
    "# 1. Basic statistic"
   ]
  },
  {
   "cell_type": "code",
   "execution_count": 57,
   "metadata": {},
   "outputs": [
    {
     "name": "stdout",
     "output_type": "stream",
     "text": [
      "            rating                      timestamp  helpful_vote  \\\n",
      "count  4027.000000                           4027   4027.000000   \n",
      "mean      3.800099  2021-04-29 19:04:14.940043776      1.058108   \n",
      "min       1.000000     2018-09-15 03:30:45.715000      0.000000   \n",
      "25%       2.000000  2020-08-03 23:56:41.974500096      0.000000   \n",
      "50%       5.000000  2021-04-22 21:26:25.137999872      0.000000   \n",
      "75%       5.000000  2022-02-25 06:27:49.151000064      0.000000   \n",
      "max       5.000000     2023-08-30 00:33:14.355000   1725.000000   \n",
      "std       1.560987                            NaN     29.667986   \n",
      "\n",
      "       average_rating  rating_number         price    sentiment  \\\n",
      "count    4.027000e+03         4027.0  4.027000e+03  4027.000000   \n",
      "mean     4.700000e+00        46976.0  4.587000e+01     2.754904   \n",
      "min      4.700000e+00        46976.0  4.587000e+01     0.000000   \n",
      "25%      4.700000e+00        46976.0  4.587000e+01     1.000000   \n",
      "50%      4.700000e+00        46976.0  4.587000e+01     4.000000   \n",
      "75%      4.700000e+00        46976.0  4.587000e+01     4.000000   \n",
      "max      4.700000e+00        46976.0  4.587000e+01     4.000000   \n",
      "std      3.570921e-13            0.0  2.593803e-12     1.604537   \n",
      "\n",
      "       helpful_ratio   noun_count    adj_count  ...  avg_words_per_sentence  \\\n",
      "count    4027.000000  4027.000000  4027.000000  ...             4027.000000   \n",
      "mean        0.000248    12.527936     5.703998  ...               19.431932   \n",
      "min         0.000000     0.000000     0.000000  ...                1.666667   \n",
      "25%         0.000000     3.000000     2.000000  ...               10.666667   \n",
      "50%         0.000000     8.000000     4.000000  ...               16.000000   \n",
      "75%         0.000000    16.000000     7.000000  ...               23.500000   \n",
      "max         0.404835   228.000000    82.000000  ...              439.000000   \n",
      "std         0.006963    16.004483     6.670574  ...               16.504547   \n",
      "\n",
      "       title_length   F-K_score  review_extremity  elapsed_time_days  \\\n",
      "count   4027.000000  801.000000       4027.000000        4027.000000   \n",
      "mean       1.299479   10.846105         -0.899901         851.773529   \n",
      "min        1.000000    1.744820         -3.700000           0.000000   \n",
      "25%        1.000000    7.067027         -2.700000         550.500000   \n",
      "50%        1.000000    8.929911          0.300000         859.000000   \n",
      "75%        1.000000   11.855000          0.300000        1120.500000   \n",
      "max       14.000000  151.547071          0.300000        1809.000000   \n",
      "std        1.368951    8.594633          1.560987         404.303385   \n",
      "\n",
      "             image         year        month          day         hour  \n",
      "count  4027.000000  4027.000000  4027.000000  4027.000000  4027.000000  \n",
      "mean      0.042463  2020.855227     6.171343    15.755153    12.342935  \n",
      "min       0.000000  2018.000000     1.000000     1.000000     0.000000  \n",
      "25%       0.000000  2020.000000     3.000000     8.000000     4.000000  \n",
      "50%       0.000000  2021.000000     6.000000    16.000000    14.000000  \n",
      "75%       0.000000  2022.000000     9.000000    23.000000    19.000000  \n",
      "max       1.000000  2023.000000    12.000000    31.000000    23.000000  \n",
      "std       0.201669     1.155625     3.584886     8.850676     7.738097  \n",
      "\n",
      "[8 rows x 23 columns]\n"
     ]
    }
   ],
   "source": [
    "# Quick overlook of the data\n",
    "print (data_utilitarian_mouse.describe())\n"
   ]
  },
  {
   "cell_type": "code",
   "execution_count": 58,
   "metadata": {},
   "outputs": [
    {
     "name": "stdout",
     "output_type": "stream",
     "text": [
      "             rating                      timestamp  helpful_vote  \\\n",
      "count  11317.000000                          11317  11317.000000   \n",
      "mean       4.001767  2018-01-12 13:03:35.663960064      2.665812   \n",
      "min        1.000000            2008-11-17 15:54:20      0.000000   \n",
      "25%        3.000000            2016-01-16 11:43:26      0.000000   \n",
      "50%        5.000000     2018-02-21 15:37:05.736000      0.000000   \n",
      "75%        5.000000     2019-12-28 01:31:42.588000      0.000000   \n",
      "max        5.000000     2023-08-18 14:03:08.916000   9766.000000   \n",
      "std        1.439727                            NaN    111.703184   \n",
      "\n",
      "          sentiment  average_rating  rating_number         price  \\\n",
      "count  11317.000000    1.131700e+04        11317.0  1.131700e+04   \n",
      "mean       3.033048    4.300000e+00        52307.0  4.099000e+01   \n",
      "min        0.000000    4.300000e+00        52307.0  4.099000e+01   \n",
      "25%        2.000000    4.300000e+00        52307.0  4.099000e+01   \n",
      "50%        4.000000    4.300000e+00        52307.0  4.099000e+01   \n",
      "75%        4.000000    4.300000e+00        52307.0  4.099000e+01   \n",
      "max        4.000000    4.300000e+00        52307.0  4.099000e+01   \n",
      "std        1.523576    6.048762e-13            0.0  6.039880e-12   \n",
      "\n",
      "       helpful_ratio    noun_count    adj_count  ...  avg_words_per_sentence  \\\n",
      "count   11317.000000  11317.000000  11317.00000  ...            11317.000000   \n",
      "mean        0.000088      6.304056      3.67942  ...               12.404602   \n",
      "min         0.000000      0.000000      0.00000  ...                1.000000   \n",
      "25%         0.000000      1.000000      1.00000  ...                7.000000   \n",
      "50%         0.000000      4.000000      2.00000  ...               11.000000   \n",
      "75%         0.000000      8.000000      5.00000  ...               16.000000   \n",
      "max         0.323517    236.000000    103.00000  ...              126.000000   \n",
      "std         0.003700      8.989452      4.46829  ...                8.100438   \n",
      "\n",
      "       title_length   F-K_score  review_extremity  elapsed_time_days  \\\n",
      "count  11317.000000  883.000000      11317.000000       11317.000000   \n",
      "mean       1.351241    7.554006         -0.298233        2043.436423   \n",
      "min        1.000000    2.071573         -3.300000           0.000000   \n",
      "25%        1.000000    5.636969         -1.300000        1329.000000   \n",
      "50%        1.000000    6.965121          0.700000        2003.000000   \n",
      "75%        1.000000    8.794361          0.700000        2771.000000   \n",
      "max       15.000000   42.738772          0.700000        5386.000000   \n",
      "std        1.461985    3.258207          1.439727         969.655240   \n",
      "\n",
      "              image          year         month           day          hour  \n",
      "count  11317.000000  11317.000000  11317.000000  11317.000000  11317.000000  \n",
      "mean       0.011310   2017.550146      6.306088     15.680304     12.856676  \n",
      "min        0.000000   2008.000000      1.000000      1.000000      0.000000  \n",
      "25%        0.000000   2016.000000      4.000000      8.000000      5.000000  \n",
      "50%        0.000000   2018.000000      6.000000     16.000000     15.000000  \n",
      "75%        0.000000   2019.000000      9.000000     23.000000     19.000000  \n",
      "max        1.000000   2023.000000     12.000000     31.000000     23.000000  \n",
      "std        0.105752      2.665862      3.338001      8.858613      7.459574  \n",
      "\n",
      "[8 rows x 23 columns]\n"
     ]
    }
   ],
   "source": [
    "print (data_utilitarian_filter.describe())\n"
   ]
  },
  {
   "cell_type": "code",
   "execution_count": 59,
   "metadata": {},
   "outputs": [
    {
     "name": "stdout",
     "output_type": "stream",
     "text": [
      "            rating                      timestamp  helpful_vote    sentiment  \\\n",
      "count  5847.000000                           5847   5847.000000  5847.000000   \n",
      "mean      4.066188  2020-05-18 22:36:10.798031616      0.824867     2.986318   \n",
      "min       1.000000            2015-05-31 22:48:04      0.000000     0.000000   \n",
      "25%       4.000000  2019-02-19 08:37:44.741000192      0.000000     2.000000   \n",
      "50%       5.000000  2020-08-07 14:25:42.286000128      0.000000     4.000000   \n",
      "75%       5.000000  2021-11-23 14:06:54.096999936      0.000000     4.000000   \n",
      "max       5.000000     2023-08-24 16:41:33.536000   1081.000000     4.000000   \n",
      "std       1.521731                            NaN     18.180278     1.618873   \n",
      "\n",
      "       average_rating  rating_number         price  helpful_ratio  \\\n",
      "count    5.847000e+03         5847.0  5.847000e+03    5847.000000   \n",
      "mean     4.700000e+00        90203.0  5.399000e+01       0.000171   \n",
      "min      4.700000e+00        90203.0  5.399000e+01       0.000000   \n",
      "25%      4.700000e+00        90203.0  5.399000e+01       0.000000   \n",
      "50%      4.700000e+00        90203.0  5.399000e+01       0.000000   \n",
      "75%      4.700000e+00        90203.0  5.399000e+01       0.000000   \n",
      "max      4.700000e+00        90203.0  5.399000e+01       0.224134   \n",
      "std      4.725513e-13            0.0  4.498120e-12       0.003769   \n",
      "\n",
      "        noun_count    adj_count  ...  avg_words_per_sentence  title_length  \\\n",
      "count  5847.000000  5847.000000  ...             5847.000000   5847.000000   \n",
      "mean      4.788781     2.214640  ...               10.704878      1.474602   \n",
      "min       0.000000     0.000000  ...                1.000000      1.000000   \n",
      "25%       1.000000     1.000000  ...                5.000000      1.000000   \n",
      "50%       2.000000     1.000000  ...                9.000000      1.000000   \n",
      "75%       6.000000     3.000000  ...               14.000000      1.000000   \n",
      "max      90.000000    29.000000  ...              117.000000     13.000000   \n",
      "std       6.766222     2.567516  ...                8.601022      1.618084   \n",
      "\n",
      "        F-K_score  review_extremity  elapsed_time_days        image  \\\n",
      "count  214.000000       5847.000000        5847.000000  5847.000000   \n",
      "mean     9.031148         -0.633812        1192.155293     0.011972   \n",
      "min      2.034319         -3.700000           0.000000     0.000000   \n",
      "25%      6.461302         -0.700000         638.500000     0.000000   \n",
      "50%      7.997932          0.300000        1112.000000     0.000000   \n",
      "75%      9.684724          0.300000        1646.500000     0.000000   \n",
      "max     42.494299          0.300000        3006.000000     1.000000   \n",
      "std      4.986165          1.521731         687.557437     0.108769   \n",
      "\n",
      "              year        month          day         hour  \n",
      "count  5847.000000  5847.000000  5847.000000  5847.000000  \n",
      "mean   2019.888832     6.408757    15.666838    13.419018  \n",
      "min    2015.000000     1.000000     1.000000     0.000000  \n",
      "25%    2019.000000     3.000000     8.000000     5.000000  \n",
      "50%    2020.000000     6.000000    16.000000    16.000000  \n",
      "75%    2021.000000     9.000000    23.000000    19.500000  \n",
      "max    2023.000000    12.000000    31.000000    23.000000  \n",
      "std       1.910759     3.460175     8.772596     7.553928  \n",
      "\n",
      "[8 rows x 23 columns]\n"
     ]
    }
   ],
   "source": [
    "print (data_utilitarian_razor.describe())"
   ]
  },
  {
   "cell_type": "markdown",
   "metadata": {},
   "source": [
    "## Analyzing Helpfulness"
   ]
  },
  {
   "cell_type": "code",
   "execution_count": 62,
   "metadata": {},
   "outputs": [],
   "source": [
    "# Function for plotting helpfulness distribution\n",
    "\n",
    "def plot_helpfulness_votes_over_time(data_frame):\n",
    "    # Group by timestamp and calculate the sum of helpfulness votes\n",
    "    votes_by_timestamp = data_frame.groupby('timestamp')['helpful_vote'].sum()\n",
    "\n",
    "    # Filter out timestamps with less than or equal to 1 helpful vote\n",
    "    votes_by_timestamp = votes_by_timestamp[votes_by_timestamp > 1]\n",
    "\n",
    "    # Plot the data\n",
    "    plt.figure(figsize=(10, 6))\n",
    "    plt.scatter(votes_by_timestamp.index, votes_by_timestamp, color='blue', alpha=0.5)\n",
    "    plt.title('Helpfulness Votes over Time')\n",
    "    plt.xlabel('Timestamp')\n",
    "    plt.ylabel('Total Helpful Votes')\n",
    "    plt.xticks(rotation=45)\n",
    "    plt.grid(True)\n",
    "    plt.show()\n"
   ]
  },
  {
   "cell_type": "code",
   "execution_count": 64,
   "metadata": {},
   "outputs": [
    {
     "name": "stdout",
     "output_type": "stream",
     "text": [
      "Number of reviews with at least one helpful rating: 518\n"
     ]
    }
   ],
   "source": [
    "helpful_reviews_count = data_utilitarian_mouse[data_utilitarian_mouse['helpful_vote'] > 0].shape[0]\n",
    "print(\"Number of reviews with at least one helpful rating:\", helpful_reviews_count)"
   ]
  },
  {
   "cell_type": "code",
   "execution_count": 65,
   "metadata": {},
   "outputs": [
    {
     "name": "stdout",
     "output_type": "stream",
     "text": [
      "Number of reviews with at least one helpful rating: 1664\n"
     ]
    }
   ],
   "source": [
    "helpful_reviews_count = data_utilitarian_filter[data_utilitarian_filter['helpful_vote'] > 0].shape[0]\n",
    "print(\"Number of reviews with at least one helpful rating:\", helpful_reviews_count)"
   ]
  },
  {
   "cell_type": "code",
   "execution_count": 66,
   "metadata": {},
   "outputs": [
    {
     "name": "stdout",
     "output_type": "stream",
     "text": [
      "Number of reviews with at least one helpful rating: 706\n"
     ]
    }
   ],
   "source": [
    "helpful_reviews_count = data_utilitarian_razor[data_utilitarian_razor['helpful_vote'] > 0].shape[0]\n",
    "print(\"Number of reviews with at least one helpful rating:\", helpful_reviews_count)"
   ]
  },
  {
   "cell_type": "code",
   "execution_count": 67,
   "metadata": {},
   "outputs": [
    {
     "name": "stdout",
     "output_type": "stream",
     "text": [
      "Number of reviews with at least one helpful rating: 5207\n"
     ]
    }
   ],
   "source": [
    "helpful_reviews_count = data_hedonic[data_hedonic['helpful_vote'] > 0].shape[0]\n",
    "print(\"Number of reviews with at least one helpful rating:\", helpful_reviews_count)"
   ]
  },
  {
   "cell_type": "markdown",
   "metadata": {},
   "source": [
    "## 3. Text Analysis Wordclouds "
   ]
  },
  {
   "cell_type": "code",
   "execution_count": null,
   "metadata": {},
   "outputs": [],
   "source": [
    "# Generating Wordclouds\n",
    "\n",
    "def generate_wordcloud_reviews_by_sentiment(df):\n",
    "    # Define rating categories\n",
    "    rating_categories = {1: 'Negative', 2: 'Negative', 3: 'Neutral', 4: 'Positive', 5: 'Positive'}\n",
    "\n",
    "    # Create subplots\n",
    "    fig, axes = plt.subplots(1, 3, figsize=(20, 6))\n",
    "    \n",
    "    # Iterate over each sentiment category\n",
    "    for ax, sentiment in zip(axes.flatten(), ['Negative', 'Neutral', 'Positive']):\n",
    "        # Filter out reviews based on sentiment\n",
    "        reviews = df[df['rating'].map(rating_categories) == sentiment]\n",
    "        \n",
    "        # Drop rows where 'text_cleaned1' column contains NaN values\n",
    "        reviews.dropna(subset=['text_cleaned1'], inplace=True)\n",
    "        \n",
    "        # Concatenate the cleaned text of reviews\n",
    "        text = ' '.join(reviews['text_cleaned1'])\n",
    "\n",
    "        # Generate bigrams from the text\n",
    "        bigram_list = list(bigrams(text.split()))\n",
    "\n",
    "        # Create a WordCloud object with bigrams\n",
    "        wordcloud = WordCloud(width=400, height=200, background_color='white').generate_from_frequencies(dict(bigram_list))\n",
    "\n",
    "        # Plot the WordCloud\n",
    "        ax.imshow(wordcloud, interpolation='bilinear')\n",
    "        ax.set_title(f'Word Cloud of {sentiment} Reviews (Bigrams)')\n",
    "        ax.axis('off')\n",
    "    \n",
    "    plt.tight_layout()\n",
    "    plt.show()"
   ]
  }
 ],
 "metadata": {
  "kernelspec": {
   "display_name": "torch-gpu",
   "language": "python",
   "name": "python3"
  },
  "language_info": {
   "codemirror_mode": {
    "name": "ipython",
    "version": 3
   },
   "file_extension": ".py",
   "mimetype": "text/x-python",
   "name": "python",
   "nbconvert_exporter": "python",
   "pygments_lexer": "ipython3",
   "version": "3.8.19"
  },
  "orig_nbformat": 4
 },
 "nbformat": 4,
 "nbformat_minor": 2
}
