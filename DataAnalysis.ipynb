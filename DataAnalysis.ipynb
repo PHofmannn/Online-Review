{
 "cells": [
  {
   "cell_type": "markdown",
   "metadata": {},
   "source": [
    "# Data Analysis"
   ]
  },
  {
   "cell_type": "markdown",
   "metadata": {},
   "source": [
    "In this section we will have a look at the difference in products between hedonic and utilitarian dirven products. We will see if we can find any patterns in the data from a descriptive level and then move on to a more inferential level."
   ]
  },
  {
   "cell_type": "markdown",
   "metadata": {},
   "source": [
    "## Packages and Importing Data"
   ]
  },
  {
   "cell_type": "code",
   "execution_count": 1,
   "metadata": {},
   "outputs": [],
   "source": [
    "# Installing packages\n",
    "import pandas as pd\n",
    "import json\n",
    "import matplotlib.pyplot as plt\n",
    "import numpy as np\n",
    "import seaborn as sns\n",
    "from nltk import bigrams\n",
    "from wordcloud import WordCloud\n"
   ]
  },
  {
   "cell_type": "code",
   "execution_count": 2,
   "metadata": {},
   "outputs": [],
   "source": [
    "# importing data\n",
    "data_utilitarian_filter = pd.read_csv ('/Users/paulahofmann/Documents/Coding/Online-Review/DataBase/Without Meta/WithMeta/Meta_utilitarian_filter.csv')\n",
    "\n",
    "data_utilitarian_razor = pd.read_csv ('/Users/paulahofmann/Documents/Coding/Online-Review/DataBase/Without Meta/WithMeta/Meta_utilitarian_razor.csv')\n",
    "\n",
    "data_hedonic_parfum = pd.read_csv ('/Users/paulahofmann/Documents/Coding/Online-Review/DataBase/Without Meta/WithMeta/Meta_hedonic_parfum.csv')"
   ]
  },
  {
   "cell_type": "code",
   "execution_count": 3,
   "metadata": {},
   "outputs": [],
   "source": [
    "data_frames = [data_utilitarian_razor, data_utilitarian_filter, data_hedonic_parfum]\n",
    "\n",
    "# Iterate over each DataFrame\n",
    "for df in data_frames:\n",
    "    # Check if 'timestamp' column exists in the DataFrame\n",
    "    if 'timestamp' in df.columns:\n",
    "        # Convert 'timestamp' column to datetime format\n",
    "        df['timestamp'] = pd.to_datetime(df['timestamp'])"
   ]
  },
  {
   "cell_type": "markdown",
   "metadata": {},
   "source": [
    "# Functions for data analysis"
   ]
  },
  {
   "cell_type": "code",
   "execution_count": 4,
   "metadata": {},
   "outputs": [],
   "source": [
    "def plot_reviews_by_year(df, title_suffix=None):\n",
    "    # Extract the year from the timestamp\n",
    "    df['year'] = df['timestamp'].dt.year\n",
    "\n",
    "    # Plot the histogram\n",
    "    plt.figure(figsize=(10, 6))\n",
    "    df['year'].hist(bins=len(df['year'].unique()), color='blue', alpha=0.5)\n",
    "    if title_suffix:\n",
    "        plt.title(f'Distribution of Reviews by Year - {title_suffix}')\n",
    "    else:\n",
    "        plt.title('Distribution of Reviews by Year')\n",
    "    plt.xlabel('Year')\n",
    "    plt.ylabel('Number of Reviews')\n",
    "    plt.grid(True)\n",
    "    plt.show()"
   ]
  },
  {
   "cell_type": "code",
   "execution_count": 5,
   "metadata": {},
   "outputs": [],
   "source": [
    "\n",
    "def plot_avg_rating_by_year(df):\n",
    "    # Extract the year from the timestamp\n",
    "    df['year'] = df['timestamp'].dt.year\n",
    "\n",
    "    # Group by year and calculate the average rating\n",
    "    avg_rating_by_year = df.groupby('year')['rating'].mean()\n",
    "\n",
    "    # Plot the line chart\n",
    "    plt.figure(figsize=(10, 6))\n",
    "    plt.plot(avg_rating_by_year.index, avg_rating_by_year.values, color='blue', marker='o', linestyle='-')\n",
    "    plt.title('Average Rating of Reviews by Year')\n",
    "    plt.xlabel('Year')\n",
    "    plt.ylabel('Average Rating')\n",
    "    plt.grid(True)\n",
    "    plt.show()\n",
    "\n",
    "# Example usage:\n",
    "# plot_avg_rating_by_year(your_dataframe)\n"
   ]
  },
  {
   "cell_type": "code",
   "execution_count": 6,
   "metadata": {},
   "outputs": [],
   "source": [
    "# Function for showing the amount on reviews by year\n",
    "\n",
    "def plot_rating_counts_by_year(df):\n",
    "    # Extract the year from the timestamp\n",
    "    df['year'] = df['timestamp'].dt.year\n",
    "\n",
    "    # Map ratings to categories (1 and 2 as negative, 3 as neutral, 4 and 5 as positive)\n",
    "    rating_categories = {1: 'Negative', 2: 'Negative', 3: 'Neutral', 4: 'Positive', 5: 'Positive'}\n",
    "    df['rating_category'] = df['rating'].map(rating_categories)\n",
    "\n",
    "    # Group by year and rating category, then count the occurrences\n",
    "    rating_counts_by_year = df.groupby(['year', 'rating_category']).size().unstack(fill_value=0)\n",
    "\n",
    "    # Plot the stacked bar plot\n",
    "    plt.figure(figsize=(10, 6))\n",
    "    rating_counts_by_year.plot(kind='bar', stacked=True, color=['red', 'grey', 'green'], alpha=0.7)\n",
    "    plt.title('Rating Distribution by Year')\n",
    "    plt.xlabel('Year')\n",
    "    plt.ylabel('Number of Ratings')\n",
    "    plt.legend(title='Rating Category', loc='upper left')\n",
    "    plt.grid(True)\n",
    "    plt.show()\n"
   ]
  },
  {
   "cell_type": "code",
   "execution_count": 7,
   "metadata": {},
   "outputs": [],
   "source": [
    "# Showing sentiment distribution by year\n",
    "\n",
    "def plot_sentiment_by_year(df):\n",
    "    # Extract the year from the timestamp\n",
    "    df['year'] = df['timestamp'].dt.year\n",
    "\n",
    "    # Plot the box plot\n",
    "    plt.figure(figsize=(10, 6))\n",
    "    sns.boxplot(x='year', y='sentiment', data=df, palette='Set2')\n",
    "    plt.title('Distribution of Text Sentiment by Year')\n",
    "    plt.xlabel('Year')\n",
    "    plt.ylabel('Text Sentiment')\n",
    "    plt.grid(True)\n",
    "    plt.show()\n"
   ]
  },
  {
   "cell_type": "code",
   "execution_count": 8,
   "metadata": {},
   "outputs": [],
   "source": [
    "def plot_average_rating_and_sentiment_over_time(data_frame):\n",
    "    # Group the data by timestamp and calculate the average rating for each time period\n",
    "    average_rating_over_time = data_frame.groupby(pd.Grouper(key='timestamp', freq='M'))['rating'].mean()\n",
    "\n",
    "    # Group the data by timestamp and calculate the average sentiment score for each time period\n",
    "    average_sentiment_over_time = data_frame.groupby(pd.Grouper(key='timestamp', freq='M'))['sentiment'].mean()\n",
    "\n",
    "    # Plotting\n",
    "    fig, ax1 = plt.subplots(figsize=(10, 6))\n",
    "\n",
    "    # Plotting average rating over time\n",
    "    color = 'tab:blue'\n",
    "    ax1.set_xlabel('Date')\n",
    "    ax1.set_ylabel('Average Rating', color=color)\n",
    "    ax1.plot(average_rating_over_time.index, average_rating_over_time.values, color=color)\n",
    "    ax1.tick_params(axis='y', labelcolor=color)\n",
    "    ax1.grid(True)\n",
    "\n",
    "    # Create a secondary y-axis for sentiment score\n",
    "    ax2 = ax1.twinx()\n",
    "    color = 'tab:red'\n",
    "    ax2.set_ylabel('Average Sentiment Score', color=color)\n",
    "    ax2.plot(average_sentiment_over_time.index, average_sentiment_over_time.values, color=color)\n",
    "    ax2.tick_params(axis='y', labelcolor=color)\n",
    "\n",
    "    fig.tight_layout()\n",
    "    plt.title('Average Rating and Sentiment Over Time')\n",
    "    plt.show()"
   ]
  },
  {
   "cell_type": "markdown",
   "metadata": {},
   "source": [
    "# 1. Basic statistic"
   ]
  },
  {
   "cell_type": "code",
   "execution_count": 9,
   "metadata": {},
   "outputs": [
    {
     "name": "stdout",
     "output_type": "stream",
     "text": [
      "           rating                      timestamp  helpful_vote   sentiment  \\\n",
      "count  270.000000                            270    270.000000  270.000000   \n",
      "mean     3.270370     2021-08-28 01:50:07.120000     15.781481    3.255556   \n",
      "min      1.000000            2014-09-27 21:53:20      0.000000    0.000000   \n",
      "25%      2.000000  2021-02-08 21:57:48.426999808      0.000000    4.000000   \n",
      "50%      3.000000     2021-10-24 02:35:41.100000      0.000000    4.000000   \n",
      "75%      5.000000  2022-07-28 09:47:19.612750080      1.000000    4.000000   \n",
      "max      5.000000     2023-08-28 18:51:06.042000   3025.000000    4.000000   \n",
      "std      1.582035                            NaN    188.158125    1.457409   \n",
      "\n",
      "       average_rating  rating_number         price  \n",
      "count    2.700000e+02          270.0  2.700000e+02  \n",
      "mean     3.900000e+00        72669.0  1.695000e+01  \n",
      "min      3.900000e+00        72669.0  1.695000e+01  \n",
      "25%      3.900000e+00        72669.0  1.695000e+01  \n",
      "50%      3.900000e+00        72669.0  1.695000e+01  \n",
      "75%      3.900000e+00        72669.0  1.695000e+01  \n",
      "max      3.900000e+00        72669.0  1.695000e+01  \n",
      "std      1.245759e-14            0.0  8.542347e-14  \n"
     ]
    }
   ],
   "source": [
    "# Quick overlook of the data\n",
    "print (data_hedonic_parfum.describe())\n"
   ]
  },
  {
   "cell_type": "code",
   "execution_count": 10,
   "metadata": {},
   "outputs": [
    {
     "name": "stdout",
     "output_type": "stream",
     "text": [
      "            rating                      timestamp  helpful_vote    sentiment  \\\n",
      "count  5865.000000                           5865   5865.000000  5865.000000   \n",
      "mean      4.067690  2020-05-20 03:43:19.158977280      0.822336     2.988917   \n",
      "min       1.000000            2015-05-31 22:48:04      0.000000     0.000000   \n",
      "25%       4.000000  2019-02-20 23:17:09.012999936      0.000000     2.000000   \n",
      "50%       5.000000  2020-08-10 20:24:05.449999872      0.000000     4.000000   \n",
      "75%       5.000000     2021-11-24 12:24:03.480000      0.000000     4.000000   \n",
      "max       5.000000     2023-08-24 16:41:33.536000   1081.000000     4.000000   \n",
      "std       1.520558                            NaN     18.152411     1.617514   \n",
      "\n",
      "       average_rating  rating_number         price  \n",
      "count    5.865000e+03         5865.0  5.865000e+03  \n",
      "mean     4.700000e+00        90203.0  5.399000e+01  \n",
      "min      4.700000e+00        90203.0  5.399000e+01  \n",
      "25%      4.700000e+00        90203.0  5.399000e+01  \n",
      "50%      4.700000e+00        90203.0  5.399000e+01  \n",
      "75%      4.700000e+00        90203.0  5.399000e+01  \n",
      "max      4.700000e+00        90203.0  5.399000e+01  \n",
      "std      4.734395e-13            0.0  4.512331e-12  \n"
     ]
    }
   ],
   "source": [
    "print (data_utilitarian_filter.describe())\n"
   ]
  },
  {
   "cell_type": "code",
   "execution_count": 11,
   "metadata": {},
   "outputs": [
    {
     "name": "stdout",
     "output_type": "stream",
     "text": [
      "             rating                      timestamp  helpful_vote  \\\n",
      "count  11364.000000                          11364  11364.000000   \n",
      "mean       4.003960  2018-01-15 05:41:46.475094528      2.656371   \n",
      "min        1.000000            2008-11-17 15:54:20      0.000000   \n",
      "25%        3.000000            2016-01-19 23:34:35      0.000000   \n",
      "50%        5.000000  2018-03-01 14:35:16.729999872      0.000000   \n",
      "75%        5.000000  2019-12-28 20:15:01.367500032      0.000000   \n",
      "max        5.000000     2023-08-18 14:03:08.916000   9766.000000   \n",
      "std        1.438609                            NaN    111.472077   \n",
      "\n",
      "          sentiment  average_rating  rating_number         price  \n",
      "count  11364.000000    1.136400e+04        11364.0  1.136400e+04  \n",
      "mean       3.034935    4.300000e+00        52307.0  4.099000e+01  \n",
      "min        0.000000    4.300000e+00        52307.0  4.099000e+01  \n",
      "25%        2.000000    4.300000e+00        52307.0  4.099000e+01  \n",
      "50%        4.000000    4.300000e+00        52307.0  4.099000e+01  \n",
      "75%        4.000000    4.300000e+00        52307.0  4.099000e+01  \n",
      "max        4.000000    4.300000e+00        52307.0  4.099000e+01  \n",
      "std        1.522605    6.146465e-13            0.0  6.054090e-12  \n"
     ]
    }
   ],
   "source": [
    "print (data_utilitarian_razor.describe())"
   ]
  },
  {
   "cell_type": "markdown",
   "metadata": {},
   "source": [
    "## Analyzing Helpfulness"
   ]
  },
  {
   "cell_type": "code",
   "execution_count": 12,
   "metadata": {},
   "outputs": [],
   "source": [
    "# Function for plotting helpfulness distribution\n",
    "\n",
    "def plot_helpfulness_votes_over_time(data_frame):\n",
    "    # Group by timestamp and calculate the sum of helpfulness votes\n",
    "    votes_by_timestamp = data_frame.groupby('timestamp')['helpful_vote'].sum()\n",
    "\n",
    "    # Filter out timestamps with less than or equal to 1 helpful vote\n",
    "    votes_by_timestamp = votes_by_timestamp[votes_by_timestamp > 1]\n",
    "\n",
    "    # Plot the data\n",
    "    plt.figure(figsize=(10, 6))\n",
    "    plt.scatter(votes_by_timestamp.index, votes_by_timestamp, color='blue', alpha=0.5)\n",
    "    plt.title('Helpfulness Votes over Time')\n",
    "    plt.xlabel('Timestamp')\n",
    "    plt.ylabel('Total Helpful Votes')\n",
    "    plt.xticks(rotation=45)\n",
    "    plt.grid(True)\n",
    "    plt.show()\n"
   ]
  },
  {
   "cell_type": "code",
   "execution_count": 13,
   "metadata": {},
   "outputs": [
    {
     "name": "stdout",
     "output_type": "stream",
     "text": [
      "Number of reviews with at least one helpful rating: 79\n"
     ]
    }
   ],
   "source": [
    "helpful_reviews_count = data_hedonic_parfum[data_hedonic_parfum['helpful_vote'] > 0].shape[0]\n",
    "print(\"Number of reviews with at least one helpful rating:\", helpful_reviews_count)"
   ]
  },
  {
   "cell_type": "code",
   "execution_count": 14,
   "metadata": {},
   "outputs": [
    {
     "name": "stdout",
     "output_type": "stream",
     "text": [
      "Number of reviews with at least one helpful rating: 706\n"
     ]
    }
   ],
   "source": [
    "helpful_reviews_count = data_utilitarian_filter[data_utilitarian_filter['helpful_vote'] > 0].shape[0]\n",
    "print(\"Number of reviews with at least one helpful rating:\", helpful_reviews_count)"
   ]
  },
  {
   "cell_type": "code",
   "execution_count": 15,
   "metadata": {},
   "outputs": [
    {
     "name": "stdout",
     "output_type": "stream",
     "text": [
      "Number of reviews with at least one helpful rating: 1669\n"
     ]
    }
   ],
   "source": [
    "helpful_reviews_count = data_utilitarian_razor[data_utilitarian_razor['helpful_vote'] > 0].shape[0]\n",
    "print(\"Number of reviews with at least one helpful rating:\", helpful_reviews_count)"
   ]
  },
  {
   "cell_type": "markdown",
   "metadata": {},
   "source": [
    "## 3. Text Analysis Wordclouds "
   ]
  },
  {
   "cell_type": "code",
   "execution_count": 16,
   "metadata": {},
   "outputs": [],
   "source": [
    "# Generating Wordclouds\n",
    "\n",
    "def generate_wordcloud_reviews_by_sentiment(df):\n",
    "    # Define rating categories\n",
    "    rating_categories = {1: 'Negative', 2: 'Negative', 3: 'Neutral', 4: 'Positive', 5: 'Positive'}\n",
    "\n",
    "    # Create subplots\n",
    "    fig, axes = plt.subplots(1, 3, figsize=(20, 6))\n",
    "    \n",
    "    # Iterate over each sentiment category\n",
    "    for ax, sentiment in zip(axes.flatten(), ['Negative', 'Neutral', 'Positive']):\n",
    "        # Filter out reviews based on sentiment\n",
    "        reviews = df[df['rating'].map(rating_categories) == sentiment]\n",
    "        \n",
    "        # Drop rows where 'text_cleaned1' column contains NaN values\n",
    "        reviews.dropna(subset=['text_cleaned1'], inplace=True)\n",
    "        \n",
    "        # Concatenate the cleaned text of reviews\n",
    "        text = ' '.join(reviews['text_cleaned1'])\n",
    "\n",
    "        # Generate bigrams from the text\n",
    "        bigram_list = list(bigrams(text.split()))\n",
    "\n",
    "        # Create a WordCloud object with bigrams\n",
    "        wordcloud = WordCloud(width=400, height=200, background_color='white').generate_from_frequencies(dict(bigram_list))\n",
    "\n",
    "        # Plot the WordCloud\n",
    "        ax.imshow(wordcloud, interpolation='bilinear')\n",
    "        ax.set_title(f'Word Cloud of {sentiment} Reviews (Bigrams)')\n",
    "        ax.axis('off')\n",
    "    \n",
    "    plt.tight_layout()\n",
    "    plt.show()"
   ]
  }
 ],
 "metadata": {
  "kernelspec": {
   "display_name": "torch-gpu",
   "language": "python",
   "name": "python3"
  },
  "language_info": {
   "codemirror_mode": {
    "name": "ipython",
    "version": 3
   },
   "file_extension": ".py",
   "mimetype": "text/x-python",
   "name": "python",
   "nbconvert_exporter": "python",
   "pygments_lexer": "ipython3",
   "version": "3.8.19"
  },
  "orig_nbformat": 4
 },
 "nbformat": 4,
 "nbformat_minor": 2
}
