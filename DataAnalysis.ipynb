{
 "cells": [
  {
   "cell_type": "markdown",
   "metadata": {},
   "source": [
    "# Data Analysis"
   ]
  },
  {
   "cell_type": "markdown",
   "metadata": {},
   "source": [
    "In this section we will have a look at the difference in products between hedonic and utilitarian dirven products. We will see if we can find any patterns in the data from a descriptive level and then move on to a more inferential level."
   ]
  },
  {
   "cell_type": "markdown",
   "metadata": {},
   "source": [
    "## Packages and Importing Data"
   ]
  },
  {
   "cell_type": "code",
   "execution_count": 1,
   "metadata": {},
   "outputs": [],
   "source": [
    "# Installing packages\n",
    "import pandas as pd\n",
    "import json\n",
    "import matplotlib.pyplot as plt\n",
    "import numpy as np\n",
    "import seaborn as sns\n",
    "from nltk import bigrams\n",
    "from wordcloud import WordCloud\n"
   ]
  },
  {
   "cell_type": "code",
   "execution_count": 3,
   "metadata": {},
   "outputs": [],
   "source": [
    "data_utilitarian = pd.read_csv('/Users/paulahofmann/Documents/Coding/Online-Review/FeaturePreperation/Data_with_Features/Total_Features_utilitarian.csv')\n",
    "data_hedonic = pd.read_csv('/Users/paulahofmann/Documents/Coding/Online-Review/FeaturePreperation/Data_with_Features/Total_Features_hedonic.csv')\n"
   ]
  },
  {
   "cell_type": "code",
   "execution_count": 4,
   "metadata": {},
   "outputs": [],
   "source": [
    "# importing data\n",
    "data_utilitarian_filter = pd.read_csv ('/Users/paulahofmann/Documents/Coding/Online-Review/FeaturePreperation/Data_with_Features/Features_utilitarian_filter.csv')\n",
    "\n",
    "data_utilitarian_razor = pd.read_csv ('/Users/paulahofmann/Documents/Coding/Online-Review/FeaturePreperation/Data_with_Features/Features_utilitarian_razor.csv')\n",
    "\n",
    "data_utilitarian_mouse = pd.read_csv ('/Users/paulahofmann/Documents/Coding/Online-Review/FeaturePreperation/Data_with_Features/Features_utilitarian_mouse.csv')\n",
    "\n",
    "data_hedonic_chocolate = pd.read_csv ('/Users/paulahofmann/Documents/Coding/Online-Review/FeaturePreperation/Data_with_Features/Features_hedonic_choclate.csv')\n"
   ]
  },
  {
   "cell_type": "markdown",
   "metadata": {},
   "source": [
    "# Functions for data analysis"
   ]
  },
  {
   "cell_type": "code",
   "execution_count": null,
   "metadata": {},
   "outputs": [],
   "source": [
    "\n",
    "# List of your DataFrame variables\n",
    "data_frames = [data_hedonic, data_utilitarian, data_utilitarian_mouse, data_utilitarian_filter, data_utilitarian_razor,data_hedonic_chocolate]\n",
    "\n",
    "# Convert 'timestamp' column to datetime format for all DataFrames\n",
    "for df in data_frames:\n",
    "    df['timestamp'] = pd.to_datetime(df['timestamp'])\n",
    "\n",
    "# Verify that the conversion was successful\n",
    "for i, df in enumerate(data_frames):\n",
    "    print(f\"DataFrame {i+1}:\\n{df['timestamp'].dtype}\\n\")\n"
   ]
  },
  {
   "cell_type": "code",
   "execution_count": null,
   "metadata": {},
   "outputs": [],
   "source": [
    "def plot_reviews_by_year(df, title_suffix=None):\n",
    "    # Extract the year from the timestamp\n",
    "    df['year'] = df['timestamp'].dt.year\n",
    "\n",
    "    # Plot the histogram\n",
    "    plt.figure(figsize=(10, 6))\n",
    "    df['year'].hist(bins=len(df['year'].unique()), color='blue', alpha=0.5)\n",
    "    if title_suffix:\n",
    "        plt.title(f'Distribution of Reviews by Year - {title_suffix}')\n",
    "    else:\n",
    "        plt.title('Distribution of Reviews by Year')\n",
    "    plt.xlabel('Year')\n",
    "    plt.ylabel('Number of Reviews')\n",
    "    plt.grid(True)\n",
    "    plt.show()"
   ]
  },
  {
   "cell_type": "code",
   "execution_count": null,
   "metadata": {},
   "outputs": [],
   "source": [
    "\n",
    "def avg_rating_by_year(df):\n",
    "    # Extract the year from the timestamp\n",
    "    df['year'] = df['timestamp'].dt.year\n",
    "\n",
    "    # Group by year and calculate the average rating\n",
    "    avg_rating_by_year = df.groupby('year')['rating'].mean()\n",
    "\n",
    "    # Plot the line chart\n",
    "    plt.figure(figsize=(10, 6))\n",
    "    plt.plot(avg_rating_by_year.index, avg_rating_by_year.values, color='blue', marker='o', linestyle='-')\n",
    "    plt.title('Average Rating of Reviews by Year')\n",
    "    plt.xlabel('Year')\n",
    "    plt.ylabel('Average Rating')\n",
    "    plt.grid(True)\n",
    "    plt.show()\n",
    "\n",
    "# Example usage:\n",
    "# plot_avg_rating_by_year(your_dataframe)\n"
   ]
  },
  {
   "cell_type": "code",
   "execution_count": null,
   "metadata": {},
   "outputs": [],
   "source": [
    "def avg_rating_and_sentiment_over_time(df, product_name):\n",
    "    # Group the data by timestamp and calculate the average rating for each time period\n",
    "    average_rating_over_time = df.groupby(pd.Grouper(key='timestamp', freq='M'))['rating'].mean()\n",
    "\n",
    "    # Group the data by timestamp and calculate the average sentiment score for each time period\n",
    "    average_sentiment_over_time = df.groupby(pd.Grouper(key='timestamp', freq='M'))['sentiment'].mean()\n",
    "\n",
    "    # Plotting\n",
    "    fig, ax = plt.subplots(figsize=(10, 6))\n",
    "    color = 'tab:blue'\n",
    "    ax.plot(average_rating_over_time.index, average_rating_over_time.values, label='Average Rating', color=color)\n",
    "    ax.set_xlabel('Date')\n",
    "    ax.set_ylabel('Average Rating', color=color)\n",
    "    ax.tick_params(axis='y', labelcolor=color)\n",
    "    ax.grid(True)\n",
    "\n",
    "    ax2 = ax.twinx()\n",
    "    color = 'tab:red'\n",
    "    ax2.plot(average_sentiment_over_time.index, average_sentiment_over_time.values, label='Average Sentiment Score', color=color)\n",
    "    ax2.set_ylabel('Average Sentiment Score', color=color)\n",
    "    ax2.tick_params(axis='y', labelcolor=color)\n",
    "\n",
    "    fig.suptitle(f'Average Rating and Sentiment Over Time for {product_name}')\n",
    "    fig.tight_layout()\n",
    "\n",
    "    plt.show()\n",
    "\n"
   ]
  },
  {
   "cell_type": "code",
   "execution_count": null,
   "metadata": {},
   "outputs": [],
   "source": [
    "# Function for showing the amount on reviews by year\n",
    "\n",
    "def rating_counts_by_year(df):\n",
    "    # Extract the year from the timestamp\n",
    "    df['year'] = df['timestamp'].dt.year\n",
    "\n",
    "    # Map ratings to categories (1 and 2 as negative, 3 as neutral, 4 and 5 as positive)\n",
    "    rating_categories = {1: 'Negative', 2: 'Negative', 3: 'Neutral', 4: 'Positive', 5: 'Positive'}\n",
    "    df['rating_category'] = df['rating'].map(rating_categories)\n",
    "\n",
    "    # Group by year and rating category, then count the occurrences\n",
    "    rating_counts_by_year = df.groupby(['year', 'rating_category']).size().unstack(fill_value=0)\n",
    "\n",
    "    # Plot the stacked bar plot\n",
    "    plt.figure(figsize=(10, 6))\n",
    "    rating_counts_by_year.plot(kind='bar', stacked=True, color=['red', 'grey', 'green'], alpha=0.7)\n",
    "    plt.title('Rating Distribution by Year')\n",
    "    plt.xlabel('Year')\n",
    "    plt.ylabel('Number of Ratings')\n",
    "    plt.legend(title='Rating Category', loc='upper left')\n",
    "    plt.grid(True)\n",
    "    plt.show()\n"
   ]
  },
  {
   "cell_type": "code",
   "execution_count": null,
   "metadata": {},
   "outputs": [],
   "source": [
    "# Showing sentiment distribution by year\n",
    "\n",
    "def sentiment_by_year(df):\n",
    "    # Extract the year from the timestamp\n",
    "    df['year'] = df['timestamp'].dt.year\n",
    "\n",
    "    # Plot the box plot\n",
    "    plt.figure(figsize=(10, 6))\n",
    "    sns.boxplot(x='year', y='sentiment', data=df, palette='Set2')\n",
    "    plt.title('Distribution of Text Sentiment by Year')\n",
    "    plt.xlabel('Year')\n",
    "    plt.ylabel('Text Sentiment')\n",
    "    plt.grid(True)\n",
    "    plt.show()\n"
   ]
  },
  {
   "cell_type": "markdown",
   "metadata": {},
   "source": [
    "# 1. Basic statistic"
   ]
  },
  {
   "cell_type": "code",
   "execution_count": null,
   "metadata": {},
   "outputs": [],
   "source": [
    "# Quick overlook of the data\n",
    "print (data_utilitarian_mouse.describe())\n"
   ]
  },
  {
   "cell_type": "code",
   "execution_count": null,
   "metadata": {},
   "outputs": [],
   "source": [
    "print (data_utilitarian_filter.describe())\n"
   ]
  },
  {
   "cell_type": "code",
   "execution_count": null,
   "metadata": {},
   "outputs": [],
   "source": [
    "print (data_utilitarian_razor.describe())"
   ]
  },
  {
   "cell_type": "code",
   "execution_count": null,
   "metadata": {},
   "outputs": [],
   "source": [
    "rating_counts_by_year (data_utilitarian_mouse)\n",
    "rating_counts_by_year (data_utilitarian_filter)\n",
    "rating_counts_by_year (data_utilitarian_razor)\n",
    "rating_counts_by_year (data_hedonic_chocolate)"
   ]
  },
  {
   "cell_type": "code",
   "execution_count": null,
   "metadata": {},
   "outputs": [],
   "source": [
    "avg_rating_and_sentiment_over_time(data_hedonic, 'Chocolate')\n",
    "avg_rating_and_sentiment_over_time(data_hedonic, 'Facial Spray')\n",
    "avg_rating_and_sentiment_over_time(data_utilitarian, 'Gaming Mouse')\n",
    "avg_rating_and_sentiment_over_time(data_utilitarian, 'Razor')\n",
    "\n"
   ]
  },
  {
   "cell_type": "markdown",
   "metadata": {},
   "source": [
    "## Analyzing Helpfulness"
   ]
  },
  {
   "cell_type": "code",
   "execution_count": null,
   "metadata": {},
   "outputs": [],
   "source": [
    "# Function for plotting helpfulness distribution\n",
    "\n",
    "def plot_helpfulness_votes_over_time(data_frame):\n",
    "    # Group by timestamp and calculate the sum of helpfulness votes\n",
    "    votes_by_timestamp = data_frame.groupby('timestamp')['helpful_vote'].sum()\n",
    "\n",
    "    # Filter out timestamps with less than or equal to 1 helpful vote\n",
    "    votes_by_timestamp = votes_by_timestamp[votes_by_timestamp > 1]\n",
    "\n",
    "    # Plot the data\n",
    "    plt.figure(figsize=(10, 6))\n",
    "    plt.scatter(votes_by_timestamp.index, votes_by_timestamp, color='blue', alpha=0.5)\n",
    "    plt.title('Helpfulness Votes over Time')\n",
    "    plt.xlabel('Timestamp')\n",
    "    plt.ylabel('Total Helpful Votes')\n",
    "    plt.xticks(rotation=45)\n",
    "    plt.grid(True)\n",
    "    plt.show()\n"
   ]
  },
  {
   "cell_type": "code",
   "execution_count": null,
   "metadata": {},
   "outputs": [],
   "source": [
    "helpful_reviews_count = data_utilitarian_mouse[data_utilitarian_mouse['helpful_vote'] > 0].shape[0]\n",
    "print(\"Number of reviews with at least one helpful rating:\", helpful_reviews_count)"
   ]
  },
  {
   "cell_type": "code",
   "execution_count": null,
   "metadata": {},
   "outputs": [],
   "source": [
    "helpful_reviews_count = data_utilitarian_filter[data_utilitarian_filter['helpful_vote'] > 0].shape[0]\n",
    "print(\"Number of reviews with at least one helpful rating:\", helpful_reviews_count)"
   ]
  },
  {
   "cell_type": "code",
   "execution_count": null,
   "metadata": {},
   "outputs": [],
   "source": [
    "helpful_reviews_count = data_utilitarian_razor[data_utilitarian_razor['helpful_vote'] > 0].shape[0]\n",
    "print(\"Number of reviews with at least one helpful rating:\", helpful_reviews_count)"
   ]
  },
  {
   "cell_type": "code",
   "execution_count": null,
   "metadata": {},
   "outputs": [],
   "source": [
    "helpful_reviews_count = data_hedonic_chocolate[data_hedonic_chocolate['helpful_vote'] > 0].shape[0]\n",
    "print(\"Number of reviews with at least one helpful rating:\", helpful_reviews_count)"
   ]
  },
  {
   "cell_type": "markdown",
   "metadata": {},
   "source": [
    "## 3. Text Analysis Wordclouds "
   ]
  },
  {
   "cell_type": "code",
   "execution_count": null,
   "metadata": {},
   "outputs": [],
   "source": [
    "# Generating Wordclouds\n",
    "\n",
    "def generate_wordcloud_reviews_by_sentiment(df):\n",
    "    # Define rating categories\n",
    "    rating_categories = {1: 'Negative', 2: 'Negative', 3: 'Neutral', 4: 'Positive', 5: 'Positive'}\n",
    "\n",
    "    # Create subplots\n",
    "    fig, axes = plt.subplots(1, 3, figsize=(20, 6))\n",
    "    \n",
    "    # Iterate over each sentiment category\n",
    "    for ax, sentiment in zip(axes.flatten(), ['Negative', 'Neutral', 'Positive']):\n",
    "        # Filter out reviews based on sentiment\n",
    "        reviews = df[df['rating'].map(rating_categories) == sentiment]\n",
    "        \n",
    "        # Drop rows where 'text_cleaned1' column contains NaN values\n",
    "        reviews.dropna(subset=['text_cleaned1'], inplace=True)\n",
    "        \n",
    "        # Concatenate the cleaned text of reviews\n",
    "        text = ' '.join(reviews['text_cleaned1'])\n",
    "\n",
    "        # Generate bigrams from the text\n",
    "        bigram_list = list(bigrams(text.split()))\n",
    "\n",
    "        # Create a WordCloud object with bigrams\n",
    "        wordcloud = WordCloud(width=400, height=200, background_color='white').generate_from_frequencies(dict(bigram_list))\n",
    "\n",
    "        # Plot the WordCloud\n",
    "        ax.imshow(wordcloud, interpolation='bilinear')\n",
    "        ax.set_title(f'Word Cloud of {sentiment} Reviews (Bigrams)')\n",
    "        ax.axis('off')\n",
    "    \n",
    "    plt.tight_layout()\n",
    "    plt.show()"
   ]
  }
 ],
 "metadata": {
  "kernelspec": {
   "display_name": "torch-gpu",
   "language": "python",
   "name": "python3"
  },
  "language_info": {
   "codemirror_mode": {
    "name": "ipython",
    "version": 3
   },
   "file_extension": ".py",
   "mimetype": "text/x-python",
   "name": "python",
   "nbconvert_exporter": "python",
   "pygments_lexer": "ipython3",
   "version": "3.8.19"
  },
  "orig_nbformat": 4
 },
 "nbformat": 4,
 "nbformat_minor": 2
}
