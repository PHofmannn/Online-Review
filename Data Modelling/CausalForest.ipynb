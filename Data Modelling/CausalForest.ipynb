{
 "cells": [
  {
   "cell_type": "code",
   "execution_count": 1,
   "metadata": {},
   "outputs": [
    {
     "name": "stderr",
     "output_type": "stream",
     "text": [
      "Using `tqdm.autonotebook.tqdm` in notebook mode. Use `tqdm.tqdm` instead to force console mode (e.g. in jupyter console)\n"
     ]
    }
   ],
   "source": [
    "import pandas as pd\n",
    "from sklearn.model_selection import train_test_split\n",
    "#from causalml.inference.tree import CausalRandomForestRegressor\n",
    "from sklearn.metrics import mean_squared_error, r2_score\n",
    "import numpy as np\n",
    "from econml.dml import CausalForestDML\n"
   ]
  },
  {
   "cell_type": "markdown",
   "metadata": {},
   "source": [
    "# Date Preperation"
   ]
  },
  {
   "cell_type": "code",
   "execution_count": 6,
   "metadata": {},
   "outputs": [],
   "source": [
    "data_hedonic = pd.read_csv('/Users/paulahofmann/Documents/Coding/Online-Review/FeaturePreperation/Data_with_Features/Total_Features_hedonic.csv')\n",
    "data_utilitarian = pd.read_csv('/Users/paulahofmann/Documents/Coding/Online-Review/FeaturePreperation/Data_with_Features/Total_Features_utilitarian.csv')"
   ]
  },
  {
   "cell_type": "code",
   "execution_count": 7,
   "metadata": {},
   "outputs": [],
   "source": [
    "# Product Mapping for product type\n",
    "data_hedonic['product_type'] = 1\n",
    "data_utilitarian['product_type'] = 0"
   ]
  },
  {
   "cell_type": "code",
   "execution_count": null,
   "metadata": {},
   "outputs": [],
   "source": []
  },
  {
   "cell_type": "code",
   "execution_count": 3,
   "metadata": {},
   "outputs": [],
   "source": [
<<<<<<< HEAD
    "data = pd.read_csv ('/Users/paulahofmann/Documents/Coding/Online-Review/FeaturePreperation/Data_with_Features/TestData.csv')"
   ]
  },
  {
   "cell_type": "code",
   "execution_count": 4,
   "metadata": {},
   "outputs": [],
   "source": [
    "# Product Mapping for product type\n",
    "data_hedonic['product_type'] = 1\n",
    "data_utilitarian['product_type'] = 0"
   ]
  },
  {
   "cell_type": "code",
   "execution_count": 30,
   "metadata": {},
   "outputs": [],
   "source": [
    "# Combining dataframe with utilitarian and hedonic products\n",
    "data = pd.concat([data_hedonic, data_utilitarian], ignore_index=True)"
   ]
  },
  {
   "cell_type": "code",
   "execution_count": 12,
   "metadata": {},
   "outputs": [],
   "source": [
    "# Filtering data where helpful votes are not 0\n",
    "data = data[data['helpful_vote'] != 0]"
   ]
  },
  {
   "cell_type": "code",
   "execution_count": 5,
   "metadata": {},
   "outputs": [
    {
     "name": "stdout",
     "output_type": "stream",
     "text": [
      "Unique Products:\n",
      "Face Oil\n",
      "Mario Game\n",
      "Minecraft Game\n",
      "Men Cologne\n",
      "Heat Protector\n",
      "Cologne Unisex\n",
      "Chocolate\n",
      "Music\n",
      "Battery\n",
      "Filter\n",
      "Razor\n",
      "Gaming Mouse\n"
     ]
    }
   ],
   "source": [
    "# Assuming df is your DataFrame containing the 'Product' column\n",
    "\n",
    "# Get the unique products\n",
    "unique_products = data['product'].unique()\n",
    "\n",
    "# Print the unique products\n",
    "print(\"Unique Products:\")\n",
    "for product in unique_products:\n",
    "    print(product)\n"
=======
    "# Filtering data where helpful votes are not 0\n",
    "data = data[data['helpful_vote'] != 0]\n"
>>>>>>> be2f6cf (D)
   ]
  },
  {
   "cell_type": "code",
<<<<<<< HEAD
   "execution_count": 8,
   "metadata": {},
   "outputs": [],
   "source": [
    "# Dictionary mapping products to numerical values\n",
    "product_mapping = {\n",
    "    'Face Oil': 1,\n",
    "    'Mario Game': 2,\n",
    "    'Minecraft Game': 3,\n",
    "    'Men Cologne': 4,\n",
    "    'Heat Protector': 5,\n",
    "    'Cologne Unisex': 6,\n",
    "    'Chocolate': 7,\n",
    "    'Music': 8,\n",
    "    'Battery': 9,\n",
    "    'Filter': 10,\n",
    "    'Razor': 11,\n",
    "    'Gaming Mouse': 12\n",
    "}\n",
    "\n",
    "# Map the 'Product' column to numerical values\n",
    "data['product_n'] = data['product'].map(product_mapping)\n",
    "\n"
   ]
  },
  {
   "cell_type": "code",
   "execution_count": 13,
   "metadata": {},
   "outputs": [],
   "source": [
=======
   "execution_count": 45,
   "metadata": {},
   "outputs": [],
   "source": [
>>>>>>> be2f6cf (D)
    "# Create a dictionary to map each product to a numerical value\n",
    "\n",
    "product_mapping = {\n",
    "    'Face Oil': 1,\n",
    "    'Mario Game': 2,\n",
    "    'Minecraft Game': 3,\n",
    "    'Men Cologne': 4,\n",
    "    'Hair Treatment': 5,\n",
    "    'Heat Protector': 6,\n",
    "    'Facial Spray': 7,\n",
    "    'Cologne Unisex': 8,\n",
    "    'Chocolate': 9,\n",
    "    'Toilet Paper Unscented': 10,\n",
    "    'Battery': 11,\n",
    "    'Filter': 12,\n",
    "    'Razor': 13,\n",
    "    'Gaming Mouse': 14,\n",
    "    'Hair Brush': 15\n",
    "}\n",
    "\n",
    "# Create a new column \"product_c\" by mapping the product names to numerical values\n",
<<<<<<< HEAD
    "data['product_n'] = data['product'].map(product_mapping)"
=======
    "data['product_m'] = data['product'].map(product_mapping)"
>>>>>>> be2f6cf (D)
   ]
  },
  {
   "cell_type": "code",
   "execution_count": null,
   "metadata": {},
   "outputs": [],
   "source": [
    "# Define the feature mapping dictionary\n",
    "feature_mapping = {\n",
    "    'All Beauty': 1,\n",
    "    'Premium Beauty': 1,\n",
    "    'Video Games': 2,\n",
    "    'Grocery': 3,\n",
    "    'All Electronics': 4,\n",
    "    'Computers': 4,\n",
    "    'Appliances': 5,\n",
<<<<<<< HEAD
    "    'Digital Music': 6,\n",
    "    \n",
    "}\n",
    "\n",
    "data['prod_cat'] = data['main_category'].map(feature_mapping)"
=======
    "    \n",
    "}\n",
    "\n",
    "data['prod_cat'] = data['main_category'].map(feature_mapping)"
   ]
  },
  {
   "cell_type": "code",
   "execution_count": null,
   "metadata": {},
   "outputs": [],
   "source": [
    "# Create a dictionary to map each product to a numerical value\n",
    "\n",
    "product_mapping = {\n",
    "    'Face Oil': 1,\n",
    "    'Mario Game': 2,\n",
    "    'Minecraft Game': 3,\n",
    "    'Men Cologne': 4,\n",
    "    'Hair Treatment': 5,\n",
    "    'Heat Protector': 6,\n",
    "    'Facial Spray': 7,\n",
    "    'Cologne Unisex': 8,\n",
    "    'Chocolate': 9,\n",
    "    'Toilet Paper Unscented': 10,\n",
    "    'Battery': 11,\n",
    "    'Filter': 12,\n",
    "    'Razor': 13,\n",
    "    'Gaming Mouse': 14,\n",
    "    'Hair Brush': 15\n",
    "}\n",
    "\n",
    "# Create a new column \"product_c\" by mapping the product names to numerical values\n",
    "data['product_map'] = data['product'].map(product_mapping)"
   ]
  },
  {
   "cell_type": "code",
   "execution_count": 13,
   "metadata": {},
   "outputs": [],
   "source": [
    "# Definie features for Casual Forest\n",
    "\n",
    "# set variables \n",
    "treatment = 'prod_type'\n",
    "outcome = 'helpful_ratio'\n",
    "covariates = [\n",
    "    'rating', 'rat_count','ver_purch', 'sentiment', 'price', 'noun_count', 'adj_count', \n",
    "    'adv_count', 'word_count', 'sent_count', 'sent_length', \n",
    "    'title_length', 'review_ext', 'elap_days', \n",
    "    'image', 'year', 'month', 'day', 'hour','product_map'\n",
    "]\n"
>>>>>>> be2f6cf (D)
   ]
  },
  {
   "cell_type": "code",
   "execution_count": 10,
   "metadata": {},
   "outputs": [
    {
     "name": "stdout",
     "output_type": "stream",
     "text": [
      "All Beauty         3638\n",
      "All Electronics    1026\n",
      "Appliances          706\n",
      "Computers           518\n",
      "Grocery             516\n",
      "Video Games         466\n",
      "Digital Music       412\n",
      "Name: main_category, dtype: int64\n"
     ]
    }
   ],
   "source": [
    "# Assuming 'product' is the column containing product categories in your DataFrame\n",
    "product_counts = data['main_category'].value_counts()\n",
    "\n",
    "# Print the amount of data for each product category\n",
    "print(product_counts)\n"
   ]
  },
  {
   "cell_type": "code",
   "execution_count": 11,
   "metadata": {},
   "outputs": [
    {
     "name": "stdout",
     "output_type": "stream",
     "text": [
      "Data Type of the Column: int64\n"
     ]
    }
   ],
   "source": [
    "# Assuming you have loaded the data into a DataFrame named 'data'\n",
    "\n",
    "# Get the data type of a specific column (replace 'column_name' with the actual column name)\n",
    "column_data_type = data['product_type'].dtype\n",
    "\n",
    "# Print the data type of the column\n",
    "print(\"Data Type of the Column:\", column_data_type)\n"
   ]
  },
  {
   "cell_type": "markdown",
   "metadata": {},
   "source": [
    "# 2. Model Preperation"
   ]
  },
  {
   "cell_type": "code",
   "execution_count": 12,
   "metadata": {},
   "outputs": [],
   "source": [
    "# Definie features for Casual Forest\n",
    "\n",
    "# set variables \n",
    "treatment = 'product_type'\n",
    "outcome = 'helpful_ratio'\n",
    "covariates = [\n",
    "    'rating', 'rat_count','ver_purch', 'sentiment', 'price', '#adj', '#adv',\n",
    "    '#nouns', 'word_count', 'sent_count', 'sent_length', \n",
    "    'title_length', 'review_ext', 'elap_days', \n",
    "    'image', 'year', 'month', 'day', 'hour','prod_cat','product_n',\n",
    "]\n"
   ]
  },
  {
   "cell_type": "code",
   "execution_count": 31,
   "metadata": {},
   "outputs": [],
   "source": [
    "# set variables \n",
    "treatment = 'product_type'\n",
    "outcome = 'helpful_ratio'\n",
    "covariates = [\n",
    "    'sentiment', '#adj', '#adv',\n",
    "    '#nouns', 'word_count', 'sent_count', 'sent_length', \n",
    "    'title_length', 'review_ext', 'elap_days', \n",
    "    'image','prod_cat','product_n',\n",
    "]"
   ]
  },
  {
   "cell_type": "code",
   "execution_count": 32,
   "metadata": {},
   "outputs": [],
   "source": [
    "# split data into train and test sets \n",
    "train, test = train_test_split(data, test_size=0.2)\n",
    "\n",
    "# set variables for causal forest Y=outcome, T=treatment, X=covariates, W=effect_modifiers \n",
    "Y = train[outcome]\n",
    "T = train[treatment]\n",
    "X = train[covariates]\n",
    "W = None\n",
    "X_test = test[covariates]"
   ]
  },
  {
   "cell_type": "code",
   "execution_count": 33,
   "metadata": {},
   "outputs": [
    {
     "name": "stdout",
     "output_type": "stream",
     "text": [
      "Data type of Y after conversion: float64\n",
      "Data type of T after conversion: int64\n"
     ]
    }
   ],
   "source": [
    "# Convert Y and T to numeric types\n",
    "Y = pd.to_numeric(Y, errors='coerce')\n",
    "T = pd.to_numeric(T, errors='coerce')\n",
    "\n",
    "# Check the data types after conversion\n",
    "print(\"Data type of Y after conversion:\", Y.dtype)\n",
    "print(\"Data type of T after conversion:\", T.dtype)\n"
   ]
  },
  {
   "cell_type": "code",
   "execution_count": 34,
   "metadata": {},
   "outputs": [
    {
     "data": {
      "text/plain": [
       "0.0013907162098564674"
      ]
     },
     "execution_count": 34,
     "metadata": {},
     "output_type": "execute_result"
    }
   ],
   "source": [
    "from econml.dml import CausalForestDML\n",
    "from sklearn.linear_model import MultiTaskLassoCV, LassoCV\n",
    "\n",
    "# set parameters for causal forest \n",
    "causal_forest = CausalForestDML(criterion='het', \n",
    "                                n_estimators=10000,       \n",
    "                                min_samples_leaf=10, \n",
    "                                max_depth=None, \n",
    "                                max_samples=0.5,\n",
    "                                discrete_treatment=False,\n",
    "                                honest=True,\n",
    "                                inference=True,\n",
    "                                cv=10,\n",
    "                                model_t=LassoCV(), \n",
    "                                model_y=LassoCV(),\n",
    "                                )\n",
    "\n",
    "# fit train data to causal forest model \n",
    "causal_forest.fit(Y, T, X=X, W=W)\n",
    "# estimate the CATE with the test set \n",
    "causal_forest.const_marginal_ate(X_test)"
   ]
  },
  {
   "cell_type": "code",
   "execution_count": 23,
   "metadata": {},
   "outputs": [],
   "source": [
    "# Fill NaN values in the 'price' column with 14.99\n",
    "data['price'].fillna(14.99, inplace=True)"
   ]
  },
  {
   "cell_type": "code",
   "execution_count": 24,
   "metadata": {},
   "outputs": [],
   "source": [
    "data.to_csv('/Users/paulahofmann/Documents/Coding/Online-Review/FeaturePreperation/Data_with_Features/TestData.csv', index=False)"
   ]
  },
  {
   "cell_type": "markdown",
   "metadata": {},
   "source": [
    "If you've encoded your treatments (hedonic and utilitarian products) as 1 and 0, respectively, then a CATE value of -0.20365888486819608 suggests the following interpretation:\n",
    "\n",
    "Hedonic Products (Treatment = 1): The negative CATE value indicates that, on average, choosing hedonic products (treatment = 1) leads to a decrease in the outcome variable ('helpful_ratio') compared to not choosing hedonic products.\n",
    "Utilitarian Products (Treatment = 0): Conversely, not choosing hedonic products (treatment = 0, or by implication, choosing utilitarian products) is associated with a higher value of the outcome variable ('helpful_ratio') compared to choosing hedonic products.\n",
    "In other words, this suggests that, on average, the 'helpful_ratio' tends to be higher when users choose utilitarian products compared to when they choose hedonic products. This interpretation assumes that the causal relationship between the treatment and outcome is accurately captured by the CATE estimate and that confounding factors have been appropriately controlled for in the analysis."
   ]
  },
  {
   "cell_type": "code",
   "execution_count": 68,
   "metadata": {},
   "outputs": [
    {
     "name": "stderr",
     "output_type": "stream",
     "text": [
      "  1%|                   | 39/5825 [00:38<93:57]       "
     ]
    }
   ],
   "source": [
    "import shap\n",
    "\n",
    "# Calculate SHAP values for your model (causal forest)\n",
    "shap_values = causal_forest.shap_values(X)\n",
    "\n",
    "# Extract the SHAP values for the specific treatment ('product')\n",
    "shap_values_product = shap_values['helpful_ratio']['product']\n",
    "\n",
    "# Get the feature names\n",
    "feature_names = X.columns.tolist()\n",
    "\n",
    "# Plot the SHAP values using a beeswarm plot\n",
    "shap.summary_plot(shap_values_product, features=X, feature_names=feature_names)"
   ]
  },
  {
   "cell_type": "code",
   "execution_count": 19,
   "metadata": {},
   "outputs": [
    {
     "name": "stderr",
     "output_type": "stream",
     "text": [
      "Objective did not converge. You might want to increase the number of iterations. Duality gap: 1.9928143539266197e-05, tolerance: 1.8996985260958264e-05\n",
      "Objective did not converge. You might want to increase the number of iterations. Duality gap: 2.1980304569624298e-05, tolerance: 1.8996985260958264e-05\n",
      "Objective did not converge. You might want to increase the number of iterations. Duality gap: 2.2263076389500425e-05, tolerance: 1.8996985260958264e-05\n",
      "Objective did not converge. You might want to increase the number of iterations. Duality gap: 2.2362885778948183e-05, tolerance: 1.8996985260958264e-05\n",
      "Objective did not converge. You might want to increase the number of iterations. Duality gap: 2.2313412515628794e-05, tolerance: 1.8996985260958264e-05\n",
      "Objective did not converge. You might want to increase the number of iterations. Duality gap: 2.2143285780179545e-05, tolerance: 1.8996985260958264e-05\n",
      "Objective did not converge. You might want to increase the number of iterations. Duality gap: 2.1876786769764456e-05, tolerance: 1.8996985260958264e-05\n",
      "Objective did not converge. You might want to increase the number of iterations. Duality gap: 2.1534456681043812e-05, tolerance: 1.8996985260958264e-05\n",
      "Objective did not converge. You might want to increase the number of iterations. Duality gap: 2.1133622830710186e-05, tolerance: 1.8996985260958264e-05\n",
      "No data for colormapping provided via 'c'. Parameters 'vmin', 'vmax' will be ignored\n"
     ]
    },
    {
     "data": {
      "image/png": "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",
      "text/plain": [
       "<Figure size 800x870 with 2 Axes>"
      ]
     },
     "metadata": {},
     "output_type": "display_data"
    }
   ],
   "source": [
    "import shap\n",
    "from econml.dml import CausalForestDML\n",
    "\n",
    "# Create a new instance of CausalForestDML with default parameters\n",
    "causal_forest_default = CausalForestDML()\n",
    "\n",
    "# Fit the causal forest model with default parameters\n",
    "causal_forest_default.fit(Y, T, X=X, W=W)\n",
    "\n",
    "# Calculate SHAP values for your model (causal forest)\n",
    "shap_values = causal_forest_default.shap_values(X)\n",
    "\n",
    "# Extract the SHAP values for the specific treatment ('product')\n",
    "shap_values_product = shap_values['helpful_ratio']['product']\n",
    "\n",
    "# Get the feature names\n",
    "feature_names = X.columns.tolist()\n",
    "\n",
    "# Plot the SHAP values using a beeswarm plot\n",
    "shap.summary_plot(shap_values_product, features=X, feature_names=feature_names)\n"
   ]
  },
  {
   "cell_type": "markdown",
   "metadata": {},
   "source": [
    "\"The feature that exhibited the most substantial influence on online review helpfulness was the elapsed time since posting, followed closely by the sentence count and word count in the review text. Notably, the impact of these features was particularly pronounced when considering hedonic products. This finding suggests that the temporal aspect of reviews, as well as their length and complexity, play a crucial role in determining their perceived helpfulness, especially in the context of hedonic products.\n",
    "\n"
   ]
  }
 ],
 "metadata": {
  "kernelspec": {
   "display_name": "torch-gpu",
   "language": "python",
   "name": "python3"
  },
  "language_info": {
   "codemirror_mode": {
    "name": "ipython",
    "version": 3
   },
   "file_extension": ".py",
   "mimetype": "text/x-python",
   "name": "python",
   "nbconvert_exporter": "python",
   "pygments_lexer": "ipython3",
   "version": "3.8.18"
  },
  "orig_nbformat": 4
 },
 "nbformat": 4,
 "nbformat_minor": 2
}
