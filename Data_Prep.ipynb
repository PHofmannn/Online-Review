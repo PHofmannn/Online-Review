{
 "cells": [
  {
   "cell_type": "code",
   "execution_count": 5,
   "metadata": {},
   "outputs": [],
   "source": [
    "# Packages einlesen\n",
    "import pandas as pd"
   ]
  },
  {
   "cell_type": "code",
   "execution_count": 1,
   "metadata": {},
   "outputs": [],
   "source": [
    "import pandas as pd\n",
    "data = pd.read_json('/Users/paulahofmann/meta_Beauty_and_Personal_Care.jsonl', lines=True)"
   ]
  },
  {
   "cell_type": "code",
   "execution_count": 18,
   "metadata": {},
   "outputs": [],
   "source": [
    "# Reviews with highest rating numbers (top 150)\n",
    "top_150_products = data.sort_values(by='rating_number', ascending=False).head(150)\n",
    "\n"
   ]
  },
  {
   "cell_type": "code",
   "execution_count": 23,
   "metadata": {},
   "outputs": [
    {
     "name": "stdout",
     "output_type": "stream",
     "text": [
      "                                                   title parent_asin\n",
      "66762  Pure Instinct Roll-On - The Original Pheromone...  B0BLGN9N39\n",
      "96822  Panasonic Electric Shaver for Women, Cordless ...  B0018A32XS\n"
     ]
    }
   ],
   "source": [
    "# Filter by parent ASINs\n",
    "filtered_products = top_150_products[top_150_products['parent_asin'].isin(['B0BLGN9N39', 'B0018A32XS'])]\n",
    "\n",
    "print(filtered_products[['title', 'parent_asin']]) \n",
    "\n",
    "filtered_products.to_csv('filtered_products.csv', index=False)\n"
   ]
  }
 ],
 "metadata": {
  "kernelspec": {
   "display_name": "env1",
   "language": "python",
   "name": "python3"
  },
  "language_info": {
   "codemirror_mode": {
    "name": "ipython",
    "version": 3
   },
   "file_extension": ".py",
   "mimetype": "text/x-python",
   "name": "python",
   "nbconvert_exporter": "python",
   "pygments_lexer": "ipython3",
   "version": "3.11.4"
  },
  "orig_nbformat": 4
 },
 "nbformat": 4,
 "nbformat_minor": 2
}
