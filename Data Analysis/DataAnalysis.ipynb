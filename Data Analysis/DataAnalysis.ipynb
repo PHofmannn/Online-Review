{
 "cells": [
  {
   "cell_type": "markdown",
   "metadata": {},
   "source": [
    "# Data Analysis"
   ]
  },
  {
   "cell_type": "markdown",
   "metadata": {},
   "source": [
    "In this section we will have a look at the difference in products between hedonic and utilitarian dirven products. We will see if we can find any patterns in the data from a descriptive level and then move on to a more inferential level."
   ]
  },
  {
   "cell_type": "markdown",
   "metadata": {},
   "source": [
    "## Packages and Importing Data"
   ]
  },
  {
   "cell_type": "code",
   "execution_count": 1,
   "metadata": {},
   "outputs": [],
   "source": [
    "# Installing packages\n",
    "import pandas as pd\n",
    "import json\n",
    "import matplotlib.pyplot as plt\n",
    "import numpy as np\n",
    "import seaborn as sns\n",
    "from nltk import bigrams\n",
    "from wordcloud import WordCloud\n"
   ]
  },
  {
   "cell_type": "code",
   "execution_count": 2,
   "metadata": {},
   "outputs": [],
   "source": [
    "data_utilitarian = pd.read_csv('/Users/paulahofmann/Documents/Coding/Online-Review/FeaturePreperation/Data_with_Features/Final Data/Utilitarian_Final.csv')\n",
    "data_hedonic = pd.read_csv('/Users/paulahofmann/Documents/Coding/Online-Review/FeaturePreperation/Data_with_Features/Final Data/Hedonic_Final.csv')\n"
   ]
  },
  {
   "cell_type": "markdown",
   "metadata": {},
   "source": [
    "# Functions for data analysis"
   ]
  },
  {
   "cell_type": "code",
   "execution_count": 3,
   "metadata": {},
   "outputs": [
    {
     "name": "stdout",
     "output_type": "stream",
     "text": [
      "DataFrame 1:\n",
      "datetime64[ns]\n",
      "\n",
      "DataFrame 2:\n",
      "datetime64[ns]\n",
      "\n"
     ]
    }
   ],
   "source": [
    "# Putting df in a list\n",
    "data_frames = [data_hedonic, data_utilitarian]\n",
    "\n",
    "# Convert 'timestamp' column to datetime format for all DataFrames\n",
    "for df in data_frames:\n",
    "    df['timestamp'] = pd.to_datetime(df['timestamp'])\n",
    "\n",
    "# Printing converted timestamp\n",
    "for i, df in enumerate(data_frames):\n",
    "    print(f\"DataFrame {i+1}:\\n{df['timestamp'].dtype}\\n\")\n"
   ]
  },
  {
   "cell_type": "code",
   "execution_count": 4,
   "metadata": {},
   "outputs": [],
   "source": [
    "# Plotting reviews by year\n",
    "def plot_reviews_by_year(df, product_type=None):\n",
    "    # If product_types is not provided, get unique product types from the DataFrame\n",
    "    if product_type is None:\n",
    "        product_type = df['product'].unique()\n",
    "\n",
    "    # Plotting\n",
    "    for product_type in product:\n",
    "        # Filter data for the current product type\n",
    "        product_data = df[df['product'] == product_type]\n",
    "\n",
    "        # Plot the histogram for the current product type\n",
    "        plt.figure(figsize=(10, 6))\n",
    "        product_data['year'].hist(bins=len(product_data['year'].unique()), alpha=0.5)\n",
    "        plt.title(f'Distribution of Reviews by Year - {product_type}')\n",
    "        plt.xlabel('Year')\n",
    "        plt.ylabel('Number of Reviews')\n",
    "        plt.grid(True)\n",
    "        plt.show()\n"
   ]
  },
  {
   "cell_type": "code",
   "execution_count": 5,
   "metadata": {},
   "outputs": [],
   "source": [
    "def avg_rating_by_year(df, product_types):\n",
    "    # Group by year and product type, then calculate the average rating\n",
    "    avg_rating_by_year_product = df.groupby(['year', 'prod_type'])['rating'].mean().unstack()\n",
    "\n",
    "    # Plot the line chart\n",
    "    plt.figure(figsize=(10, 6))\n",
    "    for product_type in product_types:\n",
    "        plt.plot(avg_rating_by_year_product.index, avg_rating_by_year_product[product_type], marker='o', label=product_type)\n",
    "\n",
    "    plt.title('Average Rating of Reviews by Year')\n",
    "    plt.xlabel('Year')\n",
    "    plt.ylabel('Average Rating')\n",
    "    plt.legend(title='Product Type', loc='upper left')\n",
    "    plt.grid(True)\n",
    "    plt.show()\n"
   ]
  },
  {
   "cell_type": "code",
   "execution_count": 6,
   "metadata": {},
   "outputs": [],
   "source": [
    "# Rating and sentiment over time\n",
    "def rating_and_sentiment_over_time(df, product_types):\n",
    "    for product_type in product_types:\n",
    "        # Filter data for the current product type\n",
    "        product_data = df[df['product'] == product_type]\n",
    "        \n",
    "        # Group the data by timestamp and calculate the average rating for each time period\n",
    "        average_rating_over_time = product_data.groupby(pd.Grouper(key='timestamp', freq='M'))['rating'].mean()\n",
    "\n",
    "        # Group the data by timestamp and calculate the average sentiment score for each time period\n",
    "        average_sentiment_over_time = product_data.groupby(pd.Grouper(key='timestamp', freq='M'))['sentiment'].mean()\n",
    "\n",
    "        # Plotting\n",
    "        fig, ax = plt.subplots(figsize=(10, 6))\n",
    "        color = 'tab:blue'\n",
    "        ax.plot(average_rating_over_time.index, average_rating_over_time.values, label='Average Rating', color=color)\n",
    "        ax.set_xlabel('Date')\n",
    "        ax.set_ylabel('Average Rating', color=color)\n",
    "        ax.tick_params(axis='y', labelcolor=color)\n",
    "        ax.grid(True)\n",
    "        \n",
    "        # Set y-axis limit for average rating\n",
    "        ax.set_ylim(0, 5)\n",
    "\n",
    "        ax2 = ax.twinx()\n",
    "        color = 'tab:red'\n",
    "        ax2.plot(average_sentiment_over_time.index, average_sentiment_over_time.values, label='Average Sentiment Score', color=color)\n",
    "        ax2.set_ylabel('Average Sentiment Score', color=color)\n",
    "        ax2.tick_params(axis='y', labelcolor=color)\n",
    "        \n",
    "        # Set y-axis limit for average sentiment score\n",
    "        ax2.set_ylim(0, 5)\n",
    "\n",
    "        fig.suptitle(f'Average Rating and Sentiment Over Time for {product_type}')\n",
    "        fig.tight_layout()\n",
    "\n",
    "        plt.show()"
   ]
  },
  {
   "cell_type": "code",
   "execution_count": 7,
   "metadata": {},
   "outputs": [],
   "source": [
    "# Function for showing the amount on reviews by year\n",
    "\n",
    "def rating_counts_by_year_with_product_types(df, product_types):\n",
    "    for product_type in product_types:\n",
    "        # Filter data for the current product type\n",
    "        product_data = df[df['prod_type'] == product_type]\n",
    "\n",
    "        # Extract the year from the timestamp\n",
    "        product_data['year'] = product_data['timestamp'].dt.year\n",
    "\n",
    "        # Map ratings to categories (1 and 2 as negative, 3 as neutral, 4 and 5 as positive)\n",
    "        rating_categories = {1: 'Negative', 2: 'Negative', 3: 'Neutral', 4: 'Positive', 5: 'Positive'}\n",
    "        product_data['rating_category'] = product_data['rating'].map(rating_categories)\n",
    "\n",
    "        # Group by year and rating category, then count the occurrences\n",
    "        rating_counts_by_year = product_data.groupby(['year', 'rating_category']).size().unstack(fill_value=0)\n",
    "\n",
    "        # Plot the stacked bar plot\n",
    "        plt.figure(figsize=(10, 6))\n",
    "        rating_counts_by_year.plot(kind='bar', stacked=True, color=['red', 'grey', 'green'], alpha=0.7)\n",
    "        plt.title(f'Rating Distribution by Year for {product_type}')\n",
    "        plt.xlabel('Year')\n",
    "        plt.ylabel('Number of Ratings')\n",
    "        plt.legend(title='Rating Category', loc='upper left')\n",
    "        plt.grid(True)\n",
    "        plt.show()\n"
   ]
  },
  {
   "cell_type": "code",
   "execution_count": 8,
   "metadata": {},
   "outputs": [],
   "source": [
    "# Showing sentiment distribution by year\n",
    "\n",
    "def sentiment_by_year(df):\n",
    "    # Extract the year from the timestamp\n",
    "    df['year'] = df['timestamp'].dt.year\n",
    "\n",
    "    # Plot the box plot\n",
    "    plt.figure(figsize=(10, 6))\n",
    "    sns.boxplot(x='year', y='sentiment', data=df, palette='Set2')\n",
    "    plt.title('Distribution of Text Sentiment by Year')\n",
    "    plt.xlabel('Year')\n",
    "    plt.ylabel('Text Sentiment')\n",
    "    plt.grid(True)\n",
    "    plt.show()\n"
   ]
  },
  {
   "cell_type": "markdown",
   "metadata": {},
   "source": [
    "# 1. Basic statistic"
   ]
  },
  {
   "cell_type": "code",
   "execution_count": 10,
   "metadata": {},
   "outputs": [
    {
     "ename": "UnboundLocalError",
     "evalue": "local variable 'product_types' referenced before assignment",
     "output_type": "error",
     "traceback": [
      "\u001b[0;31m---------------------------------------------------------------------------\u001b[0m",
      "\u001b[0;31mUnboundLocalError\u001b[0m                         Traceback (most recent call last)",
      "Cell \u001b[0;32mIn[10], line 1\u001b[0m\n\u001b[0;32m----> 1\u001b[0m plot_reviews_by_year (data_hedonic)\n\u001b[1;32m      2\u001b[0m plot_reviews_by_year (data_utilitarian)\n",
      "Cell \u001b[0;32mIn[4], line 4\u001b[0m, in \u001b[0;36mplot_reviews_by_year\u001b[0;34m(df, product)\u001b[0m\n\u001b[1;32m      2\u001b[0m \u001b[39mdef\u001b[39;00m \u001b[39mplot_reviews_by_year\u001b[39m(df, product\u001b[39m=\u001b[39m\u001b[39mNone\u001b[39;00m):\n\u001b[1;32m      3\u001b[0m     \u001b[39m# If product_types is not provided, get unique product types from the DataFrame\u001b[39;00m\n\u001b[0;32m----> 4\u001b[0m     \u001b[39mif\u001b[39;00m product_types \u001b[39mis\u001b[39;00m \u001b[39mNone\u001b[39;00m:\n\u001b[1;32m      5\u001b[0m         product_types \u001b[39m=\u001b[39m df[\u001b[39m'\u001b[39m\u001b[39mproduct\u001b[39m\u001b[39m'\u001b[39m]\u001b[39m.\u001b[39munique()\n\u001b[1;32m      7\u001b[0m     \u001b[39m# Plotting\u001b[39;00m\n",
      "\u001b[0;31mUnboundLocalError\u001b[0m: local variable 'product_types' referenced before assignment"
     ]
    }
   ],
   "source": [
    "plot_reviews_by_year (data_hedonic)\n",
    "plot_reviews_by_year (data_utilitarian)\n"
   ]
  },
  {
   "cell_type": "markdown",
   "metadata": {},
   "source": [
    "## 2. Utilitarian Product Analysis"
   ]
  },
  {
   "cell_type": "code",
   "execution_count": null,
   "metadata": {},
   "outputs": [],
   "source": []
  },
  {
   "cell_type": "markdown",
   "metadata": {},
   "source": [
    "## 3.Hedonic Product Analysis"
   ]
  },
  {
   "cell_type": "code",
   "execution_count": 11,
   "metadata": {},
   "outputs": [
    {
     "ename": "UnboundLocalError",
     "evalue": "local variable 'product_types' referenced before assignment",
     "output_type": "error",
     "traceback": [
      "\u001b[0;31m---------------------------------------------------------------------------\u001b[0m",
      "\u001b[0;31mUnboundLocalError\u001b[0m                         Traceback (most recent call last)",
      "Cell \u001b[0;32mIn[11], line 1\u001b[0m\n\u001b[0;32m----> 1\u001b[0m plot_reviews_by_year(data_hedonic)\n",
      "Cell \u001b[0;32mIn[4], line 4\u001b[0m, in \u001b[0;36mplot_reviews_by_year\u001b[0;34m(df, product)\u001b[0m\n\u001b[1;32m      2\u001b[0m \u001b[39mdef\u001b[39;00m \u001b[39mplot_reviews_by_year\u001b[39m(df, product\u001b[39m=\u001b[39m\u001b[39mNone\u001b[39;00m):\n\u001b[1;32m      3\u001b[0m     \u001b[39m# If product_types is not provided, get unique product types from the DataFrame\u001b[39;00m\n\u001b[0;32m----> 4\u001b[0m     \u001b[39mif\u001b[39;00m product_types \u001b[39mis\u001b[39;00m \u001b[39mNone\u001b[39;00m:\n\u001b[1;32m      5\u001b[0m         product_types \u001b[39m=\u001b[39m df[\u001b[39m'\u001b[39m\u001b[39mproduct\u001b[39m\u001b[39m'\u001b[39m]\u001b[39m.\u001b[39munique()\n\u001b[1;32m      7\u001b[0m     \u001b[39m# Plotting\u001b[39;00m\n",
      "\u001b[0;31mUnboundLocalError\u001b[0m: local variable 'product_types' referenced before assignment"
     ]
    }
   ],
   "source": [
    "plot_reviews_by_year(data_hedonic)"
   ]
  },
  {
   "cell_type": "code",
   "execution_count": 13,
   "metadata": {},
   "outputs": [
    {
     "data": {
      "image/png": "[encoded data removed]",
      "text/plain": [
       "<Figure size 1000x600 with 2 Axes>"
      ]
     },
     "metadata": {},
     "output_type": "display_data"
    }
   ],
   "source": [
    "# Example usage:\n",
    "# Get unique product types\n",
    "product_types = data_hedonic['prod_type'].unique()\n",
    "rating_and_sentiment_over_time(data_hedonic, product_types)"
   ]
  },
  {
   "cell_type": "markdown",
   "metadata": {},
   "source": [
    "## Analyzing Helpfulness"
   ]
  },
  {
   "cell_type": "code",
   "execution_count": 14,
   "metadata": {},
   "outputs": [],
   "source": [
    "# Function for plotting helpfulness distribution\n",
    "\n",
    "def plot_helpfulness_votes_over_time(data_frame):\n",
    "    # Group by timestamp and calculate the sum of helpfulness votes\n",
    "    votes_by_timestamp = data_frame.groupby('timestamp')['helpful_vote'].sum()\n",
    "\n",
    "    # Filter out timestamps with less than or equal to 1 helpful vote\n",
    "    votes_by_timestamp = votes_by_timestamp[votes_by_timestamp > 1]\n",
    "\n",
    "    # Plot the data\n",
    "    plt.figure(figsize=(10, 6))\n",
    "    plt.scatter(votes_by_timestamp.index, votes_by_timestamp, color='blue', alpha=0.5)\n",
    "    plt.title('Helpfulness Votes over Time')\n",
    "    plt.xlabel('Timestamp')\n",
    "    plt.ylabel('Total Helpful Votes')\n",
    "    plt.xticks(rotation=45)\n",
    "    plt.grid(True)\n",
    "    plt.show()\n"
   ]
  },
  {
   "cell_type": "code",
   "execution_count": 15,
   "metadata": {},
   "outputs": [
    {
     "name": "stdout",
     "output_type": "stream",
     "text": [
      "Number of reviews with at least one helpful rating: 3483\n"
     ]
    }
   ],
   "source": [
    "helpful_reviews_count = data_utilitarian[data_utilitarian['helpful_vote'] > 0].shape[0]\n",
    "print(\"Number of reviews with at least one helpful rating:\", helpful_reviews_count)"
   ]
  },
  {
   "cell_type": "markdown",
   "metadata": {},
   "source": [
    "## 3. Text Analysis Wordclouds "
   ]
  },
  {
   "cell_type": "code",
   "execution_count": 17,
   "metadata": {},
   "outputs": [],
   "source": [
    "# Generating Wordclouds\n",
    "\n",
    "def generate_wordcloud_reviews_by_sentiment(df):\n",
    "    # Define rating categories\n",
    "    rating_categories = {1: 'Negative', 2: 'Negative', 3: 'Neutral', 4: 'Positive', 5: 'Positive'}\n",
    "\n",
    "    # Create subplots\n",
    "    fig, axes = plt.subplots(1, 3, figsize=(20, 6))\n",
    "    \n",
    "    # Iterate over each sentiment category\n",
    "    for ax, sentiment in zip(axes.flatten(), ['Negative', 'Neutral', 'Positive']):\n",
    "        # Filter out reviews based on sentiment\n",
    "        reviews = df[df['rating'].map(rating_categories) == sentiment]\n",
    "        \n",
    "        # Drop rows where 'text_cleaned1' column contains NaN values\n",
    "        reviews.dropna(subset=['text_cleaned1'], inplace=True)\n",
    "        \n",
    "        # Concatenate the cleaned text of reviews\n",
    "        text = ' '.join(reviews['text_cleaned1'])\n",
    "\n",
    "        # Generate bigrams from the text\n",
    "        bigram_list = list(bigrams(text.split()))\n",
    "\n",
    "        # Create a WordCloud object with bigrams\n",
    "        wordcloud = WordCloud(width=400, height=200, background_color='white').generate_from_frequencies(dict(bigram_list))\n",
    "\n",
    "        # Plot the WordCloud\n",
    "        ax.imshow(wordcloud, interpolation='bilinear')\n",
    "        ax.set_title(f'Word Cloud of {sentiment} Reviews (Bigrams)')\n",
    "        ax.axis('off')\n",
    "    \n",
    "    plt.tight_layout()\n",
    "    plt.show()"
   ]
  }
 ],
 "metadata": {
  "kernelspec": {
   "display_name": "torch-gpu",
   "language": "python",
   "name": "python3"
  },
  "language_info": {
   "codemirror_mode": {
    "name": "ipython",
    "version": 3
   },
   "file_extension": ".py",
   "mimetype": "text/x-python",
   "name": "python",
   "nbconvert_exporter": "python",
   "pygments_lexer": "ipython3",
   "version": "3.8.18"
  },
  "orig_nbformat": 4
 },
 "nbformat": 4,
 "nbformat_minor": 2
}
