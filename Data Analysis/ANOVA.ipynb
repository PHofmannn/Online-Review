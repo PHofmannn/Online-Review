{
 "cells": [
  {
   "cell_type": "code",
   "execution_count": 1,
   "metadata": {},
   "outputs": [],
   "source": [
    "# Importing Packages\n",
    "import seaborn as sns\n",
    "import matplotlib.pyplot as plt\n",
    "import pandas as pd\n",
    "import scipy.stats as stats\n"
   ]
  },
  {
   "cell_type": "code",
   "execution_count": 16,
   "metadata": {},
   "outputs": [],
   "source": [
    "# Importing Data with Features \n",
    "data_hedonic = pd.read_csv ('/Users/paulahofmann/Documents/Coding/Online-Review/FeaturePreperation/Data_with_Features/Final Data/Hedonic_Final.csv')\n",
    "data_utilitarian = pd.read_csv ('/Users/paulahofmann/Documents/Coding/Online-Review/FeaturePreperation/Data_with_Features/Final Data/Utilitarian_Final.csv')"
   ]
  },
  {
   "cell_type": "code",
   "execution_count": 17,
   "metadata": {},
   "outputs": [],
   "source": [
    "# Importing statistical data\n",
    "data_prod_stat = pd.read_csv ('/Users/paulahofmann/Documents/Coding/Online-Review/Data Analysis/Results/Helpful/Summary_Stats_ProdType_mean.csv')"
   ]
  },
  {
   "cell_type": "code",
   "execution_count": 18,
   "metadata": {},
   "outputs": [],
   "source": [
    "# Combining data for analysis\n",
    "data = pd.concat([data_hedonic, data_utilitarian])"
   ]
  },
  {
   "cell_type": "code",
   "execution_count": 19,
   "metadata": {},
   "outputs": [],
   "source": [
    "# Filtering data with helpful votes\n",
    "data = data[data['helpful_vote'] != 0]\n"
   ]
  },
  {
   "cell_type": "code",
   "execution_count": 20,
   "metadata": {},
   "outputs": [
    {
     "name": "stdout",
     "output_type": "stream",
     "text": [
      "Index(['rating', 'title_x', 'text', 'images', 'asin', 'parent_asin', 'user_id',\n",
      "       'timestamp', 'helpful_vote', 'verified_purchase', 'text_cleaned',\n",
      "       'text_cleaned1', 'sentiment', 'main_category', 'prod_title',\n",
      "       'average_rating', 'rat_count', 'features', 'price', 'helpful_ratio',\n",
      "       'noun_count', 'adj_count', 'adv_count', 'word_count', 'sent_count',\n",
      "       'sent_length', 'title_length', 'FRE', 'review_ext', 'elap_days',\n",
      "       'image', 'year', 'month', 'hour', 'day_of_week', 'is_weekend',\n",
      "       'product', 'ver_purch', '#nouns', '#adj', '#adv', 'subjective_score',\n",
      "       'neutral_score', 'prod_type', 'Sentiment_Classification',\n",
      "       'total_helpful_votes'],\n",
      "      dtype='object')\n"
     ]
    }
   ],
   "source": [
    "# Print the column names\n",
    "print(data.columns)"
   ]
  },
  {
   "cell_type": "code",
   "execution_count": 21,
   "metadata": {},
   "outputs": [
    {
     "name": "stdout",
     "output_type": "stream",
     "text": [
      "Unique Products:\n",
      "Video Games\n",
      "Beauty\n",
      "Music\n",
      "Household\n",
      "Electronics\n",
      "Appliances\n"
     ]
    }
   ],
   "source": [
    "# Get the unique products\n",
    "unique_products = data['main_category'].unique()\n",
    "\n",
    "# Print the unique products\n",
    "print(\"Unique Products:\")\n",
    "for product in unique_products:\n",
    "    print(product)"
   ]
  },
  {
   "cell_type": "code",
   "execution_count": 22,
   "metadata": {},
   "outputs": [],
   "source": [
    "# Dictionary to store product data\n",
    "products = {\n",
    "    'Video Games': data[data['main_category'] == 'Video Games'],\n",
    "    'Beauty': data[data['main_category'] == 'Beauty'],\n",
    "    'Grocery': data[data['main_category'] == 'Grocery'],\n",
    "    'Music': data[data['main_category'] == 'Music'],\n",
    "    'Electronics': data[data['main_category'] == 'Electronics'],\n",
    "    'Appliances': data[data['main_category'] == 'Appliances'],\n",
    "    'Personal Care': data[data['main_category'] == 'Personal Care'],\n",
    "    'Household': data[data['main_category'] == 'Household'],\n",
    "}"
   ]
  },
  {
   "cell_type": "code",
   "execution_count": 23,
   "metadata": {},
   "outputs": [],
   "source": [
    "# Convert Sentiment_Classification to Numerical\n",
    "sentiment_mapping = {'positive': 2, 'neutral': 1, 'negative': 0}\n",
    "\n",
    "# Map the sentiment column to numerical values\n",
    "data['Sentiment'] = data['Sentiment_Classification'].map(sentiment_mapping)\n"
   ]
  },
  {
   "cell_type": "code",
   "execution_count": 24,
   "metadata": {},
   "outputs": [],
   "source": [
    "# Defining features\n",
    "features = [\n",
    "    'rating', 'review_ext','Sentiment','subjective_score', 'word_count', 'sent_count', 'sent_length', \n",
    "    'title_length','FRE', '#adj', '#adv','#nouns', 'elap_days'\n",
    "]"
   ]
  },
  {
   "cell_type": "code",
   "execution_count": 25,
   "metadata": {},
   "outputs": [
    {
     "name": "stdout",
     "output_type": "stream",
     "text": [
      "Feature: rating\n",
      "F-statistic: 180.00500009033212, p-value: 2.3640081433353958e-179\n",
      "\n",
      "Feature: review_ext\n",
      "F-statistic: 204.14596755927553, p-value: 5.933902039652506e-202\n",
      "\n",
      "Feature: Sentiment\n",
      "F-statistic: 199.01049755633738, p-value: 3.546248557786319e-197\n",
      "\n",
      "Feature: subjective_score\n",
      "F-statistic: 18.090711209507568, p-value: 7.342293778216329e-18\n",
      "\n",
      "Feature: word_count\n",
      "F-statistic: 42.043010770168486, p-value: 1.0199055479691973e-42\n",
      "\n",
      "Feature: sent_count\n",
      "F-statistic: 26.806001568854164, p-value: 6.605175252233679e-27\n",
      "\n",
      "Feature: sent_length\n",
      "F-statistic: 20.07874170682117, p-value: 6.39452212618974e-20\n",
      "\n",
      "Feature: title_length\n",
      "F-statistic: 10.492299110424309, p-value: 4.790028017735516e-10\n",
      "\n",
      "Feature: FRE\n",
      "F-statistic: 42.74880435904783, p-value: 1.8974462352129058e-43\n",
      "\n",
      "Feature: #adj\n",
      "F-statistic: 35.257800438093405, p-value: 1.0992540863535641e-35\n",
      "\n",
      "Feature: #adv\n",
      "F-statistic: 11.97657901668187, p-value: 1.464813590320785e-11\n",
      "\n",
      "Feature: #nouns\n",
      "F-statistic: 10.999770828447259, p-value: 1.457167975548254e-10\n",
      "\n",
      "Feature: elap_days\n",
      "F-statistic: 479.2138645186968, p-value: 0.0\n",
      "\n"
     ]
    }
   ],
   "source": [
    "from scipy.stats import f_oneway\n",
    "\n",
    "\n",
    "# Perform ANOVA for each feature\n",
    "for feature in features:\n",
    "    groups = [data[data['main_category'] == category][feature] for category in data['main_category'].unique()]\n",
    "    \n",
    "    f_stat, p_value = f_oneway(*groups)\n",
    "    if p_value < 0.05:  # Considering statistical significance at alpha = 0.05\n",
    "        print(f\"Feature: {feature}\")\n",
    "        print(f\"F-statistic: {f_stat}, p-value: {p_value}\")\n",
    "        print()"
   ]
  },
  {
   "cell_type": "code",
   "execution_count": 27,
   "metadata": {},
   "outputs": [
    {
     "name": "stdout",
     "output_type": "stream",
     "text": [
      "             Feature  Mean_Video Games  Mean_Beauty  Mean_Music  \\\n",
      "0             rating          3.758315     4.029299    2.788835   \n",
      "1         review_ext         -1.041685    -0.511635   -1.854369   \n",
      "2          Sentiment          1.294900     1.485775    0.936893   \n",
      "3   subjective_score          0.807833     0.822641    0.834365   \n",
      "4         word_count         69.121951    50.067516   59.092233   \n",
      "5         sent_count          4.075388     3.705732    4.555825   \n",
      "6        sent_length         17.138913    15.415137   14.342856   \n",
      "7       title_length          1.492239     1.264544    1.771845   \n",
      "8                FRE         82.037450    83.340144   83.102015   \n",
      "9               #adj          0.083032     0.101336    0.102463   \n",
      "10              #adv          0.063625     0.073082    0.068645   \n",
      "11            #nouns          0.202094     0.181166    0.168750   \n",
      "12         elap_days       1012.689579  1928.230573  805.851942   \n",
      "\n",
      "    Mean_Household  Mean_Electronics  Mean_Appliances  F-statistic  \\\n",
      "0         3.104137          2.738172         2.476945   180.005000   \n",
      "1        -1.395863         -1.895334        -2.223055   204.145968   \n",
      "2         0.921541          0.815943         0.546110   199.010498   \n",
      "3         0.783746          0.770538         0.782660    18.090711   \n",
      "4        35.358060         76.683085        65.724784    42.043011   \n",
      "5         2.944365          4.500972         4.582133    26.806002   \n",
      "6        14.406705         18.657825        16.680019    20.078742   \n",
      "7         1.316690          1.244329         1.276657    10.492299   \n",
      "8        83.996106         77.264563        76.810620    42.748804   \n",
      "9         0.120437          0.088839         0.077548    35.257800   \n",
      "10        0.085033          0.081790         0.071440    11.976579   \n",
      "11        0.184655          0.187319         0.199152    10.999771   \n",
      "12      288.669044       1383.455606      1268.211816   479.213865   \n",
      "\n",
      "          p-value  \n",
      "0   2.364008e-179  \n",
      "1   5.933902e-202  \n",
      "2   3.546249e-197  \n",
      "3    7.342294e-18  \n",
      "4    1.019906e-42  \n",
      "5    6.605175e-27  \n",
      "6    6.394522e-20  \n",
      "7    4.790028e-10  \n",
      "8    1.897446e-43  \n",
      "9    1.099254e-35  \n",
      "10   1.464814e-11  \n",
      "11   1.457168e-10  \n",
      "12   0.000000e+00  \n"
     ]
    }
   ],
   "source": [
    "# Initialize a list to store the results\n",
    "results = []\n",
    "\n",
    "# Perform ANOVA for each feature\n",
    "for feature in features:\n",
    "    groups = [data[data['main_category'] == category][feature] for category in data['main_category'].unique()]\n",
    "    \n",
    "    f_stat, p_value = f_oneway(*groups)\n",
    "    \n",
    "    if p_value < 0.05:  # Considering statistical significance at alpha = 0.05\n",
    "        means = [group.mean() for group in groups]\n",
    "        result = {'Feature': feature}\n",
    "        \n",
    "        for idx, category in enumerate(data['main_category'].unique()):\n",
    "            result[f'Mean_{category}'] = means[idx]\n",
    "        \n",
    "        result['F-statistic'] = f_stat\n",
    "        result['p-value'] = p_value\n",
    "        \n",
    "        results.append(result)\n",
    "\n",
    "# Convert the results list to a DataFrame\n",
    "results_df = pd.DataFrame(results)\n",
    "\n",
    "# Display the results\n",
    "print(results_df)"
   ]
  }
 ],
 "metadata": {
  "kernelspec": {
   "display_name": "torch-gpu",
   "language": "python",
   "name": "python3"
  },
  "language_info": {
   "codemirror_mode": {
    "name": "ipython",
    "version": 3
   },
   "file_extension": ".py",
   "mimetype": "text/x-python",
   "name": "python",
   "nbconvert_exporter": "python",
   "pygments_lexer": "ipython3",
   "version": "3.8.18"
  },
  "orig_nbformat": 4
 },
 "nbformat": 4,
 "nbformat_minor": 2
}
