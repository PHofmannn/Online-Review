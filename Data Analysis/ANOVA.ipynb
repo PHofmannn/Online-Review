{
 "cells": [
  {
   "cell_type": "code",
   "execution_count": 1,
   "metadata": {},
   "outputs": [],
   "source": [
    "# Importing Packages\n",
    "import seaborn as sns\n",
    "import matplotlib.pyplot as plt\n",
    "import pandas as pd\n",
    "import scipy.stats as stats\n"
   ]
  },
  {
   "cell_type": "code",
   "execution_count": 3,
   "metadata": {},
   "outputs": [],
   "source": [
    "# Importing Data with Features \n",
    "data_hedonic = pd.read_csv ('/Users/paulahofmann/Documents/Coding/Online-Review/FeaturePreperation/Data_with_Features/Final Data/Hedonic_Final.csv')\n",
    "data_utilitarian = pd.read_csv ('/Users/paulahofmann/Documents/Coding/Online-Review/FeaturePreperation/Data_with_Features/Final Data/Utilitarian_Final.csv')"
   ]
  },
  {
   "cell_type": "code",
   "execution_count": 4,
   "metadata": {},
   "outputs": [],
   "source": [
    "# Combining data for analysis\n",
    "data = pd.concat([data_hedonic, data_utilitarian])"
   ]
  },
  {
   "cell_type": "code",
   "execution_count": 5,
   "metadata": {},
   "outputs": [],
   "source": [
    "# Filtering data with helpful votes\n",
    "data = data[data['helpful_vote'] != 0]\n"
   ]
  },
  {
   "cell_type": "code",
   "execution_count": 13,
   "metadata": {},
   "outputs": [
    {
     "name": "stdout",
     "output_type": "stream",
     "text": [
      "Index(['rating', 'title_x', 'text', 'images', 'asin', 'parent_asin', 'user_id',\n",
      "       'timestamp', 'helpful_vote', 'verified_purchase', 'text_cleaned',\n",
      "       'text_cleaned1', 'sentiment', 'main_category', 'prod_title',\n",
      "       'average_rating', 'rat_count', 'features', 'price', 'helpful_ratio',\n",
      "       'noun_count', 'adj_count', 'adv_count', 'word_count', 'sent_count',\n",
      "       'sent_length', 'title_length', 'FRE', 'review_ext', 'elap_days',\n",
      "       'image', 'year', 'month', 'hour', 'day_of_week', 'is_weekend',\n",
      "       'product', 'ver_purch', '#nouns', '#adj', '#adv', 'subjective_score',\n",
      "       'neutral_score', 'prod_type'],\n",
      "      dtype='object')\n"
     ]
    }
   ],
   "source": [
    "# Print the column names\n",
    "print(data.columns)"
   ]
  },
  {
   "cell_type": "code",
   "execution_count": 14,
   "metadata": {},
   "outputs": [
    {
     "name": "stdout",
     "output_type": "stream",
     "text": [
      "Unique Products:\n",
      "Video Games\n",
      "Facial Spray\n",
      "Chocolate\n",
      "Music\n",
      "Perfume\n",
      "Toilet Paper\n",
      "Battery\n",
      "Filter\n",
      "Gaming Mouse\n",
      "Hair Brush\n"
     ]
    }
   ],
   "source": [
    "# Get the unique products\n",
    "unique_products = data['product'].unique()\n",
    "\n",
    "# Print the unique products\n",
    "print(\"Unique Products:\")\n",
    "for product in unique_products:\n",
    "    print(product)"
   ]
  },
  {
   "cell_type": "code",
   "execution_count": null,
   "metadata": {},
   "outputs": [],
   "source": [
    "# Dictionary to store product data\n",
    "products = {\n",
    "    'Video Games': data[data['main_category'] == 'Video Games'],\n",
    "    'Beauty': data[data['main_category'] == 'Beauty'],\n",
    "    'Grocery': data[data['main_category'] == 'Grocery'],\n",
    "    'Music': data[data['main_category'] == 'Music'],\n",
    "    'Electronics': data[data['main_category'] == 'Electronics'],\n",
    "    'Appliances': data[data['main_category'] == 'Appliances'],\n",
    "    'Personal Care': data[data['main_category'] == 'Personal Care'],\n",
    "    'Household': data[data['main_category'] == 'Household'],\n",
    "}"
   ]
  },
  {
   "cell_type": "code",
   "execution_count": 22,
   "metadata": {},
   "outputs": [],
   "source": [
    "# Defining features\n",
    "features = [\n",
    "    'rating', 'review_ext','helpful_ratio', 'sentiment','subjective_score', 'word_count', 'sent_count', 'sent_length', \n",
    "    'title_length','FRE', '#adj', '#adv','#nouns', 'elap_days','sentiment','subjective_score','image','ver_purch'\n",
    "]"
   ]
  },
  {
   "cell_type": "code",
   "execution_count": 23,
   "metadata": {},
   "outputs": [
    {
     "name": "stdout",
     "output_type": "stream",
     "text": [
      "Feature: rating\n",
      "F-statistic: 450.97411823898585, p-value: 3.965701207246971e-97\n",
      "\n",
      "Feature: review_ext\n",
      "F-statistic: 440.0408532215665, p-value: 6.90805251536602e-95\n",
      "\n",
      "Feature: sentiment\n",
      "F-statistic: 493.010975285226, p-value: 1.0294006494368465e-105\n",
      "\n",
      "Feature: subjective_score\n",
      "F-statistic: 53.700460161849215, p-value: 2.588733915790105e-13\n",
      "\n",
      "Feature: word_count\n",
      "F-statistic: 65.13897813724323, p-value: 8.11443448901912e-16\n",
      "\n",
      "Feature: sent_count\n",
      "F-statistic: 35.27925371199777, p-value: 2.9892763630568333e-09\n",
      "\n",
      "Feature: sent_length\n",
      "F-statistic: 39.39222140819099, p-value: 3.667436204755349e-10\n",
      "\n",
      "Feature: title_length\n",
      "F-statistic: 12.3985636482271, p-value: 0.000432318767255436\n",
      "\n",
      "Feature: FRE\n",
      "F-statistic: 63.7096225885142, p-value: 1.665435334152644e-15\n",
      "\n",
      "Feature: #adj\n",
      "F-statistic: 8.648491837445949, p-value: 0.003283720995077374\n",
      "\n",
      "Feature: #adv\n",
      "F-statistic: 42.9313239830591, p-value: 6.059749203843464e-11\n",
      "\n",
      "Feature: #nouns\n",
      "F-statistic: 5.055461133272617, p-value: 0.0245785113403108\n",
      "\n",
      "Feature: elap_days\n",
      "F-statistic: 229.68968963907383, p-value: 4.239998787494752e-51\n",
      "\n",
      "Feature: sentiment\n",
      "F-statistic: 493.010975285226, p-value: 1.0294006494368465e-105\n",
      "\n",
      "Feature: subjective_score\n",
      "F-statistic: 53.700460161849215, p-value: 2.588733915790105e-13\n",
      "\n",
      "Feature: image\n",
      "F-statistic: 5.364988203403401, p-value: 0.020572813139150974\n",
      "\n",
      "Feature: ver_purch\n",
      "F-statistic: 37.214039942979056, p-value: 1.1131742905956388e-09\n",
      "\n"
     ]
    }
   ],
   "source": [
    "from scipy.stats import f_oneway\n",
    "\n",
    "# Perform ANOVA for each feature\n",
    "for feature in features:\n",
    "    group0 = data[data['prod_type'] == 0][feature]\n",
    "    group1 = data[data['prod_type'] == 1][feature]\n",
    "    \n",
    "    f_stat, p_value = f_oneway(group0, group1)\n",
    "    if p_value < 0.05:  # Considering statistical significance at alpha = 0.05\n",
    "        print(f\"Feature: {feature}\")\n",
    "        print(f\"F-statistic: {f_stat}, p-value: {p_value}\")\n",
    "        print()"
   ]
  }
 ],
 "metadata": {
  "kernelspec": {
   "display_name": "torch-gpu",
   "language": "python",
   "name": "python3"
  },
  "language_info": {
   "codemirror_mode": {
    "name": "ipython",
    "version": 3
   },
   "file_extension": ".py",
   "mimetype": "text/x-python",
   "name": "python",
   "nbconvert_exporter": "python",
   "pygments_lexer": "ipython3",
   "version": "3.8.18"
  },
  "orig_nbformat": 4
 },
 "nbformat": 4,
 "nbformat_minor": 2
}
