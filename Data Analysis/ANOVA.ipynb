{
 "cells": [
  {
   "cell_type": "code",
   "execution_count": 16,
   "metadata": {},
   "outputs": [],
   "source": [
    "# Importing Packages\n",
    "import seaborn as sns\n",
    "import matplotlib.pyplot as plt\n",
    "import pandas as pd\n",
    "import scipy.stats as stats\n"
   ]
  },
  {
   "cell_type": "code",
   "execution_count": 22,
   "metadata": {},
   "outputs": [],
   "source": [
    "# Importing Data\n",
    "data_hedonic = pd.read_csv('/Users/paulahofmann/Documents/Coding/Online-Review/FeaturePreperation/Data_with_Features/Final Data/Hedonic_Final.csv')\n",
    "data_utilitarian = pd.read_csv('/Users/paulahofmann/Documents/Coding/Online-Review/FeaturePreperation/Data_with_Features/Final Data/Utilitarian_Final.csv')"
   ]
  },
  {
   "cell_type": "code",
   "execution_count": 23,
   "metadata": {},
   "outputs": [],
   "source": [
    "data = pd.concat([data_hedonic, data_utilitarian])"
   ]
  },
  {
   "cell_type": "code",
   "execution_count": 24,
   "metadata": {},
   "outputs": [],
   "source": [
    "data = data[data['helpful_vote'] != 0]\n"
   ]
  },
  {
   "cell_type": "code",
   "execution_count": 26,
   "metadata": {},
   "outputs": [
    {
     "name": "stdout",
     "output_type": "stream",
     "text": [
      "Unique Products:\n",
      "Video Games\n",
      "Beauty\n",
      "Grocery\n",
      "Music\n",
      "Household\n",
      "Electronics\n",
      "Appliances\n",
      "Personal Care\n"
     ]
    }
   ],
   "source": [
    "# Assuming df is your DataFrame containing the 'Product' column\n",
    "\n",
    "# Get the unique products\n",
    "unique_products = data['main_category'].unique()\n",
    "\n",
    "# Print the unique products\n",
    "print(\"Unique Products:\")\n",
    "for product in unique_products:\n",
    "    print(product)"
   ]
  },
  {
   "cell_type": "code",
   "execution_count": 28,
   "metadata": {},
   "outputs": [
    {
     "name": "stdout",
     "output_type": "stream",
     "text": [
      "Feature: rating\n",
      "F-statistic: 153.1029433610346, p-value: 1.179015540065063e-211\n",
      "\n",
      "Feature: review_ext\n",
      "F-statistic: 167.54791376259112, p-value: 1.367876429101744e-230\n",
      "\n",
      "Feature: sentiment\n",
      "F-statistic: 142.74363972420366, p-value: 6.137690568564042e-198\n",
      "\n",
      "Feature: subjective_score\n",
      "F-statistic: 15.48539334683331, p-value: 2.841135937455182e-20\n",
      "\n",
      "Feature: word_count\n",
      "F-statistic: 41.994355486422656, p-value: 1.9312263171416052e-58\n",
      "\n",
      "Feature: sent_count\n",
      "F-statistic: 29.905803381574323, p-value: 4.928165777697152e-41\n",
      "\n",
      "Feature: sent_length\n",
      "F-statistic: 17.6325388978272, p-value: 2.3840287920676486e-23\n",
      "\n",
      "Feature: title_length\n",
      "F-statistic: 10.34277459552182, p-value: 5.643783323848117e-13\n",
      "\n",
      "Feature: #adj\n",
      "F-statistic: 21.8721721928508, p-value: 1.9028267638845226e-29\n",
      "\n",
      "Feature: #adv\n",
      "F-statistic: 12.025354782924794, p-value: 2.392883935596855e-15\n",
      "\n",
      "Feature: #nouns\n",
      "F-statistic: 8.462990751648805, p-value: 2.366825931584169e-10\n",
      "\n",
      "Feature: elap_days\n",
      "F-statistic: 376.36714486966906, p-value: 0.0\n",
      "\n"
     ]
    }
   ],
   "source": [
    "# Dictionary to store product data\n",
    "products = {\n",
    "    'Video Games': data[data['main_category'] == 'Video Games'],\n",
    "    'Beauty': data[data['main_category'] == 'Beauty'],\n",
    "    'Grocery': data[data['main_category'] == 'Grocery'],\n",
    "    'Music': data[data['main_category'] == 'Music'],\n",
    "    'Electronics': data[data['main_category'] == 'Electronics'],\n",
    "    'Appliances': data[data['main_category'] == 'Appliances'],\n",
    "    'Personal Care': data[data['main_category'] == 'Personal Care'],\n",
    "    'Household': data[data['main_category'] == 'Household'],\n",
    "}\n",
    "\n",
    "# Define your features\n",
    "features = [\n",
    "    'rating', 'review_ext', 'sentiment','subjective_score', 'word_count', 'sent_count', 'sent_length', \n",
    "    'title_length','FRE', '#adj', '#adv','#nouns', 'elap_days'\n",
    "]\n",
    "\n",
    "# Perform ANOVA for each feature\n",
    "for feature in features:\n",
    "    product_data = [products[product][feature] for product in products]\n",
    "    f_stat, p_value = stats.f_oneway(*product_data)\n",
    "    if p_value < 0.01:  # Considering statistical significance at alpha = 0.05\n",
    "        print(f\"Feature: {feature}\")\n",
    "        print(f\"F-statistic: {f_stat}, p-value: {p_value}\")\n",
    "        print()\n"
   ]
  }
 ],
 "metadata": {
  "kernelspec": {
   "display_name": "torch-gpu",
   "language": "python",
   "name": "python3"
  },
  "language_info": {
   "codemirror_mode": {
    "name": "ipython",
    "version": 3
   },
   "file_extension": ".py",
   "mimetype": "text/x-python",
   "name": "python",
   "nbconvert_exporter": "python",
   "pygments_lexer": "ipython3",
   "version": "3.8.18"
  },
  "orig_nbformat": 4
 },
 "nbformat": 4,
 "nbformat_minor": 2
}
