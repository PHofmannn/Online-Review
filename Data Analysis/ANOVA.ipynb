{
 "cells": [
  {
   "cell_type": "code",
   "execution_count": 1,
   "metadata": {},
   "outputs": [],
   "source": [
    "# Importing Packages\n",
    "import seaborn as sns\n",
    "import matplotlib.pyplot as plt\n",
    "import pandas as pd"
   ]
  },
  {
   "cell_type": "code",
   "execution_count": null,
   "metadata": {},
   "outputs": [],
   "source": [
    "# Importing Data\n",
    "data_hedonic = pd.read_csv('/Users/paulahofmann/Documents/Coding/Online-Review/FeaturePreperation/Data_with_Features/Final Data/Hedonic_Final.csv')\n",
    "data_utilitarian = pd.read_csv('/Users/paulahofmann/Documents/Coding/Online-Review/FeaturePreperation/Data_with_Features/Final Data/Utilitarian_Final.csv')"
   ]
  },
  {
   "cell_type": "code",
   "execution_count": null,
   "metadata": {},
   "outputs": [],
   "source": [
    "data = pd.concat([data_hedonic, data_utilitarian])"
   ]
  },
  {
   "cell_type": "code",
   "execution_count": null,
   "metadata": {},
   "outputs": [],
   "source": [
    "import scipy.stats as stats\n",
    "\n",
    "# Dictionary to store product data\n",
    "products = {\n",
    "    'Video Games': data[data['main_category'] == 'Video Games'],\n",
    "    'Beauty': data[data['main_category'] == 'Beauty'],\n",
    "    'Grocery': data[data['main_category'] == 'Grocery'],\n",
    "    'Music': data[data['main_category'] == 'Music'],\n",
    "    'Electronics': data[data['main_category'] == 'Electronics'],\n",
    "    'Appliances': data[data['main_category'] == 'Appliances']\n",
    "}\n",
    "\n",
    "# Define your features\n",
    "features = [\n",
    "    'rating', 'average_rating', 'sentiment', 'price', '#adj', '#adv',\n",
    "    '#nouns', 'word_count', 'sent_count', 'sent_length', \n",
    "    'title_length', 'review_ext', 'elap_days', \n",
    "    'image', 'FRE', 'subjective_score'\n",
    "]\n",
    "\n",
    "# Perform ANOVA for each feature\n",
    "for feature in features:\n",
    "    product_data = [products[product][feature] for product in products]\n",
    "    f_stat, p_value = stats.f_oneway(*product_data)\n",
    "    if p_value < 0.01:  # Considering statistical significance at alpha = 0.05\n",
    "        print(f\"Feature: {feature}\")\n",
    "        print(f\"F-statistic: {f_stat}, p-value: {p_value}\")\n",
    "        print()\n"
   ]
  }
 ],
 "metadata": {
  "kernelspec": {
   "display_name": "torch-gpu",
   "language": "python",
   "name": "python3"
  },
  "language_info": {
   "codemirror_mode": {
    "name": "ipython",
    "version": 3
   },
   "file_extension": ".py",
   "mimetype": "text/x-python",
   "name": "python",
   "nbconvert_exporter": "python",
   "pygments_lexer": "ipython3",
   "version": "3.8.18"
  },
  "orig_nbformat": 4
 },
 "nbformat": 4,
 "nbformat_minor": 2
}
