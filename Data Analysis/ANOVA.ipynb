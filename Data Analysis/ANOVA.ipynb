{
 "cells": [
  {
   "cell_type": "code",
   "execution_count": 1,
   "metadata": {},
   "outputs": [],
   "source": [
    "# Importing Packages\n",
    "import seaborn as sns\n",
    "import matplotlib.pyplot as plt\n",
    "import pandas as pd\n",
    "import scipy.stats as stats\n"
   ]
  },
  {
   "cell_type": "code",
   "execution_count": 6,
   "metadata": {},
   "outputs": [],
   "source": [
    "# Importing Data\n",
    "data_hedonic = pd.read_csv('/Users/paulahofmann/Documents/Coding/Online-Review/FeaturePreperation/Data_with_Features/Final Data/Hedonic_Final.csv')\n",
    "data_utilitarian = pd.read_csv('/Users/paulahofmann/Documents/Coding/Online-Review/FeaturePreperation/Data_with_Features/Final Data/Utilitarian_Final.csv')"
   ]
  },
  {
   "cell_type": "code",
   "execution_count": 7,
   "metadata": {},
   "outputs": [],
   "source": [
    "data = pd.concat([data_hedonic, data_utilitarian])"
   ]
  },
  {
   "cell_type": "code",
   "execution_count": 8,
   "metadata": {},
   "outputs": [],
   "source": [
    "data = data[data['helpful_vote'] != 0]\n"
   ]
  },
  {
   "cell_type": "code",
   "execution_count": 9,
   "metadata": {},
   "outputs": [
    {
     "name": "stdout",
     "output_type": "stream",
     "text": [
      "Unique Products:\n",
      "All Beauty\n",
      "Grocery\n",
      "All Electronics\n",
      "Appliances\n",
      "Computers\n"
     ]
    }
   ],
   "source": [
    "# Assuming df is your DataFrame containing the 'Product' column\n",
    "\n",
    "# Get the unique products\n",
    "unique_products = data['main_category'].unique()\n",
    "\n",
    "# Print the unique products\n",
    "print(\"Unique Products:\")\n",
    "for product in unique_products:\n",
    "    print(product)"
   ]
  },
  {
   "cell_type": "code",
   "execution_count": 10,
   "metadata": {},
   "outputs": [
    {
     "name": "stderr",
     "output_type": "stream",
     "text": [
      "/opt/anaconda3/envs/torch-gpu/lib/python3.8/site-packages/scipy/stats/_stats_py.py:3861: DegenerateDataWarning: at least one input has length 0\n",
      "  warnings.warn(stats.DegenerateDataWarning('at least one input '\n"
     ]
    }
   ],
   "source": [
    "# Dictionary to store product data\n",
    "products = {\n",
    "    'Video Games': data[data['main_category'] == 'Video Games'],\n",
    "    'Beauty': data[data['main_category'] == 'Beauty'],\n",
    "    'Grocery': data[data['main_category'] == 'Grocery'],\n",
    "    'Music': data[data['main_category'] == 'Music'],\n",
    "    'Electronics': data[data['main_category'] == 'Electronics'],\n",
    "    'Appliances': data[data['main_category'] == 'Appliances'],\n",
    "    'Personal Care': data[data['main_category'] == 'Personal Care'],\n",
    "    'Household': data[data['main_category'] == 'Household'],\n",
    "}\n",
    "\n",
    "# Define your features\n",
    "features = [\n",
    "    'rating', 'review_ext', 'sentiment','subjective_score', 'word_count', 'sent_count', 'sent_length', \n",
    "    'title_length','FRE', '#adj', '#adv','#nouns', 'elap_days'\n",
    "]\n",
    "\n",
    "# Perform ANOVA for each feature\n",
    "for feature in features:\n",
    "    product_data = [products[product][feature] for product in products]\n",
    "    f_stat, p_value = stats.f_oneway(*product_data)\n",
    "    if p_value < 0.01:  # Considering statistical significance at alpha = 0.05\n",
    "        print(f\"Feature: {feature}\")\n",
    "        print(f\"F-statistic: {f_stat}, p-value: {p_value}\")\n",
    "        print()\n"
   ]
  },
  {
   "cell_type": "code",
   "execution_count": 30,
   "metadata": {},
   "outputs": [
    {
     "name": "stdout",
     "output_type": "stream",
     "text": [
      "Feature: rating\n",
      "F-statistic: 463.87689614395015, p-value: 8.57337680232559e-100\n",
      "\n",
      "Feature: review_ext\n",
      "F-statistic: 453.16114546842243, p-value: 1.3391249011420645e-97\n",
      "\n",
      "Feature: sentiment\n",
      "F-statistic: 506.863005518989, p-value: 1.4612994001781708e-108\n",
      "\n",
      "Feature: subjective_score\n",
      "F-statistic: 51.364923709180935, p-value: 8.423417398492025e-13\n",
      "\n",
      "Feature: word_count\n",
      "F-statistic: 68.70581047520884, p-value: 1.3492947025912516e-16\n",
      "\n",
      "Feature: sent_count\n",
      "F-statistic: 39.21020330750186, p-value: 4.0218757459313114e-10\n",
      "\n",
      "Feature: sent_length\n",
      "F-statistic: 36.84834555348675, p-value: 1.3409775880920247e-09\n",
      "\n",
      "Feature: title_length\n",
      "F-statistic: 13.737784891039292, p-value: 0.00021174439921488824\n",
      "\n",
      "Feature: #adj\n",
      "F-statistic: 12.171646793172565, p-value: 0.0004880865584930833\n",
      "\n",
      "Feature: #adv\n",
      "F-statistic: 41.98798843708538, p-value: 9.782805108756244e-11\n",
      "\n",
      "Feature: elap_days\n",
      "F-statistic: 230.96358023646317, p-value: 2.2477233687180948e-51\n",
      "\n"
     ]
    }
   ],
   "source": [
    "from scipy.stats import f_oneway\n",
    "\n",
    "\n",
    "# Perform ANOVA for each feature\n",
    "for feature in features:\n",
    "    group0 = data[data['prod_type'] == 0][feature]\n",
    "    group1 = data[data['prod_type'] == 1][feature]\n",
    "    \n",
    "    f_stat, p_value = f_oneway(group0, group1)\n",
    "    if p_value < 0.01:  # Considering statistical significance at alpha = 0.05\n",
    "        print(f\"Feature: {feature}\")\n",
    "        print(f\"F-statistic: {f_stat}, p-value: {p_value}\")\n",
    "        print()"
   ]
  }
 ],
 "metadata": {
  "kernelspec": {
   "display_name": "torch-gpu",
   "language": "python",
   "name": "python3"
  },
  "language_info": {
   "codemirror_mode": {
    "name": "ipython",
    "version": 3
   },
   "file_extension": ".py",
   "mimetype": "text/x-python",
   "name": "python",
   "nbconvert_exporter": "python",
   "pygments_lexer": "ipython3",
   "version": "3.8.18"
  },
  "orig_nbformat": 4
 },
 "nbformat": 4,
 "nbformat_minor": 2
}
