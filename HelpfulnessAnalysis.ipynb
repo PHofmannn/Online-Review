{
 "cells": [
  {
   "cell_type": "code",
   "execution_count": 1,
   "metadata": {},
   "outputs": [],
   "source": [
    "import pandas as pd\n",
    "import matplotlib.pyplot as plt\n",
    "import numpy as np"
   ]
  },
  {
   "cell_type": "code",
   "execution_count": 2,
   "metadata": {},
   "outputs": [],
   "source": [
    "data_hedonic = pd.read_csv('/Users/paulahofmann/Documents/Coding/Online-Review/FeaturePreperation/Data_with_Features/Final Data/Hedonic_Final.csv')\n",
    "\n",
    "data_utilitarian = pd.read_csv('/Users/paulahofmann/Documents/Coding/Online-Review/FeaturePreperation/Data_with_Features/Final Data/Utilitarian_Final.csv')"
   ]
  },
  {
   "cell_type": "markdown",
   "metadata": {},
   "source": [
    "## Functions for helpfulness analysis "
   ]
  },
  {
   "cell_type": "code",
   "execution_count": 48,
   "metadata": {},
   "outputs": [],
   "source": [
    "# Function Building for analyzing the helpful votes by product type\n",
    "\n",
    "def plot_votes_by_product_type(data):\n",
    "    # Get unique product types\n",
    "    product_types = data['product'].unique()\n",
    "\n",
    "    # Initialize lists to store counts\n",
    "    not_helpful_votes_counts = []\n",
    "    helpful_votes_counts = []\n",
    "\n",
    "    # Calculate counts for each product type\n",
    "    for product_type in product_types:\n",
    "        # Count of rows where helpful votes are zero for the current product type\n",
    "        not_helpful_votes_count = data[(data['product'] == product_type) & (data['helpful_vote'] == 0)].shape[0]\n",
    "        not_helpful_votes_counts.append(not_helpful_votes_count)\n",
    "\n",
    "        # Count of rows where helpful votes are greater than zero for the current product type\n",
    "        helpful_votes_count = data[(data['product'] == product_type) & (data['helpful_vote'] > 0)].shape[0]\n",
    "        helpful_votes_counts.append(helpful_votes_count)\n",
    "\n",
    "    # Create stacked bar chart\n",
    "    plt.figure(figsize=(12, 6))\n",
    "\n",
    "    # Plotting the stacked bar chart\n",
    "    index = range(len(product_types))\n",
    "    bar_width = 0.3\n",
    "\n",
    "    plt.bar(index, not_helpful_votes_counts, bar_width, color='red', label='Not Helpful Votes')\n",
    "    plt.bar([i + bar_width for i in index], helpful_votes_counts, bar_width, color='blue', label='Helpful Votes')\n",
    "\n",
    "    # Adding counts on top of each bar for not helpful votes\n",
    "    for i, count in enumerate(not_helpful_votes_counts):\n",
    "        plt.text(i, count + 0.1, str(count), ha='center', va='bottom', color='black')\n",
    "\n",
    "    # Adding counts on top of each bar for helpful votes\n",
    "    for i, count in enumerate(helpful_votes_counts):\n",
    "        plt.text(i + bar_width, count + 0.1, str(count), ha='center', va='bottom', color='black')\n",
    "\n",
    "    plt.xlabel('Product')\n",
    "    plt.ylabel('Count')\n",
    "    plt.title('Not Helpful Votes vs Helpful Votes by Product Type')\n",
    "    plt.xticks([i + bar_width/4 for i in index], product_types)\n",
    "    plt.legend()\n",
    "\n",
    "    # Display the plot\n",
    "    plt.show()"
   ]
  },
  {
   "cell_type": "code",
   "execution_count": 50,
   "metadata": {},
   "outputs": [
    {
     "name": "stdout",
     "output_type": "stream",
     "text": [
      "        Product  Not Helpful Votes  Helpful Votes  Total Reviews  \\\n",
      "0  Toilet Paper               1113            701           1814   \n",
      "1       Battery               6234           1026           7260   \n",
      "2        Filter               5141            706           5847   \n",
      "3  Gaming Mouse               3509            518           4027   \n",
      "4    Hair Brush               3247            545           3792   \n",
      "\n",
      "   Helpful Votes Percentage  \n",
      "0                 38.643881  \n",
      "1                 14.132231  \n",
      "2                 12.074568  \n",
      "3                 12.863174  \n",
      "4                 14.372363  \n",
      "     Main_category  Not Helpful Votes  Helpful Votes  Total Reviews  \\\n",
      "0          Grocery               1113            701           1814   \n",
      "1  All Electronics               6234           1026           7260   \n",
      "2       Appliances               5141            706           5847   \n",
      "3        Computers               3509            518           4027   \n",
      "4       All Beauty               3247            545           3792   \n",
      "\n",
      "   Helpful Votes Percentage  \n",
      "0                 38.643881  \n",
      "1                 14.132231  \n",
      "2                 12.074568  \n",
      "3                 12.863174  \n",
      "4                 14.372363  \n"
     ]
    }
   ],
   "source": [
    "#Function for calculating the review counts by product type/helpful votes \n",
    "def calculate_review_counts(data, category_column='product'):\n",
    "    # Get unique categories\n",
    "    categories = data[category_column].unique()\n",
    "\n",
    "    # Initialize lists to store counts and categories\n",
    "    categories_list = []\n",
    "    not_helpful_votes_counts = []\n",
    "    helpful_votes_counts = []\n",
    "    total_reviews_counts = []\n",
    "\n",
    "    # Calculate counts for each category\n",
    "    for category in categories:\n",
    "        # Check if the category exists in the DataFrame\n",
    "        if category not in data[category_column].values:\n",
    "            print(f\"Category '{category}' not found in the DataFrame.\")\n",
    "            continue\n",
    "        \n",
    "        # Count of rows where helpful votes are zero for the current category\n",
    "        not_helpful_votes_count = data[(data[category_column] == category) & (data['helpful_vote'] == 0)].shape[0]\n",
    "        not_helpful_votes_counts.append(not_helpful_votes_count)\n",
    "        \n",
    "        # Count of rows where helpful votes are greater than zero for the current category\n",
    "        helpful_votes_count = data[(data[category_column] == category) & (data['helpful_vote'] > 0)].shape[0]\n",
    "        helpful_votes_counts.append(helpful_votes_count)\n",
    "        \n",
    "        # Append category to the list for DataFrame creation\n",
    "        categories_list.append(category)\n",
    "\n",
    "        # Total number of reviews for the current category\n",
    "        total_reviews_count = not_helpful_votes_count + helpful_votes_count\n",
    "        total_reviews_counts.append(total_reviews_count)\n",
    "\n",
    "    # Calculate percentage of helpful votes\n",
    "    total_votes_counts = [not_h + h for not_h, h in zip(not_helpful_votes_counts, helpful_votes_counts)]\n",
    "    helpful_vote_percentages = [(h / total) * 100 if total != 0 else 0 for h, total in zip(helpful_votes_counts, total_votes_counts)]\n",
    "\n",
    "    # Create DataFrame to store counts with categories\n",
    "    counts_df = pd.DataFrame({\n",
    "        category_column.capitalize(): categories_list,\n",
    "        'Not Helpful Votes': not_helpful_votes_counts,\n",
    "        'Helpful Votes': helpful_votes_counts,\n",
    "        'Total Reviews': total_reviews_counts,\n",
    "        'Helpful Votes Percentage': helpful_vote_percentages\n",
    "    })\n",
    "\n",
    "    # Display the DataFrame\n",
    "    print(counts_df)\n",
    "\n",
    "\n"
   ]
  },
  {
   "cell_type": "code",
   "execution_count": 27,
   "metadata": {},
   "outputs": [
    {
     "name": "stdout",
     "output_type": "stream",
     "text": [
      "Main categories and their counts in the hedonic dataset:\n",
      "All Beauty        19608\n",
      "Premium Beauty     6666\n",
      "Grocery            3477\n",
      "Video Games        2643\n",
      "Digital Music      1785\n",
      "Name: main_category, dtype: int64\n"
     ]
    }
   ],
   "source": [
    "# Assuming data_hedonic is your DataFrame containing the hedonic dataset\n",
    "\n",
    "# Get the counts of each main category\n",
    "hedonic_categories_counts = data_hedonic['main_category'].value_counts()\n",
    "\n",
    "print(\"Main categories and their counts in the hedonic dataset:\")\n",
    "print(hedonic_categories_counts)\n"
   ]
  },
  {
   "cell_type": "code",
   "execution_count": 3,
   "metadata": {},
   "outputs": [
    {
     "name": "stdout",
     "output_type": "stream",
     "text": [
      "Main categories and their counts in the hedonic dataset:\n",
      "Electronics      11287\n",
      "Appliances        5847\n",
      "Personal Care     3792\n",
      "Household         1814\n",
      "Name: main_category, dtype: int64\n"
     ]
    }
   ],
   "source": [
    "# Assuming data_hedonic is your DataFrame containing the hedonic dataset\n",
    "\n",
    "# Get the counts of each main category\n",
    "utilitarian_categories_counts = data_utilitarian['main_category'].value_counts()\n",
    "\n",
    "print(\"Main categories and their counts in the hedonic dataset:\")\n",
    "print(utilitarian_categories_counts)"
   ]
  },
  {
   "cell_type": "code",
   "execution_count": 4,
   "metadata": {},
   "outputs": [
    {
     "name": "stdout",
     "output_type": "stream",
     "text": [
      "        Product  Not Helpful Votes  Helpful Votes  Helpful Votes Percentage\n",
      "0   Video Games               2177            466                 17.631479\n",
      "1  Facial Spray               5248           1418                 21.272127\n",
      "2     Chocolate               2961            516                 14.840380\n",
      "3         Music               1373            412                 23.081232\n",
      "4       Perfume               7246            968                 11.784758\n"
     ]
    }
   ],
   "source": [
    "import pandas as pd\n",
    "\n",
    "# Get unique product types\n",
    "product_types = data_hedonic['product'].unique()\n",
    "\n",
    "# Initialize lists to store counts and products\n",
    "products = []\n",
    "not_helpful_votes_counts = []\n",
    "helpful_votes_counts = []\n",
    "\n",
    "# Calculate counts for each product type\n",
    "for product_type in product_types:\n",
    "    # Count of rows where helpful votes are zero for the current product type\n",
    "    not_helpful_votes_count = data_hedonic[(data_hedonic['product'] == product_type) & (data_hedonic['helpful_vote'] == 0)].shape[0]\n",
    "    not_helpful_votes_counts.append(not_helpful_votes_count)\n",
    "    \n",
    "    # Count of rows where helpful votes are greater than zero for the current product type\n",
    "    helpful_votes_count = data_hedonic[(data_hedonic['product'] == product_type) & (data_hedonic['helpful_vote'] > 0)].shape[0]\n",
    "    helpful_votes_counts.append(helpful_votes_count)\n",
    "    \n",
    "    # Append product type to the list for DataFrame creation\n",
    "    products.append(product_type)\n",
    "\n",
    "# Calculate percentage of helpful votes\n",
    "total_votes_counts = [not_h + h for not_h, h in zip(not_helpful_votes_counts, helpful_votes_counts)]\n",
    "helpful_vote_percentages = [(h / total) * 100 if total != 0 else 0 for h, total in zip(helpful_votes_counts, total_votes_counts)]\n",
    "\n",
    "# Create DataFrame to store counts with product types\n",
    "counts_df_hedonic = pd.DataFrame({\n",
    "    'Product': products,\n",
    "    'Not Helpful Votes': not_helpful_votes_counts,\n",
    "    'Helpful Votes': helpful_votes_counts,\n",
    "    'Helpful Votes Percentage': helpful_vote_percentages\n",
    "})\n",
    "\n",
    "# Display the DataFrame\n",
    "print(counts_df_hedonic)"
   ]
  },
  {
   "cell_type": "code",
   "execution_count": 5,
   "metadata": {},
   "outputs": [
    {
     "name": "stdout",
     "output_type": "stream",
     "text": [
      "   Main Category  Not Helpful Votes  Helpful Votes  Helpful Votes Percentage\n",
      "0      Household               1113            701                 38.643881\n",
      "1    Electronics               9743           1544                 13.679454\n",
      "2     Appliances               5141            706                 12.074568\n",
      "3  Personal Care               3247            545                 14.372363\n"
     ]
    }
   ],
   "source": [
    "import pandas as pd\n",
    "\n",
    "# Get unique main categories\n",
    "main_categories = data_utilitarian['main_category'].unique()\n",
    "\n",
    "# Initialize lists to store counts and categories\n",
    "categories = []\n",
    "not_helpful_votes_counts = []\n",
    "helpful_votes_counts = []\n",
    "\n",
    "# Calculate counts for each main category\n",
    "for main_category in main_categories:\n",
    "    # Count of rows where helpful votes are zero for the current main category\n",
    "    not_helpful_votes_count = data_utilitarian[(data_utilitarian['main_category'] == main_category) & (data_utilitarian['helpful_vote'] == 0)].shape[0]\n",
    "    not_helpful_votes_counts.append(not_helpful_votes_count)\n",
    "    \n",
    "    # Count of rows where helpful votes are greater than zero for the current main category\n",
    "    helpful_votes_count = data_utilitarian[(data_utilitarian['main_category'] == main_category) & (data_utilitarian['helpful_vote'] > 0)].shape[0]\n",
    "    helpful_votes_counts.append(helpful_votes_count)\n",
    "    \n",
    "    # Append main category to the list for DataFrame creation\n",
    "    categories.append(main_category)\n",
    "\n",
    "# Calculate percentage of helpful votes\n",
    "total_votes_counts = [not_h + h for not_h, h in zip(not_helpful_votes_counts, helpful_votes_counts)]\n",
    "helpful_vote_percentages = [(h / total) * 100 if total != 0 else 0 for h, total in zip(helpful_votes_counts, total_votes_counts)]\n",
    "\n",
    "# Create DataFrame to store counts with main categories\n",
    "counts_df = pd.DataFrame({\n",
    "    'Main Category': categories,\n",
    "    'Not Helpful Votes': not_helpful_votes_counts,\n",
    "    'Helpful Votes': helpful_votes_counts,\n",
    "    'Helpful Votes Percentage': helpful_vote_percentages\n",
    "})\n",
    "\n",
    "# Display the DataFrame\n",
    "print(counts_df)\n"
   ]
  },
  {
   "cell_type": "code",
   "execution_count": 30,
   "metadata": {},
   "outputs": [
    {
     "name": "stdout",
     "output_type": "stream",
     "text": [
      "    Main Category  Not Helpful Votes  Helpful Votes  Helpful Votes Percentage\n",
      "0      All Beauty              17110           2498                 12.739698\n",
      "1     Video Games               2177            466                 17.631479\n",
      "2  Premium Beauty               5248           1418                 21.272127\n",
      "3         Grocery               2961            516                 14.840380\n",
      "4   Digital Music               1373            412                 23.081232\n"
     ]
    }
   ],
   "source": [
    "import pandas as pd\n",
    "\n",
    "# Get unique main categories\n",
    "main_categories = data_hedonic['main_category'].unique()\n",
    "\n",
    "# Initialize lists to store counts and categories\n",
    "categories = []\n",
    "not_helpful_votes_counts = []\n",
    "helpful_votes_counts = []\n",
    "\n",
    "# Calculate counts for each main category\n",
    "for main_category in main_categories:\n",
    "    # Count of rows where helpful votes are zero for the current main category\n",
    "    not_helpful_votes_count = data_hedonic[(data_hedonic['main_category'] == main_category) & (data_hedonic['helpful_vote'] == 0)].shape[0]\n",
    "    not_helpful_votes_counts.append(not_helpful_votes_count)\n",
    "    \n",
    "    # Count of rows where helpful votes are greater than zero for the current main category\n",
    "    helpful_votes_count = data_hedonic[(data_hedonic['main_category'] == main_category) & (data_hedonic['helpful_vote'] > 0)].shape[0]\n",
    "    helpful_votes_counts.append(helpful_votes_count)\n",
    "    \n",
    "    # Append main category to the list for DataFrame creation\n",
    "    categories.append(main_category)\n",
    "\n",
    "# Calculate percentage of helpful votes\n",
    "total_votes_counts = [not_h + h for not_h, h in zip(not_helpful_votes_counts, helpful_votes_counts)]\n",
    "helpful_vote_percentages = [(h / total) * 100 if total != 0 else 0 for h, total in zip(helpful_votes_counts, total_votes_counts)]\n",
    "\n",
    "# Create DataFrame to store counts with main categories\n",
    "counts_df = pd.DataFrame({\n",
    "    'Main Category': categories,\n",
    "    'Not Helpful Votes': not_helpful_votes_counts,\n",
    "    'Helpful Votes': helpful_votes_counts,\n",
    "    'Helpful Votes Percentage': helpful_vote_percentages\n",
    "})\n",
    "\n",
    "# Display the DataFrame\n",
    "print(counts_df)"
   ]
  },
  {
   "cell_type": "code",
   "execution_count": null,
   "metadata": {},
   "outputs": [],
   "source": []
  },
  {
   "cell_type": "markdown",
   "metadata": {},
   "source": [
    "## Analyzing helpfulness votes"
   ]
  },
  {
   "cell_type": "markdown",
   "metadata": {},
   "source": [
    "### For hedonic Products"
   ]
  },
  {
   "cell_type": "code",
   "execution_count": 73,
   "metadata": {},
   "outputs": [
    {
     "data": {
      "image/png": "[encoded data removed]",
      "text/plain": [
       "<Figure size 1200x600 with 1 Axes>"
      ]
     },
     "metadata": {},
     "output_type": "display_data"
    },
    {
     "data": {
      "image/png": "[encoded data removed]",
      "text/plain": [
       "<Figure size 1200x600 with 1 Axes>"
      ]
     },
     "metadata": {},
     "output_type": "display_data"
    }
   ],
   "source": [
    "plot_votes_by_product_type (data_hedonic)\n",
    "plot_votes_by_product_type (data_utilitarian)"
   ]
  },
  {
   "cell_type": "code",
   "execution_count": 63,
   "metadata": {},
   "outputs": [
    {
     "name": "stdout",
     "output_type": "stream",
     "text": [
      "        Product  Not Helpful Votes  Helpful Votes  Total Reviews  \\\n",
      "0   Video Games               2177            466           2643   \n",
      "1  Facial Spray               5248           1418           6666   \n",
      "2     Chocolate               2961            516           3477   \n",
      "3         Music               1373            412           1785   \n",
      "4       Perfume               7246            968           8214   \n",
      "\n",
      "   Helpful Votes Percentage  \n",
      "0                 17.631479  \n",
      "1                 21.272127  \n",
      "2                 14.840380  \n",
      "3                 23.081232  \n",
      "4                 11.784758  \n"
     ]
    }
   ],
   "source": [
    "# Calculate review counts by product type for the hedonic dataset\n",
    "calculate_review_counts(data_hedonic, category_column='product')"
   ]
  },
  {
   "cell_type": "code",
   "execution_count": 70,
   "metadata": {},
   "outputs": [
    {
     "name": "stdout",
     "output_type": "stream",
     "text": [
      "  Main_category  Not Helpful Votes  Helpful Votes  Total Reviews  \\\n",
      "0   Video Games               2177            466           2643   \n",
      "1        Beauty              12494           2386          14880   \n",
      "2       Grocery               2961            516           3477   \n",
      "3         Music               1373            412           1785   \n",
      "\n",
      "   Helpful Votes Percentage  \n",
      "0                 17.631479  \n",
      "1                 16.034946  \n",
      "2                 14.840380  \n",
      "3                 23.081232  \n"
     ]
    }
   ],
   "source": [
    "# Calculate review counts by product category for the hedonic dataset\n",
    "calculate_review_counts(data_hedonic, category_column='main_category')"
   ]
  },
  {
   "cell_type": "markdown",
   "metadata": {},
   "source": [
    "### For Utilitarian Products"
   ]
  },
  {
   "cell_type": "code",
   "execution_count": 52,
   "metadata": {},
   "outputs": [
    {
     "name": "stdout",
     "output_type": "stream",
     "text": [
      "        Product  Not Helpful Votes  Helpful Votes  Total Reviews  \\\n",
      "0  Toilet Paper               1113            701           1814   \n",
      "1       Battery               6234           1026           7260   \n",
      "2        Filter               5141            706           5847   \n",
      "3  Gaming Mouse               3509            518           4027   \n",
      "4    Hair Brush               3247            545           3792   \n",
      "\n",
      "   Helpful Votes Percentage  \n",
      "0                 38.643881  \n",
      "1                 14.132231  \n",
      "2                 12.074568  \n",
      "3                 12.863174  \n",
      "4                 14.372363  \n"
     ]
    }
   ],
   "source": [
    "# Calculate review counts by product type for the utilitarian dataset\n",
    "calculate_review_counts(data_utilitarian, category_column='product')\n"
   ]
  },
  {
   "cell_type": "code",
   "execution_count": 68,
   "metadata": {},
   "outputs": [
    {
     "name": "stdout",
     "output_type": "stream",
     "text": [
      "  Main_category  Not Helpful Votes  Helpful Votes  Total Reviews  \\\n",
      "0       Grocery               1113            701           1814   \n",
      "1   Electronics               9743           1544          11287   \n",
      "2    Appliances               5141            706           5847   \n",
      "3        Beauty               3247            545           3792   \n",
      "\n",
      "   Helpful Votes Percentage  \n",
      "0                 38.643881  \n",
      "1                 13.679454  \n",
      "2                 12.074568  \n",
      "3                 14.372363  \n"
     ]
    }
   ],
   "source": [
    "# Calculate by Main Category for Date\n",
    "calculate_review_counts(data_utilitarian, category_column='main_category')"
   ]
  }
 ],
 "metadata": {
  "kernelspec": {
   "display_name": "torch-gpu",
   "language": "python",
   "name": "python3"
  },
  "language_info": {
   "codemirror_mode": {
    "name": "ipython",
    "version": 3
   },
   "file_extension": ".py",
   "mimetype": "text/x-python",
   "name": "python",
   "nbconvert_exporter": "python",
   "pygments_lexer": "ipython3",
   "version": "3.8.18"
  },
  "orig_nbformat": 4
 },
 "nbformat": 4,
 "nbformat_minor": 2
}
