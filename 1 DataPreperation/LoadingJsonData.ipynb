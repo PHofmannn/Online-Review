{
 "cells": [
  {
   "cell_type": "code",
   "execution_count": 1,
   "metadata": {},
   "outputs": [],
   "source": [
    "# Packages einlesen\n",
    "import pandas as pd\n",
    "import json\n",
    "import matplotlib.pyplot as plt\n",
    "import numpy as np"
   ]
  },
  {
   "cell_type": "code",
   "execution_count": 11,
   "metadata": {},
   "outputs": [
    {
     "name": "stdout",
     "output_type": "stream",
     "text": [
      "   rating              title  \\\n",
      "0     5.0         looks good   \n",
      "1     5.0         Delicious!   \n",
      "2     5.0  rocher collection   \n",
      "\n",
      "                                                text images        asin  \\\n",
      "0                                       tastes great     []  B01BDI89SW   \n",
      "1  these were very fresh, and quiet tasty. It was...     []  B07W6TR96W   \n",
      "2  Sent this to my god daughter who lives in anot...     []  B07W6TR96W   \n",
      "\n",
      "  parent_asin                       user_id      timestamp  helpful_vote  \\\n",
      "0  B0C5M5N6ML  AEWUBEVXD7CKWOQ46K56K7BIQPBQ  1607792108526             0   \n",
      "1  B0C5M5N6ML  AE7Y5RLYIKHOZB5NKKOEKYG2SPSQ  1623616422124             0   \n",
      "2  B0C5M5N6ML  AFZUK3MTBIBEDQOPAK3OATUOUKLA  1653780667955             0   \n",
      "\n",
      "   verified_purchase  \n",
      "0               True  \n",
      "1               True  \n",
      "2               True  \n"
     ]
    }
   ],
   "source": [
    "# Read the JSON data File and transform it into a DataFrame\n",
    "\n",
    "with open('/Users/paulahofmann/Documents/Coding/Online-Review/SelectingData/Gourmet & Food/filtered_Grocery_and_Gourmet_Food.json', 'r') as file:\n",
    "    # Parse the JSON data into a Python object\n",
    "    data = json.loads(file.read())\n",
    "\n",
    "\n",
    "df = pd.DataFrame(data)\n",
    "print(df.head(3))"
   ]
  },
  {
   "cell_type": "code",
   "execution_count": 12,
   "metadata": {},
   "outputs": [],
   "source": [
    "\n",
    "df = df[df['parent_asin'] == 'B0C5M5N6ML']\n"
   ]
  },
  {
   "cell_type": "code",
   "execution_count": 13,
   "metadata": {},
   "outputs": [],
   "source": [
    "df.to_csv('data_hedonic_choclate.csv', index=False)\n"
   ]
  }
 ],
 "metadata": {
  "kernelspec": {
   "display_name": "torch-gpu",
   "language": "python",
   "name": "python3"
  },
  "language_info": {
   "codemirror_mode": {
    "name": "ipython",
    "version": 3
   },
   "file_extension": ".py",
   "mimetype": "text/x-python",
   "name": "python",
   "nbconvert_exporter": "python",
   "pygments_lexer": "ipython3",
   "version": "3.8.18"
  },
  "orig_nbformat": 4
 },
 "nbformat": 4,
 "nbformat_minor": 2
}
