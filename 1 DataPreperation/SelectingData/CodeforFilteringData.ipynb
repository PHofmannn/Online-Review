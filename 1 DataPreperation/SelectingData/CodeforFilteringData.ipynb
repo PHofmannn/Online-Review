{
 "cells": [
  {
   "cell_type": "code",
   "execution_count": 3,
   "id": "9032569e",
   "metadata": {},
   "outputs": [],
   "source": [
    "# \n",
    "import json\n",
    "\n",
    "file = \"/Volumes/Paula_SSD/Data/JsonLine/Beauty_and_Personal_Care.jsonl\" # Path to input file\n",
    "output_path = \"//Volumes/Paula_SSD/Data/JsonLine/PerfumeNew.json\" # Path to output file\n",
    "ids = ['B07Z8FSKG4','B07G7FF2WC','B0BJMV1QTR','B00WXP607C'] # List of items to filter\n",
    "print_mark = 1000000 # At which number of lines to print output\n"
   ]
  },
  {
   "cell_type": "code",
   "execution_count": 4,
   "id": "8d9d4733-10f8-49d6-a089-582a9aac24ec",
   "metadata": {},
   "outputs": [
    {
     "name": "stdout",
     "output_type": "stream",
     "text": [
      "Finished 0 lines\n",
      "Finished 1000000 lines\n",
      "Finished 2000000 lines\n",
      "Finished 3000000 lines\n",
      "Finished 4000000 lines\n",
      "Finished 5000000 lines\n",
      "Finished 6000000 lines\n",
      "Finished 7000000 lines\n",
      "Finished 8000000 lines\n",
      "Finished 9000000 lines\n",
      "Finished 10000000 lines\n",
      "Finished 11000000 lines\n",
      "Finished 12000000 lines\n",
      "Finished 13000000 lines\n",
      "Finished 14000000 lines\n",
      "Finished 15000000 lines\n",
      "Finished 16000000 lines\n",
      "Finished 17000000 lines\n",
      "Finished 18000000 lines\n",
      "Finished 19000000 lines\n",
      "Finished 20000000 lines\n",
      "Finished 21000000 lines\n",
      "Finished 22000000 lines\n",
      "Finished 23000000 lines\n"
     ]
    }
   ],
   "source": [
    "full_data = []\n",
    "with open(file, 'r') as fp:    \n",
    "        for x,line in enumerate(fp):\n",
    "            data = json.loads(line.strip())\n",
    "            if data[\"parent_asin\"] in ids:\n",
    "                full_data.append(data)\n",
    "\n",
    "            if x%print_mark==0:\n",
    "                print(f\"Finished {x} lines\")\n",
    "\n",
    "            \n",
    "with open(output_path, \"w\") as outfile:\n",
    "    json.dump(full_data, outfile)\n"
   ]
  },
  {
   "cell_type": "code",
   "execution_count": 5,
   "id": "e5e5711e-3ec6-4fa6-b9e7-97f94d8c1ea7",
   "metadata": {},
   "outputs": [],
   "source": [
    "import pandas as pd\n",
    "df=pd.read_json(output_path)"
   ]
  },
  {
   "cell_type": "code",
   "execution_count": 8,
   "id": "d7c89d54",
   "metadata": {},
   "outputs": [],
   "source": [
    "df.to_csv(\"/Users/paulahofmann/Documents/Coding/Online-Review/SelectingData/Beauty & Care/PerfumeNew.csv\", index=False)"
   ]
  },
  {
   "cell_type": "code",
   "execution_count": 6,
   "id": "5781c9d8",
   "metadata": {},
   "outputs": [
    {
     "name": "stdout",
     "output_type": "stream",
     "text": [
      "B0BJMV1QTR    10144\n",
      "B07Z8FSKG4     3150\n",
      "B00WXP607C      160\n",
      "B07G7FF2WC      140\n",
      "Name: parent_asin, dtype: int64\n"
     ]
    }
   ],
   "source": [
    "parent_asin_counts = df['parent_asin'].value_counts()\n",
    "print(parent_asin_counts)"
   ]
  }
 ],
 "metadata": {
  "kernelspec": {
   "display_name": "Python 3 (ipykernel)",
   "language": "python",
   "name": "python3"
  },
  "language_info": {
   "codemirror_mode": {
    "name": "ipython",
    "version": 3
   },
   "file_extension": ".py",
   "mimetype": "text/x-python",
   "name": "python",
   "nbconvert_exporter": "python",
   "pygments_lexer": "ipython3",
   "version": "3.8.18"
  }
 },
 "nbformat": 4,
 "nbformat_minor": 5
}
