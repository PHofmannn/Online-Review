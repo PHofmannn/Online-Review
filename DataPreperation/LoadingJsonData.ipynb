{
 "cells": [
  {
   "cell_type": "code",
   "execution_count": 1,
   "metadata": {},
   "outputs": [],
   "source": [
    "# Packages einlesen\n",
    "import pandas as pd\n",
    "import json\n",
    "import matplotlib.pyplot as plt\n",
    "import numpy as np"
   ]
  },
  {
   "cell_type": "code",
   "execution_count": 2,
   "metadata": {},
   "outputs": [
    {
     "name": "stdout",
     "output_type": "stream",
     "text": [
      "   rating                              title  \\\n",
      "0     5.0                              Great   \n",
      "1     4.0               Awesome Gaming Mouse   \n",
      "2     5.0  Excellent gaming / everyday mouse   \n",
      "\n",
      "                                                text images        asin  \\\n",
      "0     My 2 grandchildren absolutely loved this gift.     []  B07GBZ4Q68   \n",
      "1  I've been using this mouse for a couple of yea...     []  B07GBZ4Q68   \n",
      "2  I bought this mouse without reading many of th...     []  B07GBZ4Q68   \n",
      "\n",
      "  parent_asin                       user_id      timestamp  helpful_vote  \\\n",
      "0  B0BVVTQ5JP  AH3OG6QD6EDJGZRVCFKV4B66VWNQ  1612761365424             0   \n",
      "1  B0BVVTQ5JP  AECGR42H24LUU7DA7HEUMCRLTX7Q  1634956260370             0   \n",
      "2  B0BVVTQ5JP  AF477YST23LH5KFYR32ZBIVSBLEA  1675186114873             2   \n",
      "\n",
      "   verified_purchase  \n",
      "0               True  \n",
      "1              False  \n",
      "2               True  \n"
     ]
    }
   ],
   "source": [
    "# Read the JSON data File and transform it into a DataFrame\n",
    "\n",
    "with open('/Volumes/Paula_SSD/Data/JsonLine/filtered_Mouse.json', 'r') as file:\n",
    "    # Parse the JSON data into a Python object\n",
    "    data = json.loads(file.read())\n",
    "\n",
    "\n",
    "df = pd.DataFrame(data)\n",
    "print(df.head(3))"
   ]
  },
  {
   "cell_type": "code",
   "execution_count": null,
   "metadata": {},
   "outputs": [],
   "source": [
    "# Count number of unique parent_asin in the DataFrame\n",
    "unique_values = df['parent_asin'].unique()\n",
    "print(unique_values)"
   ]
  },
  {
   "cell_type": "code",
   "execution_count": 3,
   "metadata": {},
   "outputs": [],
   "source": [
    "df.to_csv('data_utilitarian_mouse.csv', index=False)\n"
   ]
  }
 ],
 "metadata": {
  "kernelspec": {
   "display_name": "torch-gpu",
   "language": "python",
   "name": "python3"
  },
  "language_info": {
   "codemirror_mode": {
    "name": "ipython",
    "version": 3
   },
   "file_extension": ".py",
   "mimetype": "text/x-python",
   "name": "python",
   "nbconvert_exporter": "python",
   "pygments_lexer": "ipython3",
   "version": "3.8.19"
  },
  "orig_nbformat": 4
 },
 "nbformat": 4,
 "nbformat_minor": 2
}
