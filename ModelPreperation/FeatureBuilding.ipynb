{
 "cells": [
  {
   "cell_type": "code",
   "execution_count": 14,
   "metadata": {},
   "outputs": [
    {
     "ename": "ModuleNotFoundError",
     "evalue": "No module named 'Feature_Functions'",
     "output_type": "error",
     "traceback": [
      "\u001b[0;31m---------------------------------------------------------------------------\u001b[0m",
      "\u001b[0;31mModuleNotFoundError\u001b[0m                       Traceback (most recent call last)",
      "Cell \u001b[0;32mIn[14], line 1\u001b[0m\n\u001b[0;32m----> 1\u001b[0m \u001b[39mfrom\u001b[39;00m \u001b[39mFeature_Functions\u001b[39;00m \u001b[39mimport\u001b[39;00m (\n\u001b[1;32m      2\u001b[0m     calculate_helpful_ratio,\n\u001b[1;32m      3\u001b[0m     count_pos_tags,\n\u001b[1;32m      4\u001b[0m     word_count,\n\u001b[1;32m      5\u001b[0m     sentence_count,\n\u001b[1;32m      6\u001b[0m     add_average_sentence_length,\n\u001b[1;32m      7\u001b[0m     title_length,\n\u001b[1;32m      8\u001b[0m     calculate_flesch_kincaid,\n\u001b[1;32m      9\u001b[0m     calculate_review_extremity,\n\u001b[1;32m     10\u001b[0m     calculate_elapsed_time,\n\u001b[1;32m     11\u001b[0m     feature_building\n\u001b[1;32m     12\u001b[0m )\n",
      "\u001b[0;31mModuleNotFoundError\u001b[0m: No module named 'Feature_Functions'"
     ]
    }
   ],
   "source": [
    "from Feature_Functions import (\n",
    "    calculate_helpful_ratio,\n",
    "    count_pos_tags,\n",
    "    word_count,\n",
    "    sentence_count,\n",
    "    add_average_sentence_length,\n",
    "    title_length,\n",
    "    calculate_flesch_kincaid,\n",
    "    calculate_review_extremity,\n",
    "    calculate_elapsed_time,\n",
    "    feature_building\n",
    ")\n",
    "\n"
   ]
  },
  {
   "cell_type": "code",
   "execution_count": 16,
   "metadata": {},
   "outputs": [],
   "source": [
    "import sys\n",
    "sys.path.append('/Users/paulahofmann/Documents/Coding/Online-Review/ModelPreperation/Feature_Functions')\n"
   ]
  }
 ],
 "metadata": {
  "kernelspec": {
   "display_name": "torch-gpu",
   "language": "python",
   "name": "python3"
  },
  "language_info": {
   "codemirror_mode": {
    "name": "ipython",
    "version": 3
   },
   "file_extension": ".py",
   "mimetype": "text/x-python",
   "name": "python",
   "nbconvert_exporter": "python",
   "pygments_lexer": "ipython3",
   "version": "3.8.19"
  },
  "orig_nbformat": 4
 },
 "nbformat": 4,
 "nbformat_minor": 2
}
