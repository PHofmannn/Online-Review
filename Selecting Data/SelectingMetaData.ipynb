{
 "cells": [
  {
   "cell_type": "code",
   "execution_count": 1,
   "metadata": {},
   "outputs": [],
   "source": [
    "# Packages einlesen\n",
    "import pandas as pd\n",
    "import json\n",
    "import matplotlib.pyplot as plt\n",
    "import numpy as np"
   ]
  },
  {
   "cell_type": "code",
   "execution_count": 3,
   "metadata": {},
   "outputs": [],
   "source": [
    "import json\n",
    "import pandas as pd\n",
    "\n",
    "# Initialize an empty list to store parsed JSON data\n",
    "data = []\n",
    "\n",
    "# Open the JSON Lines file\n",
    "with open('/Users/paulahofmann/Desktop/meta_Appliances.jsonl', 'r') as file:\n",
    "    # Read each line from the file\n",
    "    for line in file:\n",
    "        # Parse the JSON data from the line\n",
    "        line_data = json.loads(line)\n",
    "        # Append the parsed data to the list\n",
    "        data.append(line_data)\n",
    "\n",
    "# Create a DataFrame from the list of parsed data\n",
    "df = pd.DataFrame(data)\n"
   ]
  },
  {
   "cell_type": "code",
   "execution_count": 4,
   "metadata": {},
   "outputs": [],
   "source": [
    "# Sort the DataFrame by 'rating_number' column in descending order\n",
    "df_sorted = df.sort_values(by='rating_number', ascending=False)\n",
    "\n",
    "# Select the top 200 rows\n",
    "top_200_products_Appliances = df_sorted.head(200)\n",
    "\n",
    "# Display the top 200 products\n",
    "top_200_products_Appliances.to_csv('/Users/paulahofmann/Downloads/top_200_products_Appliances.csv', index=False)\n"
   ]
  }
 ],
 "metadata": {
  "kernelspec": {
   "display_name": "Python 3",
   "language": "python",
   "name": "python3"
  },
  "language_info": {
   "codemirror_mode": {
    "name": "ipython",
    "version": 3
   },
   "file_extension": ".py",
   "mimetype": "text/x-python",
   "name": "python",
   "nbconvert_exporter": "python",
   "pygments_lexer": "ipython3",
   "version": "3.8.19"
  },
  "orig_nbformat": 4
 },
 "nbformat": 4,
 "nbformat_minor": 2
}
