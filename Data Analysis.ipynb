{
 "cells": [
  {
   "cell_type": "markdown",
   "metadata": {},
   "source": [
    "# Data Analysis"
   ]
  },
  {
   "cell_type": "markdown",
   "metadata": {},
   "source": [
    "In this section we will have a look at the difference in products between hedonic and utilitarian dirven products. We will see if we can find any patterns in the data from a descriptive level and then move on to a more inferential level."
   ]
  },
  {
   "cell_type": "code",
   "execution_count": 1,
   "metadata": {},
   "outputs": [],
   "source": [
    "# Installing packages\n",
    "import pandas as pd\n",
    "import json\n",
    "import matplotlib.pyplot as plt\n",
    "import numpy as np"
   ]
  },
  {
   "cell_type": "code",
   "execution_count": 8,
   "metadata": {},
   "outputs": [],
   "source": [
    "# importing data\n",
    "data_utilitarian1 = pd.read_csv ('/Users/paulahofmann/Library/CloudStorage/OneDrive-Persönlich/Uni/2. Lernpools Master/Masterarbeit/Coding/Online-Review/data_utilitarian.csv')\n",
    "\n",
    "#data_utilitarian2 = pd.read_csv ('/Users/paulahofmann/Library/CloudStorage/OneDrive-Persönlich/Uni/2. Lernpools Master/Masterarbeit/Coding/Online-Review/data_utilitarian.csv')"
   ]
  },
  {
   "cell_type": "markdown",
   "metadata": {},
   "source": [
    "## 1. Basic statistic"
   ]
  },
  {
   "cell_type": "code",
   "execution_count": 9,
   "metadata": {},
   "outputs": [
    {
     "name": "stdout",
     "output_type": "stream",
     "text": [
      "             rating  helpful_vote  text_sentiment  title_sentiment\n",
      "count  11388.000000  11388.000000    11388.000000     11388.000000\n",
      "mean       4.004566      2.650861        3.470056         3.580962\n",
      "std        1.438159    111.354607        1.296508         1.181751\n",
      "min        1.000000      0.000000        0.000000         0.000000\n",
      "25%        3.000000      0.000000        4.000000         4.000000\n",
      "50%        5.000000      0.000000        4.000000         4.000000\n",
      "75%        5.000000      0.000000        4.000000         4.000000\n",
      "max        5.000000   9766.000000        4.000000         4.000000\n"
     ]
    }
   ],
   "source": [
    "# Quick overlook of the data\n",
    "print (data_utilitarian_1.describe())"
   ]
  }
 ],
 "metadata": {
  "kernelspec": {
   "display_name": "torch-gpu",
   "language": "python",
   "name": "python3"
  },
  "language_info": {
   "codemirror_mode": {
    "name": "ipython",
    "version": 3
   },
   "file_extension": ".py",
   "mimetype": "text/x-python",
   "name": "python",
   "nbconvert_exporter": "python",
   "pygments_lexer": "ipython3",
   "version": "3.8.19"
  },
  "orig_nbformat": 4
 },
 "nbformat": 4,
 "nbformat_minor": 2
}
