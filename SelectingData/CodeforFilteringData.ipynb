{
 "cells": [
  {
   "cell_type": "code",
   "execution_count": 13,
   "id": "ee998c8f-6394-43cd-b967-12cc5d6c711c",
   "metadata": {},
   "outputs": [],
   "source": [
    "import json\n",
    "file = \"/Volumes/Paula_SSD/Data/JsonLine/Health_and_Household.jsonl\" # Path to input file\n",
    "output_path = \"//Volumes/Paula_SSD/Data/JsonLine/filtered_Utilitarian2.json\" # Path to output file\n",
    "ids = ['B0C6TS1PGY','B09YRZ21PL'] # List of items to filter\n",
    "print_mark = 1000000 #At which number of lines to print output"
   ]
  },
  {
   "cell_type": "code",
   "execution_count": 14,
   "id": "4722dfa6",
   "metadata": {},
   "outputs": [],
   "source": [
    "import pandas as pd"
   ]
  },
  {
   "cell_type": "code",
   "execution_count": 15,
   "id": "8d9d4733-10f8-49d6-a089-582a9aac24ec",
   "metadata": {},
   "outputs": [
    {
     "name": "stdout",
     "output_type": "stream",
     "text": [
      "Finished 0 lines\n",
      "Finished 1000000 lines\n",
      "Finished 2000000 lines\n",
      "Finished 3000000 lines\n",
      "Finished 4000000 lines\n",
      "Finished 5000000 lines\n",
      "Finished 6000000 lines\n",
      "Finished 7000000 lines\n",
      "Finished 8000000 lines\n",
      "Finished 9000000 lines\n",
      "Finished 10000000 lines\n",
      "Finished 11000000 lines\n",
      "Finished 12000000 lines\n",
      "Finished 13000000 lines\n",
      "Finished 14000000 lines\n",
      "Finished 15000000 lines\n",
      "Finished 16000000 lines\n",
      "Finished 17000000 lines\n",
      "Finished 18000000 lines\n",
      "Finished 19000000 lines\n",
      "Finished 20000000 lines\n",
      "Finished 21000000 lines\n",
      "Finished 22000000 lines\n",
      "Finished 23000000 lines\n",
      "Finished 24000000 lines\n",
      "Finished 25000000 lines\n"
     ]
    }
   ],
   "source": [
    "full_data = []\n",
    "with open(file, 'r') as fp:    \n",
    "        for x,line in enumerate(fp):\n",
    "            data = json.loads(line.strip())\n",
    "            if data[\"parent_asin\"] in ids:\n",
    "                full_data.append(data)\n",
    "\n",
    "            if x%print_mark==0:\n",
    "                print(f\"Finished {x} lines\")\n",
    "\n",
    "            \n",
    "with open(output_path, \"w\") as outfile:\n",
    "    json.dump(full_data, outfile)"
   ]
  },
  {
   "cell_type": "code",
   "execution_count": 16,
   "id": "e5e5711e-3ec6-4fa6-b9e7-97f94d8c1ea7",
   "metadata": {},
   "outputs": [],
   "source": [
    "import pandas as pd\n",
    "df=pd.read_json(output_path)"
   ]
  },
  {
   "cell_type": "code",
   "execution_count": 17,
   "id": "5781c9d8",
   "metadata": {},
   "outputs": [
    {
     "name": "stdout",
     "output_type": "stream",
     "text": [
      "parent_asin\n",
      "B09YRZ21PL    12124\n",
      "B0C6TS1PGY     2043\n",
      "Name: count, dtype: int64\n"
     ]
    }
   ],
   "source": [
    "parent_asin_counts = df['parent_asin'].value_counts()\n",
    "print(parent_asin_counts)"
   ]
  },
  {
   "cell_type": "code",
   "execution_count": 18,
   "id": "8b4fd183",
   "metadata": {},
   "outputs": [],
   "source": [
    "df.to_csv(\"/Users/paulahofmann/Documents/Coding/Online-Review/SelectingData/Beauty & Care/filtered_UtilitarianToilet.csv\", index=False)"
   ]
  },
  {
   "cell_type": "code",
   "execution_count": 19,
   "id": "d3aaa9aa",
   "metadata": {},
   "outputs": [],
   "source": [
    "dat1 = pd.read_csv(\"/Users/paulahofmann/Documents/Coding/Online-Review/SelectingData/Health&Household/filtered_UtilitarianToilet.csv\")\n",
    "data2 =pd.read_csv(\"/Users/paulahofmann/Documents/Coding/Online-Review/SelectingData/Health&Household/filtered_Utilitarian.csv\")"
   ]
  },
  {
   "cell_type": "code",
   "execution_count": 22,
   "id": "83850ac4",
   "metadata": {},
   "outputs": [],
   "source": [
    "import pandas as pd\n",
    "\n",
    "# Assuming df1 and df2 are your DataFrames\n",
    "merged_df = pd.concat([dat1, data2], ignore_index=True)\n",
    "\n",
    "merged_df.to_csv(\"/Users/paulahofmann/Documents/Coding/Online-Review/SelectingData/Health&Household/merged_Utilitarian.csv\", index=False)\n"
   ]
  }
 ],
 "metadata": {
  "kernelspec": {
   "display_name": "Python 3 (ipykernel)",
   "language": "python",
   "name": "python3"
  },
  "language_info": {
   "codemirror_mode": {
    "name": "ipython",
    "version": 3
   },
   "file_extension": ".py",
   "mimetype": "text/x-python",
   "name": "python",
   "nbconvert_exporter": "python",
   "pygments_lexer": "ipython3",
   "version": "3.8.19"
  }
 },
 "nbformat": 4,
 "nbformat_minor": 5
}
