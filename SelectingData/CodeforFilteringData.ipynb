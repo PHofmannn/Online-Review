{
 "cells": [
  {
   "cell_type": "code",
   "execution_count": 1,
   "id": "ee998c8f-6394-43cd-b967-12cc5d6c711c",
   "metadata": {},
   "outputs": [],
   "source": [
    "import json\n",
    "file = \"/Volumes/Paula_SSD/Data/JsonLine/Video_Games.jsonl\" # Path to input file\n",
    "output_path = \"//Volumes/Paula_SSD/Data/JsonLine/filtered_Mouse.json\" # Path to output file\n",
    "ids = ['B0BVVTQ5JP'] # List of items to filter\n",
    "print_mark = 1000000 #At which number of lines to print output"
   ]
  },
  {
   "cell_type": "code",
   "execution_count": 2,
   "id": "4722dfa6",
   "metadata": {},
   "outputs": [],
   "source": [
    "import pandas as pd"
   ]
  },
  {
   "cell_type": "code",
   "execution_count": 3,
   "id": "8d9d4733-10f8-49d6-a089-582a9aac24ec",
   "metadata": {},
   "outputs": [
    {
     "name": "stdout",
     "output_type": "stream",
     "text": [
      "Finished 0 lines\n",
      "Finished 1000000 lines\n",
      "Finished 2000000 lines\n",
      "Finished 3000000 lines\n",
      "Finished 4000000 lines\n"
     ]
    }
   ],
   "source": [
    "full_data = []\n",
    "with open(file, 'r') as fp:    \n",
    "        for x,line in enumerate(fp):\n",
    "            data = json.loads(line.strip())\n",
    "            if data[\"parent_asin\"] in ids:\n",
    "                full_data.append(data)\n",
    "\n",
    "            if x%print_mark==0:\n",
    "                print(f\"Finished {x} lines\")\n",
    "\n",
    "            \n",
    "with open(output_path, \"w\") as outfile:\n",
    "    json.dump(full_data, outfile)"
   ]
  },
  {
   "cell_type": "code",
   "execution_count": 4,
   "id": "e5e5711e-3ec6-4fa6-b9e7-97f94d8c1ea7",
   "metadata": {},
   "outputs": [],
   "source": [
    "import pandas as pd\n",
    "df=pd.read_json(output_path)"
   ]
  },
  {
   "cell_type": "code",
   "execution_count": 6,
   "id": "5781c9d8",
   "metadata": {},
   "outputs": [
    {
     "name": "stdout",
     "output_type": "stream",
     "text": [
      "parent_asin\n",
      "B09GWLJPTH    9028\n",
      "B0C5WPD2RN    7034\n",
      "B00LMIVLXY    6682\n",
      "B00SNM5US4    6307\n",
      "B0BLGN9N39     270\n",
      "B00WXP607C     160\n",
      "B01LDFHH1K      44\n",
      "B00VL0Z6MK       1\n",
      "Name: count, dtype: int64\n"
     ]
    }
   ],
   "source": [
    "parent_asin_counts = df['parent_asin'].value_counts()\n",
    "print(parent_asin_counts)"
   ]
  },
  {
   "cell_type": "code",
   "execution_count": null,
   "id": "8b4fd183",
   "metadata": {},
   "outputs": [],
   "source": [
    "df2 = pd.read_csv('/Users/paulahofmann/Documents/Coding/Online-Review/SelectingData/Beauty & Care/top_200_products_BeautyCare.csv')"
   ]
  }
 ],
 "metadata": {
  "kernelspec": {
   "display_name": "Python 3 (ipykernel)",
   "language": "python",
   "name": "python3"
  },
  "language_info": {
   "codemirror_mode": {
    "name": "ipython",
    "version": 3
   },
   "file_extension": ".py",
   "mimetype": "text/x-python",
   "name": "python",
   "nbconvert_exporter": "python",
   "pygments_lexer": "ipython3",
   "version": "3.8.19"
  }
 },
 "nbformat": 4,
 "nbformat_minor": 5
}
