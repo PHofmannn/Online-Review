{
 "cells": [
  {
   "cell_type": "code",
   "execution_count": 1,
   "id": "9032569e",
   "metadata": {},
   "outputs": [],
   "source": [
    "import json\n",
    "file = \"/Volumes/Paula_SSD/Data/JsonLine/Beauty_and_Personal_Care.jsonl\" # Path to input file\n",
    "output_path = \"//Volumes/Paula_SSD/Data/JsonLine/PerfumeNew.json\" # Path to output file\n",
    "ids = ['B07Z8FSKG4','B07G7FF2WC','B0BJMV1QTR','B00WXP607C'] # List of items to filter\n",
    "print_mark = 1000000 #At which number of lines to print output"
   ]
  },
  {
   "cell_type": "code",
   "execution_count": 2,
   "id": "4722dfa6",
   "metadata": {},
   "outputs": [],
   "source": [
    "import pandas as pd"
   ]
  },
  {
   "cell_type": "code",
   "execution_count": 3,
   "id": "8d9d4733-10f8-49d6-a089-582a9aac24ec",
   "metadata": {},
   "outputs": [
    {
     "name": "stdout",
     "output_type": "stream",
     "text": [
      "Finished 0 lines\n"
     ]
    }
   ],
   "source": [
    "full_data = []\n",
    "with open(file, 'r') as fp:    \n",
    "        for x,line in enumerate(fp):\n",
    "            data = json.loads(line.strip())\n",
    "            if data[\"parent_asin\"] in ids:\n",
    "                full_data.append(data)\n",
    "\n",
    "            if x%print_mark==0:\n",
    "                print(f\"Finished {x} lines\")\n",
    "\n",
    "            \n",
    "with open(output_path, \"w\") as outfile:\n",
    "    json.dump(full_data, outfile)"
   ]
  },
  {
   "cell_type": "code",
   "execution_count": 6,
   "id": "e5e5711e-3ec6-4fa6-b9e7-97f94d8c1ea7",
   "metadata": {},
   "outputs": [],
   "source": [
    "import pandas as pd\n",
    "df=pd.read_json(output_path)"
   ]
  },
  {
   "cell_type": "code",
   "execution_count": 7,
   "id": "5781c9d8",
   "metadata": {},
   "outputs": [
    {
     "name": "stdout",
     "output_type": "stream",
     "text": [
      "B09HVRTMFX    1172\n",
      "B08KGT79CH     433\n",
      "B09HVTKLPQ     192\n",
      "B008KL4KB6      54\n",
      "B09HVSKCGQ      43\n",
      "B008OW1S02      39\n",
      "B08KH2L8DH      31\n",
      "B08NRGGJ3N       1\n",
      "Name: parent_asin, dtype: int64\n"
     ]
    }
   ],
   "source": [
    "parent_asin_counts = df['parent_asin'].value_counts()\n",
    "print(parent_asin_counts)"
   ]
  }
 ],
 "metadata": {
  "kernelspec": {
   "display_name": "Python 3 (ipykernel)",
   "language": "python",
   "name": "python3"
  },
  "language_info": {
   "codemirror_mode": {
    "name": "ipython",
    "version": 3
   },
   "file_extension": ".py",
   "mimetype": "text/x-python",
   "name": "python",
   "nbconvert_exporter": "python",
   "pygments_lexer": "ipython3",
   "version": "3.8.18"
  }
 },
 "nbformat": 4,
 "nbformat_minor": 5
}
